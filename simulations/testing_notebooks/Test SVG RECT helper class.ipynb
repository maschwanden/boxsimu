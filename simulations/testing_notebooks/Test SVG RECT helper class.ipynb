{
 "cells": [
  {
   "cell_type": "code",
   "execution_count": 12,
   "metadata": {
    "collapsed": true
   },
   "outputs": [],
   "source": [
    "import svgwrite"
   ]
  },
  {
   "cell_type": "code",
   "execution_count": 4,
   "metadata": {},
   "outputs": [
    {
     "name": "stdout",
     "output_type": "stream",
     "text": [
      "\n",
      "\n",
      "None False\n",
      "<class 'NoneType'> <class 'boxsimu.box.Box'>\n",
      "<boxsimu.box.Box object at 0x7ff6f70b3da0> True\n",
      "<class 'boxsimu.box.Box'> <class 'boxsimu.box.Box'>\n",
      "\n",
      "\n",
      "\n",
      "\n",
      "<boxsimu.box.Box object at 0x7ff6f70b3da0> True\n",
      "<class 'boxsimu.box.Box'> <class 'boxsimu.box.Box'>\n",
      "None False\n",
      "<class 'NoneType'> <class 'boxsimu.box.Box'>\n",
      "\n",
      "\n",
      "\n",
      "\n",
      "<boxsimu.box.Box object at 0x7ff6f70b3da0> True\n",
      "<class 'boxsimu.box.Box'> <class 'boxsimu.box.Box'>\n",
      "<boxsimu.box.Box object at 0x7ff6f711e3c8> True\n",
      "<class 'boxsimu.box.Box'> <class 'boxsimu.box.Box'>\n",
      "\n",
      "\n",
      "\n",
      "\n",
      "<boxsimu.box.Box object at 0x7ff6f711e3c8> True\n",
      "<class 'boxsimu.box.Box'> <class 'boxsimu.box.Box'>\n",
      "None False\n",
      "<class 'NoneType'> <class 'boxsimu.box.Box'>\n",
      "\n",
      "\n",
      "\n",
      "\n",
      "<boxsimu.box.Box object at 0x7ff6f711e3c8> True\n",
      "<class 'boxsimu.box.Box'> <class 'boxsimu.box.Box'>\n",
      "<boxsimu.box.Box object at 0x7ff6f711e9b0> True\n",
      "<class 'boxsimu.box.Box'> <class 'boxsimu.box.Box'>\n",
      "\n",
      "\n",
      "\n",
      "\n",
      "<boxsimu.box.Box object at 0x7ff6f711e9b0> True\n",
      "<class 'boxsimu.box.Box'> <class 'boxsimu.box.Box'>\n",
      "<boxsimu.box.Box object at 0x7ff6f711e3c8> True\n",
      "<class 'boxsimu.box.Box'> <class 'boxsimu.box.Box'>\n",
      "\n",
      "\n",
      "\n",
      "\n",
      "<boxsimu.box.Box object at 0x7ff6f711e9b0> True\n",
      "<class 'boxsimu.box.Box'> <class 'boxsimu.box.Box'>\n",
      "None False\n",
      "<class 'NoneType'> <class 'boxsimu.box.Box'>\n",
      "\n",
      "\n",
      "\n",
      "\n",
      "None False\n",
      "<class 'NoneType'> <class 'boxsimu.box.Box'>\n",
      "<boxsimu.box.Box object at 0x7ff6f711e9b0> True\n",
      "<class 'boxsimu.box.Box'> <class 'boxsimu.box.Box'>\n",
      "\n",
      "\n"
     ]
    }
   ],
   "source": [
    "# -*- coding: utf-8 -*-\n",
    "\n",
    "import sys\n",
    "import copy\n",
    "import autoreload\n",
    "import pandas as pd\n",
    "import numpy as np\n",
    "import datetime\n",
    "\n",
    "from matplotlib import pyplot as plt\n",
    "\n",
    "from pint import UnitRegistry\n",
    "ur = UnitRegistry(autoconvert_offset_to_baseunit = True)\n",
    "\n",
    "\n",
    "BOXSIMU_PATH = '/home/aschi/Documents/MyPrivateRepo/boxsimu_project'\n",
    "if not BOXSIMU_PATH in sys.path:\n",
    "    sys.path.append(BOXSIMU_PATH)\n",
    "\n",
    "import boxsimu\n",
    "from boxsimu import Box, Condition, Fluid, Variable, Process, Reaction, Flow, Flux, BoxModelSystem\n",
    "from boxsimu.simulations import boxmodelsystem1, boxmodelsystem2, boxmodelsystem3\n",
    "\n",
    "#system1 = boxmodelsystem1.get_system(ur)\n",
    "system2 = boxmodelsystem2.get_system(ur)\n",
    "#system3 = boxmodelsystem3.get_system(ur)"
   ]
  },
  {
   "cell_type": "code",
   "execution_count": 11,
   "metadata": {},
   "outputs": [
    {
     "name": "stdout",
     "output_type": "stream",
     "text": [
      "corners [(-360.0, 4.4087284769304716e-14), (-60.0, 4.4087284769304716e-14), (-60.0, 300.00000000000006), (-360.0, 300.00000000000006)]\n",
      "corners [(360.0, 0.0), (660.0, 0.0), (660.0, 300.0), (360.0, 300.0)]\n",
      "corners [(360.0, 0.0), (660.0, 0.0), (660.0, 300.0), (360.0, 300.0)]\n",
      "corners [(-360.0, 4.4087284769304716e-14), (-60.0, 4.4087284769304716e-14), (-60.0, 300.00000000000006), (-360.0, 300.00000000000006)]\n",
      "corners [(-360.0, 4.4087284769304716e-14), (-60.0, 4.4087284769304716e-14), (-60.0, 300.00000000000006), (-360.0, 300.00000000000006)]\n",
      "corners [(-360.0, 4.4087284769304716e-14), (-60.0, 4.4087284769304716e-14), (-60.0, 300.00000000000006), (-360.0, 300.00000000000006)]\n",
      "corners [(2.2043642384652358e-14, 360.0), (346.40000000000003, 360.0), (346.40000000000003, 660.0), (2.2043642384652358e-14, 660.0)]\n",
      "corners [(2.2043642384652358e-14, 360.0), (346.40000000000003, 360.0), (346.40000000000003, 660.0), (2.2043642384652358e-14, 660.0)]\n",
      "corners [(-6.6130927153957068e-14, -360.0), (346.39999999999998, -360.0), (346.39999999999998, -60.0), (-6.6130927153957068e-14, -60.0)]\n",
      "corners [(2.2043642384652358e-14, 360.0), (346.40000000000003, 360.0), (346.40000000000003, 660.0), (2.2043642384652358e-14, 660.0)]\n",
      "corners [(-6.6130927153957068e-14, -360.0), (346.39999999999998, -360.0), (346.39999999999998, -60.0), (-6.6130927153957068e-14, -60.0)]\n",
      "corners [(360.0, 0.0), (706.40000000000009, 0.0), (706.40000000000009, 300.0), (360.0, 300.0)]\n",
      "corners [(360.0, 0.0), (706.40000000000009, 0.0), (706.40000000000009, 300.0), (360.0, 300.0)]\n",
      "corners [(-6.6130927153957068e-14, -360.0), (346.39999999999998, -360.0), (346.39999999999998, -60.0), (-6.6130927153957068e-14, -60.0)]\n",
      "corners [(-6.6130927153957068e-14, -360.0), (346.39999999999998, -360.0), (346.39999999999998, -60.0), (-6.6130927153957068e-14, -60.0)]\n",
      "corners [(360.0, 0.0), (706.40000000000009, 0.0), (706.40000000000009, 300.0), (360.0, 300.0)]\n",
      "corners [(360.0, 0.0), (706.40000000000009, 0.0), (706.40000000000009, 300.0), (360.0, 300.0)]\n",
      "corners [(360.0, 0.0), (660.0, 0.0), (660.0, 300.0), (360.0, 300.0)]\n",
      "corners [(360.0, 0.0), (660.0, 0.0), (660.0, 300.0), (360.0, 300.0)]\n"
     ]
    }
   ],
   "source": [
    "system1.save_as_svg('SYSTEM1_TESTTESTTEST.svg')\n",
    "system2.save_as_svg('SYSTEM2_TESTTESTTEST.svg')\n",
    "system3.save_as_svg('SYSTEM3_TESTTESTTEST.svg')"
   ]
  },
  {
   "cell_type": "code",
   "execution_count": null,
   "metadata": {
    "collapsed": true
   },
   "outputs": [],
   "source": []
  },
  {
   "cell_type": "code",
   "execution_count": null,
   "metadata": {
    "collapsed": true
   },
   "outputs": [],
   "source": []
  },
  {
   "cell_type": "code",
   "execution_count": null,
   "metadata": {
    "collapsed": true
   },
   "outputs": [],
   "source": []
  },
  {
   "cell_type": "code",
   "execution_count": 3,
   "metadata": {
    "collapsed": true
   },
   "outputs": [],
   "source": [
    "from boxsimu.visualize import BoxSvgHelper, BoxModelSystemSvgHelper"
   ]
  },
  {
   "cell_type": "code",
   "execution_count": 4,
   "metadata": {
    "collapsed": true,
    "scrolled": true
   },
   "outputs": [],
   "source": [
    "autoreload.reload(boxsimu.config)\n",
    "boxrect = BoxSvgHelper('master_box_id', x=100, y=100, width=00, height=100, text_lines=['haha', 'im the second'], \n",
    "                  title='AAA')\n",
    "subboxrect = boxrect.add_child('test_subrect_id', ['abc', 'def'], title='BBB')\n",
    "subsubboxrect = subboxrect.add_child('test_subsubrect_id', ['abc', 'def', 'ghi' 'klmnopqrstuvwxyz', 'k ', 'sdkfsdlfj', 'sdkflsjdkj', 'sfksldkfj', 'sdfklsdjflksjdflkjsdf'], title='BBB:::')\n",
    "subsubsubboxrect = subsubboxrect.add_child('test_subsubrect_id', ['abc', 'def', 'ghi' 'klmnopqrstuvwxyz', 'k ', 'sdkfsdlfj', 'sdkflsjdkj', 'sfksldkfj', 'sdfklsdjflksjdflkjsdf'])\n",
    "subsubsubboxrect.add_child('test_subsubrect_id', ['abc', 'def', 'ghi' 'klmnopqrstuvwxyz', 'k ', 'sdkfsdlfj', 'sdkflsjdkj', 'sfksldkfj', 'sdfklsdjflksjdflkjsdf'])\n",
    "subboxrect2 = boxrect.add_child('test_subrect_id2', ['abc', 'def'], title='CCC')\n",
    "subsubboxrect2 = subboxrect2.add_child('test_subsubrect_id2', ['abc', 'def', 'W'*16], title='CCC:::')\n",
    "dwg = svgwrite.Drawing(filename='abcTESTabc.svg')\n",
    "dwg.add(boxrect.as_svg_group())\n",
    "dwg.save()"
   ]
  },
  {
   "cell_type": "code",
   "execution_count": null,
   "metadata": {
    "collapsed": true
   },
   "outputs": [],
   "source": []
  },
  {
   "cell_type": "code",
   "execution_count": null,
   "metadata": {
    "collapsed": true
   },
   "outputs": [],
   "source": []
  },
  {
   "cell_type": "code",
   "execution_count": null,
   "metadata": {
    "collapsed": true
   },
   "outputs": [],
   "source": []
  },
  {
   "cell_type": "code",
   "execution_count": null,
   "metadata": {
    "collapsed": true
   },
   "outputs": [],
   "source": []
  },
  {
   "cell_type": "code",
   "execution_count": null,
   "metadata": {
    "collapsed": true
   },
   "outputs": [],
   "source": []
  },
  {
   "cell_type": "code",
   "execution_count": 5,
   "metadata": {},
   "outputs": [
    {
     "name": "stdout",
     "output_type": "stream",
     "text": [
      "corners [(2.2043642384652358e-14, 360.0), (346.40000000000003, 360.0), (346.40000000000003, 660.0), (2.2043642384652358e-14, 660.0)]\n",
      "corners [(2.2043642384652358e-14, 360.0), (346.40000000000003, 360.0), (346.40000000000003, 660.0), (2.2043642384652358e-14, 660.0)]\n",
      "corners [(-6.6130927153957068e-14, -360.0), (346.39999999999998, -360.0), (346.39999999999998, -60.0), (-6.6130927153957068e-14, -60.0)]\n",
      "corners [(2.2043642384652358e-14, 360.0), (346.40000000000003, 360.0), (346.40000000000003, 660.0), (2.2043642384652358e-14, 660.0)]\n",
      "corners [(-6.6130927153957068e-14, -360.0), (346.39999999999998, -360.0), (346.39999999999998, -60.0), (-6.6130927153957068e-14, -60.0)]\n",
      "corners [(360.0, 0.0), (706.40000000000009, 0.0), (706.40000000000009, 300.0), (360.0, 300.0)]\n",
      "corners [(360.0, 0.0), (706.40000000000009, 0.0), (706.40000000000009, 300.0), (360.0, 300.0)]\n",
      "corners [(-6.6130927153957068e-14, -360.0), (346.39999999999998, -360.0), (346.39999999999998, -60.0), (-6.6130927153957068e-14, -60.0)]\n",
      "corners [(-6.6130927153957068e-14, -360.0), (346.39999999999998, -360.0), (346.39999999999998, -60.0), (-6.6130927153957068e-14, -60.0)]\n",
      "corners [(360.0, 0.0), (706.40000000000009, 0.0), (706.40000000000009, 300.0), (360.0, 300.0)]\n",
      "corners [(360.0, 0.0), (706.40000000000009, 0.0), (706.40000000000009, 300.0), (360.0, 300.0)]\n"
     ]
    }
   ],
   "source": [
    "system_svg_helper = BoxModelSystemSvgHelper(system2)\n",
    "system_svg_helper.save_system_as_svg(filename='ABCCCC.svg')"
   ]
  },
  {
   "cell_type": "code",
   "execution_count": null,
   "metadata": {
    "collapsed": true
   },
   "outputs": [],
   "source": []
  },
  {
   "cell_type": "code",
   "execution_count": null,
   "metadata": {
    "collapsed": true
   },
   "outputs": [],
   "source": []
  },
  {
   "cell_type": "code",
   "execution_count": 14,
   "metadata": {},
   "outputs": [
    {
     "data": {
      "text/plain": [
       "1.4142135623730951"
      ]
     },
     "execution_count": 14,
     "metadata": {},
     "output_type": "execute_result"
    }
   ],
   "source": [
    "np.linalg.norm(np.array([1,1]))"
   ]
  },
  {
   "cell_type": "code",
   "execution_count": 22,
   "metadata": {},
   "outputs": [
    {
     "ename": "ValueError",
     "evalue": "Axes must be different.",
     "output_type": "error",
     "traceback": [
      "\u001b[0;31m---------------------------------------------------------------------------\u001b[0m",
      "\u001b[0;31mValueError\u001b[0m                                Traceback (most recent call last)",
      "\u001b[0;32m<ipython-input-22-8af7f91031d9>\u001b[0m in \u001b[0;36m<module>\u001b[0;34m()\u001b[0m\n\u001b[0;32m----> 1\u001b[0;31m \u001b[0mnp\u001b[0m\u001b[0;34m.\u001b[0m\u001b[0mrot90\u001b[0m\u001b[0;34m(\u001b[0m\u001b[0mnp\u001b[0m\u001b[0;34m.\u001b[0m\u001b[0marray\u001b[0m\u001b[0;34m(\u001b[0m\u001b[0;34m[\u001b[0m\u001b[0;36m1\u001b[0m\u001b[0;34m,\u001b[0m\u001b[0;36m0\u001b[0m\u001b[0;34m,\u001b[0m \u001b[0;36m0\u001b[0m\u001b[0;34m]\u001b[0m\u001b[0;34m)\u001b[0m\u001b[0;34m,\u001b[0m \u001b[0maxes\u001b[0m\u001b[0;34m=\u001b[0m\u001b[0;34m(\u001b[0m\u001b[0;36m0\u001b[0m\u001b[0;34m,\u001b[0m \u001b[0;36m1\u001b[0m\u001b[0;34m)\u001b[0m\u001b[0;34m)\u001b[0m\u001b[0;34m\u001b[0m\u001b[0m\n\u001b[0m",
      "\u001b[0;32m~/Envs/science3/lib/python3.6/site-packages/numpy/lib/function_base.py\u001b[0m in \u001b[0;36mrot90\u001b[0;34m(m, k, axes)\u001b[0m\n\u001b[1;32m    114\u001b[0m \u001b[0;34m\u001b[0m\u001b[0m\n\u001b[1;32m    115\u001b[0m     \u001b[0;32mif\u001b[0m \u001b[0maxes\u001b[0m\u001b[0;34m[\u001b[0m\u001b[0;36m0\u001b[0m\u001b[0;34m]\u001b[0m \u001b[0;34m==\u001b[0m \u001b[0maxes\u001b[0m\u001b[0;34m[\u001b[0m\u001b[0;36m1\u001b[0m\u001b[0;34m]\u001b[0m \u001b[0;32mor\u001b[0m \u001b[0mabsolute\u001b[0m\u001b[0;34m(\u001b[0m\u001b[0maxes\u001b[0m\u001b[0;34m[\u001b[0m\u001b[0;36m0\u001b[0m\u001b[0;34m]\u001b[0m \u001b[0;34m-\u001b[0m \u001b[0maxes\u001b[0m\u001b[0;34m[\u001b[0m\u001b[0;36m1\u001b[0m\u001b[0;34m]\u001b[0m\u001b[0;34m)\u001b[0m \u001b[0;34m==\u001b[0m \u001b[0mm\u001b[0m\u001b[0;34m.\u001b[0m\u001b[0mndim\u001b[0m\u001b[0;34m:\u001b[0m\u001b[0;34m\u001b[0m\u001b[0m\n\u001b[0;32m--> 116\u001b[0;31m         \u001b[0;32mraise\u001b[0m \u001b[0mValueError\u001b[0m\u001b[0;34m(\u001b[0m\u001b[0;34m\"Axes must be different.\"\u001b[0m\u001b[0;34m)\u001b[0m\u001b[0;34m\u001b[0m\u001b[0m\n\u001b[0m\u001b[1;32m    117\u001b[0m \u001b[0;34m\u001b[0m\u001b[0m\n\u001b[1;32m    118\u001b[0m     if (axes[0] >= m.ndim or axes[0] < -m.ndim\n",
      "\u001b[0;31mValueError\u001b[0m: Axes must be different."
     ]
    }
   ],
   "source": []
  },
  {
   "cell_type": "code",
   "execution_count": 24,
   "metadata": {},
   "outputs": [
    {
     "data": {
      "text/plain": [
       "6.123233995736766e-17"
      ]
     },
     "execution_count": 24,
     "metadata": {},
     "output_type": "execute_result"
    }
   ],
   "source": [
    "np.cos(np.deg2rad(90))"
   ]
  },
  {
   "cell_type": "code",
   "execution_count": null,
   "metadata": {
    "collapsed": true
   },
   "outputs": [],
   "source": []
  },
  {
   "cell_type": "code",
   "execution_count": 17,
   "metadata": {
    "collapsed": true
   },
   "outputs": [],
   "source": [
    "x, y = np.array([1,2])"
   ]
  },
  {
   "cell_type": "code",
   "execution_count": 18,
   "metadata": {},
   "outputs": [
    {
     "data": {
      "text/plain": [
       "1"
      ]
     },
     "execution_count": 18,
     "metadata": {},
     "output_type": "execute_result"
    }
   ],
   "source": [
    "x"
   ]
  },
  {
   "cell_type": "code",
   "execution_count": 21,
   "metadata": {},
   "outputs": [
    {
     "ename": "TypeError",
     "evalue": "save_system_as_svg() takes from 1 to 2 positional arguments but 3 were given",
     "output_type": "error",
     "traceback": [
      "\u001b[0;31m---------------------------------------------------------------------------\u001b[0m",
      "\u001b[0;31mTypeError\u001b[0m                                 Traceback (most recent call last)",
      "\u001b[0;32m<ipython-input-21-c70715316aab>\u001b[0m in \u001b[0;36m<module>\u001b[0;34m()\u001b[0m\n\u001b[1;32m      1\u001b[0m \u001b[0msystem_svg_helper\u001b[0m\u001b[0;34m.\u001b[0m\u001b[0msave_box_as_svg\u001b[0m\u001b[0;34m(\u001b[0m\u001b[0msystem3\u001b[0m\u001b[0;34m.\u001b[0m\u001b[0mboxes\u001b[0m\u001b[0;34m.\u001b[0m\u001b[0mbox1\u001b[0m\u001b[0;34m,\u001b[0m \u001b[0;34m'new_svg_outputs/hahatest_system3_box1.svg'\u001b[0m\u001b[0;34m)\u001b[0m\u001b[0;34m\u001b[0m\u001b[0m\n\u001b[0;32m----> 2\u001b[0;31m \u001b[0msystem_svg_helper\u001b[0m\u001b[0;34m.\u001b[0m\u001b[0msave_system_as_svg\u001b[0m\u001b[0;34m(\u001b[0m\u001b[0msystem3\u001b[0m\u001b[0;34m,\u001b[0m \u001b[0;34m'new_svg_outputs/hahatest_system3.svg'\u001b[0m\u001b[0;34m)\u001b[0m\u001b[0;34m\u001b[0m\u001b[0m\n\u001b[0m",
      "\u001b[0;31mTypeError\u001b[0m: save_system_as_svg() takes from 1 to 2 positional arguments but 3 were given"
     ]
    }
   ],
   "source": [
    "system_svg_helper.save_system_as_svg(system3, 'new_svg_outputs/hahatest_system3.svg')"
   ]
  },
  {
   "cell_type": "code",
   "execution_count": 11,
   "metadata": {
    "collapsed": true
   },
   "outputs": [],
   "source": [
    "system_svg_helper.save_box_as_svg(system2.boxes.upper_ocean, 'new_svg_outputs/system2_upper_ocean.svg')\n",
    "system_svg_helper.save_system_as_svg(system2, 'new_svg_outputs/system2.svg')"
   ]
  },
  {
   "cell_type": "code",
   "execution_count": 12,
   "metadata": {},
   "outputs": [
    {
     "data": {
      "text/plain": [
       "[(360.0, 0.0),\n",
       " (-179.99999999999991, 311.76914536239792),\n",
       " (-180.00000000000017, -311.76914536239781)]"
      ]
     },
     "execution_count": 12,
     "metadata": {},
     "output_type": "execute_result"
    }
   ],
   "source": [
    "system_svg_helper._get_box_positions(3)"
   ]
  },
  {
   "cell_type": "code",
   "execution_count": 13,
   "metadata": {},
   "outputs": [
    {
     "data": {
      "text/plain": [
       "[(0, 0), (0, 300)]"
      ]
     },
     "execution_count": 13,
     "metadata": {},
     "output_type": "execute_result"
    }
   ],
   "source": [
    "uo = system2.boxes.upper_ocean\n",
    "uo_helper = system_svg_helper.get_box_svg_helper(uo)\n",
    "do = system2.boxes.deep_ocean\n",
    "do_helper = system_svg_helper.get_box_svg_helper(do)\n",
    "\n",
    "system_svg_helper._get_corners_of_closest_face_to_point(uo_helper, (0,0))"
   ]
  },
  {
   "cell_type": "code",
   "execution_count": 14,
   "metadata": {},
   "outputs": [
    {
     "data": {
      "text/plain": [
       "[(0, 0), (0, 300), (300, 0), (300, 300)]"
      ]
     },
     "execution_count": 14,
     "metadata": {},
     "output_type": "execute_result"
    }
   ],
   "source": [
    "system_svg_helper._distance_sort_corners(do_helper, (0, 0))"
   ]
  },
  {
   "cell_type": "code",
   "execution_count": 15,
   "metadata": {},
   "outputs": [
    {
     "name": "stdout",
     "output_type": "stream",
     "text": [
      "p1, p2 (0, 0) (0, 300)\n",
      "p1, p2 (300, 0) (300, 300)\n"
     ]
    },
    {
     "data": {
      "text/plain": [
       "((0.0, 150.0), (300.0, 150.0))"
      ]
     },
     "execution_count": 15,
     "metadata": {},
     "output_type": "execute_result"
    }
   ],
   "source": [
    "system_svg_helper._get_connection_points(uo_helper, do_helper)"
   ]
  },
  {
   "cell_type": "code",
   "execution_count": 27,
   "metadata": {},
   "outputs": [
    {
     "name": "stdout",
     "output_type": "stream",
     "text": [
      "p1, p2 (0, 0) (0, 300)\n",
      "p1, p2 (300, 0) (300, 300)\n"
     ]
    }
   ],
   "source": [
    "dwg = svgwrite.Drawing(filename='new_svg_outputs/flow_connection_points_test.svg')\n",
    "dwg.add(system_svg_helper.get_system_svg_group(system2))\n",
    "dwg.add(dwg.circle(r=30, center=(0, 150), fill='red'))\n",
    "dwg.add(system_svg_helper.get_flow_flux_line(system2.flows[3]))\n",
    "dwg.save()"
   ]
  },
  {
   "cell_type": "code",
   "execution_count": 17,
   "metadata": {},
   "outputs": [
    {
     "name": "stdout",
     "output_type": "stream",
     "text": [
      "Lake Evaporation\n",
      "River Flow from Lake to Upper Ocean\n",
      "River Inflow into the Lake\n",
      "Downwelling\n",
      "Upwelling\n",
      "Upper Ocean Evaporation\n",
      "Deep Ocean Percolation\n",
      "Deep Ocean Fount\n"
     ]
    }
   ],
   "source": [
    "for f in system2.flows:\n",
    "    print(f.name)"
   ]
  },
  {
   "cell_type": "code",
   "execution_count": 18,
   "metadata": {},
   "outputs": [
    {
     "data": {
      "text/plain": [
       "'Downwelling'"
      ]
     },
     "execution_count": 18,
     "metadata": {},
     "output_type": "execute_result"
    }
   ],
   "source": [
    "system2.flows[3].name"
   ]
  },
  {
   "cell_type": "code",
   "execution_count": 25,
   "metadata": {
    "scrolled": true
   },
   "outputs": [
    {
     "name": "stdout",
     "output_type": "stream",
     "text": [
      "p1, p2 (0, 0) (0, 300)\n",
      "p1, p2 (300, 0) (300, 300)\n"
     ]
    },
    {
     "data": {
      "text/plain": [
       "<svgwrite.shapes.Line at 0x7fe7f8b29d30>"
      ]
     },
     "execution_count": 25,
     "metadata": {},
     "output_type": "execute_result"
    }
   ],
   "source": [
    "system_svg_helper.get_flow_flux_line(system2.flows[3])"
   ]
  },
  {
   "cell_type": "code",
   "execution_count": 26,
   "metadata": {
    "collapsed": true
   },
   "outputs": [],
   "source": [
    "dwg = svgwrite.Drawing(filename='new_svg_outputs/flow_connection_points_test.svg')\n",
    "dwg.add(system_svg_helper.get_system_svg_group(system2))\n",
    "dwg.save()"
   ]
  },
  {
   "cell_type": "code",
   "execution_count": null,
   "metadata": {
    "collapsed": true
   },
   "outputs": [],
   "source": []
  },
  {
   "cell_type": "code",
   "execution_count": null,
   "metadata": {
    "collapsed": true
   },
   "outputs": [],
   "source": []
  },
  {
   "cell_type": "code",
   "execution_count": null,
   "metadata": {
    "collapsed": true
   },
   "outputs": [],
   "source": []
  },
  {
   "cell_type": "code",
   "execution_count": null,
   "metadata": {
    "collapsed": true
   },
   "outputs": [],
   "source": []
  },
  {
   "cell_type": "code",
   "execution_count": null,
   "metadata": {
    "collapsed": true
   },
   "outputs": [],
   "source": []
  },
  {
   "cell_type": "code",
   "execution_count": 4,
   "metadata": {
    "collapsed": true
   },
   "outputs": [],
   "source": [
    "dwg = svgwrite.Drawing(filename='CCCCC.svg')\n",
    "# create a new marker object\n",
    "marker = dwg.marker(insert=(3, 3), size=(6, 6))\n",
    "marker.add(dwg.circle((3, 3), r=3)).fill('green', opacity=0.7)\n",
    "\n",
    "# add marker to defs section of the drawing\n",
    "dwg.defs.add(marker)\n",
    "\n",
    "# create a new line object\n",
    "line = dwg.add(dwg.polyline(\n",
    "    [(10, 10), (50, 20), (70, 50), (100, 30)],\n",
    "    stroke='black', fill='none'))\n",
    "\n",
    "# set marker (start, mid and end markers are the same)\n",
    "line.set_markers((None, None, marker))\n",
    "\n",
    "# or set markers direct as SVG Attributes 'marker-start', 'marker-mid',\n",
    "# 'marker-end' or 'marker' if all markers are the same.\n",
    "# line['marker'] = marker.get_funciri()\n",
    "\n",
    "dwg.save()"
   ]
  },
  {
   "cell_type": "code",
   "execution_count": 15,
   "metadata": {
    "collapsed": true
   },
   "outputs": [],
   "source": [
    "dwg = svgwrite.Drawing('marker.svg', size=('20cm', '15cm'), profile='full', debug=True)\n",
    "dwg.viewbox(width=200, height=150)\n",
    "marker_end = dwg.marker(size=(5, 5)) # marker defaults: insert=(0,0)\n",
    "marker_end.viewbox(-1, -1, 2, 2)\n",
    "marker_end.add(dwg.circle(fill='blue', fill_opacity=0.5)) # circle defaults: insert=(0,0), r=1\n",
    "dwg.defs.add(marker_end)\n",
    "\n",
    "line = dwg.add(dwg.polyline(\n",
    "    [(10, 10), (50, 20), (70, 50), (100, 30), (120, 140), (170, 100)],\n",
    "    stroke='black', fill='none'))\n",
    "line.set_markers( marker_end )\n",
    "\n",
    "dwg.save()"
   ]
  },
  {
   "cell_type": "code",
   "execution_count": null,
   "metadata": {
    "collapsed": true
   },
   "outputs": [],
   "source": []
  },
  {
   "cell_type": "code",
   "execution_count": 3,
   "metadata": {
    "collapsed": true
   },
   "outputs": [],
   "source": [
    "import svgwrite\n",
    "dwg = svgwrite.Drawing('marker.svg', size=('20cm', '15cm'), profile='full', debug=True)\n",
    "# set user coordinate space\n",
    "dwg.viewbox(width=200, height=150)\n",
    "\n",
    "#--start-- A red point as marker-start element\n",
    "# 'insert' represents the insertation point in user coordinate space\n",
    "# in this example its the midpoint of the circle, see below\n",
    "marker_start = dwg.marker(insert=(0, 0), size=(5, 5)) # target size of the marker\n",
    "\n",
    "# setting a user coordinate space for the appanded graphic elements\n",
    "# bounding coordinates for this example:\n",
    "# minx = -5, maxx = +5, miny = -5, maxy = +5\n",
    "marker_start.viewbox(minx=-5, miny=-5, width=10, height=10) # the marker user coordinate space\n",
    "marker_start.add(dwg.circle((0, 0), r=5)).fill('red', opacity=0.5)\n",
    "\n",
    "\n",
    "#--end-- A blue point as marker-end element\n",
    "# a shorter form of the code above:\n",
    "marker_end = dwg.marker(size=(5, 5)) # marker defaults: insert=(0,0)\n",
    "# set viewbox to the bounding coordinates of the circle\n",
    "marker_end.viewbox(-1, -1, 2, 2)\n",
    "marker_end.add(dwg.circle(fill='blue', fill_opacity=0.5)) # circle defaults: insert=(0,0), r=1\n",
    "\n",
    "#--mid-- A green point as marker-mid element\n",
    "# if you don't setup a user coordinate space, the default ucs is\n",
    "# minx = 0, miny = 0, maxx=size[0], maxy=size[1]\n",
    "# default size = (3, 3) defined by the SVG standard\n",
    "# bounding coordinates for this example:\n",
    "# minx = 0, maxx = 6, miny = 0, maxy = 6\n",
    "# => center of the viewbox = (3, 3)!\n",
    "marker_mid = dwg.marker(insert=(3, 3), size=(6, 6))\n",
    "marker_mid.add(dwg.circle((3, 3), r=3)).fill('green', opacity=0.7)\n",
    "\n",
    "# The drawing size of the 'start-marker' is greater than the drawing size of\n",
    "# the 'marker-mid' (r=5 > r=3), but the resulting size is defined by the\n",
    "# 'size' parameter of the marker object (size=(6,6) > size=(5,5)), so the\n",
    "# 'marker-start' is smaller than the 'marker-mid'.\n",
    "\n",
    "# add marker to defs section of the drawing\n",
    "#dwg.defs.add(marker_start)\n",
    "#dwg.defs.add(marker_mid)\n",
    "dwg.defs.add(marker_end)\n",
    "\n",
    "# create a new line object, fill='none' is important, because by default\n",
    "# the polyline and the polygon object is filled (tested with FF, Chrome).\n",
    "# I am not sure, if this is concurring to the SVG Standard.\n",
    "\n",
    "line = dwg.add(dwg.polyline(\n",
    "    [(10, 10), (50, 20), (70, 50), (100, 30), (120, 140), (170, 100)],\n",
    "    stroke='black', fill='none'))\n",
    "\n",
    "# set markers 3-tuple = ('marker-start', 'marker-mid', 'marker-end')\n",
    "line.set_markers( (None, None, marker_end))\n",
    "\n",
    "# or set markers direct as SVG Attributes 'marker-start', 'marker-mid',\n",
    "# 'marker-end' or 'marker' if all markers are the same.\n",
    "# line['marker'] = marker.get_funciri() # but 'marker' works only with Firefox (26.10.2010)\n",
    "dwg.save()"
   ]
  },
  {
   "cell_type": "code",
   "execution_count": null,
   "metadata": {
    "collapsed": true
   },
   "outputs": [],
   "source": []
  },
  {
   "cell_type": "code",
   "execution_count": null,
   "metadata": {
    "collapsed": true
   },
   "outputs": [],
   "source": []
  },
  {
   "cell_type": "code",
   "execution_count": null,
   "metadata": {
    "collapsed": true
   },
   "outputs": [],
   "source": []
  },
  {
   "cell_type": "code",
   "execution_count": null,
   "metadata": {
    "collapsed": true
   },
   "outputs": [],
   "source": []
  },
  {
   "cell_type": "code",
   "execution_count": null,
   "metadata": {
    "collapsed": true
   },
   "outputs": [],
   "source": []
  },
  {
   "cell_type": "code",
   "execution_count": 28,
   "metadata": {},
   "outputs": [
    {
     "ename": "IndentationError",
     "evalue": "unexpected indent (<ipython-input-28-833c4e6e48ed>, line 25)",
     "output_type": "error",
     "traceback": [
      "\u001b[0;36m  File \u001b[0;32m\"<ipython-input-28-833c4e6e48ed>\"\u001b[0;36m, line \u001b[0;32m25\u001b[0m\n\u001b[0;31m    def _save_group_as_svg(self, group, filename):\u001b[0m\n\u001b[0m    ^\u001b[0m\n\u001b[0;31mIndentationError\u001b[0m\u001b[0;31m:\u001b[0m unexpected indent\n"
     ]
    }
   ],
   "source": [
    "        procsses_group_id = '{}_processes'.format(box.name)\n",
    "        box_process_names = [p.name for p in box.processes]\n",
    "        while len(box_process_names) < 3:\n",
    "            box_process_names.append('')\n",
    "        processes = box_svg_element.add_child(\n",
    "                group_id=procsses_group_id, \n",
    "                text_lines=box_process_names,\n",
    "                title='Processes',\n",
    "        )\n",
    "\n",
    "        reaction_group_id = '{}_reactions'.format(box.name)\n",
    "        box_reaction_names = [p.name for p in box.reactions]\n",
    "        while len(box_reaction_names) < 3:\n",
    "            box_reaction_names.append('')\n",
    "        reactions = box_svg_element.add_child(\n",
    "                group_id=reaction_group_id, \n",
    "                text_lines=box_reaction_names,\n",
    "                title='Reactions',\n",
    "        )\n",
    "\n",
    "        return box_svg_element.as_svg_group()\n",
    "\n",
    "    # HELPER FUNCTIONS\n",
    "\n",
    "    def _save_group_as_svg(self, group, filename):\n",
    "        dwg = svgwrite.Drawing(filename=filename)\n",
    "        dwg.add(group)\n",
    "        dwg.save()\n"
   ]
  },
  {
   "cell_type": "code",
   "execution_count": null,
   "metadata": {
    "collapsed": true
   },
   "outputs": [],
   "source": []
  }
 ],
 "metadata": {
  "kernelspec": {
   "display_name": "Python 3",
   "language": "python",
   "name": "python3"
  },
  "language_info": {
   "codemirror_mode": {
    "name": "ipython",
    "version": 3
   },
   "file_extension": ".py",
   "mimetype": "text/x-python",
   "name": "python",
   "nbconvert_exporter": "python",
   "pygments_lexer": "ipython3",
   "version": "3.6.1"
  }
 },
 "nbformat": 4,
 "nbformat_minor": 2
}
