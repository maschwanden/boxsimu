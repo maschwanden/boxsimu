{
 "cells": [
  {
   "cell_type": "code",
   "execution_count": 5,
   "metadata": {},
   "outputs": [],
   "source": [
    "try:\n",
    "    import svgwrite\n",
    "except ImportError:\n",
    "    # if svgwrite is not 'installed' append parent dir of __file__ to sys.path\n",
    "    import sys, os\n",
    "    sys.path.insert(0, os.path.abspath(os.path.split(os.path.abspath(__file__))[0]+'/..'))\n",
    "\n",
    "import svgwrite\n",
    "from svgwrite import cm, mm   \n",
    "    \n",
    "def basic_shapes(name):\n",
    "    dwg = svgwrite.Drawing(filename=name, debug=True, size=(1000, 1000))\n",
    "    hlines = dwg.add(dwg.g(id='hlines', stroke='green'))\n",
    "    for y in range(20):\n",
    "        hlines.add(dwg.line(start=(2*cm, (2+y)*cm), end=(18*cm, (2+y)*cm)))\n",
    "    vlines = dwg.add(dwg.g(id='vline', stroke='blue'))\n",
    "    for x in range(17):\n",
    "        vlines.add(dwg.line(start=((2+x)*cm, 2*cm), end=((2+x)*cm, 21*cm)))\n",
    "    shapes = dwg.add(dwg.g(id='shapes', fill='red'))\n",
    "\n",
    "    # set presentation attributes at object creation as SVG-Attributes\n",
    "    shapes.add(dwg.circle(center=(15*cm, 8*cm), r='2.5cm', stroke='blue',\n",
    "                          stroke_width=3))\n",
    "\n",
    "    # override the 'fill' attribute of the parent group 'shapes'\n",
    "    shapes.add(dwg.rect(insert=(5*cm, 5*cm), size=(45*mm, 45*mm),\n",
    "                        fill='blue', stroke='red', stroke_width=3))\n",
    "\n",
    "    # or set presentation attributes by helper functions of the Presentation-Mixin\n",
    "    ellipse = shapes.add(dwg.ellipse(center=(10*cm, 15*cm), r=('5cm', '10mm')))\n",
    "    ellipse.fill('green', opacity=0.5).stroke('black', width=5).dasharray([20, 20])\n",
    "    dwg.save()\n",
    "\n",
    "basic_shapes('basic_shapes.svg')"
   ]
  },
  {
   "cell_type": "code",
   "execution_count": null,
   "metadata": {
    "collapsed": true
   },
   "outputs": [],
   "source": []
  }
 ],
 "metadata": {
  "kernelspec": {
   "display_name": "Python 3",
   "language": "python",
   "name": "python3"
  },
  "language_info": {
   "codemirror_mode": {
    "name": "ipython",
    "version": 3
   },
   "file_extension": ".py",
   "mimetype": "text/x-python",
   "name": "python",
   "nbconvert_exporter": "python",
   "pygments_lexer": "ipython3",
   "version": "3.6.1"
  }
 },
 "nbformat": 4,
 "nbformat_minor": 2
}
