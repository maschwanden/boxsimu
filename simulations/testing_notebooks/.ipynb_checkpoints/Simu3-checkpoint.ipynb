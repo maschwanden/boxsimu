{
 "cells": [
  {
   "cell_type": "code",
   "execution_count": 1,
   "metadata": {},
   "outputs": [
    {
     "name": "stdout",
     "output_type": "stream",
     "text": [
      "The autoreload extension is already loaded. To reload it, use:\n",
      "  %reload_ext autoreload\n"
     ]
    }
   ],
   "source": [
    "%load_ext autoreload\n",
    "%autoreload 2\n",
    "%matplotlib inline"
   ]
  },
  {
   "cell_type": "code",
   "execution_count": 2,
   "metadata": {},
   "outputs": [],
   "source": [
    "import pyximport; pyximport.install()\n",
    "import sys\n",
    "from IPython.display import SVG\n",
    "\n",
    "BOXSIMU_PATH = '/home/aschi/Documents/MyPrivateRepo/boxsimu_project/'\n",
    "if not BOXSIMU_PATH in sys.path:\n",
    "    sys.path.append(BOXSIMU_PATH)\n",
    "    \n",
    "import boxsimu"
   ]
  },
  {
   "cell_type": "code",
   "execution_count": 3,
   "metadata": {},
   "outputs": [],
   "source": [
    "%load_ext Cython"
   ]
  },
  {
   "cell_type": "code",
   "execution_count": 4,
   "metadata": {},
   "outputs": [],
   "source": [
    "# -*- coding: utf-8 -*-\n",
    "\n",
    "import sys\n",
    "import copy\n",
    "import numpy as np\n",
    "import datetime\n",
    "\n",
    "from matplotlib import pyplot as plt\n",
    "\n",
    "BOXSIMU_PATH = '/home/aschi/Documents/MyPrivateRepo/boxsimu_project/'\n",
    "if not BOXSIMU_PATH in sys.path:\n",
    "    sys.path.append(BOXSIMU_PATH)\n",
    "\n",
    "from boxsimu.simulations import boxmodelsystem3\n",
    "\n",
    "system = boxmodelsystem3.get_system()"
   ]
  },
  {
   "cell_type": "code",
   "execution_count": 5,
   "metadata": {},
   "outputs": [
    {
     "name": "stdout",
     "output_type": "stream",
     "text": [
      "corners [(360.0, 0.0), (660.0, 0.0), (660.0, 300.0), (360.0, 300.0)]\n",
      "corners [(360.0, 0.0), (660.0, 0.0), (660.0, 300.0), (360.0, 300.0)]\n",
      "corners [(-360.0, 4.4087284769304716e-14), (-60.0, 4.4087284769304716e-14), (-60.0, 300.00000000000006), (-360.0, 300.00000000000006)]\n",
      "corners [(-360.0, 4.4087284769304716e-14), (-60.0, 4.4087284769304716e-14), (-60.0, 300.00000000000006), (-360.0, 300.00000000000006)]\n"
     ]
    }
   ],
   "source": [
    "system.save_as_svg('test_svg')"
   ]
  },
  {
   "cell_type": "code",
   "execution_count": 6,
   "metadata": {},
   "outputs": [
    {
     "data": {
      "text/html": [
       "1.0 kilogram/second"
      ],
      "text/latex": [
       "$1.0\\ \\frac{\\mathrm{kilogram}}{\\mathrm{second}}$"
      ],
      "text/plain": [
       "<Quantity(1.0, 'kilogram / second')>"
      ]
     },
     "execution_count": 6,
     "metadata": {},
     "output_type": "execute_result"
    }
   ],
   "source": [
    "from boxsimu import dimensionality_validation\n",
    "from boxsimu import ur\n",
    "\n",
    "@dimensionality_validation.decorator_raise_if_not_mass_per_time\n",
    "def random_pint_unit_function(arg1, arg2):\n",
    "    return arg1 * arg2 * ur.meter\n",
    "\n",
    "random_pint_unit_function(1*ur.kg, 1/ur.second/ur.meter)"
   ]
  },
  {
   "cell_type": "code",
   "execution_count": 7,
   "metadata": {},
   "outputs": [
    {
     "data": {
      "text/plain": [
       "True"
      ]
     },
     "execution_count": 7,
     "metadata": {},
     "output_type": "execute_result"
    }
   ],
   "source": [
    "random_pint_unit_function._verified = True\n",
    "random_pint_unit_function._verified"
   ]
  },
  {
   "cell_type": "code",
   "execution_count": null,
   "metadata": {},
   "outputs": [
    {
     "name": "stdout",
     "output_type": "stream",
     "text": [
      "Start solving the box model...\n",
      "- total integration time: 200 month\n",
      "- dt (time step): 1 month\n",
      "0\n",
      "1\n",
      "2\n",
      "3\n",
      "4\n",
      "5\n",
      "6\n",
      "7\n",
      "8\n",
      "9\n",
      "10\n",
      "11\n",
      "12\n",
      "13\n",
      "14\n",
      "15\n",
      "16\n",
      "17\n",
      "18\n",
      "19\n",
      "10.0%\n",
      "20\n",
      "21\n",
      "22\n",
      "23\n",
      "24\n",
      "25\n",
      "26\n",
      "27\n",
      "28\n",
      "29\n",
      "30\n",
      "31\n",
      "32\n",
      "33\n",
      "34\n",
      "35\n",
      "36\n",
      "37\n",
      "38\n",
      "39\n",
      "20.0%\n",
      "40\n",
      "41\n",
      "42\n",
      "43\n",
      "44\n",
      "45\n",
      "46\n",
      "47\n",
      "48\n",
      "49\n",
      "50\n",
      "51\n",
      "52\n",
      "53\n",
      "54\n",
      "55\n",
      "56\n",
      "57\n",
      "58\n",
      "59\n",
      "30.0%\n",
      "60\n",
      "61\n",
      "62\n",
      "63\n",
      "64\n",
      "65\n",
      "66\n",
      "67\n",
      "68\n",
      "69\n",
      "70\n",
      "71\n",
      "72\n",
      "73\n",
      "74\n",
      "75\n",
      "76\n",
      "77\n",
      "78\n",
      "79\n",
      "40.0%\n",
      "80\n",
      "81\n",
      "82\n",
      "83\n",
      "84\n",
      "85\n",
      "86\n",
      "87\n",
      "88\n",
      "89\n",
      "90\n",
      "91\n",
      "92\n",
      "93\n",
      "94\n",
      "95\n"
     ]
    }
   ],
   "source": [
    "import cProfile\n",
    "import re\n",
    "cProfile.run('system.solve(200*ur.month, 1*ur.month)', 'restats')"
   ]
  },
  {
   "cell_type": "code",
   "execution_count": 12,
   "metadata": {},
   "outputs": [
    {
     "name": "stdout",
     "output_type": "stream",
     "text": [
      "Mon Aug 28 13:29:21 2017    restats\n",
      "\n",
      "         16409381 function calls (13995046 primitive calls) in 10.800 seconds\n",
      "\n",
      "   Ordered by: standard name\n",
      "\n",
      "   ncalls  tottime  percall  cumtime  percall filename:lineno(function)\n",
      "        1    0.000    0.000   10.800   10.800 <string>:1(<module>)\n",
      "    76323    0.088    0.000    0.144    0.000 __init__.py:82(_to_magnitude)\n",
      "    16270    0.019    0.000    0.025    0.000 _collections_abc.py:672(keys)\n",
      "    21845    0.019    0.000    0.026    0.000 _collections_abc.py:676(items)\n",
      "    38115    0.013    0.000    0.013    0.000 _collections_abc.py:698(__init__)\n",
      "        4    0.000    0.000    0.000    0.000 _collections_abc.py:701(__len__)\n",
      "    37450    0.024    0.000    0.038    0.000 _collections_abc.py:719(__iter__)\n",
      "    42078    0.039    0.000    0.067    0.000 _collections_abc.py:742(__iter__)\n",
      "      160    0.000    0.000    0.002    0.000 _methods.py:31(_sum)\n",
      "      120    0.000    0.000    0.002    0.000 _methods.py:37(_any)\n",
      "   117121    0.079    0.000    0.079    0.000 _weakrefset.py:70(__contains__)\n",
      "    78389    0.107    0.000    0.186    0.000 abc.py:178(__instancecheck__)\n",
      "     4100    0.002    0.000    0.002    0.000 box.py:104(id)\n",
      "     5640    0.002    0.000    0.002    0.000 box.py:115(name)\n",
      "      120    0.001    0.000    0.020    0.000 boxmodelsystem3.py:54(<lambda>)\n",
      "      640    0.012    0.000    0.245    0.000 boxmodelsystem3.py:63(<lambda>)\n",
      "      640    0.015    0.000    0.263    0.000 boxmodelsystem3.py:66(rr2)\n",
      "     2320    0.004    0.000    0.005    0.000 chainmap.py:95(__bool__)\n",
      "     7491    0.035    0.000    0.089    0.000 condition.py:28(__init__)\n",
      "     2540    0.008    0.000    0.310    0.000 condition.py:35(set_surrounding_condition)\n",
      "2021097/2563    2.746    0.000    8.070    0.003 copy.py:132(deepcopy)\n",
      "  1278694    0.134    0.000    0.134    0.000 copy.py:190(_deepcopy_atomic)\n",
      "15405/10258    0.026    0.000    0.764    0.000 copy.py:210(_deepcopy_list)\n",
      "43365/2581    0.181    0.000    7.881    0.003 copy.py:219(_deepcopy_tuple)\n",
      "43365/2581    0.067    0.000    7.872    0.003 copy.py:220(<listcomp>)\n",
      "130567/2563    0.632    0.000    7.855    0.003 copy.py:236(_deepcopy_dict)\n",
      "   426192    0.262    0.000    0.381    0.000 copy.py:252(_keep_alive)\n",
      "161338/2563    0.846    0.000    8.002    0.003 copy.py:268(_reconstruct)\n",
      "   322676    0.120    0.000    0.469    0.000 copy.py:273(<genexpr>)\n",
      "   161338    0.098    0.000    0.152    0.000 copyreg.py:87(__newobj__)\n",
      "    30400    0.017    0.000    0.017    0.000 definitions.py:35(is_multiplicative)\n",
      "    38660    0.019    0.000    0.033    0.000 descriptors.py:20(__get__)\n",
      "      200    0.000    0.000    0.006    0.000 descriptors.py:23(__set__)\n",
      "      200    0.000    0.000    0.006    0.000 descriptors.py:33(__set__)\n",
      "    17734    0.041    0.000    0.077    0.000 dictionary.py:16(__init__)\n",
      "     7491    0.003    0.000    0.003    0.000 dictionary.py:22(_configuration)\n",
      "    43365    0.040    0.000    0.064    0.000 dictionary.py:28(__getstate__)\n",
      "    43365    0.068    0.000    0.217    0.000 dictionary.py:38(__setstate__)\n",
      "     7491    0.015    0.000    0.111    0.000 dictionary.py:52(_constructor)\n",
      "      200    0.001    0.000    0.014    0.000 dimensionality_validation.py:111(raise_if_not_mass)\n",
      "        4    0.000    0.000    0.000    0.000 dimensionality_validation.py:126(raise_if_not_time)\n",
      "     1840    0.014    0.000    0.162    0.000 dimensionality_validation.py:136(raise_if_not_mass_per_time)\n",
      "      560    0.002    0.000    0.025    0.000 dimensionality_validation.py:146(raise_if_not_dimless)\n",
      "     1600    0.007    0.000    0.017    0.000 dimensionality_validation.py:153(get_single_shared_unit)\n",
      "     1280    0.006    0.000    0.539    0.000 dimensionality_validation.py:182(wrapper)\n",
      "     5364    0.015    0.000    0.081    0.000 dimensionality_validation.py:23(is_quantity_of_dimensionality)\n",
      "     1280    0.009    0.000    0.102    0.000 dimensionality_validation.py:79(is_mole_per_time)\n",
      "     2804    0.008    0.000    0.078    0.000 dimensionality_validation.py:91(raise_if_not)\n",
      "     2804    0.004    0.000    0.035    0.000 dimensionality_validation.py:99(<listcomp>)\n",
      "    21478    0.007    0.000    0.007    0.000 entities.py:162(name)\n",
      "      480    0.001    0.000    0.022    0.000 entities.py:175(is_mobile)\n",
      "    13878    0.014    0.000    0.021    0.000 entities.py:43(__hash__)\n",
      "     3400    0.008    0.000    0.014    0.000 entities.py:46(__eq__)\n",
      "        2    0.000    0.000    0.000    0.000 formatting.py:104(formatter)\n",
      "        2    0.000    0.000    0.000    0.000 formatting.py:191(_parse_spec)\n",
      "        2    0.000    0.000    0.000    0.000 formatting.py:208(format_unit)\n",
      "        2    0.000    0.000    0.000    0.000 formatting.py:22(_join)\n",
      "        2    0.000    0.000    0.000    0.000 formatting.py:270(remove_custom_flags)\n",
      "      120    0.001    0.000    0.004    0.000 fromnumeric.py:1886(any)\n",
      "       87    0.003    0.000    0.004    0.000 iostream.py:180(schedule)\n",
      "       66    0.000    0.000    0.000    0.000 iostream.py:284(_is_master_process)\n",
      "       66    0.000    0.000    0.001    0.000 iostream.py:297(_schedule_flush)\n",
      "       66    0.000    0.000    0.005    0.000 iostream.py:342(write)\n",
      "       87    0.000    0.000    0.000    0.000 iostream.py:87(_event_pipe)\n",
      "    12279    0.022    0.000    0.206    0.000 mixins.py:114(_build)\n",
      "    30119    0.052    0.000    0.183    0.000 mixins.py:137(_valid_name)\n",
      "   129689    0.166    0.000    0.166    0.000 mixins.py:162(_setattr)\n",
      "    17840    0.017    0.000    0.095    0.000 mixins.py:169(__setattr__)\n",
      "    55644    0.128    0.000    0.522    0.000 mixins.py:75(__getattr__)\n",
      "      160    0.001    0.000    0.002    0.000 numeric.py:1489(normalize_axis_tuple)\n",
      "      220    0.001    0.000    0.004    0.000 numeric.py:150(ones)\n",
      "      320    0.000    0.000    0.000    0.000 numeric.py:1536(<genexpr>)\n",
      "       80    0.001    0.000    0.004    0.000 numeric.py:1545(moveaxis)\n",
      "       80    0.000    0.000    0.000    0.000 numeric.py:1607(<listcomp>)\n",
      "      440    0.000    0.000    0.001    0.000 numeric.py:534(asanyarray)\n",
      "     1280    0.020    0.000    0.902    0.001 process.py:139(__call__)\n",
      "      640    0.001    0.000    0.001    0.000 process.py:24(__eq__)\n",
      "     1400    0.005    0.000    0.011    0.000 quantity.py:1062(compare)\n",
      "      640    0.002    0.000    0.006    0.000 quantity.py:1077(<lambda>)\n",
      "      760    0.002    0.000    0.009    0.000 quantity.py:1080(<lambda>)\n",
      "      500    0.001    0.000    0.003    0.000 quantity.py:1195(T)\n",
      "      160    0.001    0.000    0.004    0.000 quantity.py:1227(__numpy_method_wrap)\n",
      "      160    0.001    0.000    0.002    0.000 quantity.py:1255(__getattr__)\n",
      "      440    0.001    0.000    0.003    0.000 quantity.py:1279(__getitem__)\n",
      "       20    0.000    0.000    0.000    0.000 quantity.py:1287(__setitem__)\n",
      "    45005    0.132    0.000    2.441    0.000 quantity.py:133(__deepcopy__)\n",
      "        2    0.000    0.000    0.000    0.000 quantity.py:145(__format__)\n",
      "    16210    0.037    0.000    0.154    0.000 quantity.py:1476(_get_non_multiplicative_units)\n",
      "    16210    0.042    0.000    0.092    0.000 quantity.py:1479(<listcomp>)\n",
      "       60    0.000    0.000    0.000    0.000 quantity.py:1483(_get_delta_units)\n",
      "       60    0.000    0.000    0.000    0.000 quantity.py:1486(<listcomp>)\n",
      "    13194    0.006    0.000    0.006    0.000 quantity.py:1502(_ok_for_muldiv)\n",
      "     4364    0.002    0.000    0.002    0.000 quantity.py:220(magnitude)\n",
      "     3282    0.004    0.000    0.009    0.000 quantity.py:240(units)\n",
      "        1    0.000    0.000    0.000    0.000 quantity.py:262(dimensionless)\n",
      "     8381    0.015    0.000    0.092    0.000 quantity.py:272(dimensionality)\n",
      "     5472    0.010    0.000    0.305    0.000 quantity.py:295(_convert_magnitude_not_inplace)\n",
      "       60    0.000    0.000    0.008    0.000 quantity.py:324(to)\n",
      "        1    0.000    0.000    0.000    0.000 quantity.py:347(to_root_units)\n",
      "     5410    0.019    0.000    0.376    0.000 quantity.py:367(to_base_units)\n",
      "        1    0.000    0.000    0.000    0.000 quantity.py:448(__float__)\n",
      "    10583    0.022    0.000    0.663    0.000 quantity.py:49(wrapped)\n",
      "     1508    0.013    0.000    0.106    0.000 quantity.py:556(_add_sub)\n",
      "      220    0.000    0.000    0.015    0.000 quantity.py:657(__iadd__)\n",
      "      880    0.003    0.000    0.059    0.000 quantity.py:665(__add__)\n",
      "      408    0.001    0.000    0.036    0.000 quantity.py:679(__sub__)\n",
      "    10583    0.087    0.000    0.641    0.000 quantity.py:746(_mul_div)\n",
      "     7612    0.015    0.000    0.474    0.000 quantity.py:813(__mul__)\n",
      "     2971    0.007    0.000    0.211    0.000 quantity.py:824(__truediv__)\n",
      "    68351    0.151    0.000    0.318    0.000 quantity.py:85(__new__)\n",
      "    30119    0.030    0.000    0.098    0.000 re.py:169(match)\n",
      "    30119    0.027    0.000    0.027    0.000 re.py:286(_compile)\n",
      "     2320    0.012    0.000    0.248    0.000 registry.py:1182(_convert)\n",
      "     5410    0.021    0.000    0.037    0.000 registry.py:1374(_get_base_units)\n",
      "    12268    0.020    0.000    0.191    0.000 registry.py:200(__getattr__)\n",
      "    15233    0.053    0.000    0.155    0.000 registry.py:522(_get_dimensionality)\n",
      "     2321    0.010    0.000    0.017    0.000 registry.py:580(_get_root_units)\n",
      "     5472    0.014    0.000    0.295    0.000 registry.py:668(convert)\n",
      "     2320    0.023    0.000    0.162    0.000 registry.py:688(_convert)\n",
      "    12268    0.020    0.000    0.075    0.000 registry.py:754(parse_units)\n",
      "    12268    0.011    0.000    0.011    0.000 registry.py:770(_parse_units)\n",
      "    12268    0.022    0.000    0.033    0.000 registry.py:871(_parse_units)\n",
      "     9280    0.011    0.000    0.015    0.000 registry.py:899(_is_multiplicative)\n",
      "     2320    0.017    0.000    0.231    0.000 registry.py:913(_convert)\n",
      "     2320    0.008    0.000    0.030    0.000 registry.py:931(<listcomp>)\n",
      "     2320    0.004    0.000    0.017    0.000 registry.py:933(<listcomp>)\n",
      "       80    0.001    0.000    0.003    0.000 shape_base.py:296(stack)\n",
      "       80    0.000    0.000    0.001    0.000 shape_base.py:348(<listcomp>)\n",
      "      400    0.000    0.000    0.000    0.000 shape_base.py:352(<genexpr>)\n",
      "       80    0.000    0.000    0.000    0.000 shape_base.py:360(<listcomp>)\n",
      "        1    0.000    0.000    0.003    0.003 solution.py:47(__init__)\n",
      "        1    0.003    0.003   10.796   10.796 solver.py:104(solve)\n",
      "       20    0.001    0.000    0.267    0.013 solver.py:184(_calculate_mass_flows)\n",
      "       20    0.001    0.000   10.491    0.525 solver.py:242(_calculate_changes_of_all_variables)\n",
      "       20    0.000    0.000    0.024    0.001 solver.py:261(<listcomp>)\n",
      "       20    0.001    0.000   10.439    0.522 solver.py:265(<listcomp>)\n",
      "       80    0.005    0.000    2.965    0.037 solver.py:286(_get_sink_source_flow)\n",
      "       80    0.004    0.000    0.138    0.002 solver.py:305(_get_sink_source_flux)\n",
      "       80    0.003    0.000    1.806    0.023 solver.py:325(_get_sink_source_process)\n",
      "       80    0.005    0.000    5.485    0.069 solver.py:337(_get_sink_source_reaction)\n",
      "       80    0.003    0.000   10.438    0.130 solver.py:369(_get_dvar)\n",
      "        1    0.000    0.000    0.003    0.003 solver.py:54(__init__)\n",
      "     2970    0.005    0.000    0.009    0.000 system.py:179(box_list)\n",
      "     2970    0.004    0.000    0.004    0.000 system.py:181(<listcomp>)\n",
      "       81    0.000    0.000    0.000    0.000 system.py:183(variable_list)\n",
      "       81    0.000    0.000    0.000    0.000 system.py:185(<listcomp>)\n",
      "     2400    0.002    0.000    0.002    0.000 system.py:188(N_boxes)\n",
      "      260    0.000    0.000    0.000    0.000 system.py:192(N_variables)\n",
      "     2790    0.009    0.000    0.021    0.000 system.py:196(pint_ur)\n",
      "     2560    0.122    0.000    8.685    0.003 system.py:207(get_box_context)\n",
      "     5120    0.013    0.000    0.026    0.000 system.py:233(<dictcomp>)\n",
      "       20    0.000    0.000    0.069    0.003 system.py:241(get_global_context)\n",
      "      240    0.005    0.000    1.658    0.007 system.py:244(get_variable_mobility_bool_1Darray)\n",
      "      240    0.004    0.000    1.664    0.007 system.py:252(get_variable_mobility_numeric_1Darray)\n",
      "       20    0.001    0.000    0.007    0.000 system.py:265(get_fluid_mass_1Darray)\n",
      "       80    0.002    0.000    0.024    0.000 system.py:280(get_variable_mass_1Darray)\n",
      "      240    0.013    0.000    0.098    0.000 system.py:301(get_variable_concentration_1Darray)\n",
      "      240    0.003    0.000    1.785    0.007 system.py:326(get_variable_flow_concentration_1Darray)\n",
      "       20    0.001    0.000    0.083    0.004 system.py:350(get_fluid_mass_internal_flow_2Darray)\n",
      "      180    0.009    0.000    0.719    0.004 system.py:384(get_fluid_mass_flow_sink_1Darray)\n",
      "       20    0.001    0.000    0.074    0.004 system.py:415(get_fluid_mass_flow_source_1Darray)\n",
      "       80    0.005    0.000    0.936    0.012 system.py:453(get_variable_internal_flow_2Darray)\n",
      "       80    0.000    0.000    0.000    0.000 system.py:477(<listcomp>)\n",
      "      160    0.003    0.000    1.850    0.012 system.py:504(get_variable_flow_sink_1Darray)\n",
      "      160    0.000    0.000    0.000    0.000 system.py:530(<listcomp>)\n",
      "       80    0.003    0.000    0.097    0.001 system.py:539(get_variable_flow_source_1Darray)\n",
      "       80    0.001    0.000    0.001    0.000 system.py:566(<listcomp>)\n",
      "       80    0.002    0.000    0.013    0.000 system.py:584(get_variable_internal_flux_2Darray)\n",
      "       80    0.000    0.000    0.000    0.000 system.py:605(<listcomp>)\n",
      "      160    0.003    0.000    0.025    0.000 system.py:623(get_variable_flux_sink_1Darray)\n",
      "      160    0.000    0.000    0.000    0.000 system.py:641(<listcomp>)\n",
      "       80    0.002    0.000    0.012    0.000 system.py:656(get_variable_flux_source_1Darray)\n",
      "       80    0.000    0.000    0.000    0.000 system.py:674(<listcomp>)\n",
      "      160    0.014    0.000    1.152    0.007 system.py:691(get_variable_process_sink_1Darray)\n",
      "      160    0.000    0.000    0.000    0.000 system.py:709(<listcomp>)\n",
      "      160    0.000    0.000    0.000    0.000 system.py:710(<listcomp>)\n",
      "      320    0.000    0.000    0.000    0.000 system.py:715(<listcomp>)\n",
      "      320    0.000    0.000    0.000    0.000 system.py:717(<listcomp>)\n",
      "      320    0.000    0.000    0.000    0.000 system.py:722(<listcomp>)\n",
      "       80    0.006    0.000    0.610    0.008 system.py:733(get_variable_process_source_1Darray)\n",
      "       80    0.000    0.000    0.000    0.000 system.py:751(<listcomp>)\n",
      "       80    0.000    0.000    0.000    0.000 system.py:752(<listcomp>)\n",
      "      160    0.000    0.000    0.000    0.000 system.py:757(<listcomp>)\n",
      "      160    0.000    0.000    0.000    0.000 system.py:759(<listcomp>)\n",
      "      160    0.000    0.000    0.000    0.000 system.py:764(<listcomp>)\n",
      "      160    0.028    0.000    5.387    0.034 system.py:779(get_reaction_rate_2Darray)\n",
      "       80    0.006    0.000    5.425    0.068 system.py:799(get_reaction_rate_3Darray)\n",
      "        1    0.000    0.000   10.799   10.799 system.py:859(solve)\n",
      "       87    0.000    0.000    0.000    0.000 threading.py:1062(_wait_for_tstate_lock)\n",
      "       87    0.000    0.000    0.000    0.000 threading.py:1104(is_alive)\n",
      "       87    0.000    0.000    0.000    0.000 threading.py:506(is_set)\n",
      "      500    0.001    0.000    0.001    0.000 transport.py:106(<listcomp>)\n",
      "      320    0.002    0.000    0.062    0.000 transport.py:69(__call__)\n",
      "      180    0.000    0.000    0.000    0.000 transport.py:76(get_all_from)\n",
      "      180    0.000    0.000    0.000    0.000 transport.py:87(<listcomp>)\n",
      "      500    0.001    0.000    0.001    0.000 transport.py:95(get_all_to)\n",
      "     8168    0.016    0.000    0.049    0.000 unit.py:127(dimensionality)\n",
      "     4684    0.020    0.000    0.299    0.000 unit.py:147(__mul__)\n",
      "     4300    0.016    0.000    0.130    0.000 unit.py:162(__truediv__)\n",
      "     2760    0.002    0.000    0.003    0.000 unit.py:193(__hash__)\n",
      "     1780    0.003    0.000    0.006    0.000 unit.py:196(__eq__)\n",
      "32118/19850    0.060    0.000    0.182    0.000 unit.py:40(__new__)\n",
      "        2    0.000    0.000    0.000    0.000 unit.py:76(__format__)\n",
      "     8200    0.002    0.000    0.002    0.000 util.py:237(__missing__)\n",
      "    26298    0.106    0.000    0.199    0.000 util.py:251(__init__)\n",
      "    38115    0.020    0.000    0.030    0.000 util.py:291(__iter__)\n",
      "    17561    0.008    0.000    0.012    0.000 util.py:294(__len__)\n",
      "    20233    0.012    0.000    0.012    0.000 util.py:297(__getitem__)\n",
      "    46444    0.012    0.000    0.012    0.000 util.py:303(__hash__)\n",
      "    35906    0.032    0.000    0.032    0.000 util.py:306(__getstate__)\n",
      "    35906    0.019    0.000    0.019    0.000 util.py:309(__setstate__)\n",
      "    62436    0.069    0.000    0.078    0.000 util.py:313(__eq__)\n",
      "        2    0.000    0.000    0.000    0.000 util.py:330(__format__)\n",
      "     7612    0.046    0.000    0.144    0.000 util.py:339(__mul__)\n",
      "     7612    0.005    0.000    0.005    0.000 util.py:346(<listcomp>)\n",
      "     9591    0.077    0.000    0.229    0.000 util.py:363(__truediv__)\n",
      "     9591    0.008    0.000    0.008    0.000 util.py:373(<listcomp>)\n",
      "     6224    0.012    0.000    0.055    0.000 util.py:476(__eq__)\n",
      "    22855    0.021    0.000    0.043    0.000 util.py:608(_check)\n",
      "    11004    0.010    0.000    0.025    0.000 util.py:627(to_units_container)\n",
      "      360    0.006    0.000    0.054    0.000 utils.py:27(dot)\n",
      "       80    0.002    0.000    0.021    0.000 utils.py:53(stack)\n",
      "   261807    0.085    0.000    0.085    0.000 {built-in method __new__ of type object at 0x7fd7dd90dc80}\n",
      "     1100    0.003    0.000    0.003    0.000 {built-in method _operator.add}\n",
      "      760    0.002    0.000    0.002    0.000 {built-in method _operator.gt}\n",
      "      160    0.000    0.000    0.000    0.000 {built-in method _operator.index}\n",
      "      640    0.001    0.000    0.001    0.000 {built-in method _operator.lt}\n",
      "    15224    0.055    0.000    0.199    0.000 {built-in method _operator.mul}\n",
      "      408    0.001    0.000    0.001    0.000 {built-in method _operator.sub}\n",
      "     5942    0.012    0.000    0.078    0.000 {built-in method _operator.truediv}\n",
      "     2320    0.002    0.000    0.002    0.000 {built-in method builtins.any}\n",
      "     2440    0.001    0.000    0.001    0.000 {built-in method builtins.callable}\n",
      "        1    0.000    0.000   10.800   10.800 {built-in method builtins.exec}\n",
      "      6/4    0.000    0.000    0.000    0.000 {built-in method builtins.format}\n",
      "   459868    0.320    0.000    0.494    0.000 {built-in method builtins.getattr}\n",
      "165582/155551    0.114    0.000    0.386    0.000 {built-in method builtins.hasattr}\n",
      "    40176    0.013    0.000    0.013    0.000 {built-in method builtins.hash}\n",
      "  2800527    0.341    0.000    0.341    0.000 {built-in method builtins.id}\n",
      "   822447    0.233    0.000    0.419    0.000 {built-in method builtins.isinstance}\n",
      "   316126    0.067    0.000    0.067    0.000 {built-in method builtins.issubclass}\n",
      "    38115    0.010    0.000    0.010    0.000 {built-in method builtins.iter}\n",
      "50284/50280    0.010    0.000    0.010    0.000 {built-in method builtins.len}\n",
      "      640    0.002    0.000    0.008    0.000 {built-in method builtins.min}\n",
      "       33    0.000    0.000    0.005    0.000 {built-in method builtins.print}\n",
      "    18040    0.020    0.000    0.115    0.000 {built-in method builtins.setattr}\n",
      "       82    0.000    0.000    0.000    0.000 {built-in method builtins.sorted}\n",
      "      960    0.001    0.000    0.001    0.000 {built-in method builtins.sum}\n",
      "        1    0.000    0.000    0.000    0.000 {built-in method math.ceil}\n",
      "       20    0.000    0.000    0.000    0.000 {built-in method math.isnan}\n",
      "      440    0.000    0.000    0.000    0.000 {built-in method numpy.core.multiarray.array}\n",
      "       80    0.001    0.000    0.001    0.000 {built-in method numpy.core.multiarray.concatenate}\n",
      "      220    0.002    0.000    0.002    0.000 {built-in method numpy.core.multiarray.copyto}\n",
      "      360    0.004    0.000    0.004    0.000 {built-in method numpy.core.multiarray.dot}\n",
      "      220    0.002    0.000    0.002    0.000 {built-in method numpy.core.multiarray.empty}\n",
      "      240    0.000    0.000    0.000    0.000 {built-in method numpy.core.multiarray.normalize_axis_index}\n",
      "     2000    0.007    0.000    0.007    0.000 {built-in method numpy.core.multiarray.zeros}\n",
      "       66    0.000    0.000    0.000    0.000 {built-in method posix.getpid}\n",
      "       87    0.001    0.000    0.001    0.000 {built-in method posix.urandom}\n",
      "        2    0.000    0.000    0.000    0.000 {built-in method time.time}\n",
      "    24970    0.005    0.000    0.005    0.000 {method '__contains__' of 'frozenset' objects}\n",
      "    30512    0.093    0.000    0.093    0.000 {method '__deepcopy__' of 'numpy.generic' objects}\n",
      "   161338    0.278    0.000    0.373    0.000 {method '__reduce_ex__' of 'object' objects}\n",
      "       87    0.000    0.000    0.000    0.000 {method 'acquire' of '_thread.lock' objects}\n",
      "      120    0.000    0.000    0.003    0.000 {method 'any' of 'numpy.ndarray' objects}\n",
      "   450034    0.069    0.000    0.069    0.000 {method 'append' of 'list' objects}\n",
      "      160    0.001    0.000    0.001    0.000 {method 'clip' of 'numpy.ndarray' objects}\n",
      "    43365    0.024    0.000    0.024    0.000 {method 'copy' of 'dict' objects}\n",
      "        1    0.000    0.000    0.000    0.000 {method 'disable' of '_lsprof.Profiler' objects}\n",
      "43379/43377    0.083    0.000    0.083    0.000 {method 'format' of 'str' objects}\n",
      "  3887321    0.636    0.000    0.636    0.000 {method 'get' of 'dict' objects}\n",
      "       80    0.000    0.000    0.000    0.000 {method 'insert' of 'list' objects}\n",
      "    24970    0.007    0.000    0.007    0.000 {method 'isidentifier' of 'str' objects}\n",
      "   221760    0.119    0.000    0.119    0.000 {method 'items' of 'dict' objects}\n",
      "        2    0.000    0.000    0.000    0.000 {method 'join' of 'str' objects}\n",
      "      240    0.000    0.000    0.000    0.000 {method 'keys' of 'dict' objects}\n",
      "    30119    0.042    0.000    0.042    0.000 {method 'match' of '_sre.SRE_Pattern' objects}\n",
      "    11004    0.015    0.000    0.015    0.000 {method 'mro' of 'type' objects}\n",
      "      980    0.000    0.000    0.000    0.000 {method 'pop' of 'set' objects}\n",
      "      280    0.004    0.000    0.004    0.000 {method 'reduce' of 'numpy.ufunc' objects}\n",
      "       12    0.000    0.000    0.000    0.000 {method 'replace' of 'str' objects}\n",
      "        2    0.000    0.000    0.000    0.000 {method 'search' of '_sre.SRE_Pattern' objects}\n",
      "      222    0.000    0.000    0.000    0.000 {method 'startswith' of 'str' objects}\n",
      "        2    0.000    0.000    0.000    0.000 {method 'strip' of 'str' objects}\n",
      "      160    0.000    0.000    0.002    0.000 {method 'sum' of 'numpy.ndarray' objects}\n",
      "       80    0.000    0.000    0.000    0.000 {method 'transpose' of 'numpy.ndarray' objects}\n",
      "    89528    0.058    0.000    0.058    0.000 {method 'update' of 'dict' objects}\n",
      "\n",
      "\n"
     ]
    },
    {
     "data": {
      "text/plain": [
       "<pstats.Stats at 0x7fd7a7cb55c0>"
      ]
     },
     "execution_count": 12,
     "metadata": {},
     "output_type": "execute_result"
    }
   ],
   "source": [
    "import pstats\n",
    "p = pstats.Stats('restats')\n",
    "#p.strip_dirs().sort_stats(-1).print_stats()\n",
    "p.sort_stats('cumulative').print_stats(10)"
   ]
  },
  {
   "cell_type": "code",
   "execution_count": 19,
   "metadata": {},
   "outputs": [
    {
     "name": "stdout",
     "output_type": "stream",
     "text": [
      "CPU times: user 3 µs, sys: 1 µs, total: 4 µs\n",
      "Wall time: 4.77 µs\n",
      "Start solving the box model...\n",
      "- total integration time: 200 month\n",
      "- dt (time step): 1 month\n",
      "> /home/aschi/Documents/MyPrivateRepo/boxsimu_project/boxsimu/solver.py(111)solve()\n",
      "-> self.system = copy.deepcopy(self._system_initial)\n",
      "(Pdb) c\n",
      "0\n",
      "1\n",
      "2\n",
      "3\n",
      "4\n",
      "5\n",
      "6\n",
      "7\n",
      "8\n",
      "9\n",
      "10\n",
      "11\n",
      "12\n",
      "13\n",
      "14\n",
      "15\n",
      "16\n",
      "17\n",
      "18\n",
      "19\n",
      "10.0%\n",
      "20\n",
      "21\n",
      "22\n",
      "23\n",
      "24\n",
      "25\n",
      "26\n",
      "27\n",
      "28\n",
      "29\n",
      "30\n",
      "31\n",
      "32\n",
      "33\n",
      "34\n",
      "35\n",
      "36\n",
      "37\n",
      "38\n",
      "39\n",
      "20.0%\n",
      "40\n",
      "41\n",
      "42\n",
      "43\n",
      "44\n",
      "45\n",
      "46\n",
      "47\n",
      "48\n",
      "49\n",
      "50\n",
      "51\n",
      "52\n",
      "53\n",
      "54\n",
      "55\n",
      "56\n",
      "57\n",
      "58\n",
      "59\n",
      "30.0%\n",
      "60\n",
      "61\n",
      "62\n",
      "63\n",
      "64\n",
      "65\n",
      "66\n",
      "67\n",
      "68\n",
      "69\n",
      "70\n",
      "71\n",
      "72\n",
      "73\n",
      "74\n",
      "75\n",
      "76\n",
      "77\n",
      "78\n",
      "79\n",
      "40.0%\n",
      "80\n",
      "81\n",
      "82\n",
      "83\n",
      "84\n",
      "85\n",
      "86\n",
      "87\n",
      "88\n",
      "89\n",
      "90\n",
      "91\n",
      "92\n",
      "93\n",
      "94\n",
      "95\n",
      "96\n",
      "97\n",
      "98\n",
      "99\n",
      "50.0%\n",
      "100\n",
      "101\n",
      "102\n",
      "103\n",
      "104\n",
      "105\n",
      "106\n",
      "107\n",
      "108\n",
      "109\n",
      "110\n",
      "111\n",
      "112\n",
      "113\n",
      "114\n",
      "115\n",
      "116\n",
      "117\n",
      "118\n",
      "119\n",
      "60.0%\n",
      "120\n",
      "121\n",
      "122\n",
      "123\n",
      "124\n",
      "125\n",
      "126\n",
      "127\n",
      "128\n",
      "129\n",
      "130\n",
      "131\n",
      "132\n",
      "133\n",
      "134\n",
      "135\n",
      "136\n",
      "137\n",
      "138\n",
      "139\n",
      "70.0%\n",
      "140\n",
      "141\n",
      "142\n",
      "143\n",
      "144\n",
      "145\n",
      "146\n",
      "147\n",
      "148\n",
      "149\n",
      "150\n",
      "151\n",
      "152\n",
      "153\n",
      "154\n",
      "155\n",
      "156\n",
      "157\n",
      "158\n",
      "159\n",
      "80.0%\n",
      "160\n",
      "161\n",
      "162\n",
      "163\n",
      "164\n",
      "165\n",
      "166\n",
      "167\n",
      "168\n",
      "169\n",
      "170\n",
      "171\n",
      "172\n",
      "173\n",
      "174\n",
      "175\n",
      "176\n",
      "177\n",
      "178\n",
      "179\n",
      "90.0%\n",
      "180\n",
      "181\n",
      "182\n",
      "183\n",
      "184\n",
      "185\n",
      "186\n",
      "187\n",
      "188\n",
      "189\n",
      "190\n",
      "191\n",
      "192\n",
      "193\n",
      "194\n",
      "195\n",
      "196\n",
      "197\n",
      "198\n",
      "199\n",
      "Function \"solve(...)\" used 56.211s\n"
     ]
    }
   ],
   "source": [
    "%time\n",
    "sol = system.solve(200*ur.month, 1*ur.month)"
   ]
  },
  {
   "cell_type": "code",
   "execution_count": 15,
   "metadata": {},
   "outputs": [
    {
     "data": {
      "text/plain": [
       "(<matplotlib.figure.Figure at 0x7fe9581b6ac8>,\n",
       " <matplotlib.axes._subplots.AxesSubplot at 0x7fe957e7a470>)"
      ]
     },
     "execution_count": 15,
     "metadata": {},
     "output_type": "execute_result"
    },
    {
     "data": {
      "image/png": "[encoded data removed]",
      "text/plain": [
       "<matplotlib.figure.Figure at 0x7fe9581b6ac8>"
      ]
     },
     "metadata": {},
     "output_type": "display_data"
    }
   ],
   "source": [
    "sol.plot_variable_mass_of_all_boxes(system.variables.A, yaxis_log=False)"
   ]
  },
  {
   "cell_type": "code",
   "execution_count": 14,
   "metadata": {},
   "outputs": [
    {
     "data": {
      "text/plain": [
       "(<matplotlib.figure.Figure at 0x7fe958211f60>,\n",
       " <matplotlib.axes._subplots.AxesSubplot at 0x7fe958643dd8>)"
      ]
     },
     "execution_count": 14,
     "metadata": {},
     "output_type": "execute_result"
    },
    {
     "data": {
      "image/png": "[encoded data removed]",
      "text/plain": [
       "<matplotlib.figure.Figure at 0x7fe958211f60>"
      ]
     },
     "metadata": {},
     "output_type": "display_data"
    }
   ],
   "source": [
    "sol.plot_variable_mass_of_all_boxes(system.variables.B, yaxis_log=False)"
   ]
  },
  {
   "cell_type": "code",
   "execution_count": 16,
   "metadata": {},
   "outputs": [
    {
     "data": {
      "text/plain": [
       "(<matplotlib.figure.Figure at 0x7fe957dbe978>,\n",
       " <matplotlib.axes._subplots.AxesSubplot at 0x7fe957dcc6a0>)"
      ]
     },
     "execution_count": 16,
     "metadata": {},
     "output_type": "execute_result"
    },
    {
     "data": {
      "image/png": "[encoded data removed]",
      "text/plain": [
       "<matplotlib.figure.Figure at 0x7fe957dbe978>"
      ]
     },
     "metadata": {},
     "output_type": "display_data"
    }
   ],
   "source": [
    "sol.plot_variable_mass_of_all_boxes(system.variables.C, yaxis_log=False)"
   ]
  },
  {
   "cell_type": "code",
   "execution_count": 17,
   "metadata": {},
   "outputs": [
    {
     "data": {
      "text/plain": [
       "(<matplotlib.figure.Figure at 0x7fe957f6aba8>,\n",
       " <matplotlib.axes._subplots.AxesSubplot at 0x7fe958411b70>)"
      ]
     },
     "execution_count": 17,
     "metadata": {},
     "output_type": "execute_result"
    },
    {
     "data": {
      "image/png": "[encoded data removed]",
      "text/plain": [
       "<matplotlib.figure.Figure at 0x7fe957f6aba8>"
      ]
     },
     "metadata": {},
     "output_type": "display_data"
    }
   ],
   "source": [
    "sol.plot_variable_mass_of_all_boxes(system.variables.D, yaxis_log=False)"
   ]
  },
  {
   "cell_type": "code",
   "execution_count": 22,
   "metadata": {},
   "outputs": [
    {
     "data": {
      "text/plain": [
       "(<matplotlib.figure.Figure at 0x7fe957bb05f8>,\n",
       " <matplotlib.axes._subplots.AxesSubplot at 0x7fe957b6bd30>)"
      ]
     },
     "execution_count": 22,
     "metadata": {},
     "output_type": "execute_result"
    },
    {
     "data": {
      "image/png": "[encoded data removed]",
      "text/plain": [
       "<matplotlib.figure.Figure at 0x7fe957bb05f8>"
      ]
     },
     "metadata": {},
     "output_type": "display_data"
    }
   ],
   "source": [
    "sol.plot_total_variable_masses()"
   ]
  },
  {
   "cell_type": "code",
   "execution_count": 25,
   "metadata": {},
   "outputs": [
    {
     "name": "stdout",
     "output_type": "stream",
     "text": [
      "corners [(360.0, 0.0), (660.0, 0.0), (660.0, 300.0), (360.0, 300.0)]\n",
      "corners [(360.0, 0.0), (660.0, 0.0), (660.0, 300.0), (360.0, 300.0)]\n",
      "corners [(-360.0, 4.4087284769304716e-14), (-60.0, 4.4087284769304716e-14), (-60.0, 300.00000000000006), (-360.0, 300.00000000000006)]\n",
      "corners [(-360.0, 4.4087284769304716e-14), (-60.0, 4.4087284769304716e-14), (-60.0, 300.00000000000006), (-360.0, 300.00000000000006)]\n"
     ]
    }
   ],
   "source": [
    "system.save_as_svg('system3.svg')"
   ]
  },
  {
   "cell_type": "code",
   "execution_count": 8,
   "metadata": {},
   "outputs": [
    {
     "data": {
      "image/svg+xml": [
       "<svg baseProfile=\"full\" height=\"100%\" version=\"1.1\" width=\"100%\" xmlns=\"http://www.w3.org/2000/svg\" xmlns:ev=\"http://www.w3.org/2001/xml-events\" xmlns:xlink=\"http://www.w3.org/1999/xlink\"><defs><marker id=\"id4\" markerHeight=\"4\" markerWidth=\"4\" refX=\"-3.0\" refY=\"0.0\"><polygon fill=\"darkblue\" points=\"-4.0,0.0 -1.22464679915e-16,2.0 1.22464679915e-16,-2.0\"/></marker><marker id=\"id5\" markerHeight=\"4\" markerWidth=\"4\" refX=\"-3.0\" refY=\"4.06024420434e-16\"><polygon fill=\"darkblue\" points=\"-4.0,5.41365893912e-16 1.48218267041e-16,2.0 -1.48218267041e-16,-2.0\"/></marker><marker id=\"id6\" markerHeight=\"4\" markerWidth=\"4\" refX=\"-3.0\" refY=\"0.0\"><polygon fill=\"darkblue\" points=\"-4.0,0.0 -1.22464679915e-16,2.0 1.22464679915e-16,-2.0\"/></marker></defs><g id=\"Test_System\"><g id=\"box1_box\"><rect fill=\"lightgrey\" height=\"264.0\" id=\"box1_box_rect\" opacity=\"0.7\" stroke=\"black\" stroke-opacity=\"1\" stroke-width=\"5\" width=\"300\" x=\"360.0\" y=\"36.0\"/><text fill=\"black\" font-size=\"24\" id=\"box1_box_title\" style=\"text-anchor:middle; dominant-baseline:mathematical\" x=\"510.0\" y=\"18.0\">Box 1</text><g id=\"box1_box_text\"><text fill=\"black\" font-size=\"12\" style=\"text-anchor:left; dominant-baseline:mathematical\" x=\"370.0\" y=\"50.0\">Fluid: water</text><text fill=\"black\" font-size=\"12\" style=\"text-anchor:left; dominant-baseline:mathematical\" x=\"370.0\" y=\"64.0\">Mass: 1.000e+05 kilogram</text></g><g id=\"box1_box_children\"><g id=\"box1_processes\"><rect fill=\"darkgrey\" height=\"60.0\" id=\"box1_processes_rect\" opacity=\"0.5\" stroke=\"white\" stroke-opacity=\"1\" stroke-width=\"3\" width=\"280\" x=\"370.0\" y=\"100.5\"/><text fill=\"black\" font-size=\"15\" id=\"box1_processes_title\" style=\"text-anchor:left; dominant-baseline:mathematical\" x=\"370.0\" y=\"89.25\">Processes</text><g id=\"box1_processes_text\"><text fill=\"black\" font-size=\"12\" style=\"text-anchor:left; dominant-baseline:mathematical\" x=\"380.0\" y=\"115.5\"/><text fill=\"black\" font-size=\"12\" style=\"text-anchor:left; dominant-baseline:mathematical\" x=\"380.0\" y=\"130.5\"/><text fill=\"black\" font-size=\"12\" style=\"text-anchor:left; dominant-baseline:mathematical\" x=\"380.0\" y=\"145.5\"/></g><g id=\"box1_processes_children\"/></g><g id=\"box1_reactions\"><rect fill=\"darkgrey\" height=\"60.0\" id=\"box1_reactions_rect\" opacity=\"0.5\" stroke=\"white\" stroke-opacity=\"1\" stroke-width=\"3\" width=\"280\" x=\"370.0\" y=\"195.0\"/><text fill=\"black\" font-size=\"15\" id=\"box1_reactions_title\" style=\"text-anchor:left; dominant-baseline:mathematical\" x=\"370.0\" y=\"183.75\">Reactions</text><g id=\"box1_reactions_text\"><text fill=\"black\" font-size=\"12\" style=\"text-anchor:left; dominant-baseline:mathematical\" x=\"380.0\" y=\"210.0\">Reaction1</text><text fill=\"black\" font-size=\"12\" style=\"text-anchor:left; dominant-baseline:mathematical\" x=\"380.0\" y=\"225.0\">Reaction2</text><text fill=\"black\" font-size=\"12\" style=\"text-anchor:left; dominant-baseline:mathematical\" x=\"380.0\" y=\"240.0\"/></g><g id=\"box1_reactions_children\"/></g></g></g><g id=\"box2_box\"><rect fill=\"lightgrey\" height=\"264.0\" id=\"box2_box_rect\" opacity=\"0.7\" stroke=\"black\" stroke-opacity=\"1\" stroke-width=\"5\" width=\"300\" x=\"-360.0\" y=\"36.0\"/><text fill=\"black\" font-size=\"24\" id=\"box2_box_title\" style=\"text-anchor:middle; dominant-baseline:mathematical\" x=\"-210.0\" y=\"18.0\">Box 2</text><g id=\"box2_box_text\"><text fill=\"black\" font-size=\"12\" style=\"text-anchor:left; dominant-baseline:mathematical\" x=\"-350.0\" y=\"50.0\">Fluid: water</text><text fill=\"black\" font-size=\"12\" style=\"text-anchor:left; dominant-baseline:mathematical\" x=\"-350.0\" y=\"64.0\">Mass: 1.000e+05 kilogram</text></g><g id=\"box2_box_children\"><g id=\"box2_processes\"><rect fill=\"darkgrey\" height=\"60.0\" id=\"box2_processes_rect\" opacity=\"0.5\" stroke=\"white\" stroke-opacity=\"1\" stroke-width=\"3\" width=\"280\" x=\"-350.0\" y=\"100.5\"/><text fill=\"black\" font-size=\"15\" id=\"box2_processes_title\" style=\"text-anchor:left; dominant-baseline:mathematical\" x=\"-350.0\" y=\"89.25\">Processes</text><g id=\"box2_processes_text\"><text fill=\"black\" font-size=\"12\" style=\"text-anchor:left; dominant-baseline:mathematical\" x=\"-340.0\" y=\"115.5\"/><text fill=\"black\" font-size=\"12\" style=\"text-anchor:left; dominant-baseline:mathematical\" x=\"-340.0\" y=\"130.5\"/><text fill=\"black\" font-size=\"12\" style=\"text-anchor:left; dominant-baseline:mathematical\" x=\"-340.0\" y=\"145.5\"/></g><g id=\"box2_processes_children\"/></g><g id=\"box2_reactions\"><rect fill=\"darkgrey\" height=\"60.0\" id=\"box2_reactions_rect\" opacity=\"0.5\" stroke=\"white\" stroke-opacity=\"1\" stroke-width=\"3\" width=\"280\" x=\"-350.0\" y=\"195.0\"/><text fill=\"black\" font-size=\"15\" id=\"box2_reactions_title\" style=\"text-anchor:left; dominant-baseline:mathematical\" x=\"-350.0\" y=\"183.75\">Reactions</text><g id=\"box2_reactions_text\"><text fill=\"black\" font-size=\"12\" style=\"text-anchor:left; dominant-baseline:mathematical\" x=\"-340.0\" y=\"210.0\">Reaction1</text><text fill=\"black\" font-size=\"12\" style=\"text-anchor:left; dominant-baseline:mathematical\" x=\"-340.0\" y=\"225.0\">Reaction2</text><text fill=\"black\" font-size=\"12\" style=\"text-anchor:left; dominant-baseline:mathematical\" x=\"-340.0\" y=\"240.0\"/></g><g id=\"box2_reactions_children\"/></g></g></g><line marker-end=\"url(#id4)\" stroke=\"darkblue\" stroke-width=\"4\" x1=\"735.0\" x2=\"664.0\" y1=\"150.0\" y2=\"150.0\"/><line marker-end=\"url(#id5)\" stroke=\"darkblue\" stroke-width=\"4\" x1=\"360.0\" x2=\"-56.0\" y1=\"150.0\" y2=\"150.0\"/><line marker-end=\"url(#id6)\" stroke=\"darkblue\" stroke-width=\"4\" x1=\"-360.0\" x2=\"-431.0\" y1=\"150.0\" y2=\"150.0\"/></g></svg>"
      ],
      "text/plain": [
       "<IPython.core.display.SVG object>"
      ]
     },
     "execution_count": 8,
     "metadata": {},
     "output_type": "execute_result"
    }
   ],
   "source": [
    "SVG('system3.svg')"
   ]
  },
  {
   "cell_type": "code",
   "execution_count": null,
   "metadata": {},
   "outputs": [],
   "source": []
  },
  {
   "cell_type": "code",
   "execution_count": null,
   "metadata": {},
   "outputs": [],
   "source": []
  },
  {
   "cell_type": "code",
   "execution_count": null,
   "metadata": {},
   "outputs": [],
   "source": []
  },
  {
   "cell_type": "code",
   "execution_count": null,
   "metadata": {
    "collapsed": true
   },
   "outputs": [],
   "source": []
  },
  {
   "cell_type": "code",
   "execution_count": null,
   "metadata": {
    "collapsed": true
   },
   "outputs": [],
   "source": []
  }
 ],
 "metadata": {
  "kernelspec": {
   "display_name": "Python 3",
   "language": "python",
   "name": "python3"
  },
  "language_info": {
   "codemirror_mode": {
    "name": "ipython",
    "version": 3
   },
   "file_extension": ".py",
   "mimetype": "text/x-python",
   "name": "python",
   "nbconvert_exporter": "python",
   "pygments_lexer": "ipython3",
   "version": "3.6.1"
  }
 },
 "nbformat": 4,
 "nbformat_minor": 2
}
