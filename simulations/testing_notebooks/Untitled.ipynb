{
 "cells": [
  {
   "cell_type": "code",
   "execution_count": 7,
   "metadata": {
    "collapsed": true
   },
   "outputs": [],
   "source": [
    "from IPython.display import SVG"
   ]
  },
  {
   "cell_type": "code",
   "execution_count": 8,
   "metadata": {
    "collapsed": true
   },
   "outputs": [],
   "source": [
    "try:\n",
    "    import svgwrite\n",
    "except ImportError:\n",
    "    # if svgwrite is not 'installed' append parent dir of __file__ to sys.path\n",
    "    import sys, os\n",
    "    sys.path.insert(0, os.path.abspath(os.path.split(os.path.abspath(__file__))[0]+'/..'))\n",
    "\n",
    "import svgwrite\n",
    "from svgwrite import cm, mm   \n",
    "    \n",
    "def basic_shapes(name):\n",
    "    dwg = svgwrite.Drawing(filename=name, debug=True, size=(1000, 1000))\n",
    "    hlines = dwg.add(dwg.g(id='hlines', stroke='green'))\n",
    "    for y in range(20):\n",
    "        hlines.add(dwg.line(start=(2*cm, (2+y)*cm), end=(18*cm, (2+y)*cm)))\n",
    "    vlines = dwg.add(dwg.g(id='vline', stroke='blue'))\n",
    "    for x in range(17):\n",
    "        vlines.add(dwg.line(start=((2+x)*cm, 2*cm), end=((2+x)*cm, 21*cm)))\n",
    "    shapes = dwg.add(dwg.g(id='shapes', fill='red'))\n",
    "\n",
    "    # set presentation attributes at object creation as SVG-Attributes\n",
    "    shapes.add(dwg.circle(center=(15*cm, 8*cm), r='2.5cm', stroke='blue',\n",
    "                          stroke_width=3))\n",
    "\n",
    "    # override the 'fill' attribute of the parent group 'shapes'\n",
    "    shapes.add(dwg.rect(insert=(5*cm, 5*cm), size=(45*mm, 45*mm),\n",
    "                        fill='blue', stroke='red', stroke_width=3))\n",
    "\n",
    "    # or set presentation attributes by helper functions of the Presentation-Mixin\n",
    "    ellipse = shapes.add(dwg.ellipse(center=(10*cm, 15*cm), r=('5cm', '10mm')))\n",
    "    ellipse.fill('green', opacity=0.5).stroke('black', width=5).dasharray([20, 20])\n",
    "    dwg.save()\n",
    "\n",
    "basic_shapes('basic_shapes.svg')"
   ]
  },
  {
   "cell_type": "code",
   "execution_count": 9,
   "metadata": {},
   "outputs": [
    {
     "data": {
      "image/svg+xml": [
       "<svg baseProfile=\"full\" height=\"1000\" version=\"1.1\" width=\"1000\" xmlns=\"http://www.w3.org/2000/svg\" xmlns:ev=\"http://www.w3.org/2001/xml-events\" xmlns:xlink=\"http://www.w3.org/1999/xlink\"><defs/><g id=\"hlines\" stroke=\"green\"><line x1=\"2cm\" x2=\"18cm\" y1=\"2cm\" y2=\"2cm\"/><line x1=\"2cm\" x2=\"18cm\" y1=\"3cm\" y2=\"3cm\"/><line x1=\"2cm\" x2=\"18cm\" y1=\"4cm\" y2=\"4cm\"/><line x1=\"2cm\" x2=\"18cm\" y1=\"5cm\" y2=\"5cm\"/><line x1=\"2cm\" x2=\"18cm\" y1=\"6cm\" y2=\"6cm\"/><line x1=\"2cm\" x2=\"18cm\" y1=\"7cm\" y2=\"7cm\"/><line x1=\"2cm\" x2=\"18cm\" y1=\"8cm\" y2=\"8cm\"/><line x1=\"2cm\" x2=\"18cm\" y1=\"9cm\" y2=\"9cm\"/><line x1=\"2cm\" x2=\"18cm\" y1=\"10cm\" y2=\"10cm\"/><line x1=\"2cm\" x2=\"18cm\" y1=\"11cm\" y2=\"11cm\"/><line x1=\"2cm\" x2=\"18cm\" y1=\"12cm\" y2=\"12cm\"/><line x1=\"2cm\" x2=\"18cm\" y1=\"13cm\" y2=\"13cm\"/><line x1=\"2cm\" x2=\"18cm\" y1=\"14cm\" y2=\"14cm\"/><line x1=\"2cm\" x2=\"18cm\" y1=\"15cm\" y2=\"15cm\"/><line x1=\"2cm\" x2=\"18cm\" y1=\"16cm\" y2=\"16cm\"/><line x1=\"2cm\" x2=\"18cm\" y1=\"17cm\" y2=\"17cm\"/><line x1=\"2cm\" x2=\"18cm\" y1=\"18cm\" y2=\"18cm\"/><line x1=\"2cm\" x2=\"18cm\" y1=\"19cm\" y2=\"19cm\"/><line x1=\"2cm\" x2=\"18cm\" y1=\"20cm\" y2=\"20cm\"/><line x1=\"2cm\" x2=\"18cm\" y1=\"21cm\" y2=\"21cm\"/></g><g id=\"vline\" stroke=\"blue\"><line x1=\"2cm\" x2=\"2cm\" y1=\"2cm\" y2=\"21cm\"/><line x1=\"3cm\" x2=\"3cm\" y1=\"2cm\" y2=\"21cm\"/><line x1=\"4cm\" x2=\"4cm\" y1=\"2cm\" y2=\"21cm\"/><line x1=\"5cm\" x2=\"5cm\" y1=\"2cm\" y2=\"21cm\"/><line x1=\"6cm\" x2=\"6cm\" y1=\"2cm\" y2=\"21cm\"/><line x1=\"7cm\" x2=\"7cm\" y1=\"2cm\" y2=\"21cm\"/><line x1=\"8cm\" x2=\"8cm\" y1=\"2cm\" y2=\"21cm\"/><line x1=\"9cm\" x2=\"9cm\" y1=\"2cm\" y2=\"21cm\"/><line x1=\"10cm\" x2=\"10cm\" y1=\"2cm\" y2=\"21cm\"/><line x1=\"11cm\" x2=\"11cm\" y1=\"2cm\" y2=\"21cm\"/><line x1=\"12cm\" x2=\"12cm\" y1=\"2cm\" y2=\"21cm\"/><line x1=\"13cm\" x2=\"13cm\" y1=\"2cm\" y2=\"21cm\"/><line x1=\"14cm\" x2=\"14cm\" y1=\"2cm\" y2=\"21cm\"/><line x1=\"15cm\" x2=\"15cm\" y1=\"2cm\" y2=\"21cm\"/><line x1=\"16cm\" x2=\"16cm\" y1=\"2cm\" y2=\"21cm\"/><line x1=\"17cm\" x2=\"17cm\" y1=\"2cm\" y2=\"21cm\"/><line x1=\"18cm\" x2=\"18cm\" y1=\"2cm\" y2=\"21cm\"/></g><g fill=\"red\" id=\"shapes\"><circle cx=\"15cm\" cy=\"8cm\" r=\"2.5cm\" stroke=\"blue\" stroke-width=\"3\"/><rect fill=\"blue\" height=\"45mm\" stroke=\"red\" stroke-width=\"3\" width=\"45mm\" x=\"5cm\" y=\"5cm\"/><ellipse cx=\"10cm\" cy=\"15cm\" fill=\"green\" fill-opacity=\"0.5\" rx=\"5cm\" ry=\"10mm\" stroke=\"black\" stroke-dasharray=\"20 20\" stroke-width=\"5\"/></g></svg>"
      ],
      "text/plain": [
       "<IPython.core.display.SVG object>"
      ]
     },
     "execution_count": 9,
     "metadata": {},
     "output_type": "execute_result"
    }
   ],
   "source": [
    "SVG('basic_shapes.svg')\n"
   ]
  },
  {
   "cell_type": "code",
   "execution_count": 5,
   "metadata": {
    "collapsed": true
   },
   "outputs": [],
   "source": [
    "class Rate:\n",
    "    def __init__(self, rate, units):\n",
    "        self.rate = rate\n",
    "        self.dimensionality_verified = False\n",
    "        self.call = self.dynamic_call\n",
    "        if not callable(rate):\n",
    "            # bs_dim_val.raise_if_not(rate, units)\n",
    "            print('test dim')\n",
    "            self.dimensionality_verified = True\n",
    "            self.call = self.static_call\n",
    "            \n",
    "    def static_call(self, *args):\n",
    "        return self.rate\n",
    "    \n",
    "    def dynamic_call(self, *args):\n",
    "        rate = self.rate(*args)\n",
    "        if not self.dimensionality_verified:\n",
    "            print('test_dim')\n",
    "            self.dimensionality_verified = True\n",
    "        return rate\n",
    "    \n",
    "    def __call__(self, *args):\n",
    "        return self.call(*args)\n"
   ]
  },
  {
   "cell_type": "code",
   "execution_count": 6,
   "metadata": {},
   "outputs": [],
   "source": [
    "r1 = Rate(lambda x: 2*x, 3)"
   ]
  },
  {
   "cell_type": "code",
   "execution_count": 8,
   "metadata": {},
   "outputs": [
    {
     "name": "stdout",
     "output_type": "stream",
     "text": [
      "test_dim\n"
     ]
    },
    {
     "data": {
      "text/plain": [
       "6"
      ]
     },
     "execution_count": 8,
     "metadata": {},
     "output_type": "execute_result"
    }
   ],
   "source": [
    "r1(3)"
   ]
  },
  {
   "cell_type": "code",
   "execution_count": 10,
   "metadata": {
    "collapsed": true
   },
   "outputs": [],
   "source": [
    "import pint\n",
    "ur = pint.UnitRegistry()"
   ]
  },
  {
   "cell_type": "code",
   "execution_count": 11,
   "metadata": {},
   "outputs": [
    {
     "data": {
      "text/html": [
       "3 meter"
      ],
      "text/latex": [
       "$3\\ \\mathrm{meter}$"
      ],
      "text/plain": [
       "<Quantity(3, 'meter')>"
      ]
     },
     "execution_count": 11,
     "metadata": {},
     "output_type": "execute_result"
    }
   ],
   "source": [
    "isinstance(3 * ur.meter, pint.quantity"
   ]
  },
  {
   "cell_type": "code",
   "execution_count": 13,
   "metadata": {},
   "outputs": [
    {
     "data": {
      "text/plain": [
       "pint.quantity.build_quantity_class.<locals>.Quantity"
      ]
     },
     "execution_count": 13,
     "metadata": {},
     "output_type": "execute_result"
    }
   ],
   "source": [
    "type(3 * ur.meter)"
   ]
  },
  {
   "cell_type": "code",
   "execution_count": 15,
   "metadata": {},
   "outputs": [
    {
     "data": {
      "text/plain": [
       "True"
      ]
     },
     "execution_count": 15,
     "metadata": {},
     "output_type": "execute_result"
    }
   ],
   "source": [
    "isinstance(3*ur.meter, pint.quantity._Quantity)"
   ]
  },
  {
   "cell_type": "code",
   "execution_count": null,
   "metadata": {
    "collapsed": true
   },
   "outputs": [],
   "source": []
  }
 ],
 "metadata": {
  "kernelspec": {
   "display_name": "Python 3",
   "language": "python",
   "name": "python3"
  },
  "language_info": {
   "codemirror_mode": {
    "name": "ipython",
    "version": 3
   },
   "file_extension": ".py",
   "mimetype": "text/x-python",
   "name": "python",
   "nbconvert_exporter": "python",
   "pygments_lexer": "ipython3",
   "version": "3.6.1"
  }
 },
 "nbformat": 4,
 "nbformat_minor": 2
}
