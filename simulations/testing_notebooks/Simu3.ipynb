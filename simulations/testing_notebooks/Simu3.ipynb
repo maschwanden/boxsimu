{
 "cells": [
  {
   "cell_type": "code",
   "execution_count": 1,
   "metadata": {},
   "outputs": [
    {
     "name": "stdout",
     "output_type": "stream",
     "text": [
      "The autoreload extension is already loaded. To reload it, use:\n",
      "  %reload_ext autoreload\n"
     ]
    }
   ],
   "source": [
    "%load_ext autoreload\n",
    "%autoreload 2\n",
    "%matplotlib inline"
   ]
  },
  {
   "cell_type": "code",
   "execution_count": 5,
   "metadata": {},
   "outputs": [],
   "source": [
    "import pyximport; pyximport.install()\n",
    "import sys\n",
    "from IPython.display import SVG\n",
    "\n",
    "BOXSIMU_PATH = '/home/aschi/Documents/MyPrivateRepo/boxsimu_project/'\n",
    "if not BOXSIMU_PATH in sys.path:\n",
    "    sys.path.append(BOXSIMU_PATH)\n",
    "    \n",
    "import boxsimu\n",
    "from boxsimu import ur"
   ]
  },
  {
   "cell_type": "code",
   "execution_count": 6,
   "metadata": {
    "scrolled": true
   },
   "outputs": [
    {
     "name": "stdout",
     "output_type": "stream",
     "text": [
      "A :\n",
      "id(box.variables[var_name]):  139648333538696\n",
      "id(self.variables[var_name]):  139648470832912\n",
      "A :\n",
      "id(box.variables[var_name]):  139648333538024\n",
      "id(self.variables[var_name]):  139648470832912\n",
      "B :\n",
      "id(box.variables[var_name]):  139648333538136\n",
      "id(self.variables[var_name]):  139648470831568\n",
      "B :\n",
      "id(box.variables[var_name]):  139648336621016\n",
      "id(self.variables[var_name]):  139648470831568\n",
      "C :\n",
      "id(box.variables[var_name]):  139648333127464\n",
      "id(self.variables[var_name]):  139648333124608\n",
      "C :\n",
      "id(box.variables[var_name]):  139648333140824\n",
      "id(self.variables[var_name]):  139648333124608\n",
      "D :\n",
      "id(box.variables[var_name]):  139648333141776\n",
      "id(self.variables[var_name]):  139648333124664\n",
      "D :\n",
      "id(box.variables[var_name]):  139648333142784\n",
      "id(self.variables[var_name]):  139648333124664\n"
     ]
    }
   ],
   "source": [
    "# -*- coding: utf-8 -*-\n",
    "\n",
    "import sys\n",
    "import copy\n",
    "import numpy as np\n",
    "import datetime\n",
    "\n",
    "from matplotlib import pyplot as plt\n",
    "\n",
    "BOXSIMU_PATH = '/home/aschi/Documents/MyPrivateRepo/boxsimu_project/'\n",
    "if not BOXSIMU_PATH in sys.path:\n",
    "    sys.path.append(BOXSIMU_PATH)\n",
    "\n",
    "from boxsimu.simulations import boxmodelsystem3\n",
    "from boxsimu import ur\n",
    "\n",
    "system = boxmodelsystem3.get_system()"
   ]
  },
  {
   "cell_type": "code",
   "execution_count": 20,
   "metadata": {},
   "outputs": [
    {
     "data": {
      "text/html": [
       "<div>\n",
       "<style>\n",
       "    .dataframe thead tr:only-child th {\n",
       "        text-align: right;\n",
       "    }\n",
       "\n",
       "    .dataframe thead th {\n",
       "        text-align: left;\n",
       "    }\n",
       "\n",
       "    .dataframe tbody tr th {\n",
       "        vertical-align: top;\n",
       "    }\n",
       "</style>\n",
       "<table border=\"1\" class=\"dataframe\">\n",
       "  <thead>\n",
       "    <tr>\n",
       "      <th>Box</th>\n",
       "      <th colspan=\"10\" halign=\"left\">box1</th>\n",
       "      <th>...</th>\n",
       "      <th colspan=\"10\" halign=\"left\">box2</th>\n",
       "    </tr>\n",
       "    <tr>\n",
       "      <th>Variable</th>\n",
       "      <th colspan=\"8\" halign=\"left\">A</th>\n",
       "      <th colspan=\"2\" halign=\"left\">B</th>\n",
       "      <th>...</th>\n",
       "      <th colspan=\"2\" halign=\"left\">C</th>\n",
       "      <th colspan=\"8\" halign=\"left\">D</th>\n",
       "    </tr>\n",
       "    <tr>\n",
       "      <th>Mechanism</th>\n",
       "      <th>flows</th>\n",
       "      <th>fluxes</th>\n",
       "      <th>processes</th>\n",
       "      <th>reactions</th>\n",
       "      <th>flow_Inflow</th>\n",
       "      <th>flow_Inflow</th>\n",
       "      <th>reaction_Reaction1</th>\n",
       "      <th>reaction_Reaction2</th>\n",
       "      <th>flows</th>\n",
       "      <th>fluxes</th>\n",
       "      <th>...</th>\n",
       "      <th>reaction_Reaction1</th>\n",
       "      <th>reaction_Reaction2</th>\n",
       "      <th>flows</th>\n",
       "      <th>fluxes</th>\n",
       "      <th>processes</th>\n",
       "      <th>reactions</th>\n",
       "      <th>flow_Outflow</th>\n",
       "      <th>flow_Inflow</th>\n",
       "      <th>reaction_Reaction1</th>\n",
       "      <th>reaction_Reaction2</th>\n",
       "    </tr>\n",
       "  </thead>\n",
       "  <tbody>\n",
       "  </tbody>\n",
       "</table>\n",
       "<p>0 rows × 64 columns</p>\n",
       "</div>"
      ],
      "text/plain": [
       "Empty DataFrame\n",
       "Columns: [(box1, A, flows), (box1, A, fluxes), (box1, A, processes), (box1, A, reactions), (box1, A, flow_Inflow), (box1, A, flow_Inflow), (box1, A, reaction_Reaction1), (box1, A, reaction_Reaction2), (box1, B, flows), (box1, B, fluxes), (box1, B, processes), (box1, B, reactions), (box1, B, flow_Inflow), (box1, B, flow_Inflow), (box1, B, reaction_Reaction1), (box1, B, reaction_Reaction2), (box1, C, flows), (box1, C, fluxes), (box1, C, processes), (box1, C, reactions), (box1, C, flow_Inflow), (box1, C, flow_Inflow), (box1, C, reaction_Reaction1), (box1, C, reaction_Reaction2), (box1, D, flows), (box1, D, fluxes), (box1, D, processes), (box1, D, reactions), (box1, D, flow_Inflow), (box1, D, flow_Inflow), (box1, D, reaction_Reaction1), (box1, D, reaction_Reaction2), (box2, A, flows), (box2, A, fluxes), (box2, A, processes), (box2, A, reactions), (box2, A, flow_Outflow), (box2, A, flow_Inflow), (box2, A, reaction_Reaction1), (box2, A, reaction_Reaction2), (box2, B, flows), (box2, B, fluxes), (box2, B, processes), (box2, B, reactions), (box2, B, flow_Outflow), (box2, B, flow_Inflow), (box2, B, reaction_Reaction1), (box2, B, reaction_Reaction2), (box2, C, flows), (box2, C, fluxes), (box2, C, processes), (box2, C, reactions), (box2, C, flow_Outflow), (box2, C, flow_Inflow), (box2, C, reaction_Reaction1), (box2, C, reaction_Reaction2), (box2, D, flows), (box2, D, fluxes), (box2, D, processes), (box2, D, reactions), (box2, D, flow_Outflow), (box2, D, flow_Inflow), (box2, D, reaction_Reaction1), (box2, D, reaction_Reaction2)]\n",
       "Index: []\n",
       "\n",
       "[0 rows x 64 columns]"
      ]
     },
     "execution_count": 20,
     "metadata": {},
     "output_type": "execute_result"
    }
   ],
   "source": [
    "from boxsimu import solution\n",
    "sol = solution.Solution(system, 100, ur.second)\n",
    "sol.df_ts_rates"
   ]
  },
  {
   "cell_type": "code",
   "execution_count": 8,
   "metadata": {},
   "outputs": [
    {
     "name": "stdout",
     "output_type": "stream",
     "text": [
      "corners [(330.0, 0.0), (630.0, 0.0), (630.0, 300.0), (330.0, 300.0)]\n",
      "corners [(330.0, 0.0), (630.0, 0.0), (630.0, 300.0), (330.0, 300.0)]\n",
      "corners [(-330.0, 4.0413344371862656e-14), (-30.0, 4.0413344371862656e-14), (-30.0, 300.00000000000006), (-330.0, 300.00000000000006)]\n",
      "corners [(-330.0, 4.0413344371862656e-14), (-30.0, 4.0413344371862656e-14), (-30.0, 300.00000000000006), (-330.0, 300.00000000000006)]\n"
     ]
    }
   ],
   "source": [
    "system.save_as_svg('test_svg')"
   ]
  },
  {
   "cell_type": "code",
   "execution_count": 15,
   "metadata": {},
   "outputs": [
    {
     "data": {
      "text/html": [
       "1.0 kilogram/second"
      ],
      "text/latex": [
       "$1.0\\ \\frac{\\mathrm{kilogram}}{\\mathrm{second}}$"
      ],
      "text/plain": [
       "<Quantity(1.0, 'kilogram / second')>"
      ]
     },
     "execution_count": 15,
     "metadata": {},
     "output_type": "execute_result"
    }
   ],
   "source": [
    "from boxsimu import dimensionality_validation\n",
    "from boxsimu import ur\n",
    "\n",
    "@dimensionality_validation.decorator_raise_if_not_mass_per_time\n",
    "def random_pint_unit_function(arg1, arg2):\n",
    "    return arg1 * arg2 * ur.meter\n",
    "\n",
    "random_pint_unit_function(1*ur.kg, 1/ur.second/ur.meter)"
   ]
  },
  {
   "cell_type": "code",
   "execution_count": 16,
   "metadata": {},
   "outputs": [
    {
     "data": {
      "text/plain": [
       "True"
      ]
     },
     "execution_count": 16,
     "metadata": {},
     "output_type": "execute_result"
    }
   ],
   "source": [
    "random_pint_unit_function._verified = True\n",
    "random_pint_unit_function._verified"
   ]
  },
  {
   "cell_type": "code",
   "execution_count": 39,
   "metadata": {},
   "outputs": [
    {
     "data": {
      "text/html": [
       "<div>\n",
       "<style>\n",
       "    .dataframe thead tr:only-child th {\n",
       "        text-align: right;\n",
       "    }\n",
       "\n",
       "    .dataframe thead th {\n",
       "        text-align: left;\n",
       "    }\n",
       "\n",
       "    .dataframe tbody tr th {\n",
       "        vertical-align: top;\n",
       "    }\n",
       "</style>\n",
       "<table border=\"1\" class=\"dataframe\">\n",
       "  <thead>\n",
       "    <tr>\n",
       "      <th>first</th>\n",
       "      <th colspan=\"10\" halign=\"left\">box1</th>\n",
       "      <th>...</th>\n",
       "      <th colspan=\"10\" halign=\"left\">boxz</th>\n",
       "    </tr>\n",
       "    <tr>\n",
       "      <th>second</th>\n",
       "      <th colspan=\"3\" halign=\"left\">mass</th>\n",
       "      <th colspan=\"3\" halign=\"left\">volume</th>\n",
       "      <th colspan=\"3\" halign=\"left\">A</th>\n",
       "      <th>B</th>\n",
       "      <th>...</th>\n",
       "      <th>A</th>\n",
       "      <th colspan=\"3\" halign=\"left\">B</th>\n",
       "      <th colspan=\"3\" halign=\"left\">C</th>\n",
       "      <th colspan=\"3\" halign=\"left\">D</th>\n",
       "    </tr>\n",
       "    <tr>\n",
       "      <th>third</th>\n",
       "      <th>proc1</th>\n",
       "      <th>reaction3</th>\n",
       "      <th>flow8</th>\n",
       "      <th>proc1</th>\n",
       "      <th>reaction3</th>\n",
       "      <th>flow8</th>\n",
       "      <th>proc1</th>\n",
       "      <th>reaction3</th>\n",
       "      <th>flow8</th>\n",
       "      <th>proc1</th>\n",
       "      <th>...</th>\n",
       "      <th>flow8</th>\n",
       "      <th>proc1</th>\n",
       "      <th>reaction3</th>\n",
       "      <th>flow8</th>\n",
       "      <th>proc1</th>\n",
       "      <th>reaction3</th>\n",
       "      <th>flow8</th>\n",
       "      <th>proc1</th>\n",
       "      <th>reaction3</th>\n",
       "      <th>flow8</th>\n",
       "    </tr>\n",
       "  </thead>\n",
       "  <tbody>\n",
       "  </tbody>\n",
       "</table>\n",
       "<p>0 rows × 54 columns</p>\n",
       "</div>"
      ],
      "text/plain": [
       "Empty DataFrame\n",
       "Columns: [(box1, mass, proc1), (box1, mass, reaction3), (box1, mass, flow8), (box1, volume, proc1), (box1, volume, reaction3), (box1, volume, flow8), (box1, A, proc1), (box1, A, reaction3), (box1, A, flow8), (box1, B, proc1), (box1, B, reaction3), (box1, B, flow8), (box1, C, proc1), (box1, C, reaction3), (box1, C, flow8), (box1, D, proc1), (box1, D, reaction3), (box1, D, flow8), (box2, mass, proc1), (box2, mass, reaction3), (box2, mass, flow8), (box2, volume, proc1), (box2, volume, reaction3), (box2, volume, flow8), (box2, A, proc1), (box2, A, reaction3), (box2, A, flow8), (box2, B, proc1), (box2, B, reaction3), (box2, B, flow8), (box2, C, proc1), (box2, C, reaction3), (box2, C, flow8), (box2, D, proc1), (box2, D, reaction3), (box2, D, flow8), (boxz, mass, proc1), (boxz, mass, reaction3), (boxz, mass, flow8), (boxz, volume, proc1), (boxz, volume, reaction3), (boxz, volume, flow8), (boxz, A, proc1), (boxz, A, reaction3), (boxz, A, flow8), (boxz, B, proc1), (boxz, B, reaction3), (boxz, B, flow8), (boxz, C, proc1), (boxz, C, reaction3), (boxz, C, flow8), (boxz, D, proc1), (boxz, D, reaction3), (boxz, D, flow8)]\n",
       "Index: []\n",
       "\n",
       "[0 rows x 54 columns]"
      ]
     },
     "execution_count": 39,
     "metadata": {},
     "output_type": "execute_result"
    }
   ],
   "source": [
    "import pandas as pd\n",
    "boxes = ['box1', 'box2', 'boxz']\n",
    "quantities = ['mass', 'volume', 'A', 'B', 'C', 'D']\n",
    "processes = ['proc1', 'reaction3', 'flow8']\n",
    "col_tuples = [(box, quant, proc) \n",
    "              for box in boxes \n",
    "              for quant in quantities \n",
    "              for proc in processes]\n",
    "col_tuples\n",
    "index = pd.MultiIndex.from_tuples(col_tuples, names=['first', 'second', 'third'])\n",
    "df1 = pd.DataFrame(index=index)\n",
    "df1 = df1.T\n",
    "df1"
   ]
  },
  {
   "cell_type": "code",
   "execution_count": 17,
   "metadata": {},
   "outputs": [
    {
     "name": "stdout",
     "output_type": "stream",
     "text": [
      "Start solving the BoxModelSystem...\n",
      "- total integration time: 200.0 month\n",
      "- dt (time step): 0.5 month\n",
      "- number of time steps: 400\n"
     ]
    },
    {
     "ename": "NameError",
     "evalue": "name 'cols' is not defined",
     "output_type": "error",
     "traceback": [
      "\u001b[0;31m---------------------------------------------------------------------------\u001b[0m",
      "\u001b[0;31mNameError\u001b[0m                                 Traceback (most recent call last)",
      "\u001b[0;32m<ipython-input-17-b46b179f6c17>\u001b[0m in \u001b[0;36m<module>\u001b[0;34m()\u001b[0m\n\u001b[0;32m----> 1\u001b[0;31m \u001b[0msystem\u001b[0m\u001b[0;34m.\u001b[0m\u001b[0msolve\u001b[0m\u001b[0;34m(\u001b[0m\u001b[0;36m200\u001b[0m\u001b[0;34m*\u001b[0m\u001b[0mur\u001b[0m\u001b[0;34m.\u001b[0m\u001b[0mmonth\u001b[0m\u001b[0;34m,\u001b[0m \u001b[0;36m0.5\u001b[0m\u001b[0;34m*\u001b[0m\u001b[0mur\u001b[0m\u001b[0;34m.\u001b[0m\u001b[0mmonth\u001b[0m\u001b[0;34m)\u001b[0m\u001b[0;34m\u001b[0m\u001b[0m\n\u001b[0m",
      "\u001b[0;32m~/Documents/MyPrivateRepo/boxsimu_project/boxsimu/system.py\u001b[0m in \u001b[0;36msolve\u001b[0;34m(self, total_integration_time, dt, debug)\u001b[0m\n\u001b[1;32m    873\u001b[0m     \u001b[0;32mdef\u001b[0m \u001b[0msolve\u001b[0m\u001b[0;34m(\u001b[0m\u001b[0mself\u001b[0m\u001b[0;34m,\u001b[0m \u001b[0mtotal_integration_time\u001b[0m\u001b[0;34m,\u001b[0m \u001b[0mdt\u001b[0m\u001b[0;34m,\u001b[0m \u001b[0mdebug\u001b[0m\u001b[0;34m=\u001b[0m\u001b[0;32mFalse\u001b[0m\u001b[0;34m)\u001b[0m\u001b[0;34m:\u001b[0m\u001b[0;34m\u001b[0m\u001b[0m\n\u001b[1;32m    874\u001b[0m         \u001b[0msolver\u001b[0m \u001b[0;34m=\u001b[0m \u001b[0mbs_solver\u001b[0m\u001b[0;34m.\u001b[0m\u001b[0mSolver\u001b[0m\u001b[0;34m(\u001b[0m\u001b[0mself\u001b[0m\u001b[0;34m)\u001b[0m\u001b[0;34m\u001b[0m\u001b[0m\n\u001b[0;32m--> 875\u001b[0;31m         \u001b[0;32mreturn\u001b[0m \u001b[0msolver\u001b[0m\u001b[0;34m.\u001b[0m\u001b[0msolve\u001b[0m\u001b[0;34m(\u001b[0m\u001b[0mtotal_integration_time\u001b[0m\u001b[0;34m,\u001b[0m \u001b[0mdt\u001b[0m\u001b[0;34m,\u001b[0m \u001b[0mdebug\u001b[0m\u001b[0;34m)\u001b[0m\u001b[0;34m\u001b[0m\u001b[0m\n\u001b[0m",
      "\u001b[0;32m~/Documents/MyPrivateRepo/boxsimu_project/boxsimu/solver.py\u001b[0m in \u001b[0;36msolve\u001b[0;34m(self, total_integration_time, dt, debug)\u001b[0m\n\u001b[1;32m     97\u001b[0m \u001b[0;34m\u001b[0m\u001b[0m\n\u001b[1;32m     98\u001b[0m         \u001b[0mtime\u001b[0m \u001b[0;34m=\u001b[0m \u001b[0mtotal_integration_time\u001b[0m \u001b[0;34m*\u001b[0m \u001b[0;36m0\u001b[0m\u001b[0;34m\u001b[0m\u001b[0m\n\u001b[0;32m---> 99\u001b[0;31m         \u001b[0msol\u001b[0m \u001b[0;34m=\u001b[0m \u001b[0mbs_solution\u001b[0m\u001b[0;34m.\u001b[0m\u001b[0mSolution\u001b[0m\u001b[0;34m(\u001b[0m\u001b[0mself\u001b[0m\u001b[0;34m.\u001b[0m\u001b[0msystem\u001b[0m\u001b[0;34m,\u001b[0m \u001b[0mN_timesteps\u001b[0m\u001b[0;34m,\u001b[0m \u001b[0mdt\u001b[0m\u001b[0;34m)\u001b[0m\u001b[0;34m\u001b[0m\u001b[0m\n\u001b[0m\u001b[1;32m    100\u001b[0m \u001b[0;34m\u001b[0m\u001b[0m\n\u001b[1;32m    101\u001b[0m         \u001b[0;31m# Save initial state to solution\u001b[0m\u001b[0;34m\u001b[0m\u001b[0;34m\u001b[0m\u001b[0m\n",
      "\u001b[0;32m~/Documents/MyPrivateRepo/boxsimu_project/boxsimu/solution.py\u001b[0m in \u001b[0;36m__init__\u001b[0;34m(self, system, N_timesteps, dt)\u001b[0m\n\u001b[1;32m    142\u001b[0m         \u001b[0mself\u001b[0m\u001b[0;34m.\u001b[0m\u001b[0mtotal_integration_time\u001b[0m \u001b[0;34m=\u001b[0m \u001b[0mN_timesteps\u001b[0m \u001b[0;34m*\u001b[0m \u001b[0mdt\u001b[0m\u001b[0;34m\u001b[0m\u001b[0m\n\u001b[1;32m    143\u001b[0m \u001b[0;34m\u001b[0m\u001b[0m\n\u001b[0;32m--> 144\u001b[0;31m         \u001b[0mself\u001b[0m\u001b[0;34m.\u001b[0m\u001b[0msetup_solution_dataframe\u001b[0m\u001b[0;34m(\u001b[0m\u001b[0;34m)\u001b[0m\u001b[0;34m\u001b[0m\u001b[0m\n\u001b[0m\u001b[1;32m    145\u001b[0m \u001b[0;34m\u001b[0m\u001b[0m\n\u001b[1;32m    146\u001b[0m         \u001b[0mself\u001b[0m\u001b[0;34m.\u001b[0m\u001b[0mts\u001b[0m \u001b[0;34m=\u001b[0m \u001b[0mAttrDict\u001b[0m\u001b[0;34m(\u001b[0m\u001b[0;34m)\u001b[0m\u001b[0;34m\u001b[0m\u001b[0m\n",
      "\u001b[0;32m~/Documents/MyPrivateRepo/boxsimu_project/boxsimu/solution.py\u001b[0m in \u001b[0;36msetup_solution_dataframe\u001b[0;34m(self)\u001b[0m\n\u001b[1;32m    176\u001b[0m             \u001b[0msolution_quantities\u001b[0m\u001b[0;34m.\u001b[0m\u001b[0mappend\u001b[0m\u001b[0;34m(\u001b[0m\u001b[0;34m'd_{}_reaction'\u001b[0m\u001b[0;34m.\u001b[0m\u001b[0mformat\u001b[0m\u001b[0;34m(\u001b[0m\u001b[0mvariable_name\u001b[0m\u001b[0;34m)\u001b[0m\u001b[0;34m)\u001b[0m\u001b[0;34m\u001b[0m\u001b[0m\n\u001b[1;32m    177\u001b[0m         \u001b[0mcolumns\u001b[0m \u001b[0;34m=\u001b[0m \u001b[0;32mNone\u001b[0m\u001b[0;34m\u001b[0m\u001b[0m\n\u001b[0;32m--> 178\u001b[0;31m         \u001b[0mdf\u001b[0m \u001b[0;34m=\u001b[0m \u001b[0mpd\u001b[0m\u001b[0;34m.\u001b[0m\u001b[0mDataFrame\u001b[0m\u001b[0;34m(\u001b[0m\u001b[0mindex\u001b[0m\u001b[0;34m=\u001b[0m\u001b[0;32mNone\u001b[0m\u001b[0;34m,\u001b[0m \u001b[0mcolumns\u001b[0m\u001b[0;34m=\u001b[0m\u001b[0mcols\u001b[0m\u001b[0;34m)\u001b[0m\u001b[0;34m\u001b[0m\u001b[0m\n\u001b[0m\u001b[1;32m    179\u001b[0m         \u001b[0mdf\u001b[0m\u001b[0;34m.\u001b[0m\u001b[0mcolumns\u001b[0m \u001b[0;34m=\u001b[0m \u001b[0mpd\u001b[0m\u001b[0;34m.\u001b[0m\u001b[0mMultiIndex\u001b[0m\u001b[0;34m.\u001b[0m\u001b[0mfrom_tuples\u001b[0m\u001b[0;34m(\u001b[0m\u001b[0mdf\u001b[0m\u001b[0;34m.\u001b[0m\u001b[0mcolumns\u001b[0m\u001b[0;34m)\u001b[0m\u001b[0;34m\u001b[0m\u001b[0m\n\u001b[1;32m    180\u001b[0m \u001b[0;34m\u001b[0m\u001b[0m\n",
      "\u001b[0;31mNameError\u001b[0m: name 'cols' is not defined"
     ]
    }
   ],
   "source": [
    "system.solve(200*ur.month, 0.5*ur.month)"
   ]
  },
  {
   "cell_type": "code",
   "execution_count": 9,
   "metadata": {},
   "outputs": [
    {
     "name": "stdout",
     "output_type": "stream",
     "text": [
      "Start solving the box model...\n",
      "- total integration time: 200 month\n",
      "- dt (time step): 0.5 month\n",
      "10.0%\n",
      "20.0%\n",
      "30.0%\n",
      "40.0%\n",
      "50.0%\n",
      "60.0%\n",
      "70.0%\n",
      "80.0%\n",
      "90.0%\n",
      "Function \"solve(...)\" used 19.288s\n"
     ]
    }
   ],
   "source": [
    "import cProfile\n",
    "import re\n",
    "cProfile.run('system.solve(200*ur.month, 0.5*ur.month)', 'restats')"
   ]
  },
  {
   "cell_type": "code",
   "execution_count": 10,
   "metadata": {
    "collapsed": true
   },
   "outputs": [],
   "source": [
    "import pstats\n",
    "p = pstats.Stats('restats')"
   ]
  },
  {
   "cell_type": "code",
   "execution_count": 11,
   "metadata": {},
   "outputs": [
    {
     "name": "stdout",
     "output_type": "stream",
     "text": [
      "Fri Sep 22 12:33:18 2017    restats\n",
      "\n",
      "         24163316 function calls (24030395 primitive calls) in 19.297 seconds\n",
      "\n",
      "   Ordered by: standard name\n",
      "\n",
      "   ncalls  tottime  percall  cumtime  percall filename:lineno(function)\n",
      "        1    0.001    0.001   19.297   19.297 <string>:1(<module>)\n",
      "   440102    0.385    0.000    0.654    0.000 __init__.py:82(_to_magnitude)\n",
      "   233832    0.152    0.000    0.203    0.000 _collections_abc.py:672(keys)\n",
      "   244810    0.149    0.000    0.199    0.000 _collections_abc.py:676(items)\n",
      "   478642    0.101    0.000    0.101    0.000 _collections_abc.py:698(__init__)\n",
      "        4    0.000    0.000    0.000    0.000 _collections_abc.py:701(__len__)\n",
      "   549673    0.225    0.000    0.367    0.000 _collections_abc.py:719(__iter__)\n",
      "   462026    0.319    0.000    0.533    0.000 _collections_abc.py:742(__iter__)\n",
      "     3200    0.002    0.000    0.026    0.000 _methods.py:31(_sum)\n",
      "     2400    0.002    0.000    0.023    0.000 _methods.py:37(_any)\n",
      "  1348632    0.559    0.000    0.559    0.000 _weakrefset.py:70(__contains__)\n",
      "   847267    0.795    0.000    1.354    0.000 abc.py:178(__instancecheck__)\n",
      "        2    0.000    0.000    0.000    0.000 box.py:141(get_volume)\n",
      "     2400    0.011    0.000    0.190    0.000 boxmodelsystem3.py:54(<lambda>)\n",
      "     3200    0.033    0.000    0.717    0.000 boxmodelsystem3.py:63(<lambda>)\n",
      "     3200    0.037    0.000    0.800    0.000 boxmodelsystem3.py:66(rr2)\n",
      "    27200    0.017    0.000    0.028    0.000 chainmap.py:95(__bool__)\n",
      "    32002    0.038    0.000    0.586    0.000 condition.py:37(set_superset_condition)\n",
      "   2211/3    0.003    0.000    0.010    0.003 copy.py:132(deepcopy)\n",
      "     1515    0.000    0.000    0.000    0.000 copy.py:190(_deepcopy_atomic)\n",
      "    45/18    0.000    0.000    0.008    0.000 copy.py:210(_deepcopy_list)\n",
      "       30    0.000    0.000    0.004    0.000 copy.py:219(_deepcopy_tuple)\n",
      "       30    0.000    0.000    0.004    0.000 copy.py:220(<listcomp>)\n",
      "    177/3    0.001    0.000    0.010    0.003 copy.py:236(_deepcopy_dict)\n",
      "      558    0.000    0.000    0.000    0.000 copy.py:252(_keep_alive)\n",
      "    213/3    0.001    0.000    0.010    0.003 copy.py:268(_reconstruct)\n",
      "      426    0.000    0.000    0.001    0.000 copy.py:273(<genexpr>)\n",
      "      213    0.000    0.000    0.000    0.000 copyreg.py:87(__newobj__)\n",
      "   423441    0.120    0.000    0.120    0.000 definitions.py:35(is_multiplicative)\n",
      "   272424    0.107    0.000    0.196    0.000 descriptors.py:24(__get__)\n",
      "     4000    0.010    0.000    0.166    0.000 descriptors.py:27(__set__)\n",
      "     4000    0.005    0.000    0.171    0.000 descriptors.py:45(__set__)\n",
      "   267246    0.093    0.000    0.161    0.000 descriptors.py:56(__get__)\n",
      "        3    0.000    0.000    0.000    0.000 dictionary.py:16(__init__)\n",
      "       30    0.000    0.000    0.000    0.000 dictionary.py:28(__getstate__)\n",
      "       30    0.000    0.000    0.000    0.000 dictionary.py:38(__setstate__)\n",
      "     4000    0.010    0.000    0.231    0.000 dimensionality_validation.py:110(raise_if_not_mass)\n",
      "        2    0.000    0.000    0.000    0.000 dimensionality_validation.py:115(raise_if_not_density)\n",
      "        4    0.000    0.000    0.000    0.000 dimensionality_validation.py:125(raise_if_not_time)\n",
      "     8000    0.043    0.000    0.545    0.000 dimensionality_validation.py:135(raise_if_not_mass_per_time)\n",
      "    11200    0.033    0.000    0.368    0.000 dimensionality_validation.py:145(raise_if_not_dimless)\n",
      "    27200    0.059    0.000    0.124    0.000 dimensionality_validation.py:152(get_single_shared_unit)\n",
      "     6400    0.020    0.000    2.158    0.000 dimensionality_validation.py:181(wrapper)\n",
      "    33606    0.064    0.000    0.398    0.000 dimensionality_validation.py:23(is_quantity_of_dimensionality)\n",
      "    27206    0.049    0.000    0.641    0.000 dimensionality_validation.py:91(raise_if_not)\n",
      "    27206    0.026    0.000    0.266    0.000 dimensionality_validation.py:99(<listcomp>)\n",
      "        2    0.000    0.000    0.000    0.000 entities.py:123(get_rho)\n",
      "        2    0.000    0.000    0.000    0.000 entities.py:135(get_volume)\n",
      "     9600    0.010    0.000    0.202    0.000 entities.py:163(is_mobile)\n",
      "    21218    0.014    0.000    0.030    0.000 entities.py:44(__hash__)\n",
      "    68000    0.105    0.000    0.402    0.000 entities.py:47(__eq__)\n",
      "        2    0.000    0.000    0.000    0.000 formatting.py:104(formatter)\n",
      "        2    0.000    0.000    0.000    0.000 formatting.py:191(_parse_spec)\n",
      "        2    0.000    0.000    0.000    0.000 formatting.py:208(format_unit)\n",
      "        2    0.000    0.000    0.000    0.000 formatting.py:22(_join)\n",
      "        2    0.000    0.000    0.000    0.000 formatting.py:270(remove_custom_flags)\n",
      "     2400    0.009    0.000    0.040    0.000 fromnumeric.py:1886(any)\n",
      "       30    0.001    0.000    0.001    0.000 iostream.py:180(schedule)\n",
      "       26    0.000    0.000    0.000    0.000 iostream.py:284(_is_master_process)\n",
      "       26    0.000    0.000    0.000    0.000 iostream.py:297(_schedule_flush)\n",
      "       26    0.000    0.000    0.002    0.000 iostream.py:342(write)\n",
      "       30    0.000    0.000    0.000    0.000 iostream.py:87(_event_pipe)\n",
      "    46507    0.032    0.000    0.301    0.000 mixins.py:114(_build)\n",
      "   180920    0.206    0.000    0.721    0.000 mixins.py:137(_valid_name)\n",
      "       66    0.000    0.000    0.000    0.000 mixins.py:162(_setattr)\n",
      "   134413    0.076    0.000    0.539    0.000 mixins.py:169(__setattr__)\n",
      "    46540    0.098    0.000    0.658    0.000 mixins.py:75(__getattr__)\n",
      "     3200    0.018    0.000    0.026    0.000 numeric.py:1489(normalize_axis_tuple)\n",
      "     4400    0.007    0.000    0.042    0.000 numeric.py:150(ones)\n",
      "     6400    0.003    0.000    0.006    0.000 numeric.py:1536(<genexpr>)\n",
      "     1600    0.025    0.000    0.062    0.000 numeric.py:1545(moveaxis)\n",
      "     1600    0.002    0.000    0.002    0.000 numeric.py:1607(<listcomp>)\n",
      "     8800    0.004    0.000    0.010    0.000 numeric.py:534(asanyarray)\n",
      "     6400    0.126    0.000    3.549    0.001 process.py:147(__call__)\n",
      "     3200    0.005    0.000    0.011    0.000 process.py:27(__eq__)\n",
      "    32800    0.074    0.000    0.165    0.000 quantity.py:1037(__eq__)\n",
      "     8800    0.016    0.000    0.036    0.000 quantity.py:1062(compare)\n",
      "     3200    0.004    0.000    0.016    0.000 quantity.py:1077(<lambda>)\n",
      "     5600    0.006    0.000    0.029    0.000 quantity.py:1080(<lambda>)\n",
      "    10000    0.016    0.000    0.046    0.000 quantity.py:1195(T)\n",
      "     3200    0.011    0.000    0.051    0.000 quantity.py:1227(__numpy_method_wrap)\n",
      "     6400    0.016    0.000    0.022    0.000 quantity.py:1250(__iter__)\n",
      "    32000    0.041    0.000    0.117    0.000 quantity.py:1253(<genexpr>)\n",
      "     3200    0.018    0.000    0.021    0.000 quantity.py:1255(__getattr__)\n",
      "     8800    0.015    0.000    0.044    0.000 quantity.py:1279(__getitem__)\n",
      "      400    0.003    0.000    0.003    0.000 quantity.py:1287(__setitem__)\n",
      "       93    0.000    0.000    0.004    0.000 quantity.py:133(__deepcopy__)\n",
      "        2    0.000    0.000    0.000    0.000 quantity.py:145(__format__)\n",
      "   232632    0.362    0.000    1.421    0.000 quantity.py:1476(_get_non_multiplicative_units)\n",
      "   232632    0.399    0.000    0.857    0.000 quantity.py:1479(<listcomp>)\n",
      "     1200    0.002    0.000    0.006    0.000 quantity.py:1483(_get_delta_units)\n",
      "     1200    0.002    0.000    0.003    0.000 quantity.py:1486(<listcomp>)\n",
      "   175616    0.055    0.000    0.055    0.000 quantity.py:1502(_ok_for_muldiv)\n",
      "    93604    0.023    0.000    0.023    0.000 quantity.py:220(magnitude)\n",
      "    36802    0.039    0.000    0.093    0.000 quantity.py:240(units)\n",
      "        1    0.000    0.000    0.000    0.000 quantity.py:262(dimensionless)\n",
      "   156223    0.124    0.000    1.058    0.000 quantity.py:272(dimensionality)\n",
      "    70013    0.073    0.000    2.495    0.000 quantity.py:295(_convert_magnitude_not_inplace)\n",
      "     1200    0.004    0.000    0.115    0.000 quantity.py:324(to)\n",
      "    65600    0.024    0.000    0.036    0.000 quantity.py:33(_eq)\n",
      "        1    0.000    0.000    0.000    0.000 quantity.py:347(to_root_units)\n",
      "    68811    0.162    0.000    3.109    0.000 quantity.py:367(to_base_units)\n",
      "        1    0.000    0.000    0.000    0.000 quantity.py:448(__float__)\n",
      "   136406    0.197    0.000    6.262    0.000 quantity.py:49(wrapped)\n",
      "    28508    0.184    0.000    1.570    0.000 quantity.py:556(_add_sub)\n",
      "     4400    0.008    0.000    0.331    0.000 quantity.py:657(__iadd__)\n",
      "    17600    0.028    0.000    0.926    0.000 quantity.py:665(__add__)\n",
      "     6508    0.007    0.000    0.362    0.000 quantity.py:679(__sub__)\n",
      "   136406    0.826    0.000    6.065    0.000 quantity.py:746(_mul_div)\n",
      "   109196    0.123    0.000    5.154    0.000 quantity.py:813(__mul__)\n",
      "    27210    0.032    0.000    1.262    0.000 quantity.py:824(__truediv__)\n",
      "   342906    0.553    0.000    1.195    0.000 quantity.py:85(__new__)\n",
      "   180920    0.118    0.000    0.376    0.000 re.py:169(match)\n",
      "   180920    0.110    0.000    0.110    0.000 re.py:286(_compile)\n",
      "    27200    0.073    0.000    2.052    0.000 registry.py:1182(_convert)\n",
      "    68811    0.167    0.000    0.319    0.000 registry.py:1374(_get_base_units)\n",
      "    98295    0.110    0.000    1.072    0.000 registry.py:200(__getattr__)\n",
      "   161721    0.399    0.000    1.583    0.000 registry.py:522(_get_dimensionality)\n",
      "    27201    0.071    0.000    0.142    0.000 registry.py:580(_get_root_units)\n",
      "    70013    0.116    0.000    2.422    0.000 registry.py:668(convert)\n",
      "    27200    0.175    0.000    1.408    0.000 registry.py:688(_convert)\n",
      "    98295    0.117    0.000    0.431    0.000 registry.py:754(parse_units)\n",
      "    98295    0.053    0.000    0.053    0.000 registry.py:770(_parse_units)\n",
      "    98295    0.133    0.000    0.185    0.000 registry.py:871(_parse_units)\n",
      "   108800    0.086    0.000    0.114    0.000 registry.py:899(_is_multiplicative)\n",
      "    27200    0.116    0.000    1.950    0.000 registry.py:913(_convert)\n",
      "    27200    0.062    0.000    0.247    0.000 registry.py:931(<listcomp>)\n",
      "    27200    0.034    0.000    0.136    0.000 registry.py:933(<listcomp>)\n",
      "     1600    0.013    0.000    0.046    0.000 shape_base.py:296(stack)\n",
      "     1600    0.003    0.000    0.008    0.000 shape_base.py:348(<listcomp>)\n",
      "     8000    0.002    0.000    0.002    0.000 shape_base.py:352(<genexpr>)\n",
      "     1600    0.003    0.000    0.003    0.000 shape_base.py:360(<listcomp>)\n",
      "        1    0.000    0.000    0.003    0.003 solution.py:49(__init__)\n",
      "      400    0.011    0.000    0.788    0.002 solver.py:131(_calculate_mass_flows)\n",
      "      400    0.019    0.000   17.912    0.045 solver.py:189(_calculate_changes_of_all_variables)\n",
      "      400    0.003    0.000    0.423    0.001 solver.py:208(<listcomp>)\n",
      "      400    0.006    0.000   16.981    0.042 solver.py:212(<listcomp>)\n",
      "     1600    0.053    0.000    6.311    0.004 solver.py:243(_get_sink_source_flow)\n",
      "     1600    0.050    0.000    2.154    0.001 solver.py:262(_get_sink_source_flux)\n",
      "     1600    0.025    0.000    1.788    0.001 solver.py:282(_get_sink_source_process)\n",
      "     1600    0.072    0.000    5.994    0.004 solver.py:294(_get_sink_source_reaction)\n",
      "     1600    0.033    0.000   16.976    0.011 solver.py:326(_get_dvar)\n",
      "        1    0.000    0.000    0.004    0.004 solver.py:38(__init__)\n",
      "        1    0.041    0.041   19.292   19.292 solver.py:42(solve)\n",
      "    48394    0.039    0.000    0.086    0.000 system.py:187(box_list)\n",
      "    48394    0.047    0.000    0.047    0.000 system.py:189(<listcomp>)\n",
      "     8003    0.009    0.000    0.022    0.000 system.py:191(variable_list)\n",
      "     8003    0.013    0.000    0.013    0.000 system.py:193(<listcomp>)\n",
      "    48000    0.022    0.000    0.032    0.000 system.py:196(N_boxes)\n",
      "     5200    0.006    0.000    0.007    0.000 system.py:200(N_variables)\n",
      "    44793    0.078    0.000    0.188    0.000 system.py:204(pint_ur)\n",
      "    32002    0.157    0.000    1.471    0.000 system.py:215(get_specific_context)\n",
      "     4800    0.034    0.000    0.732    0.000 system.py:247(get_variable_mobility_bool_1Darray)\n",
      "     4800    0.033    0.000    0.781    0.000 system.py:255(get_variable_mobility_numeric_1Darray)\n",
      "        2    0.000    0.000    0.001    0.000 system.py:268(get_box_volume)\n",
      "      400    0.008    0.000    0.106    0.000 system.py:277(get_fluid_mass_1Darray)\n",
      "     1600    0.031    0.000    0.420    0.000 system.py:292(get_variable_mass_1Darray)\n",
      "     4800    0.143    0.000    1.425    0.000 system.py:313(get_variable_concentration_1Darray)\n",
      "     4800    0.020    0.000    2.405    0.001 system.py:338(get_variable_flow_concentration_1Darray)\n",
      "      400    0.009    0.000    0.144    0.000 system.py:362(get_fluid_mass_internal_flow_2Darray)\n",
      "     3600    0.073    0.000    1.256    0.000 system.py:396(get_fluid_mass_flow_sink_1Darray)\n",
      "      400    0.008    0.000    0.139    0.000 system.py:427(get_fluid_mass_flow_source_1Darray)\n",
      "     1600    0.048    0.000    1.649    0.001 system.py:465(get_variable_internal_flow_2Darray)\n",
      "     1600    0.002    0.000    0.002    0.000 system.py:489(<listcomp>)\n",
      "     3200    0.026    0.000    3.017    0.001 system.py:516(get_variable_flow_sink_1Darray)\n",
      "     3200    0.002    0.000    0.002    0.000 system.py:542(<listcomp>)\n",
      "     1600    0.028    0.000    0.377    0.000 system.py:551(get_variable_flow_source_1Darray)\n",
      "     1600    0.007    0.000    0.021    0.000 system.py:578(<listcomp>)\n",
      "     1600    0.021    0.000    0.209    0.000 system.py:596(get_variable_internal_flux_2Darray)\n",
      "     1600    0.001    0.000    0.001    0.000 system.py:617(<listcomp>)\n",
      "     3200    0.038    0.000    0.400    0.000 system.py:635(get_variable_flux_sink_1Darray)\n",
      "     3200    0.001    0.000    0.001    0.000 system.py:653(<listcomp>)\n",
      "     1600    0.021    0.000    0.200    0.000 system.py:668(get_variable_flux_source_1Darray)\n",
      "     1600    0.000    0.000    0.000    0.000 system.py:686(<listcomp>)\n",
      "     3200    0.095    0.000    0.814    0.000 system.py:703(get_variable_process_sink_1Darray)\n",
      "     3200    0.001    0.000    0.001    0.000 system.py:721(<listcomp>)\n",
      "     3200    0.001    0.000    0.001    0.000 system.py:722(<listcomp>)\n",
      "     6400    0.001    0.000    0.001    0.000 system.py:727(<listcomp>)\n",
      "     6400    0.001    0.000    0.001    0.000 system.py:729(<listcomp>)\n",
      "     6400    0.001    0.000    0.001    0.000 system.py:734(<listcomp>)\n",
      "     1600    0.046    0.000    0.394    0.000 system.py:745(get_variable_process_source_1Darray)\n",
      "     1600    0.000    0.000    0.000    0.000 system.py:763(<listcomp>)\n",
      "     1600    0.000    0.000    0.000    0.000 system.py:764(<listcomp>)\n",
      "     3200    0.001    0.000    0.001    0.000 system.py:769(<listcomp>)\n",
      "     3200    0.001    0.000    0.001    0.000 system.py:771(<listcomp>)\n",
      "     3200    0.000    0.000    0.000    0.000 system.py:776(<listcomp>)\n",
      "     3200    0.125    0.000    4.700    0.001 system.py:790(get_reaction_rate_2Darray)\n",
      "     6400    0.025    0.000    0.148    0.000 system.py:798(<listcomp>)\n",
      "     1600    0.053    0.000    5.059    0.003 system.py:814(get_reaction_rate_3Darray)\n",
      "        1    0.000    0.000   19.296   19.296 system.py:874(solve)\n",
      "       30    0.000    0.000    0.000    0.000 threading.py:1062(_wait_for_tstate_lock)\n",
      "       30    0.000    0.000    0.000    0.000 threading.py:1104(is_alive)\n",
      "       30    0.000    0.000    0.000    0.000 threading.py:506(is_set)\n",
      "     3600    0.001    0.000    0.001    0.000 transport.py:103(<listcomp>)\n",
      "    10000    0.008    0.000    0.014    0.000 transport.py:111(get_all_to)\n",
      "    10000    0.006    0.000    0.006    0.000 transport.py:122(<listcomp>)\n",
      "     6400    0.009    0.000    0.603    0.000 transport.py:85(__call__)\n",
      "     3600    0.003    0.000    0.005    0.000 transport.py:92(get_all_from)\n",
      "    60812    0.077    0.000    0.249    0.000 unit.py:127(dimensionality)\n",
      "    60287    0.176    0.000    2.947    0.000 unit.py:147(__mul__)\n",
      "    26802    0.070    0.000    0.624    0.000 unit.py:162(__truediv__)\n",
      "        2    0.000    0.000    0.000    0.000 unit.py:185(__pow__)\n",
      "    26400    0.015    0.000    0.019    0.000 unit.py:193(__hash__)\n",
      "    11600    0.016    0.000    0.036    0.000 unit.py:196(__eq__)\n",
      "260196/161901    0.354    0.000    1.052    0.000 unit.py:40(__new__)\n",
      "        2    0.000    0.000    0.000    0.000 unit.py:76(__format__)\n",
      "    71204    0.011    0.000    0.011    0.000 util.py:237(__missing__)\n",
      "   310009    0.984    0.000    1.800    0.000 util.py:251(__init__)\n",
      "   478642    0.175    0.000    0.277    0.000 util.py:291(__iter__)\n",
      "   188929    0.072    0.000    0.103    0.000 util.py:294(__len__)\n",
      "   217216    0.079    0.000    0.079    0.000 util.py:297(__getitem__)\n",
      "   497062    0.082    0.000    0.082    0.000 util.py:303(__hash__)\n",
      "       51    0.000    0.000    0.000    0.000 util.py:306(__getstate__)\n",
      "       51    0.000    0.000    0.000    0.000 util.py:309(__setstate__)\n",
      "   711697    0.532    0.000    0.630    0.000 util.py:313(__eq__)\n",
      "        2    0.000    0.000    0.000    0.000 util.py:330(__format__)\n",
      "   109196    0.485    0.000    1.642    0.000 util.py:339(__mul__)\n",
      "   109196    0.057    0.000    0.057    0.000 util.py:346(<listcomp>)\n",
      "        2    0.000    0.000    0.000    0.000 util.py:354(__pow__)\n",
      "    81212    0.458    0.000    1.398    0.000 util.py:363(__truediv__)\n",
      "    81212    0.053    0.000    0.053    0.000 util.py:373(<listcomp>)\n",
      "   120228    0.188    0.000    0.858    0.000 util.py:476(__eq__)\n",
      "   263603    0.196    0.000    0.384    0.000 util.py:608(_check)\n",
      "   141226    0.086    0.000    0.196    0.000 util.py:627(to_units_container)\n",
      "     7200    0.080    0.000    0.910    0.000 utils.py:27(dot)\n",
      "     1600    0.040    0.000    0.404    0.000 utils.py:53(stack)\n",
      "   603315    0.133    0.000    0.133    0.000 {built-in method __new__ of type object at 0x7fb4c8e10c80}\n",
      "    22000    0.031    0.000    0.031    0.000 {built-in method _operator.add}\n",
      "     5600    0.004    0.000    0.004    0.000 {built-in method _operator.gt}\n",
      "     3200    0.001    0.000    0.001    0.000 {built-in method _operator.index}\n",
      "     3200    0.002    0.000    0.002    0.000 {built-in method _operator.lt}\n",
      "   218392    0.601    0.000    2.243    0.000 {built-in method _operator.mul}\n",
      "     6508    0.010    0.000    0.010    0.000 {built-in method _operator.sub}\n",
      "    54420    0.078    0.000    0.476    0.000 {built-in method _operator.truediv}\n",
      "    27200    0.011    0.000    0.011    0.000 {built-in method builtins.any}\n",
      "    29602    0.006    0.000    0.006    0.000 {built-in method builtins.callable}\n",
      "        1    0.000    0.000   19.297   19.297 {built-in method builtins.exec}\n",
      "      6/4    0.000    0.000    0.000    0.000 {built-in method builtins.format}\n",
      "   806992    0.309    0.000    0.309    0.000 {built-in method builtins.getattr}\n",
      "213084/181085    0.166    0.000    0.630    0.000 {built-in method builtins.hasattr}\n",
      "   331227    0.081    0.000    0.081    0.000 {built-in method builtins.hash}\n",
      "     3237    0.000    0.000    0.000    0.000 {built-in method builtins.id}\n",
      "  5132569    1.294    0.000    2.648    0.000 {built-in method builtins.isinstance}\n",
      "      387    0.000    0.000    0.000    0.000 {built-in method builtins.issubclass}\n",
      "   491442    0.106    0.000    0.106    0.000 {built-in method builtins.iter}\n",
      "681378/681374    0.108    0.000    0.108    0.000 {built-in method builtins.len}\n",
      "     3200    0.006    0.000    0.022    0.000 {built-in method builtins.min}\n",
      "       13    0.000    0.000    0.002    0.000 {built-in method builtins.print}\n",
      "   138413    0.113    0.000    0.652    0.000 {built-in method builtins.setattr}\n",
      "     1602    0.004    0.000    0.004    0.000 {built-in method builtins.sorted}\n",
      "    19200    0.005    0.000    0.005    0.000 {built-in method builtins.sum}\n",
      "        1    0.000    0.000    0.000    0.000 {built-in method math.ceil}\n",
      "      400    0.000    0.000    0.000    0.000 {built-in method math.isnan}\n",
      "    15200    0.034    0.000    0.034    0.000 {built-in method numpy.core.multiarray.array}\n",
      "     1600    0.017    0.000    0.017    0.000 {built-in method numpy.core.multiarray.concatenate}\n",
      "     4400    0.018    0.000    0.018    0.000 {built-in method numpy.core.multiarray.copyto}\n",
      "     7200    0.039    0.000    0.039    0.000 {built-in method numpy.core.multiarray.dot}\n",
      "     4400    0.017    0.000    0.017    0.000 {built-in method numpy.core.multiarray.empty}\n",
      "     4800    0.004    0.000    0.004    0.000 {built-in method numpy.core.multiarray.normalize_axis_index}\n",
      "    40000    0.086    0.000    0.086    0.000 {built-in method numpy.core.multiarray.zeros}\n",
      "       26    0.000    0.000    0.000    0.000 {built-in method posix.getpid}\n",
      "       30    0.000    0.000    0.000    0.000 {built-in method posix.urandom}\n",
      "        2    0.000    0.000    0.000    0.000 {built-in method time.time}\n",
      "      213    0.000    0.000    0.000    0.000 {method '__reduce_ex__' of 'object' objects}\n",
      "       30    0.000    0.000    0.000    0.000 {method 'acquire' of '_thread.lock' objects}\n",
      "     2400    0.004    0.000    0.027    0.000 {method 'any' of 'numpy.ndarray' objects}\n",
      "    63434    0.011    0.000    0.011    0.000 {method 'append' of 'list' objects}\n",
      "     3200    0.023    0.000    0.023    0.000 {method 'clip' of 'numpy.ndarray' objects}\n",
      "       30    0.000    0.000    0.000    0.000 {method 'copy' of 'dict' objects}\n",
      "        1    0.000    0.000    0.000    0.000 {method 'disable' of '_lsprof.Profiler' objects}\n",
      "    87/85    0.000    0.000    0.000    0.000 {method 'format' of 'str' objects}\n",
      "     4497    0.001    0.000    0.001    0.000 {method 'get' of 'dict' objects}\n",
      "     1600    0.001    0.000    0.001    0.000 {method 'insert' of 'list' objects}\n",
      "   884612    0.131    0.000    0.131    0.000 {method 'items' of 'dict' objects}\n",
      "        2    0.000    0.000    0.000    0.000 {method 'join' of 'str' objects}\n",
      "     4800    0.001    0.000    0.001    0.000 {method 'keys' of 'dict' objects}\n",
      "   180920    0.148    0.000    0.148    0.000 {method 'match' of '_sre.SRE_Pattern' objects}\n",
      "   141226    0.111    0.000    0.111    0.000 {method 'mro' of 'type' objects}\n",
      "    14800    0.003    0.000    0.003    0.000 {method 'pop' of 'set' objects}\n",
      "     5600    0.045    0.000    0.045    0.000 {method 'reduce' of 'numpy.ufunc' objects}\n",
      "       12    0.000    0.000    0.000    0.000 {method 'replace' of 'str' objects}\n",
      "        2    0.000    0.000    0.000    0.000 {method 'search' of '_sre.SRE_Pattern' objects}\n",
      "     4402    0.002    0.000    0.002    0.000 {method 'startswith' of 'str' objects}\n",
      "        2    0.000    0.000    0.000    0.000 {method 'strip' of 'str' objects}\n",
      "     3200    0.003    0.000    0.029    0.000 {method 'sum' of 'numpy.ndarray' objects}\n",
      "     1600    0.003    0.000    0.003    0.000 {method 'transpose' of 'numpy.ndarray' objects}\n",
      "      113    0.000    0.000    0.000    0.000 {method 'update' of 'dict' objects}\n",
      "\n",
      "\n"
     ]
    },
    {
     "data": {
      "text/plain": [
       "<pstats.Stats at 0x7fb4931a98d0>"
      ]
     },
     "execution_count": 11,
     "metadata": {},
     "output_type": "execute_result"
    }
   ],
   "source": [
    "p.strip_dirs().sort_stats(-1).print_stats()"
   ]
  },
  {
   "cell_type": "code",
   "execution_count": 12,
   "metadata": {},
   "outputs": [
    {
     "name": "stdout",
     "output_type": "stream",
     "text": [
      "Fri Sep 22 12:33:18 2017    restats\n",
      "\n",
      "         24163316 function calls (24030395 primitive calls) in 19.297 seconds\n",
      "\n",
      "   Ordered by: cumulative time\n",
      "   List reduced from 287 to 20 due to restriction <20>\n",
      "\n",
      "   ncalls  tottime  percall  cumtime  percall filename:lineno(function)\n",
      "        1    0.000    0.000   19.297   19.297 {built-in method builtins.exec}\n",
      "        1    0.001    0.001   19.297   19.297 <string>:1(<module>)\n",
      "        1    0.000    0.000   19.296   19.296 system.py:874(solve)\n",
      "        1    0.041    0.041   19.292   19.292 solver.py:42(solve)\n",
      "      400    0.019    0.000   17.912    0.045 solver.py:189(_calculate_changes_of_all_variables)\n",
      "      400    0.006    0.000   16.981    0.042 solver.py:212(<listcomp>)\n",
      "     1600    0.033    0.000   16.976    0.011 solver.py:326(_get_dvar)\n",
      "     1600    0.053    0.000    6.311    0.004 solver.py:243(_get_sink_source_flow)\n",
      "   136406    0.197    0.000    6.262    0.000 quantity.py:49(wrapped)\n",
      "   136406    0.826    0.000    6.065    0.000 quantity.py:746(_mul_div)\n",
      "     1600    0.072    0.000    5.994    0.004 solver.py:294(_get_sink_source_reaction)\n",
      "   109196    0.123    0.000    5.154    0.000 quantity.py:813(__mul__)\n",
      "     1600    0.053    0.000    5.059    0.003 system.py:814(get_reaction_rate_3Darray)\n",
      "     3200    0.125    0.000    4.700    0.001 system.py:790(get_reaction_rate_2Darray)\n",
      "     6400    0.126    0.000    3.549    0.001 process.py:147(__call__)\n",
      "    68811    0.162    0.000    3.109    0.000 quantity.py:367(to_base_units)\n",
      "     3200    0.026    0.000    3.017    0.001 system.py:516(get_variable_flow_sink_1Darray)\n",
      "    60287    0.176    0.000    2.947    0.000 unit.py:147(__mul__)\n",
      "  5132569    1.294    0.000    2.648    0.000 {built-in method builtins.isinstance}\n",
      "    70013    0.073    0.000    2.495    0.000 quantity.py:295(_convert_magnitude_not_inplace)\n",
      "\n",
      "\n"
     ]
    },
    {
     "data": {
      "text/plain": [
       "<pstats.Stats at 0x7fb4931a98d0>"
      ]
     },
     "execution_count": 12,
     "metadata": {},
     "output_type": "execute_result"
    }
   ],
   "source": [
    "p.sort_stats('cumulative').print_stats(20)"
   ]
  },
  {
   "cell_type": "code",
   "execution_count": 13,
   "metadata": {},
   "outputs": [
    {
     "name": "stdout",
     "output_type": "stream",
     "text": [
      "Fri Sep 22 12:33:18 2017    restats\n",
      "\n",
      "         24163316 function calls (24030395 primitive calls) in 19.297 seconds\n",
      "\n",
      "   Ordered by: internal time\n",
      "   List reduced from 287 to 10 due to restriction <10>\n",
      "\n",
      "   ncalls  tottime  percall  cumtime  percall filename:lineno(function)\n",
      "  5132569    1.294    0.000    2.648    0.000 {built-in method builtins.isinstance}\n",
      "   310009    0.984    0.000    1.800    0.000 util.py:251(__init__)\n",
      "   136406    0.826    0.000    6.065    0.000 quantity.py:746(_mul_div)\n",
      "   847267    0.795    0.000    1.354    0.000 abc.py:178(__instancecheck__)\n",
      "   218392    0.601    0.000    2.243    0.000 {built-in method _operator.mul}\n",
      "  1348632    0.559    0.000    0.559    0.000 _weakrefset.py:70(__contains__)\n",
      "   342906    0.553    0.000    1.195    0.000 quantity.py:85(__new__)\n",
      "   711697    0.532    0.000    0.630    0.000 util.py:313(__eq__)\n",
      "   109196    0.485    0.000    1.642    0.000 util.py:339(__mul__)\n",
      "    81212    0.458    0.000    1.398    0.000 util.py:363(__truediv__)\n",
      "\n",
      "\n"
     ]
    },
    {
     "data": {
      "text/plain": [
       "<pstats.Stats at 0x7fb4931a98d0>"
      ]
     },
     "execution_count": 13,
     "metadata": {},
     "output_type": "execute_result"
    }
   ],
   "source": [
    "p.sort_stats('time').print_stats(10)"
   ]
  },
  {
   "cell_type": "code",
   "execution_count": 14,
   "metadata": {},
   "outputs": [
    {
     "name": "stdout",
     "output_type": "stream",
     "text": [
      "CPU times: user 2 µs, sys: 0 ns, total: 2 µs\n",
      "Wall time: 4.77 µs\n",
      "Start solving the box model...\n",
      "- total integration time: 200 month\n",
      "- dt (time step): 1 month\n",
      "10.0%\n",
      "20.0%\n",
      "30.0%\n",
      "40.0%\n",
      "50.0%\n",
      "60.0%\n",
      "70.0%\n",
      "80.0%\n",
      "90.0%\n",
      "Function \"solve(...)\" used 5.919s\n"
     ]
    }
   ],
   "source": [
    "%time\n",
    "sol = system.solve(200*ur.month, 1*ur.month)"
   ]
  },
  {
   "cell_type": "code",
   "execution_count": 15,
   "metadata": {},
   "outputs": [
    {
     "ename": "ValueError",
     "evalue": "x and y must have same first dimension, but have shapes (202,) and (201,)",
     "output_type": "error",
     "traceback": [
      "\u001b[0;31m---------------------------------------------------------------------------\u001b[0m",
      "\u001b[0;31mValueError\u001b[0m                                Traceback (most recent call last)",
      "\u001b[0;32m<ipython-input-15-2133cf569331>\u001b[0m in \u001b[0;36m<module>\u001b[0;34m()\u001b[0m\n\u001b[0;32m----> 1\u001b[0;31m \u001b[0msol\u001b[0m\u001b[0;34m.\u001b[0m\u001b[0mplot_variable_mass_of_all_boxes\u001b[0m\u001b[0;34m(\u001b[0m\u001b[0msystem\u001b[0m\u001b[0;34m.\u001b[0m\u001b[0mvariables\u001b[0m\u001b[0;34m.\u001b[0m\u001b[0mA\u001b[0m\u001b[0;34m,\u001b[0m \u001b[0myaxis_log\u001b[0m\u001b[0;34m=\u001b[0m\u001b[0;32mFalse\u001b[0m\u001b[0;34m)\u001b[0m\u001b[0;34m\u001b[0m\u001b[0m\n\u001b[0m",
      "\u001b[0;32m~/Documents/MyPrivateRepo/boxsimu_project/boxsimu/solution.py\u001b[0m in \u001b[0;36mplot_variable_mass_of_all_boxes\u001b[0;34m(self, variable, figsize, yaxis_log)\u001b[0m\n\u001b[1;32m    123\u001b[0m             \u001b[0mmass_magnitude\u001b[0m \u001b[0;34m=\u001b[0m \u001b[0;34m[\u001b[0m\u001b[0mmass\u001b[0m\u001b[0;34m.\u001b[0m\u001b[0mmagnitude\u001b[0m \u001b[0;32mfor\u001b[0m \u001b[0mmass\u001b[0m \u001b[0;32min\u001b[0m \u001b[0mmasses\u001b[0m\u001b[0;34m]\u001b[0m\u001b[0;34m\u001b[0m\u001b[0m\n\u001b[1;32m    124\u001b[0m             ax.plot(self.time_magnitude, mass_magnitude,\n\u001b[0;32m--> 125\u001b[0;31m                     label='Box {}'.format(ts.box.name))\n\u001b[0m\u001b[1;32m    126\u001b[0m         \u001b[0max\u001b[0m\u001b[0;34m.\u001b[0m\u001b[0mlegend\u001b[0m\u001b[0;34m(\u001b[0m\u001b[0;34m)\u001b[0m\u001b[0;34m\u001b[0m\u001b[0m\n\u001b[1;32m    127\u001b[0m         \u001b[0;32mreturn\u001b[0m \u001b[0mfig\u001b[0m\u001b[0;34m,\u001b[0m \u001b[0max\u001b[0m\u001b[0;34m\u001b[0m\u001b[0m\n",
      "\u001b[0;32m~/Envs/boxsimu/lib/python3.6/site-packages/matplotlib/__init__.py\u001b[0m in \u001b[0;36minner\u001b[0;34m(ax, *args, **kwargs)\u001b[0m\n\u001b[1;32m   1896\u001b[0m                     warnings.warn(msg % (label_namer, func.__name__),\n\u001b[1;32m   1897\u001b[0m                                   RuntimeWarning, stacklevel=2)\n\u001b[0;32m-> 1898\u001b[0;31m             \u001b[0;32mreturn\u001b[0m \u001b[0mfunc\u001b[0m\u001b[0;34m(\u001b[0m\u001b[0max\u001b[0m\u001b[0;34m,\u001b[0m \u001b[0;34m*\u001b[0m\u001b[0margs\u001b[0m\u001b[0;34m,\u001b[0m \u001b[0;34m**\u001b[0m\u001b[0mkwargs\u001b[0m\u001b[0;34m)\u001b[0m\u001b[0;34m\u001b[0m\u001b[0m\n\u001b[0m\u001b[1;32m   1899\u001b[0m         \u001b[0mpre_doc\u001b[0m \u001b[0;34m=\u001b[0m \u001b[0minner\u001b[0m\u001b[0;34m.\u001b[0m\u001b[0m__doc__\u001b[0m\u001b[0;34m\u001b[0m\u001b[0m\n\u001b[1;32m   1900\u001b[0m         \u001b[0;32mif\u001b[0m \u001b[0mpre_doc\u001b[0m \u001b[0;32mis\u001b[0m \u001b[0;32mNone\u001b[0m\u001b[0;34m:\u001b[0m\u001b[0;34m\u001b[0m\u001b[0m\n",
      "\u001b[0;32m~/Envs/boxsimu/lib/python3.6/site-packages/matplotlib/axes/_axes.py\u001b[0m in \u001b[0;36mplot\u001b[0;34m(self, *args, **kwargs)\u001b[0m\n\u001b[1;32m   1404\u001b[0m         \u001b[0mkwargs\u001b[0m \u001b[0;34m=\u001b[0m \u001b[0mcbook\u001b[0m\u001b[0;34m.\u001b[0m\u001b[0mnormalize_kwargs\u001b[0m\u001b[0;34m(\u001b[0m\u001b[0mkwargs\u001b[0m\u001b[0;34m,\u001b[0m \u001b[0m_alias_map\u001b[0m\u001b[0;34m)\u001b[0m\u001b[0;34m\u001b[0m\u001b[0m\n\u001b[1;32m   1405\u001b[0m \u001b[0;34m\u001b[0m\u001b[0m\n\u001b[0;32m-> 1406\u001b[0;31m         \u001b[0;32mfor\u001b[0m \u001b[0mline\u001b[0m \u001b[0;32min\u001b[0m \u001b[0mself\u001b[0m\u001b[0;34m.\u001b[0m\u001b[0m_get_lines\u001b[0m\u001b[0;34m(\u001b[0m\u001b[0;34m*\u001b[0m\u001b[0margs\u001b[0m\u001b[0;34m,\u001b[0m \u001b[0;34m**\u001b[0m\u001b[0mkwargs\u001b[0m\u001b[0;34m)\u001b[0m\u001b[0;34m:\u001b[0m\u001b[0;34m\u001b[0m\u001b[0m\n\u001b[0m\u001b[1;32m   1407\u001b[0m             \u001b[0mself\u001b[0m\u001b[0;34m.\u001b[0m\u001b[0madd_line\u001b[0m\u001b[0;34m(\u001b[0m\u001b[0mline\u001b[0m\u001b[0;34m)\u001b[0m\u001b[0;34m\u001b[0m\u001b[0m\n\u001b[1;32m   1408\u001b[0m             \u001b[0mlines\u001b[0m\u001b[0;34m.\u001b[0m\u001b[0mappend\u001b[0m\u001b[0;34m(\u001b[0m\u001b[0mline\u001b[0m\u001b[0;34m)\u001b[0m\u001b[0;34m\u001b[0m\u001b[0m\n",
      "\u001b[0;32m~/Envs/boxsimu/lib/python3.6/site-packages/matplotlib/axes/_base.py\u001b[0m in \u001b[0;36m_grab_next_args\u001b[0;34m(self, *args, **kwargs)\u001b[0m\n\u001b[1;32m    405\u001b[0m                 \u001b[0;32mreturn\u001b[0m\u001b[0;34m\u001b[0m\u001b[0m\n\u001b[1;32m    406\u001b[0m             \u001b[0;32mif\u001b[0m \u001b[0mlen\u001b[0m\u001b[0;34m(\u001b[0m\u001b[0mremaining\u001b[0m\u001b[0;34m)\u001b[0m \u001b[0;34m<=\u001b[0m \u001b[0;36m3\u001b[0m\u001b[0;34m:\u001b[0m\u001b[0;34m\u001b[0m\u001b[0m\n\u001b[0;32m--> 407\u001b[0;31m                 \u001b[0;32mfor\u001b[0m \u001b[0mseg\u001b[0m \u001b[0;32min\u001b[0m \u001b[0mself\u001b[0m\u001b[0;34m.\u001b[0m\u001b[0m_plot_args\u001b[0m\u001b[0;34m(\u001b[0m\u001b[0mremaining\u001b[0m\u001b[0;34m,\u001b[0m \u001b[0mkwargs\u001b[0m\u001b[0;34m)\u001b[0m\u001b[0;34m:\u001b[0m\u001b[0;34m\u001b[0m\u001b[0m\n\u001b[0m\u001b[1;32m    408\u001b[0m                     \u001b[0;32myield\u001b[0m \u001b[0mseg\u001b[0m\u001b[0;34m\u001b[0m\u001b[0m\n\u001b[1;32m    409\u001b[0m                 \u001b[0;32mreturn\u001b[0m\u001b[0;34m\u001b[0m\u001b[0m\n",
      "\u001b[0;32m~/Envs/boxsimu/lib/python3.6/site-packages/matplotlib/axes/_base.py\u001b[0m in \u001b[0;36m_plot_args\u001b[0;34m(self, tup, kwargs)\u001b[0m\n\u001b[1;32m    383\u001b[0m             \u001b[0mx\u001b[0m\u001b[0;34m,\u001b[0m \u001b[0my\u001b[0m \u001b[0;34m=\u001b[0m \u001b[0mindex_of\u001b[0m\u001b[0;34m(\u001b[0m\u001b[0mtup\u001b[0m\u001b[0;34m[\u001b[0m\u001b[0;34m-\u001b[0m\u001b[0;36m1\u001b[0m\u001b[0;34m]\u001b[0m\u001b[0;34m)\u001b[0m\u001b[0;34m\u001b[0m\u001b[0m\n\u001b[1;32m    384\u001b[0m \u001b[0;34m\u001b[0m\u001b[0m\n\u001b[0;32m--> 385\u001b[0;31m         \u001b[0mx\u001b[0m\u001b[0;34m,\u001b[0m \u001b[0my\u001b[0m \u001b[0;34m=\u001b[0m \u001b[0mself\u001b[0m\u001b[0;34m.\u001b[0m\u001b[0m_xy_from_xy\u001b[0m\u001b[0;34m(\u001b[0m\u001b[0mx\u001b[0m\u001b[0;34m,\u001b[0m \u001b[0my\u001b[0m\u001b[0;34m)\u001b[0m\u001b[0;34m\u001b[0m\u001b[0m\n\u001b[0m\u001b[1;32m    386\u001b[0m \u001b[0;34m\u001b[0m\u001b[0m\n\u001b[1;32m    387\u001b[0m         \u001b[0;32mif\u001b[0m \u001b[0mself\u001b[0m\u001b[0;34m.\u001b[0m\u001b[0mcommand\u001b[0m \u001b[0;34m==\u001b[0m \u001b[0;34m'plot'\u001b[0m\u001b[0;34m:\u001b[0m\u001b[0;34m\u001b[0m\u001b[0m\n",
      "\u001b[0;32m~/Envs/boxsimu/lib/python3.6/site-packages/matplotlib/axes/_base.py\u001b[0m in \u001b[0;36m_xy_from_xy\u001b[0;34m(self, x, y)\u001b[0m\n\u001b[1;32m    242\u001b[0m         \u001b[0;32mif\u001b[0m \u001b[0mx\u001b[0m\u001b[0;34m.\u001b[0m\u001b[0mshape\u001b[0m\u001b[0;34m[\u001b[0m\u001b[0;36m0\u001b[0m\u001b[0;34m]\u001b[0m \u001b[0;34m!=\u001b[0m \u001b[0my\u001b[0m\u001b[0;34m.\u001b[0m\u001b[0mshape\u001b[0m\u001b[0;34m[\u001b[0m\u001b[0;36m0\u001b[0m\u001b[0;34m]\u001b[0m\u001b[0;34m:\u001b[0m\u001b[0;34m\u001b[0m\u001b[0m\n\u001b[1;32m    243\u001b[0m             raise ValueError(\"x and y must have same first dimension, but \"\n\u001b[0;32m--> 244\u001b[0;31m                              \"have shapes {} and {}\".format(x.shape, y.shape))\n\u001b[0m\u001b[1;32m    245\u001b[0m         \u001b[0;32mif\u001b[0m \u001b[0mx\u001b[0m\u001b[0;34m.\u001b[0m\u001b[0mndim\u001b[0m \u001b[0;34m>\u001b[0m \u001b[0;36m2\u001b[0m \u001b[0;32mor\u001b[0m \u001b[0my\u001b[0m\u001b[0;34m.\u001b[0m\u001b[0mndim\u001b[0m \u001b[0;34m>\u001b[0m \u001b[0;36m2\u001b[0m\u001b[0;34m:\u001b[0m\u001b[0;34m\u001b[0m\u001b[0m\n\u001b[1;32m    246\u001b[0m             raise ValueError(\"x and y can be no greater than 2-D, but have \"\n",
      "\u001b[0;31mValueError\u001b[0m: x and y must have same first dimension, but have shapes (202,) and (201,)"
     ]
    },
    {
     "data": {
      "image/png": "[encoded data removed]",
      "text/plain": [
       "<matplotlib.figure.Figure at 0x7fb49313fe48>"
      ]
     },
     "metadata": {},
     "output_type": "display_data"
    }
   ],
   "source": [
    "sol.plot_variable_mass_of_all_boxes(system.variables.A, yaxis_log=False)"
   ]
  },
  {
   "cell_type": "code",
   "execution_count": 16,
   "metadata": {},
   "outputs": [
    {
     "ename": "ValueError",
     "evalue": "x and y must have same first dimension, but have shapes (202,) and (201,)",
     "output_type": "error",
     "traceback": [
      "\u001b[0;31m---------------------------------------------------------------------------\u001b[0m",
      "\u001b[0;31mValueError\u001b[0m                                Traceback (most recent call last)",
      "\u001b[0;32m<ipython-input-16-defc2ae015af>\u001b[0m in \u001b[0;36m<module>\u001b[0;34m()\u001b[0m\n\u001b[0;32m----> 1\u001b[0;31m \u001b[0msol\u001b[0m\u001b[0;34m.\u001b[0m\u001b[0mplot_variable_mass_of_all_boxes\u001b[0m\u001b[0;34m(\u001b[0m\u001b[0msystem\u001b[0m\u001b[0;34m.\u001b[0m\u001b[0mvariables\u001b[0m\u001b[0;34m.\u001b[0m\u001b[0mB\u001b[0m\u001b[0;34m,\u001b[0m \u001b[0myaxis_log\u001b[0m\u001b[0;34m=\u001b[0m\u001b[0;32mFalse\u001b[0m\u001b[0;34m)\u001b[0m\u001b[0;34m\u001b[0m\u001b[0m\n\u001b[0m",
      "\u001b[0;32m~/Documents/MyPrivateRepo/boxsimu_project/boxsimu/solution.py\u001b[0m in \u001b[0;36mplot_variable_mass_of_all_boxes\u001b[0;34m(self, variable, figsize, yaxis_log)\u001b[0m\n\u001b[1;32m    123\u001b[0m             \u001b[0mmass_magnitude\u001b[0m \u001b[0;34m=\u001b[0m \u001b[0;34m[\u001b[0m\u001b[0mmass\u001b[0m\u001b[0;34m.\u001b[0m\u001b[0mmagnitude\u001b[0m \u001b[0;32mfor\u001b[0m \u001b[0mmass\u001b[0m \u001b[0;32min\u001b[0m \u001b[0mmasses\u001b[0m\u001b[0;34m]\u001b[0m\u001b[0;34m\u001b[0m\u001b[0m\n\u001b[1;32m    124\u001b[0m             ax.plot(self.time_magnitude, mass_magnitude,\n\u001b[0;32m--> 125\u001b[0;31m                     label='Box {}'.format(ts.box.name))\n\u001b[0m\u001b[1;32m    126\u001b[0m         \u001b[0max\u001b[0m\u001b[0;34m.\u001b[0m\u001b[0mlegend\u001b[0m\u001b[0;34m(\u001b[0m\u001b[0;34m)\u001b[0m\u001b[0;34m\u001b[0m\u001b[0m\n\u001b[1;32m    127\u001b[0m         \u001b[0;32mreturn\u001b[0m \u001b[0mfig\u001b[0m\u001b[0;34m,\u001b[0m \u001b[0max\u001b[0m\u001b[0;34m\u001b[0m\u001b[0m\n",
      "\u001b[0;32m~/Envs/boxsimu/lib/python3.6/site-packages/matplotlib/__init__.py\u001b[0m in \u001b[0;36minner\u001b[0;34m(ax, *args, **kwargs)\u001b[0m\n\u001b[1;32m   1896\u001b[0m                     warnings.warn(msg % (label_namer, func.__name__),\n\u001b[1;32m   1897\u001b[0m                                   RuntimeWarning, stacklevel=2)\n\u001b[0;32m-> 1898\u001b[0;31m             \u001b[0;32mreturn\u001b[0m \u001b[0mfunc\u001b[0m\u001b[0;34m(\u001b[0m\u001b[0max\u001b[0m\u001b[0;34m,\u001b[0m \u001b[0;34m*\u001b[0m\u001b[0margs\u001b[0m\u001b[0;34m,\u001b[0m \u001b[0;34m**\u001b[0m\u001b[0mkwargs\u001b[0m\u001b[0;34m)\u001b[0m\u001b[0;34m\u001b[0m\u001b[0m\n\u001b[0m\u001b[1;32m   1899\u001b[0m         \u001b[0mpre_doc\u001b[0m \u001b[0;34m=\u001b[0m \u001b[0minner\u001b[0m\u001b[0;34m.\u001b[0m\u001b[0m__doc__\u001b[0m\u001b[0;34m\u001b[0m\u001b[0m\n\u001b[1;32m   1900\u001b[0m         \u001b[0;32mif\u001b[0m \u001b[0mpre_doc\u001b[0m \u001b[0;32mis\u001b[0m \u001b[0;32mNone\u001b[0m\u001b[0;34m:\u001b[0m\u001b[0;34m\u001b[0m\u001b[0m\n",
      "\u001b[0;32m~/Envs/boxsimu/lib/python3.6/site-packages/matplotlib/axes/_axes.py\u001b[0m in \u001b[0;36mplot\u001b[0;34m(self, *args, **kwargs)\u001b[0m\n\u001b[1;32m   1404\u001b[0m         \u001b[0mkwargs\u001b[0m \u001b[0;34m=\u001b[0m \u001b[0mcbook\u001b[0m\u001b[0;34m.\u001b[0m\u001b[0mnormalize_kwargs\u001b[0m\u001b[0;34m(\u001b[0m\u001b[0mkwargs\u001b[0m\u001b[0;34m,\u001b[0m \u001b[0m_alias_map\u001b[0m\u001b[0;34m)\u001b[0m\u001b[0;34m\u001b[0m\u001b[0m\n\u001b[1;32m   1405\u001b[0m \u001b[0;34m\u001b[0m\u001b[0m\n\u001b[0;32m-> 1406\u001b[0;31m         \u001b[0;32mfor\u001b[0m \u001b[0mline\u001b[0m \u001b[0;32min\u001b[0m \u001b[0mself\u001b[0m\u001b[0;34m.\u001b[0m\u001b[0m_get_lines\u001b[0m\u001b[0;34m(\u001b[0m\u001b[0;34m*\u001b[0m\u001b[0margs\u001b[0m\u001b[0;34m,\u001b[0m \u001b[0;34m**\u001b[0m\u001b[0mkwargs\u001b[0m\u001b[0;34m)\u001b[0m\u001b[0;34m:\u001b[0m\u001b[0;34m\u001b[0m\u001b[0m\n\u001b[0m\u001b[1;32m   1407\u001b[0m             \u001b[0mself\u001b[0m\u001b[0;34m.\u001b[0m\u001b[0madd_line\u001b[0m\u001b[0;34m(\u001b[0m\u001b[0mline\u001b[0m\u001b[0;34m)\u001b[0m\u001b[0;34m\u001b[0m\u001b[0m\n\u001b[1;32m   1408\u001b[0m             \u001b[0mlines\u001b[0m\u001b[0;34m.\u001b[0m\u001b[0mappend\u001b[0m\u001b[0;34m(\u001b[0m\u001b[0mline\u001b[0m\u001b[0;34m)\u001b[0m\u001b[0;34m\u001b[0m\u001b[0m\n",
      "\u001b[0;32m~/Envs/boxsimu/lib/python3.6/site-packages/matplotlib/axes/_base.py\u001b[0m in \u001b[0;36m_grab_next_args\u001b[0;34m(self, *args, **kwargs)\u001b[0m\n\u001b[1;32m    405\u001b[0m                 \u001b[0;32mreturn\u001b[0m\u001b[0;34m\u001b[0m\u001b[0m\n\u001b[1;32m    406\u001b[0m             \u001b[0;32mif\u001b[0m \u001b[0mlen\u001b[0m\u001b[0;34m(\u001b[0m\u001b[0mremaining\u001b[0m\u001b[0;34m)\u001b[0m \u001b[0;34m<=\u001b[0m \u001b[0;36m3\u001b[0m\u001b[0;34m:\u001b[0m\u001b[0;34m\u001b[0m\u001b[0m\n\u001b[0;32m--> 407\u001b[0;31m                 \u001b[0;32mfor\u001b[0m \u001b[0mseg\u001b[0m \u001b[0;32min\u001b[0m \u001b[0mself\u001b[0m\u001b[0;34m.\u001b[0m\u001b[0m_plot_args\u001b[0m\u001b[0;34m(\u001b[0m\u001b[0mremaining\u001b[0m\u001b[0;34m,\u001b[0m \u001b[0mkwargs\u001b[0m\u001b[0;34m)\u001b[0m\u001b[0;34m:\u001b[0m\u001b[0;34m\u001b[0m\u001b[0m\n\u001b[0m\u001b[1;32m    408\u001b[0m                     \u001b[0;32myield\u001b[0m \u001b[0mseg\u001b[0m\u001b[0;34m\u001b[0m\u001b[0m\n\u001b[1;32m    409\u001b[0m                 \u001b[0;32mreturn\u001b[0m\u001b[0;34m\u001b[0m\u001b[0m\n",
      "\u001b[0;32m~/Envs/boxsimu/lib/python3.6/site-packages/matplotlib/axes/_base.py\u001b[0m in \u001b[0;36m_plot_args\u001b[0;34m(self, tup, kwargs)\u001b[0m\n\u001b[1;32m    383\u001b[0m             \u001b[0mx\u001b[0m\u001b[0;34m,\u001b[0m \u001b[0my\u001b[0m \u001b[0;34m=\u001b[0m \u001b[0mindex_of\u001b[0m\u001b[0;34m(\u001b[0m\u001b[0mtup\u001b[0m\u001b[0;34m[\u001b[0m\u001b[0;34m-\u001b[0m\u001b[0;36m1\u001b[0m\u001b[0;34m]\u001b[0m\u001b[0;34m)\u001b[0m\u001b[0;34m\u001b[0m\u001b[0m\n\u001b[1;32m    384\u001b[0m \u001b[0;34m\u001b[0m\u001b[0m\n\u001b[0;32m--> 385\u001b[0;31m         \u001b[0mx\u001b[0m\u001b[0;34m,\u001b[0m \u001b[0my\u001b[0m \u001b[0;34m=\u001b[0m \u001b[0mself\u001b[0m\u001b[0;34m.\u001b[0m\u001b[0m_xy_from_xy\u001b[0m\u001b[0;34m(\u001b[0m\u001b[0mx\u001b[0m\u001b[0;34m,\u001b[0m \u001b[0my\u001b[0m\u001b[0;34m)\u001b[0m\u001b[0;34m\u001b[0m\u001b[0m\n\u001b[0m\u001b[1;32m    386\u001b[0m \u001b[0;34m\u001b[0m\u001b[0m\n\u001b[1;32m    387\u001b[0m         \u001b[0;32mif\u001b[0m \u001b[0mself\u001b[0m\u001b[0;34m.\u001b[0m\u001b[0mcommand\u001b[0m \u001b[0;34m==\u001b[0m \u001b[0;34m'plot'\u001b[0m\u001b[0;34m:\u001b[0m\u001b[0;34m\u001b[0m\u001b[0m\n",
      "\u001b[0;32m~/Envs/boxsimu/lib/python3.6/site-packages/matplotlib/axes/_base.py\u001b[0m in \u001b[0;36m_xy_from_xy\u001b[0;34m(self, x, y)\u001b[0m\n\u001b[1;32m    242\u001b[0m         \u001b[0;32mif\u001b[0m \u001b[0mx\u001b[0m\u001b[0;34m.\u001b[0m\u001b[0mshape\u001b[0m\u001b[0;34m[\u001b[0m\u001b[0;36m0\u001b[0m\u001b[0;34m]\u001b[0m \u001b[0;34m!=\u001b[0m \u001b[0my\u001b[0m\u001b[0;34m.\u001b[0m\u001b[0mshape\u001b[0m\u001b[0;34m[\u001b[0m\u001b[0;36m0\u001b[0m\u001b[0;34m]\u001b[0m\u001b[0;34m:\u001b[0m\u001b[0;34m\u001b[0m\u001b[0m\n\u001b[1;32m    243\u001b[0m             raise ValueError(\"x and y must have same first dimension, but \"\n\u001b[0;32m--> 244\u001b[0;31m                              \"have shapes {} and {}\".format(x.shape, y.shape))\n\u001b[0m\u001b[1;32m    245\u001b[0m         \u001b[0;32mif\u001b[0m \u001b[0mx\u001b[0m\u001b[0;34m.\u001b[0m\u001b[0mndim\u001b[0m \u001b[0;34m>\u001b[0m \u001b[0;36m2\u001b[0m \u001b[0;32mor\u001b[0m \u001b[0my\u001b[0m\u001b[0;34m.\u001b[0m\u001b[0mndim\u001b[0m \u001b[0;34m>\u001b[0m \u001b[0;36m2\u001b[0m\u001b[0;34m:\u001b[0m\u001b[0;34m\u001b[0m\u001b[0m\n\u001b[1;32m    246\u001b[0m             raise ValueError(\"x and y can be no greater than 2-D, but have \"\n",
      "\u001b[0;31mValueError\u001b[0m: x and y must have same first dimension, but have shapes (202,) and (201,)"
     ]
    },
    {
     "data": {
      "image/png": "[encoded data removed]",
      "text/plain": [
       "<matplotlib.figure.Figure at 0x7fb490e6d668>"
      ]
     },
     "metadata": {},
     "output_type": "display_data"
    }
   ],
   "source": [
    "sol.plot_variable_mass_of_all_boxes(system.variables.B, yaxis_log=False)"
   ]
  },
  {
   "cell_type": "code",
   "execution_count": null,
   "metadata": {
    "collapsed": true
   },
   "outputs": [],
   "source": [
    "sol.plot_variable_mass_of_all_boxes(system.variables.C, yaxis_log=False)"
   ]
  },
  {
   "cell_type": "code",
   "execution_count": null,
   "metadata": {
    "collapsed": true
   },
   "outputs": [],
   "source": [
    "sol.plot_variable_mass_of_all_boxes(system.variables.D, yaxis_log=False)"
   ]
  },
  {
   "cell_type": "code",
   "execution_count": null,
   "metadata": {
    "collapsed": true
   },
   "outputs": [],
   "source": [
    "sol.plot_total_variable_masses()"
   ]
  },
  {
   "cell_type": "code",
   "execution_count": 19,
   "metadata": {},
   "outputs": [
    {
     "name": "stdout",
     "output_type": "stream",
     "text": [
      "corners [(330.0, 0.0), (630.0, 0.0), (630.0, 300.0), (330.0, 300.0)]\n",
      "corners [(330.0, 0.0), (630.0, 0.0), (630.0, 300.0), (330.0, 300.0)]\n",
      "corners [(-330.0, 4.0413344371862656e-14), (-30.0, 4.0413344371862656e-14), (-30.0, 300.00000000000006), (-330.0, 300.00000000000006)]\n",
      "corners [(-330.0, 4.0413344371862656e-14), (-30.0, 4.0413344371862656e-14), (-30.0, 300.00000000000006), (-330.0, 300.00000000000006)]\n"
     ]
    }
   ],
   "source": [
    "system.save_as_svg('system3.svg')"
   ]
  },
  {
   "cell_type": "code",
   "execution_count": 20,
   "metadata": {},
   "outputs": [
    {
     "data": {
      "image/svg+xml": [
       "<svg baseProfile=\"full\" height=\"10cm\" version=\"1.1\" viewBox=\"-100,0,600,400\" width=\"32cm\" xmlns=\"http://www.w3.org/2000/svg\" xmlns:ev=\"http://www.w3.org/2001/xml-events\" xmlns:xlink=\"http://www.w3.org/1999/xlink\"><defs><marker id=\"id4\" markerHeight=\"4\" markerWidth=\"4\" refX=\"-3.0\" refY=\"0.0\"><polygon fill=\"darkblue\" points=\"-4.0,0.0 -1.22464679915e-16,2.0 1.22464679915e-16,-2.0\"/></marker><marker id=\"id5\" markerHeight=\"4\" markerWidth=\"4\" refX=\"-3.0\" refY=\"4.73695157173e-16\"><polygon fill=\"darkblue\" points=\"-4.0,6.31593542898e-16 1.93332091534e-16,2.0 -1.93332091534e-16,-2.0\"/></marker><marker id=\"id6\" markerHeight=\"4\" markerWidth=\"4\" refX=\"-3.0\" refY=\"0.0\"><polygon fill=\"darkblue\" points=\"-4.0,0.0 -1.22464679915e-16,2.0 1.22464679915e-16,-2.0\"/></marker></defs><g id=\"Test_System\"><g id=\"box1_box\"><rect fill=\"lightgrey\" height=\"264.0\" id=\"box1_box_rect\" opacity=\"0.7\" stroke=\"black\" stroke-opacity=\"1\" stroke-width=\"5\" width=\"300\" x=\"330.0\" y=\"36.0\"/><text fill=\"black\" font-size=\"24\" id=\"box1_box_title\" style=\"text-anchor:middle; dominant-baseline:mathematical\" x=\"480.0\" y=\"18.0\">Box 1</text><g id=\"box1_box_text\"><text fill=\"black\" font-size=\"12\" style=\"text-anchor:left; dominant-baseline:mathematical\" x=\"340.0\" y=\"50.0\">Fluid: water</text><text fill=\"black\" font-size=\"12\" style=\"text-anchor:left; dominant-baseline:mathematical\" x=\"340.0\" y=\"64.0\">Mass: 1.000e+05 kilogram</text></g><g id=\"box1_box_children\"><g id=\"box1_processes\"><rect fill=\"darkgrey\" height=\"60.0\" id=\"box1_processes_rect\" opacity=\"0.5\" stroke=\"white\" stroke-opacity=\"1\" stroke-width=\"3\" width=\"280\" x=\"340.0\" y=\"100.5\"/><text fill=\"black\" font-size=\"15\" id=\"box1_processes_title\" style=\"text-anchor:left; dominant-baseline:mathematical\" x=\"340.0\" y=\"89.25\">Processes</text><g id=\"box1_processes_text\"><text fill=\"black\" font-size=\"12\" style=\"text-anchor:left; dominant-baseline:mathematical\" x=\"350.0\" y=\"115.5\"/><text fill=\"black\" font-size=\"12\" style=\"text-anchor:left; dominant-baseline:mathematical\" x=\"350.0\" y=\"130.5\"/><text fill=\"black\" font-size=\"12\" style=\"text-anchor:left; dominant-baseline:mathematical\" x=\"350.0\" y=\"145.5\"/></g><g id=\"box1_processes_children\"/></g><g id=\"box1_reactions\"><rect fill=\"darkgrey\" height=\"60.0\" id=\"box1_reactions_rect\" opacity=\"0.5\" stroke=\"white\" stroke-opacity=\"1\" stroke-width=\"3\" width=\"280\" x=\"340.0\" y=\"195.0\"/><text fill=\"black\" font-size=\"15\" id=\"box1_reactions_title\" style=\"text-anchor:left; dominant-baseline:mathematical\" x=\"340.0\" y=\"183.75\">Reactions</text><g id=\"box1_reactions_text\"><text fill=\"black\" font-size=\"12\" style=\"text-anchor:left; dominant-baseline:mathematical\" x=\"350.0\" y=\"210.0\">Reaction1</text><text fill=\"black\" font-size=\"12\" style=\"text-anchor:left; dominant-baseline:mathematical\" x=\"350.0\" y=\"225.0\">Reaction2</text><text fill=\"black\" font-size=\"12\" style=\"text-anchor:left; dominant-baseline:mathematical\" x=\"350.0\" y=\"240.0\"/></g><g id=\"box1_reactions_children\"/></g></g></g><g id=\"box2_box\"><rect fill=\"lightgrey\" height=\"264.0\" id=\"box2_box_rect\" opacity=\"0.7\" stroke=\"black\" stroke-opacity=\"1\" stroke-width=\"5\" width=\"300\" x=\"-330.0\" y=\"36.0\"/><text fill=\"black\" font-size=\"24\" id=\"box2_box_title\" style=\"text-anchor:middle; dominant-baseline:mathematical\" x=\"-180.0\" y=\"18.0\">Box 2</text><g id=\"box2_box_text\"><text fill=\"black\" font-size=\"12\" style=\"text-anchor:left; dominant-baseline:mathematical\" x=\"-320.0\" y=\"50.0\">Fluid: water</text><text fill=\"black\" font-size=\"12\" style=\"text-anchor:left; dominant-baseline:mathematical\" x=\"-320.0\" y=\"64.0\">Mass: 1.000e+05 kilogram</text></g><g id=\"box2_box_children\"><g id=\"box2_processes\"><rect fill=\"darkgrey\" height=\"60.0\" id=\"box2_processes_rect\" opacity=\"0.5\" stroke=\"white\" stroke-opacity=\"1\" stroke-width=\"3\" width=\"280\" x=\"-320.0\" y=\"100.5\"/><text fill=\"black\" font-size=\"15\" id=\"box2_processes_title\" style=\"text-anchor:left; dominant-baseline:mathematical\" x=\"-320.0\" y=\"89.25\">Processes</text><g id=\"box2_processes_text\"><text fill=\"black\" font-size=\"12\" style=\"text-anchor:left; dominant-baseline:mathematical\" x=\"-310.0\" y=\"115.5\"/><text fill=\"black\" font-size=\"12\" style=\"text-anchor:left; dominant-baseline:mathematical\" x=\"-310.0\" y=\"130.5\"/><text fill=\"black\" font-size=\"12\" style=\"text-anchor:left; dominant-baseline:mathematical\" x=\"-310.0\" y=\"145.5\"/></g><g id=\"box2_processes_children\"/></g><g id=\"box2_reactions\"><rect fill=\"darkgrey\" height=\"60.0\" id=\"box2_reactions_rect\" opacity=\"0.5\" stroke=\"white\" stroke-opacity=\"1\" stroke-width=\"3\" width=\"280\" x=\"-320.0\" y=\"195.0\"/><text fill=\"black\" font-size=\"15\" id=\"box2_reactions_title\" style=\"text-anchor:left; dominant-baseline:mathematical\" x=\"-320.0\" y=\"183.75\">Reactions</text><g id=\"box2_reactions_text\"><text fill=\"black\" font-size=\"12\" style=\"text-anchor:left; dominant-baseline:mathematical\" x=\"-310.0\" y=\"210.0\">Reaction1</text><text fill=\"black\" font-size=\"12\" style=\"text-anchor:left; dominant-baseline:mathematical\" x=\"-310.0\" y=\"225.0\">Reaction2</text><text fill=\"black\" font-size=\"12\" style=\"text-anchor:left; dominant-baseline:mathematical\" x=\"-310.0\" y=\"240.0\"/></g><g id=\"box2_reactions_children\"/></g></g></g><line marker-end=\"url(#id4)\" stroke=\"darkblue\" stroke-width=\"4\" x1=\"705.0\" x2=\"634.0\" y1=\"150.0\" y2=\"150.0\"/><line marker-end=\"url(#id5)\" stroke=\"darkblue\" stroke-width=\"4\" x1=\"330.0\" x2=\"-26.0\" y1=\"150.0\" y2=\"150.0\"/><line marker-end=\"url(#id6)\" stroke=\"darkblue\" stroke-width=\"4\" x1=\"-330.0\" x2=\"-401.0\" y1=\"150.0\" y2=\"150.0\"/></g></svg>"
      ],
      "text/plain": [
       "<IPython.core.display.SVG object>"
      ]
     },
     "execution_count": 20,
     "metadata": {},
     "output_type": "execute_result"
    }
   ],
   "source": [
    "SVG('system3.svg')"
   ]
  },
  {
   "cell_type": "code",
   "execution_count": null,
   "metadata": {
    "collapsed": true
   },
   "outputs": [],
   "source": []
  },
  {
   "cell_type": "code",
   "execution_count": null,
   "metadata": {
    "collapsed": true
   },
   "outputs": [],
   "source": []
  },
  {
   "cell_type": "code",
   "execution_count": 45,
   "metadata": {
    "collapsed": true
   },
   "outputs": [],
   "source": [
    "import pandas as pd"
   ]
  },
  {
   "cell_type": "code",
   "execution_count": 47,
   "metadata": {
    "collapsed": true
   },
   "outputs": [],
   "source": [
    "a = np.ones(10)*ur.meter"
   ]
  },
  {
   "cell_type": "code",
   "execution_count": 48,
   "metadata": {},
   "outputs": [
    {
     "ename": "AttributeError",
     "evalue": "module 'pandas' has no attribute 'dataframe'",
     "output_type": "error",
     "traceback": [
      "\u001b[0;31m---------------------------------------------------------------------------\u001b[0m",
      "\u001b[0;31mAttributeError\u001b[0m                            Traceback (most recent call last)",
      "\u001b[0;32m<ipython-input-48-d2dbdb45bdb5>\u001b[0m in \u001b[0;36m<module>\u001b[0;34m()\u001b[0m\n\u001b[0;32m----> 1\u001b[0;31m \u001b[0mpd\u001b[0m\u001b[0;34m.\u001b[0m\u001b[0mdataframe\u001b[0m\u001b[0;34m\u001b[0m\u001b[0m\n\u001b[0m",
      "\u001b[0;31mAttributeError\u001b[0m: module 'pandas' has no attribute 'dataframe'"
     ]
    }
   ],
   "source": [
    "pd.dataframe"
   ]
  },
  {
   "cell_type": "code",
   "execution_count": 54,
   "metadata": {
    "collapsed": true
   },
   "outputs": [],
   "source": [
    "b = {'lake': {'phosphate': pd.Series(a)}}"
   ]
  },
  {
   "cell_type": "code",
   "execution_count": 62,
   "metadata": {},
   "outputs": [
    {
     "data": {
      "text/plain": [
       "0    1.0\n",
       "1    1.0\n",
       "2    1.0\n",
       "3    1.0\n",
       "4    1.0\n",
       "5    1.0\n",
       "6    1.0\n",
       "7    1.0\n",
       "8    1.0\n",
       "9    1.0\n",
       "dtype: float64"
      ]
     },
     "execution_count": 62,
     "metadata": {},
     "output_type": "execute_result"
    }
   ],
   "source": [
    "pd.Series(a)"
   ]
  },
  {
   "cell_type": "code",
   "execution_count": 7,
   "metadata": {
    "collapsed": true
   },
   "outputs": [],
   "source": [
    "import numpy as np"
   ]
  },
  {
   "cell_type": "code",
   "execution_count": 13,
   "metadata": {
    "collapsed": true
   },
   "outputs": [],
   "source": [
    "time_array = np.arange(0, 100)\n",
    "cols = [('1', 'A'), ('1', 'B'), ('2', 'A'), ('2', 'B')]"
   ]
  },
  {
   "cell_type": "code",
   "execution_count": 17,
   "metadata": {},
   "outputs": [
    {
     "data": {
      "text/html": [
       "<div>\n",
       "<style>\n",
       "    .dataframe thead tr:only-child th {\n",
       "        text-align: right;\n",
       "    }\n",
       "\n",
       "    .dataframe thead th {\n",
       "        text-align: left;\n",
       "    }\n",
       "\n",
       "    .dataframe tbody tr th {\n",
       "        vertical-align: top;\n",
       "    }\n",
       "</style>\n",
       "<table border=\"1\" class=\"dataframe\">\n",
       "  <thead>\n",
       "    <tr>\n",
       "      <th></th>\n",
       "      <th colspan=\"2\" halign=\"left\">1</th>\n",
       "      <th colspan=\"2\" halign=\"left\">2</th>\n",
       "    </tr>\n",
       "    <tr>\n",
       "      <th></th>\n",
       "      <th>A</th>\n",
       "      <th>B</th>\n",
       "      <th>A</th>\n",
       "      <th>B</th>\n",
       "    </tr>\n",
       "  </thead>\n",
       "  <tbody>\n",
       "    <tr>\n",
       "      <th>0</th>\n",
       "      <td>NaN</td>\n",
       "      <td>NaN</td>\n",
       "      <td>NaN</td>\n",
       "      <td>NaN</td>\n",
       "    </tr>\n",
       "    <tr>\n",
       "      <th>1</th>\n",
       "      <td>NaN</td>\n",
       "      <td>NaN</td>\n",
       "      <td>NaN</td>\n",
       "      <td>NaN</td>\n",
       "    </tr>\n",
       "    <tr>\n",
       "      <th>2</th>\n",
       "      <td>NaN</td>\n",
       "      <td>NaN</td>\n",
       "      <td>NaN</td>\n",
       "      <td>NaN</td>\n",
       "    </tr>\n",
       "    <tr>\n",
       "      <th>3</th>\n",
       "      <td>NaN</td>\n",
       "      <td>NaN</td>\n",
       "      <td>NaN</td>\n",
       "      <td>NaN</td>\n",
       "    </tr>\n",
       "    <tr>\n",
       "      <th>4</th>\n",
       "      <td>NaN</td>\n",
       "      <td>NaN</td>\n",
       "      <td>NaN</td>\n",
       "      <td>NaN</td>\n",
       "    </tr>\n",
       "    <tr>\n",
       "      <th>5</th>\n",
       "      <td>NaN</td>\n",
       "      <td>NaN</td>\n",
       "      <td>NaN</td>\n",
       "      <td>NaN</td>\n",
       "    </tr>\n",
       "    <tr>\n",
       "      <th>6</th>\n",
       "      <td>NaN</td>\n",
       "      <td>NaN</td>\n",
       "      <td>NaN</td>\n",
       "      <td>NaN</td>\n",
       "    </tr>\n",
       "    <tr>\n",
       "      <th>7</th>\n",
       "      <td>NaN</td>\n",
       "      <td>NaN</td>\n",
       "      <td>NaN</td>\n",
       "      <td>NaN</td>\n",
       "    </tr>\n",
       "    <tr>\n",
       "      <th>8</th>\n",
       "      <td>NaN</td>\n",
       "      <td>NaN</td>\n",
       "      <td>NaN</td>\n",
       "      <td>NaN</td>\n",
       "    </tr>\n",
       "    <tr>\n",
       "      <th>9</th>\n",
       "      <td>NaN</td>\n",
       "      <td>NaN</td>\n",
       "      <td>NaN</td>\n",
       "      <td>NaN</td>\n",
       "    </tr>\n",
       "    <tr>\n",
       "      <th>10</th>\n",
       "      <td>NaN</td>\n",
       "      <td>NaN</td>\n",
       "      <td>NaN</td>\n",
       "      <td>NaN</td>\n",
       "    </tr>\n",
       "    <tr>\n",
       "      <th>11</th>\n",
       "      <td>NaN</td>\n",
       "      <td>NaN</td>\n",
       "      <td>NaN</td>\n",
       "      <td>NaN</td>\n",
       "    </tr>\n",
       "    <tr>\n",
       "      <th>12</th>\n",
       "      <td>NaN</td>\n",
       "      <td>NaN</td>\n",
       "      <td>NaN</td>\n",
       "      <td>NaN</td>\n",
       "    </tr>\n",
       "    <tr>\n",
       "      <th>13</th>\n",
       "      <td>NaN</td>\n",
       "      <td>NaN</td>\n",
       "      <td>NaN</td>\n",
       "      <td>NaN</td>\n",
       "    </tr>\n",
       "    <tr>\n",
       "      <th>14</th>\n",
       "      <td>NaN</td>\n",
       "      <td>NaN</td>\n",
       "      <td>NaN</td>\n",
       "      <td>NaN</td>\n",
       "    </tr>\n",
       "    <tr>\n",
       "      <th>15</th>\n",
       "      <td>NaN</td>\n",
       "      <td>NaN</td>\n",
       "      <td>NaN</td>\n",
       "      <td>NaN</td>\n",
       "    </tr>\n",
       "    <tr>\n",
       "      <th>16</th>\n",
       "      <td>NaN</td>\n",
       "      <td>NaN</td>\n",
       "      <td>NaN</td>\n",
       "      <td>NaN</td>\n",
       "    </tr>\n",
       "    <tr>\n",
       "      <th>17</th>\n",
       "      <td>NaN</td>\n",
       "      <td>NaN</td>\n",
       "      <td>NaN</td>\n",
       "      <td>NaN</td>\n",
       "    </tr>\n",
       "    <tr>\n",
       "      <th>18</th>\n",
       "      <td>NaN</td>\n",
       "      <td>NaN</td>\n",
       "      <td>NaN</td>\n",
       "      <td>NaN</td>\n",
       "    </tr>\n",
       "    <tr>\n",
       "      <th>19</th>\n",
       "      <td>NaN</td>\n",
       "      <td>NaN</td>\n",
       "      <td>NaN</td>\n",
       "      <td>NaN</td>\n",
       "    </tr>\n",
       "    <tr>\n",
       "      <th>20</th>\n",
       "      <td>NaN</td>\n",
       "      <td>NaN</td>\n",
       "      <td>NaN</td>\n",
       "      <td>NaN</td>\n",
       "    </tr>\n",
       "    <tr>\n",
       "      <th>21</th>\n",
       "      <td>NaN</td>\n",
       "      <td>NaN</td>\n",
       "      <td>NaN</td>\n",
       "      <td>NaN</td>\n",
       "    </tr>\n",
       "    <tr>\n",
       "      <th>22</th>\n",
       "      <td>NaN</td>\n",
       "      <td>NaN</td>\n",
       "      <td>NaN</td>\n",
       "      <td>NaN</td>\n",
       "    </tr>\n",
       "    <tr>\n",
       "      <th>23</th>\n",
       "      <td>NaN</td>\n",
       "      <td>NaN</td>\n",
       "      <td>NaN</td>\n",
       "      <td>NaN</td>\n",
       "    </tr>\n",
       "    <tr>\n",
       "      <th>24</th>\n",
       "      <td>NaN</td>\n",
       "      <td>NaN</td>\n",
       "      <td>NaN</td>\n",
       "      <td>NaN</td>\n",
       "    </tr>\n",
       "    <tr>\n",
       "      <th>25</th>\n",
       "      <td>NaN</td>\n",
       "      <td>NaN</td>\n",
       "      <td>NaN</td>\n",
       "      <td>NaN</td>\n",
       "    </tr>\n",
       "    <tr>\n",
       "      <th>26</th>\n",
       "      <td>NaN</td>\n",
       "      <td>NaN</td>\n",
       "      <td>NaN</td>\n",
       "      <td>NaN</td>\n",
       "    </tr>\n",
       "    <tr>\n",
       "      <th>27</th>\n",
       "      <td>NaN</td>\n",
       "      <td>NaN</td>\n",
       "      <td>NaN</td>\n",
       "      <td>NaN</td>\n",
       "    </tr>\n",
       "    <tr>\n",
       "      <th>28</th>\n",
       "      <td>NaN</td>\n",
       "      <td>NaN</td>\n",
       "      <td>NaN</td>\n",
       "      <td>NaN</td>\n",
       "    </tr>\n",
       "    <tr>\n",
       "      <th>29</th>\n",
       "      <td>NaN</td>\n",
       "      <td>NaN</td>\n",
       "      <td>NaN</td>\n",
       "      <td>NaN</td>\n",
       "    </tr>\n",
       "    <tr>\n",
       "      <th>...</th>\n",
       "      <td>...</td>\n",
       "      <td>...</td>\n",
       "      <td>...</td>\n",
       "      <td>...</td>\n",
       "    </tr>\n",
       "    <tr>\n",
       "      <th>70</th>\n",
       "      <td>NaN</td>\n",
       "      <td>NaN</td>\n",
       "      <td>NaN</td>\n",
       "      <td>NaN</td>\n",
       "    </tr>\n",
       "    <tr>\n",
       "      <th>71</th>\n",
       "      <td>NaN</td>\n",
       "      <td>NaN</td>\n",
       "      <td>NaN</td>\n",
       "      <td>NaN</td>\n",
       "    </tr>\n",
       "    <tr>\n",
       "      <th>72</th>\n",
       "      <td>NaN</td>\n",
       "      <td>NaN</td>\n",
       "      <td>NaN</td>\n",
       "      <td>NaN</td>\n",
       "    </tr>\n",
       "    <tr>\n",
       "      <th>73</th>\n",
       "      <td>NaN</td>\n",
       "      <td>NaN</td>\n",
       "      <td>NaN</td>\n",
       "      <td>NaN</td>\n",
       "    </tr>\n",
       "    <tr>\n",
       "      <th>74</th>\n",
       "      <td>NaN</td>\n",
       "      <td>NaN</td>\n",
       "      <td>NaN</td>\n",
       "      <td>NaN</td>\n",
       "    </tr>\n",
       "    <tr>\n",
       "      <th>75</th>\n",
       "      <td>NaN</td>\n",
       "      <td>NaN</td>\n",
       "      <td>NaN</td>\n",
       "      <td>NaN</td>\n",
       "    </tr>\n",
       "    <tr>\n",
       "      <th>76</th>\n",
       "      <td>NaN</td>\n",
       "      <td>NaN</td>\n",
       "      <td>NaN</td>\n",
       "      <td>NaN</td>\n",
       "    </tr>\n",
       "    <tr>\n",
       "      <th>77</th>\n",
       "      <td>NaN</td>\n",
       "      <td>NaN</td>\n",
       "      <td>NaN</td>\n",
       "      <td>NaN</td>\n",
       "    </tr>\n",
       "    <tr>\n",
       "      <th>78</th>\n",
       "      <td>NaN</td>\n",
       "      <td>NaN</td>\n",
       "      <td>NaN</td>\n",
       "      <td>NaN</td>\n",
       "    </tr>\n",
       "    <tr>\n",
       "      <th>79</th>\n",
       "      <td>NaN</td>\n",
       "      <td>NaN</td>\n",
       "      <td>NaN</td>\n",
       "      <td>NaN</td>\n",
       "    </tr>\n",
       "    <tr>\n",
       "      <th>80</th>\n",
       "      <td>NaN</td>\n",
       "      <td>NaN</td>\n",
       "      <td>NaN</td>\n",
       "      <td>NaN</td>\n",
       "    </tr>\n",
       "    <tr>\n",
       "      <th>81</th>\n",
       "      <td>NaN</td>\n",
       "      <td>NaN</td>\n",
       "      <td>NaN</td>\n",
       "      <td>NaN</td>\n",
       "    </tr>\n",
       "    <tr>\n",
       "      <th>82</th>\n",
       "      <td>NaN</td>\n",
       "      <td>NaN</td>\n",
       "      <td>NaN</td>\n",
       "      <td>NaN</td>\n",
       "    </tr>\n",
       "    <tr>\n",
       "      <th>83</th>\n",
       "      <td>NaN</td>\n",
       "      <td>NaN</td>\n",
       "      <td>NaN</td>\n",
       "      <td>NaN</td>\n",
       "    </tr>\n",
       "    <tr>\n",
       "      <th>84</th>\n",
       "      <td>NaN</td>\n",
       "      <td>NaN</td>\n",
       "      <td>NaN</td>\n",
       "      <td>NaN</td>\n",
       "    </tr>\n",
       "    <tr>\n",
       "      <th>85</th>\n",
       "      <td>NaN</td>\n",
       "      <td>NaN</td>\n",
       "      <td>NaN</td>\n",
       "      <td>NaN</td>\n",
       "    </tr>\n",
       "    <tr>\n",
       "      <th>86</th>\n",
       "      <td>NaN</td>\n",
       "      <td>NaN</td>\n",
       "      <td>NaN</td>\n",
       "      <td>NaN</td>\n",
       "    </tr>\n",
       "    <tr>\n",
       "      <th>87</th>\n",
       "      <td>NaN</td>\n",
       "      <td>NaN</td>\n",
       "      <td>NaN</td>\n",
       "      <td>NaN</td>\n",
       "    </tr>\n",
       "    <tr>\n",
       "      <th>88</th>\n",
       "      <td>NaN</td>\n",
       "      <td>NaN</td>\n",
       "      <td>NaN</td>\n",
       "      <td>NaN</td>\n",
       "    </tr>\n",
       "    <tr>\n",
       "      <th>89</th>\n",
       "      <td>NaN</td>\n",
       "      <td>NaN</td>\n",
       "      <td>NaN</td>\n",
       "      <td>NaN</td>\n",
       "    </tr>\n",
       "    <tr>\n",
       "      <th>90</th>\n",
       "      <td>NaN</td>\n",
       "      <td>NaN</td>\n",
       "      <td>NaN</td>\n",
       "      <td>NaN</td>\n",
       "    </tr>\n",
       "    <tr>\n",
       "      <th>91</th>\n",
       "      <td>NaN</td>\n",
       "      <td>NaN</td>\n",
       "      <td>NaN</td>\n",
       "      <td>NaN</td>\n",
       "    </tr>\n",
       "    <tr>\n",
       "      <th>92</th>\n",
       "      <td>NaN</td>\n",
       "      <td>NaN</td>\n",
       "      <td>NaN</td>\n",
       "      <td>NaN</td>\n",
       "    </tr>\n",
       "    <tr>\n",
       "      <th>93</th>\n",
       "      <td>NaN</td>\n",
       "      <td>NaN</td>\n",
       "      <td>NaN</td>\n",
       "      <td>NaN</td>\n",
       "    </tr>\n",
       "    <tr>\n",
       "      <th>94</th>\n",
       "      <td>NaN</td>\n",
       "      <td>NaN</td>\n",
       "      <td>NaN</td>\n",
       "      <td>NaN</td>\n",
       "    </tr>\n",
       "    <tr>\n",
       "      <th>95</th>\n",
       "      <td>NaN</td>\n",
       "      <td>NaN</td>\n",
       "      <td>NaN</td>\n",
       "      <td>NaN</td>\n",
       "    </tr>\n",
       "    <tr>\n",
       "      <th>96</th>\n",
       "      <td>NaN</td>\n",
       "      <td>NaN</td>\n",
       "      <td>NaN</td>\n",
       "      <td>NaN</td>\n",
       "    </tr>\n",
       "    <tr>\n",
       "      <th>97</th>\n",
       "      <td>NaN</td>\n",
       "      <td>NaN</td>\n",
       "      <td>NaN</td>\n",
       "      <td>NaN</td>\n",
       "    </tr>\n",
       "    <tr>\n",
       "      <th>98</th>\n",
       "      <td>NaN</td>\n",
       "      <td>NaN</td>\n",
       "      <td>NaN</td>\n",
       "      <td>NaN</td>\n",
       "    </tr>\n",
       "    <tr>\n",
       "      <th>99</th>\n",
       "      <td>NaN</td>\n",
       "      <td>NaN</td>\n",
       "      <td>NaN</td>\n",
       "      <td>NaN</td>\n",
       "    </tr>\n",
       "  </tbody>\n",
       "</table>\n",
       "<p>100 rows × 4 columns</p>\n",
       "</div>"
      ],
      "text/plain": [
       "      1         2     \n",
       "      A    B    A    B\n",
       "0   NaN  NaN  NaN  NaN\n",
       "1   NaN  NaN  NaN  NaN\n",
       "2   NaN  NaN  NaN  NaN\n",
       "3   NaN  NaN  NaN  NaN\n",
       "4   NaN  NaN  NaN  NaN\n",
       "5   NaN  NaN  NaN  NaN\n",
       "6   NaN  NaN  NaN  NaN\n",
       "7   NaN  NaN  NaN  NaN\n",
       "8   NaN  NaN  NaN  NaN\n",
       "9   NaN  NaN  NaN  NaN\n",
       "10  NaN  NaN  NaN  NaN\n",
       "11  NaN  NaN  NaN  NaN\n",
       "12  NaN  NaN  NaN  NaN\n",
       "13  NaN  NaN  NaN  NaN\n",
       "14  NaN  NaN  NaN  NaN\n",
       "15  NaN  NaN  NaN  NaN\n",
       "16  NaN  NaN  NaN  NaN\n",
       "17  NaN  NaN  NaN  NaN\n",
       "18  NaN  NaN  NaN  NaN\n",
       "19  NaN  NaN  NaN  NaN\n",
       "20  NaN  NaN  NaN  NaN\n",
       "21  NaN  NaN  NaN  NaN\n",
       "22  NaN  NaN  NaN  NaN\n",
       "23  NaN  NaN  NaN  NaN\n",
       "24  NaN  NaN  NaN  NaN\n",
       "25  NaN  NaN  NaN  NaN\n",
       "26  NaN  NaN  NaN  NaN\n",
       "27  NaN  NaN  NaN  NaN\n",
       "28  NaN  NaN  NaN  NaN\n",
       "29  NaN  NaN  NaN  NaN\n",
       "..  ...  ...  ...  ...\n",
       "70  NaN  NaN  NaN  NaN\n",
       "71  NaN  NaN  NaN  NaN\n",
       "72  NaN  NaN  NaN  NaN\n",
       "73  NaN  NaN  NaN  NaN\n",
       "74  NaN  NaN  NaN  NaN\n",
       "75  NaN  NaN  NaN  NaN\n",
       "76  NaN  NaN  NaN  NaN\n",
       "77  NaN  NaN  NaN  NaN\n",
       "78  NaN  NaN  NaN  NaN\n",
       "79  NaN  NaN  NaN  NaN\n",
       "80  NaN  NaN  NaN  NaN\n",
       "81  NaN  NaN  NaN  NaN\n",
       "82  NaN  NaN  NaN  NaN\n",
       "83  NaN  NaN  NaN  NaN\n",
       "84  NaN  NaN  NaN  NaN\n",
       "85  NaN  NaN  NaN  NaN\n",
       "86  NaN  NaN  NaN  NaN\n",
       "87  NaN  NaN  NaN  NaN\n",
       "88  NaN  NaN  NaN  NaN\n",
       "89  NaN  NaN  NaN  NaN\n",
       "90  NaN  NaN  NaN  NaN\n",
       "91  NaN  NaN  NaN  NaN\n",
       "92  NaN  NaN  NaN  NaN\n",
       "93  NaN  NaN  NaN  NaN\n",
       "94  NaN  NaN  NaN  NaN\n",
       "95  NaN  NaN  NaN  NaN\n",
       "96  NaN  NaN  NaN  NaN\n",
       "97  NaN  NaN  NaN  NaN\n",
       "98  NaN  NaN  NaN  NaN\n",
       "99  NaN  NaN  NaN  NaN\n",
       "\n",
       "[100 rows x 4 columns]"
      ]
     },
     "execution_count": 17,
     "metadata": {},
     "output_type": "execute_result"
    }
   ],
   "source": [
    "df = pd.DataFrame(index=time_array, columns=cols)\n",
    "df.columns = pd.MultiIndex.from_tuples(df.columns)\n",
    "df"
   ]
  },
  {
   "cell_type": "code",
   "execution_count": 23,
   "metadata": {},
   "outputs": [
    {
     "data": {
      "text/plain": [
       "0"
      ]
     },
     "execution_count": 23,
     "metadata": {},
     "output_type": "execute_result"
    }
   ],
   "source": [
    "system.box_list[0].id"
   ]
  },
  {
   "cell_type": "code",
   "execution_count": 23,
   "metadata": {},
   "outputs": [
    {
     "data": {
      "text/plain": [
       "[('1', 'A'), ('2', 'B')]"
      ]
     },
     "execution_count": 23,
     "metadata": {},
     "output_type": "execute_result"
    }
   ],
   "source": [
    "list(zip(['1', '2'], ['A', 'B']))"
   ]
  },
  {
   "cell_type": "code",
   "execution_count": 39,
   "metadata": {},
   "outputs": [
    {
     "data": {
      "text/html": [
       "\\[\\begin{pmatrix}2 & 4 & 6\\end{pmatrix} kilogram\\]"
      ],
      "text/latex": [
       "$\\begin{pmatrix}2 & 4 & 6\\end{pmatrix}\\ \\mathrm{kilogram}$"
      ],
      "text/plain": [
       "<Quantity([2 4 6], 'kilogram')>"
      ]
     },
     "execution_count": 39,
     "metadata": {},
     "output_type": "execute_result"
    }
   ],
   "source": [
    "2 * ur.kg  * np.array([1,2,3])"
   ]
  },
  {
   "cell_type": "code",
   "execution_count": 44,
   "metadata": {
    "collapsed": true
   },
   "outputs": [],
   "source": [
    "a = 3.3"
   ]
  },
  {
   "cell_type": "code",
   "execution_count": 45,
   "metadata": {},
   "outputs": [
    {
     "data": {
      "text/plain": [
       "False"
      ]
     },
     "execution_count": 45,
     "metadata": {},
     "output_type": "execute_result"
    }
   ],
   "source": [
    "isinstance(a, int)"
   ]
  },
  {
   "cell_type": "code",
   "execution_count": 1,
   "metadata": {
    "collapsed": true
   },
   "outputs": [],
   "source": [
    "import pandas as pd"
   ]
  },
  {
   "cell_type": "code",
   "execution_count": null,
   "metadata": {
    "collapsed": true
   },
   "outputs": [],
   "source": [
    "pd.DataFrame('')"
   ]
  },
  {
   "cell_type": "code",
   "execution_count": null,
   "metadata": {
    "collapsed": true
   },
   "outputs": [],
   "source": []
  },
  {
   "cell_type": "code",
   "execution_count": 25,
   "metadata": {},
   "outputs": [
    {
     "ename": "MyTestException",
     "evalue": "YEAH IM THE default text of MyTestException!!",
     "output_type": "error",
     "traceback": [
      "\u001b[0;31m---------------------------------------------------------------------------\u001b[0m",
      "\u001b[0;31mMyTestException\u001b[0m                           Traceback (most recent call last)",
      "\u001b[0;32m<ipython-input-25-cfda2dcbc358>\u001b[0m in \u001b[0;36m<module>\u001b[0;34m()\u001b[0m\n\u001b[1;32m     15\u001b[0m \u001b[0;34m\u001b[0m\u001b[0m\n\u001b[1;32m     16\u001b[0m \u001b[0mmyex\u001b[0m \u001b[0;34m=\u001b[0m \u001b[0mMyTestException\u001b[0m\u001b[0;34m(\u001b[0m\u001b[0;34m)\u001b[0m\u001b[0;34m\u001b[0m\u001b[0m\n\u001b[0;32m---> 17\u001b[0;31m \u001b[0;32mraise\u001b[0m \u001b[0mmyex\u001b[0m\u001b[0;34m\u001b[0m\u001b[0m\n\u001b[0m",
      "\u001b[0;31mMyTestException\u001b[0m: YEAH IM THE default text of MyTestException!!"
     ]
    }
   ],
   "source": [
    "class MyBaseException(Exception):\n",
    "    DEFAULT_MESSAGE = None\n",
    "    \n",
    "    def __init__(self, message=None):\n",
    "        if message:\n",
    "            self.message = message\n",
    "        else:\n",
    "            self.message = self.DEFAULT_MESSAGE\n",
    "        super().__init__(self.message)\n",
    "\n",
    "        \n",
    "class MyTestException(MyBaseException):\n",
    "    DEFAULT_MESSAGE = 'YEAH IM THE default text of MyTestException!!'\n",
    "    \n",
    "    \n",
    "myex = MyTestException()\n",
    "raise myex"
   ]
  },
  {
   "cell_type": "code",
   "execution_count": 20,
   "metadata": {},
   "outputs": [
    {
     "ename": "Exception",
     "evalue": "bla",
     "output_type": "error",
     "traceback": [
      "\u001b[0;31m---------------------------------------------------------------------------\u001b[0m",
      "\u001b[0;31mException\u001b[0m                                 Traceback (most recent call last)",
      "\u001b[0;32m<ipython-input-20-1abfe6e5cf93>\u001b[0m in \u001b[0;36m<module>\u001b[0;34m()\u001b[0m\n\u001b[0;32m----> 1\u001b[0;31m \u001b[0;32mraise\u001b[0m \u001b[0mException\u001b[0m\u001b[0;34m(\u001b[0m\u001b[0;34m'bla'\u001b[0m\u001b[0;34m)\u001b[0m\u001b[0;34m\u001b[0m\u001b[0m\n\u001b[0m",
      "\u001b[0;31mException\u001b[0m: bla"
     ]
    }
   ],
   "source": []
  },
  {
   "cell_type": "code",
   "execution_count": null,
   "metadata": {
    "collapsed": true
   },
   "outputs": [],
   "source": []
  },
  {
   "cell_type": "code",
   "execution_count": 62,
   "metadata": {},
   "outputs": [
    {
     "name": "stdout",
     "output_type": "stream",
     "text": [
      "{1: <Quantity(3.0, 'meter / second')>}\n",
      "{3: <Quantity(4.0, 'meter / hour')>}\n"
     ]
    }
   ],
   "source": [
    "import pint \n",
    "from boxsimu import dimensionality_validation as bs_dim_val\n",
    "from boxsimu import errors as bs_errors\n",
    "from keyword import iskeyword\n",
    "\n",
    "\n",
    "class BaseDictDescriptor:\n",
    "    \"\"\"Check if keys and values are instances of the correct class.\"\"\"\n",
    "    def __init__(self, name, key_class, value_class):\n",
    "        self.name = '_' + name\n",
    "        self.name_raw = name\n",
    "        self.key_class = key_class\n",
    "        self.value_class = value_class\n",
    "        \n",
    "    def __get__(self, instance, instance_type):\n",
    "        return getattr(instance, self.name)\n",
    "    \n",
    "    def __set__(self, instance, value):\n",
    "        if instance is None: return self\n",
    "        if value is None: return \n",
    "        self.check_key_value_types(value)\n",
    "        setattr(instance, self.name, value)\n",
    "        \n",
    "    def check_key_value_types(self, value):\n",
    "        if not isinstance(value, dict):\n",
    "            raise bs_errors.NotInstanceOfError(self.name_raw, 'dict')\n",
    "        for k, v in value.items():\n",
    "            if not isinstance(k, self.key_class):\n",
    "                raise bs_errors.DictKeyNotInstanceOfError(\n",
    "                    self.name_raw, self.key_class)\n",
    "            if not isinstance(v, self.value_class):\n",
    "                raise bs_errors.DictValueNotInstanceOfError(\n",
    "                    self.name_raw, self.value_class)\n",
    "        \n",
    "        \n",
    "class DictValuePintQuantityDescriptor(BaseDictDescriptor):\n",
    "    \"\"\"Check if keys have the correct type and values are pint quantites.\"\"\"\n",
    "    def __init__(self, name, key_class, *units):\n",
    "        super().__init__(name, key_class, pint.quantity._Quantity)\n",
    "        self.units = units\n",
    "    \n",
    "    def check_key_value_types(self, value):\n",
    "        super().check_key_value_types(value)\n",
    "        for k, v in value.items():\n",
    "            bs_dim_val.raise_if_not(v, *self.units)\n",
    "        \n",
    "            \n",
    "class A:\n",
    "    dict1 = DictValuePintQuantityDescriptor('dict1', int, ur.meter/ur.second)\n",
    "    \n",
    "    def __init__(self, dict1):\n",
    "        self.dict1 = dict1\n",
    "\n",
    "a = A({1: 3*ur.meter/ur.second})\n",
    "print(a.dict1)\n",
    "a.dict1 = {3: 4*ur.meter/ur.hour}\n",
    "print(a.dict1)"
   ]
  },
  {
   "cell_type": "code",
   "execution_count": 34,
   "metadata": {
    "collapsed": true
   },
   "outputs": [],
   "source": [
    "class VariableConcentrationDictDescriptor:\n",
    "    \"\"\"Check correct pint-dimensionality of attribute.\"\"\"\n",
    "    def __init__(self, name, units, default=None):\n",
    "        self.name = '_' + name\n",
    "        self.units = units\n",
    "        self.default = default\n",
    "\n",
    "    def __get__(self, instance, instance_type):\n",
    "        return getattr(instance, self.name, self.default)\n",
    "    \n",
    "    def __set__(self, instance, value):\n",
    "        if instance is None: return self\n",
    "        if value is None: return \n",
    "        if callable(value):\n",
    "            func_decorator = bs_dim_val.decorator_raise_if_not(self.units)\n",
    "            setattr(instance, self.name, func_decorator(value))\n",
    "        else:\n",
    "            bs_dim_val.raise_if_not(value, self.units)\n",
    "            setattr(instance, self.name, value.to_base_units())\n"
   ]
  },
  {
   "cell_type": "code",
   "execution_count": 3,
   "metadata": {
    "collapsed": true
   },
   "outputs": [],
   "source": [
    "%load_ext Cython"
   ]
  },
  {
   "cell_type": "code",
   "execution_count": 29,
   "metadata": {
    "collapsed": true
   },
   "outputs": [],
   "source": [
    "from boxsimu import dimensionality_validation as bs_dim_val\n",
    "from keyword import iskeyword\n",
    "\n",
    "\n",
    "class PintQuantityDescriptor:\n",
    "    \"\"\"Check correct pint-dimensionality of attribute.\"\"\"\n",
    "    def __init__(self, name, units, default=None):\n",
    "        self.name = '_' + name\n",
    "        self.name_raw = name\n",
    "        self.units = units\n",
    "        self.default = default\n",
    "\n",
    "    def __get__(self, instance, instance_type):\n",
    "        if self.is_static:\n",
    "            return getattr(instance, self.name, self.default)\n",
    "        else:\n",
    "            raise ValueError('{0} is not a constant. {0} must be called '\n",
    "                'as a function'.format(self.name_raw))\n",
    "    \n",
    "    def __set__(self, instance, value):\n",
    "        if instance is None: return self\n",
    "        if value is None: return\n",
    "        if callable(value):\n",
    "            self.is_static = False\n",
    "            self.is_dynamic = True\n",
    "            setattr(instance, self.name, value)\n",
    "        else:\n",
    "            self.is_static = True\n",
    "            self.is_dynamic = False\n",
    "            bs_dim_val.raise_if_not(value, self.units)\n",
    "            setattr(instance, self.name, value.to_base_units())\n",
    "\n",
    "    def __call__(self, time, condition, system):\n",
    "        if callable(self.value):\n",
    "            return self.value(time, condition, system)\n",
    "        else:\n",
    "            return getattr(instance, self.name, self.default)\n",
    "        "
   ]
  },
  {
   "cell_type": "code",
   "execution_count": 30,
   "metadata": {
    "collapsed": true
   },
   "outputs": [],
   "source": [
    "class A:\n",
    "    rate = PintQuantityDescriptor('rate', ur.meter/ur.second)\n",
    "    \n",
    "    def __init__(self, rate):\n",
    "        self.rate = rate\n",
    "\n",
    "a = A(lambda t, c, sys: t*ur.meter/ur.second)"
   ]
  },
  {
   "cell_type": "code",
   "execution_count": 31,
   "metadata": {},
   "outputs": [
    {
     "ename": "AttributeError",
     "evalue": "'PintQuantityDescriptor' object has no attribute 'value'",
     "output_type": "error",
     "traceback": [
      "\u001b[0;31m---------------------------------------------------------------------------\u001b[0m",
      "\u001b[0;31mAttributeError\u001b[0m                            Traceback (most recent call last)",
      "\u001b[0;32m<ipython-input-31-4b0e7b2bff00>\u001b[0m in \u001b[0;36m<module>\u001b[0;34m()\u001b[0m\n\u001b[0;32m----> 1\u001b[0;31m \u001b[0ma\u001b[0m\u001b[0;34m.\u001b[0m\u001b[0mrate\u001b[0m\u001b[0;34m(\u001b[0m\u001b[0;36m0\u001b[0m\u001b[0;34m,\u001b[0m \u001b[0;36m0\u001b[0m\u001b[0;34m,\u001b[0m \u001b[0;36m0\u001b[0m\u001b[0;34m)\u001b[0m\u001b[0;34m\u001b[0m\u001b[0m\n\u001b[0m",
      "\u001b[0;32m<ipython-input-29-3a3b4b78240c>\u001b[0m in \u001b[0;36m__get__\u001b[0;34m(self, instance, instance_type)\u001b[0m\n\u001b[1;32m     15\u001b[0m             \u001b[0;32mreturn\u001b[0m \u001b[0mgetattr\u001b[0m\u001b[0;34m(\u001b[0m\u001b[0minstance\u001b[0m\u001b[0;34m,\u001b[0m \u001b[0mself\u001b[0m\u001b[0;34m.\u001b[0m\u001b[0mname\u001b[0m\u001b[0;34m,\u001b[0m \u001b[0mself\u001b[0m\u001b[0;34m.\u001b[0m\u001b[0mdefault\u001b[0m\u001b[0;34m)\u001b[0m\u001b[0;34m\u001b[0m\u001b[0m\n\u001b[1;32m     16\u001b[0m         \u001b[0;32melse\u001b[0m\u001b[0;34m:\u001b[0m\u001b[0;34m\u001b[0m\u001b[0m\n\u001b[0;32m---> 17\u001b[0;31m             \u001b[0mself\u001b[0m\u001b[0;34m(\u001b[0m\u001b[0;36m0\u001b[0m\u001b[0;34m,\u001b[0m\u001b[0;36m0\u001b[0m\u001b[0;34m,\u001b[0m\u001b[0;36m0\u001b[0m\u001b[0;34m)\u001b[0m\u001b[0;34m\u001b[0m\u001b[0m\n\u001b[0m\u001b[1;32m     18\u001b[0m             raise ValueError('{0} is not a constant. {0} must be called '\n\u001b[1;32m     19\u001b[0m                 'as a function'.format(self.name_raw))\n",
      "\u001b[0;32m<ipython-input-29-3a3b4b78240c>\u001b[0m in \u001b[0;36m__call__\u001b[0;34m(self, time, condition, system)\u001b[0m\n\u001b[1;32m     33\u001b[0m \u001b[0;34m\u001b[0m\u001b[0m\n\u001b[1;32m     34\u001b[0m     \u001b[0;32mdef\u001b[0m \u001b[0m__call__\u001b[0m\u001b[0;34m(\u001b[0m\u001b[0mself\u001b[0m\u001b[0;34m,\u001b[0m \u001b[0mtime\u001b[0m\u001b[0;34m,\u001b[0m \u001b[0mcondition\u001b[0m\u001b[0;34m,\u001b[0m \u001b[0msystem\u001b[0m\u001b[0;34m)\u001b[0m\u001b[0;34m:\u001b[0m\u001b[0;34m\u001b[0m\u001b[0m\n\u001b[0;32m---> 35\u001b[0;31m         \u001b[0;32mif\u001b[0m \u001b[0mcallable\u001b[0m\u001b[0;34m(\u001b[0m\u001b[0mself\u001b[0m\u001b[0;34m.\u001b[0m\u001b[0mvalue\u001b[0m\u001b[0;34m)\u001b[0m\u001b[0;34m:\u001b[0m\u001b[0;34m\u001b[0m\u001b[0m\n\u001b[0m\u001b[1;32m     36\u001b[0m             \u001b[0;32mreturn\u001b[0m \u001b[0mself\u001b[0m\u001b[0;34m.\u001b[0m\u001b[0mvalue\u001b[0m\u001b[0;34m(\u001b[0m\u001b[0mtime\u001b[0m\u001b[0;34m,\u001b[0m \u001b[0mcondition\u001b[0m\u001b[0;34m,\u001b[0m \u001b[0msystem\u001b[0m\u001b[0;34m)\u001b[0m\u001b[0;34m\u001b[0m\u001b[0m\n\u001b[1;32m     37\u001b[0m         \u001b[0;32melse\u001b[0m\u001b[0;34m:\u001b[0m\u001b[0;34m\u001b[0m\u001b[0m\n",
      "\u001b[0;31mAttributeError\u001b[0m: 'PintQuantityDescriptor' object has no attribute 'value'"
     ]
    }
   ],
   "source": [
    "a.rate(0, 0, 0)"
   ]
  },
  {
   "cell_type": "code",
   "execution_count": 9,
   "metadata": {
    "collapsed": true
   },
   "outputs": [],
   "source": [
    "l = [1, False, False]"
   ]
  },
  {
   "cell_type": "code",
   "execution_count": 10,
   "metadata": {},
   "outputs": [
    {
     "data": {
      "text/plain": [
       "True"
      ]
     },
     "execution_count": 10,
     "metadata": {},
     "output_type": "execute_result"
    }
   ],
   "source": [
    "any(l)"
   ]
  },
  {
   "cell_type": "code",
   "execution_count": 12,
   "metadata": {
    "collapsed": true
   },
   "outputs": [],
   "source": [
    "class A:\n",
    "    pass\n",
    "\n",
    "a = A()"
   ]
  },
  {
   "cell_type": "code",
   "execution_count": 15,
   "metadata": {},
   "outputs": [
    {
     "data": {
      "text/plain": [
       "__main__.A"
      ]
     },
     "execution_count": 15,
     "metadata": {},
     "output_type": "execute_result"
    }
   ],
   "source": []
  },
  {
   "cell_type": "code",
   "execution_count": 8,
   "metadata": {},
   "outputs": [
    {
     "name": "stderr",
     "output_type": "stream",
     "text": [
      "[autoreload of boxsimu.transport failed: Traceback (most recent call last):\n",
      "  File \"/home/aschi/Envs/boxsimu/lib/python3.6/site-packages/IPython/extensions/autoreload.py\", line 246, in check\n",
      "    superreload(m, reload, self.old_objects)\n",
      "  File \"/home/aschi/Envs/boxsimu/lib/python3.6/site-packages/IPython/extensions/autoreload.py\", line 369, in superreload\n",
      "    module = reload(module)\n",
      "  File \"/home/aschi/Envs/boxsimu/lib/python3.6/imp.py\", line 314, in reload\n",
      "    return importlib.reload(module)\n",
      "  File \"/home/aschi/Envs/boxsimu/lib/python3.6/importlib/__init__.py\", line 166, in reload\n",
      "    _bootstrap._exec(spec, module)\n",
      "  File \"<frozen importlib._bootstrap>\", line 608, in _exec\n",
      "  File \"<frozen importlib._bootstrap_external>\", line 678, in exec_module\n",
      "  File \"<frozen importlib._bootstrap>\", line 205, in _call_with_frames_removed\n",
      "  File \"/home/aschi/Documents/MyPrivateRepo/boxsimu_project/boxsimu/transport.py\", line 140, in <module>\n",
      "    class Flow(BaseTransport):\n",
      "  File \"/home/aschi/Documents/MyPrivateRepo/boxsimu_project/boxsimu/transport.py\", line 171, in Flow\n",
      "    concentrations = bs_descriptors.DictValuePintQuantityDescriptor(\n",
      "AttributeError: module 'boxsimu.descriptors' has no attribute 'DictValuePintQuantityDescriptor'\n",
      "]\n"
     ]
    },
    {
     "data": {
      "text/plain": [
       "function"
      ]
     },
     "execution_count": 8,
     "metadata": {},
     "output_type": "execute_result"
    }
   ],
   "source": [
    "def a():\n",
    "    pass\n",
    "\n",
    "type(a)"
   ]
  },
  {
   "cell_type": "code",
   "execution_count": 10,
   "metadata": {},
   "outputs": [
    {
     "data": {
      "text/plain": [
       "True"
      ]
     },
     "execution_count": 10,
     "metadata": {},
     "output_type": "execute_result"
    }
   ],
   "source": [
    "isinstance(a, type(lambda a: a))"
   ]
  },
  {
   "cell_type": "code",
   "execution_count": 11,
   "metadata": {
    "collapsed": true
   },
   "outputs": [],
   "source": [
    "a_type = type(a)"
   ]
  },
  {
   "cell_type": "code",
   "execution_count": 14,
   "metadata": {},
   "outputs": [
    {
     "data": {
      "text/plain": [
       "[function, object]"
      ]
     },
     "execution_count": 14,
     "metadata": {},
     "output_type": "execute_result"
    }
   ],
   "source": [
    "a_type.mro()"
   ]
  },
  {
   "cell_type": "code",
   "execution_count": null,
   "metadata": {
    "collapsed": true
   },
   "outputs": [],
   "source": []
  }
 ],
 "metadata": {
  "kernelspec": {
   "display_name": "Python 3",
   "language": "python",
   "name": "python3"
  },
  "language_info": {
   "codemirror_mode": {
    "name": "ipython",
    "version": 3
   },
   "file_extension": ".py",
   "mimetype": "text/x-python",
   "name": "python",
   "nbconvert_exporter": "python",
   "pygments_lexer": "ipython3",
   "version": "3.6.1"
  }
 },
 "nbformat": 4,
 "nbformat_minor": 2
}
