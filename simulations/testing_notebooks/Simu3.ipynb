{
 "cells": [
  {
   "cell_type": "code",
   "execution_count": 1,
   "metadata": {},
   "outputs": [
    {
     "name": "stdout",
     "output_type": "stream",
     "text": [
      "The autoreload extension is already loaded. To reload it, use:\n",
      "  %reload_ext autoreload\n"
     ]
    }
   ],
   "source": [
    "%load_ext autoreload\n",
    "%autoreload 2\n",
    "%matplotlib inline"
   ]
  },
  {
   "cell_type": "code",
   "execution_count": 2,
   "metadata": {},
   "outputs": [],
   "source": [
    "import pyximport; pyximport.install()\n",
    "import sys\n",
    "from IPython.display import SVG\n",
    "\n",
    "BOXSIMU_PATH = '/home/aschi/Documents/MyPrivateRepo/boxsimu_project/'\n",
    "if not BOXSIMU_PATH in sys.path:\n",
    "    sys.path.append(BOXSIMU_PATH)\n",
    "    \n",
    "import boxsimu"
   ]
  },
  {
   "cell_type": "code",
   "execution_count": null,
   "metadata": {},
   "outputs": [],
   "source": []
  },
  {
   "cell_type": "code",
   "execution_count": null,
   "metadata": {},
   "outputs": [],
   "source": []
  },
  {
   "cell_type": "code",
   "execution_count": 3,
   "metadata": {
    "collapsed": true
   },
   "outputs": [],
   "source": [
    "%load_ext Cython"
   ]
  },
  {
   "cell_type": "code",
   "execution_count": 23,
   "metadata": {},
   "outputs": [],
   "source": [
    "# -*- coding: utf-8 -*-\n",
    "\n",
    "import sys\n",
    "import copy\n",
    "import numpy as np\n",
    "import datetime\n",
    "\n",
    "from matplotlib import pyplot as plt\n",
    "\n",
    "BOXSIMU_PATH = '/home/aschi/Documents/MyPrivateRepo/boxsimu_project/'\n",
    "if not BOXSIMU_PATH in sys.path:\n",
    "    sys.path.append(BOXSIMU_PATH)\n",
    "\n",
    "from boxsimu.simulations import boxmodelsystem3\n",
    "\n",
    "system = boxmodelsystem3.get_system()"
   ]
  },
  {
   "cell_type": "code",
   "execution_count": 24,
   "metadata": {},
   "outputs": [
    {
     "name": "stdout",
     "output_type": "stream",
     "text": [
      "corners [(330.0, 0.0), (630.0, 0.0), (630.0, 300.0), (330.0, 300.0)]\n",
      "corners [(330.0, 0.0), (630.0, 0.0), (630.0, 300.0), (330.0, 300.0)]\n",
      "corners [(-330.0, 4.0413344371862656e-14), (-30.0, 4.0413344371862656e-14), (-30.0, 300.00000000000006), (-330.0, 300.00000000000006)]\n",
      "corners [(-330.0, 4.0413344371862656e-14), (-30.0, 4.0413344371862656e-14), (-30.0, 300.00000000000006), (-330.0, 300.00000000000006)]\n"
     ]
    }
   ],
   "source": [
    "system.save_as_svg('test_svg')"
   ]
  },
  {
   "cell_type": "code",
   "execution_count": 25,
   "metadata": {},
   "outputs": [
    {
     "data": {
      "text/html": [
       "1.0 kilogram/second"
      ],
      "text/latex": [
       "$1.0\\ \\frac{\\mathrm{kilogram}}{\\mathrm{second}}$"
      ],
      "text/plain": [
       "<Quantity(1.0, 'kilogram / second')>"
      ]
     },
     "execution_count": 25,
     "metadata": {},
     "output_type": "execute_result"
    }
   ],
   "source": [
    "from boxsimu import dimensionality_validation\n",
    "from boxsimu import ur\n",
    "\n",
    "@dimensionality_validation.decorator_raise_if_not_mass_per_time\n",
    "def random_pint_unit_function(arg1, arg2):\n",
    "    return arg1 * arg2 * ur.meter\n",
    "\n",
    "random_pint_unit_function(1*ur.kg, 1/ur.second/ur.meter)"
   ]
  },
  {
   "cell_type": "code",
   "execution_count": 26,
   "metadata": {},
   "outputs": [
    {
     "data": {
      "text/plain": [
       "True"
      ]
     },
     "execution_count": 26,
     "metadata": {},
     "output_type": "execute_result"
    }
   ],
   "source": [
    "random_pint_unit_function._verified = True\n",
    "random_pint_unit_function._verified"
   ]
  },
  {
   "cell_type": "code",
   "execution_count": null,
   "metadata": {},
   "outputs": [
    {
     "name": "stdout",
     "output_type": "stream",
     "text": [
      "Start solving the box model...\n",
      "- total integration time: 200 month\n",
      "- dt (time step): 0.5 month\n",
      "0\n",
      "1\n",
      "2\n",
      "3\n",
      "4\n",
      "5\n",
      "6\n",
      "7\n",
      "8\n",
      "9\n",
      "10\n",
      "11\n",
      "12\n",
      "13\n",
      "14\n",
      "15\n",
      "16\n",
      "17\n",
      "18\n",
      "19\n",
      "20\n",
      "21\n",
      "22\n",
      "23\n",
      "24\n",
      "25\n",
      "26\n",
      "27\n",
      "28\n",
      "29\n",
      "30\n",
      "31\n",
      "32\n",
      "33\n",
      "34\n",
      "35\n",
      "36\n",
      "37\n",
      "38\n",
      "39\n",
      "10.0%\n",
      "40"
     ]
    }
   ],
   "source": [
    "import cProfile\n",
    "import re\n",
    "cProfile.run('system.solve(200*ur.month, 0.5*ur.month)', 'restats')"
   ]
  },
  {
   "cell_type": "code",
   "execution_count": null,
   "metadata": {},
   "outputs": [],
   "source": [
    "import pstats\n",
    "p = pstats.Stats('restats')"
   ]
  },
  {
   "cell_type": "code",
   "execution_count": 13,
   "metadata": {},
   "outputs": [
    {
     "name": "stdout",
     "output_type": "stream",
     "text": [
      "Wed Aug 30 17:32:15 2017    restats\n",
      "\n",
      "         35434656 function calls (35174707 primitive calls) in 36.031 seconds\n",
      "\n",
      "   Ordered by: standard name\n",
      "\n",
      "   ncalls  tottime  percall  cumtime  percall filename:lineno(function)\n",
      "        1    0.000    0.000    0.000    0.000 <frozen importlib._bootstrap>:989(_handle_fromlist)\n",
      "        1    0.001    0.001   36.031   36.031 <string>:1(<module>)\n",
      "        3    0.000    0.000    0.000    0.000 <string>:12(__new__)\n",
      "        3    0.000    0.000    0.000    0.000 __init__.py:26(tokenizer)\n",
      "   618126    0.586    0.000    1.074    0.000 __init__.py:82(_to_magnitude)\n",
      "       18    0.000    0.000    0.000    0.000 _collections_abc.py:302(__subclasshook__)\n",
      "       58    0.000    0.000    0.000    0.000 _collections_abc.py:392(__subclasshook__)\n",
      "   341980    0.261    0.000    0.349    0.000 _collections_abc.py:672(keys)\n",
      "   398818    0.302    0.000    0.399    0.000 _collections_abc.py:676(items)\n",
      "   740798    0.185    0.000    0.185    0.000 _collections_abc.py:698(__init__)\n",
      "        4    0.000    0.000    0.000    0.000 _collections_abc.py:701(__len__)\n",
      "   783866    0.399    0.000    0.659    0.000 _collections_abc.py:719(__iter__)\n",
      "   765943    0.617    0.000    1.049    0.000 _collections_abc.py:742(__iter__)\n",
      "     3200    0.003    0.000    0.042    0.000 _methods.py:31(_sum)\n",
      "     2400    0.003    0.000    0.045    0.000 _methods.py:37(_any)\n",
      "       95    0.000    0.000    0.000    0.000 _weakrefset.py:16(__init__)\n",
      "       95    0.000    0.000    0.000    0.000 _weakrefset.py:20(__enter__)\n",
      "       95    0.000    0.000    0.000    0.000 _weakrefset.py:26(__exit__)\n",
      "        8    0.000    0.000    0.000    0.000 _weakrefset.py:36(__init__)\n",
      "       95    0.000    0.000    0.000    0.000 _weakrefset.py:52(_commit_removals)\n",
      "      158    0.000    0.000    0.001    0.000 _weakrefset.py:58(__iter__)\n",
      "  2156336    1.126    0.000    1.126    0.000 _weakrefset.py:70(__contains__)\n",
      "       95    0.000    0.000    0.000    0.000 _weakrefset.py:81(add)\n",
      "  1357867    1.580    0.000    2.707    0.000 abc.py:178(__instancecheck__)\n",
      "    151/6    0.001    0.000    0.002    0.000 abc.py:194(__subclasscheck__)\n",
      "    82000    0.035    0.000    0.035    0.000 box.py:104(id)\n",
      "    10400    0.003    0.000    0.003    0.000 box.py:115(name)\n",
      "     2400    0.015    0.000    0.237    0.000 boxmodelsystem3.py:53(<lambda>)\n",
      "    12800    0.187    0.000    3.615    0.000 boxmodelsystem3.py:62(<lambda>)\n",
      "    12800    0.201    0.000    3.962    0.000 boxmodelsystem3.py:65(rr2)\n",
      "    46002    0.046    0.000    0.070    0.000 chainmap.py:95(__bool__)\n",
      "    50800    0.112    0.000    2.077    0.000 condition.py:35(set_surrounding_condition)\n",
      "    699/1    0.001    0.000    0.003    0.003 copy.py:132(deepcopy)\n",
      "      498    0.000    0.000    0.000    0.000 copy.py:190(_deepcopy_atomic)\n",
      "     15/6    0.000    0.000    0.002    0.000 copy.py:210(_deepcopy_list)\n",
      "        7    0.000    0.000    0.001    0.000 copy.py:219(_deepcopy_tuple)\n",
      "        7    0.000    0.000    0.001    0.000 copy.py:220(<listcomp>)\n",
      "     53/1    0.000    0.000    0.003    0.003 copy.py:236(_deepcopy_dict)\n",
      "      160    0.000    0.000    0.000    0.000 copy.py:252(_keep_alive)\n",
      "     62/1    0.000    0.000    0.003    0.003 copy.py:268(_reconstruct)\n",
      "      124    0.000    0.000    0.000    0.000 copy.py:273(<genexpr>)\n",
      "       62    0.000    0.000    0.000    0.000 copyreg.py:87(__newobj__)\n",
      "        4    0.000    0.000    0.000    0.000 copyreg.py:96(_slotnames)\n",
      "   624689    0.216    0.000    0.216    0.000 definitions.py:35(is_multiplicative)\n",
      "        3    0.000    0.000    0.000    0.000 definitions.py:75(converter)\n",
      "   363600    0.222    0.000    0.371    0.000 descriptors.py:20(__get__)\n",
      "     4000    0.014    0.000    0.205    0.000 descriptors.py:23(__set__)\n",
      "     4000    0.007    0.000    0.213    0.000 descriptors.py:33(__set__)\n",
      "        3    0.000    0.000    0.000    0.000 dictionary.py:16(__init__)\n",
      "        7    0.000    0.000    0.000    0.000 dictionary.py:28(__getstate__)\n",
      "        7    0.000    0.000    0.000    0.000 dictionary.py:38(__setstate__)\n",
      "        4    0.000    0.000    0.000    0.000 dimensionality_validation.py:126(raise_if_not_time)\n",
      "     9600    0.045    0.000    0.426    0.000 dimensionality_validation.py:146(raise_if_not_dimless)\n",
      "     1600    0.011    0.000    0.032    0.000 dimensionality_validation.py:153(get_single_shared_unit)\n",
      "    25600    0.114    0.000   10.834    0.000 dimensionality_validation.py:182(wrapper)\n",
      "    64804    0.170    0.000    1.128    0.000 dimensionality_validation.py:23(is_quantity_of_dimensionality)\n",
      "    25600    0.183    0.000    2.053    0.000 dimensionality_validation.py:79(is_mole_per_time)\n",
      "    13604    0.038    0.000    0.349    0.000 dimensionality_validation.py:91(raise_if_not)\n",
      "    13604    0.019    0.000    0.117    0.000 dimensionality_validation.py:99(<listcomp>)\n",
      "   173206    0.055    0.000    0.055    0.000 entities.py:162(name)\n",
      "     9600    0.016    0.000    0.255    0.000 entities.py:175(is_mobile)\n",
      "    21206    0.021    0.000    0.032    0.000 entities.py:43(__hash__)\n",
      "    68000    0.128    0.000    0.233    0.000 entities.py:46(__eq__)\n",
      "        4    0.000    0.000    0.000    0.000 enum.py:265(__call__)\n",
      "        4    0.000    0.000    0.000    0.000 enum.py:515(__new__)\n",
      "        2    0.000    0.000    0.000    0.000 enum.py:801(__and__)\n",
      "        2    0.000    0.000    0.000    0.000 formatting.py:104(formatter)\n",
      "        2    0.000    0.000    0.000    0.000 formatting.py:191(_parse_spec)\n",
      "        2    0.000    0.000    0.000    0.000 formatting.py:208(format_unit)\n",
      "        2    0.000    0.000    0.000    0.000 formatting.py:22(_join)\n",
      "        2    0.000    0.000    0.000    0.000 formatting.py:270(remove_custom_flags)\n",
      "     2400    0.015    0.000    0.074    0.000 fromnumeric.py:1886(any)\n",
      "      936    0.050    0.000    0.071    0.000 iostream.py:180(schedule)\n",
      "      826    0.002    0.000    0.003    0.000 iostream.py:284(_is_master_process)\n",
      "      826    0.001    0.000    0.006    0.000 iostream.py:297(_schedule_flush)\n",
      "      826    0.006    0.000    0.081    0.000 iostream.py:342(write)\n",
      "      936    0.002    0.000    0.002    0.000 iostream.py:87(_event_pipe)\n",
      "   153989    0.119    0.000    1.132    0.000 mixins.py:114(_build)\n",
      "   408389    0.545    0.000    2.060    0.000 mixins.py:137(_valid_name)\n",
      "       20    0.000    0.000    0.000    0.000 mixins.py:162(_setattr)\n",
      "   254400    0.169    0.000    1.208    0.000 mixins.py:169(__setattr__)\n",
      "   153996    0.381    0.000    2.534    0.000 mixins.py:75(__getattr__)\n",
      "     3200    0.024    0.000    0.034    0.000 numeric.py:1489(normalize_axis_tuple)\n",
      "     4400    0.016    0.000    0.082    0.000 numeric.py:150(ones)\n",
      "     6400    0.004    0.000    0.008    0.000 numeric.py:1536(<genexpr>)\n",
      "     1600    0.024    0.000    0.074    0.000 numeric.py:1545(moveaxis)\n",
      "     1600    0.002    0.000    0.002    0.000 numeric.py:1607(<listcomp>)\n",
      "     8800    0.006    0.000    0.015    0.000 numeric.py:534(asanyarray)\n",
      "        1    0.000    0.000    0.000    0.000 pint_eval.py:47(__init__)\n",
      "        1    0.000    0.000    0.000    0.000 pint_eval.py:71(evaluate)\n",
      "        1    0.000    0.000    0.000    0.000 pint_eval.py:95(build_eval_tree)\n",
      "    25600    0.282    0.000   15.338    0.001 process.py:146(__call__)\n",
      "    12800    0.029    0.000    0.032    0.000 process.py:24(__eq__)\n",
      "    28000    0.066    0.000    0.152    0.000 quantity.py:1062(compare)\n",
      "    12800    0.025    0.000    0.089    0.000 quantity.py:1077(<lambda>)\n",
      "    15200    0.029    0.000    0.116    0.000 quantity.py:1080(<lambda>)\n",
      "    10000    0.023    0.000    0.056    0.000 quantity.py:1195(T)\n",
      "     3200    0.016    0.000    0.076    0.000 quantity.py:1227(__numpy_method_wrap)\n",
      "     3200    0.028    0.000    0.033    0.000 quantity.py:1255(__getattr__)\n",
      "     8800    0.023    0.000    0.058    0.000 quantity.py:1279(__getitem__)\n",
      "      400    0.005    0.000    0.006    0.000 quantity.py:1287(__setitem__)\n",
      "       23    0.000    0.000    0.001    0.000 quantity.py:133(__deepcopy__)\n",
      "        2    0.000    0.000    0.000    0.000 quantity.py:145(__format__)\n",
      "   340776    0.642    0.000    2.492    0.000 quantity.py:1476(_get_non_multiplicative_units)\n",
      "   340776    0.685    0.000    1.502    0.000 quantity.py:1479(<listcomp>)\n",
      "     1200    0.002    0.000    0.008    0.000 quantity.py:1483(_get_delta_units)\n",
      "     1200    0.002    0.000    0.005    0.000 quantity.py:1486(<listcomp>)\n",
      "   265512    0.100    0.000    0.100    0.000 quantity.py:1502(_ok_for_muldiv)\n",
      "    87204    0.029    0.000    0.029    0.000 quantity.py:220(magnitude)\n",
      "    16802    0.022    0.000    0.053    0.000 quantity.py:240(units)\n",
      "        1    0.000    0.000    0.000    0.000 quantity.py:262(dimensionless)\n",
      "   140069    0.215    0.000    1.734    0.000 quantity.py:272(dimensionality)\n",
      "   104709    0.145    0.000    5.164    0.000 quantity.py:295(_convert_magnitude_not_inplace)\n",
      "     1200    0.006    0.000    0.151    0.000 quantity.py:324(to)\n",
      "        1    0.000    0.000    0.000    0.000 quantity.py:347(to_root_units)\n",
      "   103507    0.324    0.000    6.372    0.000 quantity.py:367(to_base_units)\n",
      "        1    0.000    0.000    0.000    0.000 quantity.py:448(__float__)\n",
      "   211604    0.387    0.000   11.355    0.000 quantity.py:49(wrapped)\n",
      "    37632    0.308    0.000    2.444    0.000 quantity.py:556(_add_sub)\n",
      "     4400    0.010    0.000    0.405    0.000 quantity.py:657(__iadd__)\n",
      "    17600    0.044    0.000    1.118    0.000 quantity.py:665(__add__)\n",
      "    15632    0.030    0.000    1.012    0.000 quantity.py:679(__sub__)\n",
      "   211604    1.512    0.000   10.967    0.000 quantity.py:746(_mul_div)\n",
      "   150496    0.205    0.000    8.183    0.000 quantity.py:813(__mul__)\n",
      "    61108    0.085    0.000    3.463    0.000 quantity.py:824(__truediv__)\n",
      "   460430    0.917    0.000    1.963    0.000 quantity.py:85(__new__)\n",
      "   408389    0.319    0.000    1.078    0.000 re.py:169(match)\n",
      "        1    0.000    0.000    0.000    0.000 re.py:231(compile)\n",
      "   408390    0.311    0.000    0.311    0.000 re.py:286(_compile)\n",
      "        8    0.000    0.000    0.000    0.000 re.py:324(_subx)\n",
      "    46002    0.210    0.000    4.266    0.000 registry.py:1182(_convert)\n",
      "        3    0.000    0.000    0.000    0.000 registry.py:1323(get_system)\n",
      "   103507    0.312    0.000    0.565    0.000 registry.py:1374(_get_base_units)\n",
      "   156867    0.233    0.000    2.115    0.000 registry.py:200(__getattr__)\n",
      "       26    0.000    0.000    0.000    0.000 registry.py:461(get_name)\n",
      "   251635    0.778    0.000    2.511    0.000 registry.py:522(_get_dimensionality)\n",
      "        5    0.000    0.000    0.000    0.000 registry.py:540(<genexpr>)\n",
      "     10/2    0.000    0.000    0.000    0.000 registry.py:547(_get_dimensionality_recurse)\n",
      "        3    0.000    0.000    0.000    0.000 registry.py:561(get_root_units)\n",
      "    46006    0.161    0.000    0.301    0.000 registry.py:580(_get_root_units)\n",
      "        7    0.000    0.000    0.000    0.000 registry.py:604(<genexpr>)\n",
      "     12/4    0.000    0.000    0.000    0.000 registry.py:634(_get_root_units_recurse)\n",
      "   104712    0.236    0.000    5.018    0.000 registry.py:668(convert)\n",
      "    46002    0.389    0.000    2.846    0.000 registry.py:688(_convert)\n",
      "   156867    0.225    0.000    0.851    0.000 registry.py:754(parse_units)\n",
      "   156867    0.111    0.000    0.111    0.000 registry.py:770(_parse_units)\n",
      "   156867    0.262    0.000    0.373    0.000 registry.py:871(_parse_units)\n",
      "   184006    0.173    0.000    0.231    0.000 registry.py:899(_is_multiplicative)\n",
      "    46002    0.267    0.000    3.987    0.000 registry.py:913(_convert)\n",
      "    46002    0.125    0.000    0.481    0.000 registry.py:931(<listcomp>)\n",
      "    46002    0.076    0.000    0.301    0.000 registry.py:933(<listcomp>)\n",
      "     1600    0.021    0.000    0.067    0.000 shape_base.py:296(stack)\n",
      "     1600    0.004    0.000    0.011    0.000 shape_base.py:348(<listcomp>)\n",
      "     8000    0.004    0.000    0.004    0.000 shape_base.py:352(<genexpr>)\n",
      "     1600    0.006    0.000    0.006    0.000 shape_base.py:360(<listcomp>)\n",
      "        1    0.000    0.000    0.003    0.003 solution.py:47(__init__)\n",
      "      400    0.022    0.000    0.896    0.002 solver.pyx:128(_calculate_mass_flows)\n",
      "      400    0.092    0.000   34.332    0.086 solver.pyx:186(_calculate_changes_of_all_variables)\n",
      "     1600    0.086    0.000    7.538    0.005 solver.pyx:250(_get_sink_source_flow)\n",
      "     1600    0.085    0.000    2.707    0.002 solver.pyx:269(_get_sink_source_flux)\n",
      "     1600    0.038    0.000    2.392    0.001 solver.pyx:289(_get_sink_source_process)\n",
      "     1600    0.142    0.000   19.997    0.012 solver.pyx:301(_get_sink_source_reaction)\n",
      "        1    0.058    0.058   36.030   36.030 solver.pyx:58(solve)\n",
      "        2    0.000    0.000    0.000    0.000 sre_compile.py:223(_compile_charset)\n",
      "        2    0.000    0.000    0.000    0.000 sre_compile.py:250(_optimize_charset)\n",
      "        1    0.000    0.000    0.000    0.000 sre_compile.py:376(_mk_bitmap)\n",
      "        1    0.000    0.000    0.000    0.000 sre_compile.py:378(<listcomp>)\n",
      "        1    0.000    0.000    0.000    0.000 sre_compile.py:388(_simple)\n",
      "        1    0.000    0.000    0.000    0.000 sre_compile.py:414(_get_literal_prefix)\n",
      "        1    0.000    0.000    0.000    0.000 sre_compile.py:441(_get_charset_prefix)\n",
      "        1    0.000    0.000    0.000    0.000 sre_compile.py:482(_compile_info)\n",
      "        2    0.000    0.000    0.000    0.000 sre_compile.py:539(isstring)\n",
      "        1    0.000    0.000    0.000    0.000 sre_compile.py:542(_code)\n",
      "        1    0.000    0.000    0.000    0.000 sre_compile.py:557(compile)\n",
      "      2/1    0.000    0.000    0.000    0.000 sre_compile.py:64(_compile)\n",
      "        2    0.000    0.000    0.000    0.000 sre_parse.py:111(__init__)\n",
      "        3    0.000    0.000    0.000    0.000 sre_parse.py:159(__len__)\n",
      "        6    0.000    0.000    0.000    0.000 sre_parse.py:163(__getitem__)\n",
      "        1    0.000    0.000    0.000    0.000 sre_parse.py:167(__setitem__)\n",
      "        4    0.000    0.000    0.000    0.000 sre_parse.py:171(append)\n",
      "      3/2    0.000    0.000    0.000    0.000 sre_parse.py:173(getwidth)\n",
      "        1    0.000    0.000    0.000    0.000 sre_parse.py:223(__init__)\n",
      "       24    0.000    0.000    0.000    0.000 sre_parse.py:232(__next)\n",
      "       10    0.000    0.000    0.000    0.000 sre_parse.py:248(match)\n",
      "       18    0.000    0.000    0.000    0.000 sre_parse.py:253(get)\n",
      "        4    0.000    0.000    0.000    0.000 sre_parse.py:285(tell)\n",
      "        1    0.000    0.000    0.000    0.000 sre_parse.py:407(_parse_sub)\n",
      "        1    0.000    0.000    0.000    0.000 sre_parse.py:469(_parse)\n",
      "        1    0.000    0.000    0.000    0.000 sre_parse.py:76(__init__)\n",
      "        2    0.000    0.000    0.000    0.000 sre_parse.py:81(groups)\n",
      "        1    0.000    0.000    0.000    0.000 sre_parse.py:829(fix_flags)\n",
      "        1    0.000    0.000    0.000    0.000 sre_parse.py:845(parse)\n",
      "    57693    0.079    0.000    0.079    0.000 system.pyx:190(box_list)\n",
      "     1601    0.005    0.000    0.005    0.000 system.pyx:194(variable_list)\n",
      "    48000    0.020    0.000    0.020    0.000 system.pyx:199(N_boxes)\n",
      "     5200    0.002    0.000    0.002    0.000 system.pyx:203(N_variables)\n",
      "    54093    0.134    0.000    0.273    0.000 system.pyx:207(pint_ur)\n",
      "    51200    0.509    0.000    4.009    0.000 system.pyx:217(get_box_context)\n",
      "      400    0.001    0.000    0.006    0.000 system.pyx:240(get_global_context)\n",
      "     4800    0.065    0.000    1.053    0.000 system.pyx:243(get_variable_mobility_bool_1Darray)\n",
      "     4800    0.080    0.000    1.135    0.000 system.pyx:251(get_variable_mobility_numeric_1Darray)\n",
      "      400    0.013    0.000    0.065    0.000 system.pyx:264(get_fluid_mass_1Darray)\n",
      "     1600    0.031    0.000    0.177    0.000 system.pyx:274(get_variable_mass_1Darray)\n",
      "     4800    0.223    0.000    1.814    0.000 system.pyx:289(get_variable_concentration_1Darray)\n",
      "     4800    0.033    0.000    3.217    0.001 system.pyx:310(get_variable_flow_concentration_1Darray)\n",
      "      400    0.015    0.000    0.175    0.000 system.pyx:334(get_fluid_mass_internal_flow_2Darray)\n",
      "     3600    0.117    0.000    1.370    0.000 system.pyx:363(get_fluid_mass_flow_sink_1Darray)\n",
      "      400    0.013    0.000    0.149    0.000 system.pyx:389(get_fluid_mass_flow_source_1Darray)\n",
      "     1600    0.068    0.000    1.849    0.001 system.pyx:422(get_variable_internal_flow_2Darray)\n",
      "     3200    0.042    0.000    3.702    0.001 system.pyx:466(get_variable_flow_sink_1Darray)\n",
      "     1600    0.058    0.000    0.384    0.000 system.pyx:501(get_variable_flow_source_1Darray)\n",
      "     1600    0.030    0.000    0.260    0.000 system.pyx:541(get_variable_internal_flux_2Darray)\n",
      "     3200    0.066    0.000    0.493    0.000 system.pyx:574(get_variable_flux_sink_1Darray)\n",
      "     1600    0.033    0.000    0.242    0.000 system.pyx:602(get_variable_flux_source_1Darray)\n",
      "     3200    0.147    0.000    1.112    0.000 system.pyx:632(get_variable_process_sink_1Darray)\n",
      "     1600    0.068    0.000    0.527    0.000 system.pyx:668(get_variable_process_source_1Darray)\n",
      "     3200    0.342    0.000   18.351    0.006 system.pyx:707(get_reaction_rate_2Darray)\n",
      "     1600    0.107    0.000   18.794    0.012 system.pyx:721(get_reaction_rate_3Darray)\n",
      "        1    0.000    0.000   36.030   36.030 system.pyx:776(solve)\n",
      "      936    0.001    0.000    0.003    0.000 threading.py:1062(_wait_for_tstate_lock)\n",
      "      936    0.004    0.000    0.008    0.000 threading.py:1104(is_alive)\n",
      "      936    0.001    0.000    0.001    0.000 threading.py:506(is_set)\n",
      "        1    0.000    0.000    0.000    0.000 tokenize.py:185(_compile)\n",
      "        1    0.000    0.000    0.000    0.000 tokenize.py:354(detect_encoding)\n",
      "        1    0.000    0.000    0.000    0.000 tokenize.py:378(read_or_stop)\n",
      "        1    0.000    0.000    0.000    0.000 tokenize.py:384(find_cookie)\n",
      "        1    0.000    0.000    0.000    0.000 tokenize.py:459(tokenize)\n",
      "        4    0.000    0.000    0.000    0.000 tokenize.py:491(_tokenize)\n",
      "        1    0.000    0.000    0.000    0.000 tokenize.py:51(isidentifier)\n",
      "    10000    0.008    0.000    0.008    0.000 transport.py:110(<listcomp>)\n",
      "     6400    0.014    0.000    0.792    0.000 transport.py:73(__call__)\n",
      "     3600    0.007    0.000    0.009    0.000 transport.py:80(get_all_from)\n",
      "     3600    0.002    0.000    0.002    0.000 transport.py:91(<listcomp>)\n",
      "    10000    0.014    0.000    0.022    0.000 transport.py:99(get_all_to)\n",
      "       54    0.000    0.000    0.000    0.000 typing.py:1010(_abc_negative_cache)\n",
      "        2    0.000    0.000    0.000    0.000 typing.py:1016(_abc_negative_cache)\n",
      "       32    0.000    0.000    0.000    0.000 typing.py:1024(_abc_negative_cache_version)\n",
      "        2    0.000    0.000    0.000    0.000 typing.py:1030(_abc_negative_cache_version)\n",
      "       72    0.000    0.000    0.000    0.000 typing.py:1080(__eq__)\n",
      "    72/22    0.000    0.000    0.001    0.000 typing.py:1136(__subclasscheck__)\n",
      "      8/4    0.000    0.000    0.000    0.000 typing.py:1161(__setattr__)\n",
      "       34    0.000    0.000    0.000    0.000 typing.py:822(_gorg)\n",
      "       12    0.000    0.000    0.001    0.000 typing.py:868(__extrahook__)\n",
      "       12    0.000    0.000    0.000    0.000 typing.py:882(__extrahook__)\n",
      "    78408    0.171    0.000    0.370    0.000 unit.py:127(dimensionality)\n",
      "    84463    0.287    0.000    4.495    0.000 unit.py:147(__mul__)\n",
      "    49200    0.160    0.000    1.401    0.000 unit.py:162(__truediv__)\n",
      "     6400    0.004    0.000    0.005    0.000 unit.py:193(__hash__)\n",
      "     4800    0.007    0.000    0.015    0.000 unit.py:196(__eq__)\n",
      "379739/222872    0.652    0.000    1.993    0.000 unit.py:40(__new__)\n",
      "        2    0.000    0.000    0.000    0.000 unit.py:76(__format__)\n",
      "   126805    0.026    0.000    0.026    0.000 util.py:237(__missing__)\n",
      "   483726    1.754    0.000    3.266    0.000 util.py:251(__init__)\n",
      "   740821    0.345    0.000    0.529    0.000 util.py:291(__iter__)\n",
      "   297661    0.126    0.000    0.182    0.000 util.py:294(__len__)\n",
      "   367156    0.163    0.000    0.163    0.000 util.py:297(__getitem__)\n",
      "   770290    0.141    0.000    0.141    0.000 util.py:303(__hash__)\n",
      "       14    0.000    0.000    0.000    0.000 util.py:306(__getstate__)\n",
      "       14    0.000    0.000    0.000    0.000 util.py:309(__setstate__)\n",
      "  1081846    1.026    0.000    1.188    0.000 util.py:313(__eq__)\n",
      "        2    0.000    0.000    0.000    0.000 util.py:330(__format__)\n",
      "   150499    0.799    0.000    2.628    0.000 util.py:339(__mul__)\n",
      "   150499    0.095    0.000    0.095    0.000 util.py:346(<listcomp>)\n",
      "        3    0.000    0.000    0.000    0.000 util.py:354(__pow__)\n",
      "   156310    1.116    0.000    3.290    0.000 util.py:363(__truediv__)\n",
      "   156310    0.123    0.000    0.123    0.000 util.py:373(<listcomp>)\n",
      "        1    0.000    0.000    0.000    0.000 util.py:402(__init__)\n",
      "        1    0.000    0.000    0.000    0.000 util.py:406(from_word)\n",
      "        1    0.000    0.000    0.000    0.000 util.py:415(from_string)\n",
      "        1    0.000    0.000    0.000    0.000 util.py:419(eval_token)\n",
      "        1    0.000    0.000    0.000    0.000 util.py:435(_from_string)\n",
      "   122464    0.243    0.000    1.057    0.000 util.py:476(__eq__)\n",
      "        1    0.000    0.000    0.000    0.000 util.py:577(string_preprocessor)\n",
      "       13    0.000    0.000    0.000    0.000 util.py:596(_is_dim)\n",
      "   387699    0.326    0.000    0.689    0.000 util.py:608(_check)\n",
      "   210633    0.169    0.000    0.406    0.000 util.py:627(to_units_container)\n",
      "     7200    0.107    0.000    1.095    0.000 utils.py:27(dot)\n",
      "     1600    0.049    0.000    0.494    0.000 utils.py:53(stack)\n",
      "   840234    0.241    0.000    0.241    0.000 {built-in method __new__ of type object at 0x7f779fa3fc80}\n",
      "    22000    0.054    0.000    0.054    0.000 {built-in method _operator.add}\n",
      "    15200    0.016    0.000    0.016    0.000 {built-in method _operator.gt}\n",
      "     3200    0.001    0.000    0.001    0.000 {built-in method _operator.index}\n",
      "    12800    0.008    0.000    0.008    0.000 {built-in method _operator.lt}\n",
      "   300992    0.933    0.000    3.561    0.000 {built-in method _operator.mul}\n",
      "    15632    0.031    0.000    0.031    0.000 {built-in method _operator.sub}\n",
      "   122216    0.176    0.000    1.283    0.000 {built-in method _operator.truediv}\n",
      "        1    0.000    0.000    0.000    0.000 {built-in method _sre.compile}\n",
      "    46002    0.024    0.000    0.024    0.000 {built-in method builtins.any}\n",
      "    48800    0.014    0.000    0.014    0.000 {built-in method builtins.callable}\n",
      "        1    0.000    0.000   36.031   36.031 {built-in method builtins.exec}\n"
     ]
    },
    {
     "name": "stdout",
     "output_type": "stream",
     "text": [
      "      6/4    0.000    0.000    0.000    0.000 {built-in method builtins.format}\n",
      "   754741    0.443    0.000    0.443    0.000 {built-in method builtins.getattr}\n",
      "509999/408442    0.561    0.000    2.236    0.000 {built-in method builtins.hasattr}\n",
      "   504932    0.155    0.000    0.155    0.000 {built-in method builtins.hash}\n",
      "      997    0.000    0.000    0.000    0.000 {built-in method builtins.id}\n",
      "7568433/7568171    2.326    0.000    5.033    0.000 {built-in method builtins.isinstance}\n",
      "  364/146    0.000    0.000    0.002    0.000 {built-in method builtins.issubclass}\n",
      "   740822    0.184    0.000    0.184    0.000 {built-in method builtins.iter}\n",
      "884238/884232    0.155    0.000    0.155    0.000 {built-in method builtins.len}\n",
      "    12805    0.036    0.000    0.125    0.000 {built-in method builtins.min}\n",
      "       11    0.000    0.000    0.000    0.000 {built-in method builtins.ord}\n",
      "     4000    0.002    0.000    0.002    0.000 {built-in method builtins.setattr}\n",
      "     1614    0.006    0.000    0.006    0.000 {built-in method builtins.sorted}\n",
      "      400    0.001    0.000    0.001    0.000 {built-in method math.isnan}\n",
      "     8800    0.009    0.000    0.009    0.000 {built-in method numpy.core.multiarray.array}\n",
      "     1600    0.023    0.000    0.023    0.000 {built-in method numpy.core.multiarray.concatenate}\n",
      "     4400    0.034    0.000    0.034    0.000 {built-in method numpy.core.multiarray.copyto}\n",
      "     7200    0.076    0.000    0.076    0.000 {built-in method numpy.core.multiarray.dot}\n",
      "     4400    0.032    0.000    0.032    0.000 {built-in method numpy.core.multiarray.empty}\n",
      "     4800    0.006    0.000    0.006    0.000 {built-in method numpy.core.multiarray.normalize_axis_index}\n",
      "      826    0.001    0.000    0.001    0.000 {built-in method posix.getpid}\n",
      "      936    0.011    0.000    0.011    0.000 {built-in method posix.urandom}\n",
      "       40    0.000    0.000    0.000    0.000 {built-in method sys._getframe}\n",
      "       62    0.000    0.000    0.000    0.000 {method '__reduce_ex__' of 'object' objects}\n",
      "      107    0.000    0.000    0.000    0.000 {method '__subclasses__' of 'type' objects}\n",
      "        7    0.000    0.000    0.000    0.000 {method '__subclasshook__' of 'object' objects}\n",
      "      936    0.002    0.000    0.002    0.000 {method 'acquire' of '_thread.lock' objects}\n",
      "      190    0.000    0.000    0.000    0.000 {method 'add' of 'set' objects}\n",
      "     2400    0.006    0.000    0.051    0.000 {method 'any' of 'numpy.ndarray' objects}\n",
      "    13028    0.002    0.000    0.002    0.000 {method 'append' of 'list' objects}\n",
      "        7    0.000    0.000    0.000    0.000 {method 'copy' of 'dict' objects}\n",
      "        3    0.000    0.000    0.000    0.000 {method 'decode' of 'bytes' objects}\n",
      "        1    0.000    0.000    0.000    0.000 {method 'disable' of '_lsprof.Profiler' objects}\n",
      "        1    0.000    0.000    0.000    0.000 {method 'encode' of 'str' objects}\n",
      "        1    0.000    0.000    0.000    0.000 {method 'extend' of 'list' objects}\n",
      "       10    0.000    0.000    0.000    0.000 {method 'find' of 'bytearray' objects}\n",
      "        1    0.000    0.000    0.000    0.000 {method 'findall' of '_sre.SRE_Pattern' objects}\n",
      "        9    0.000    0.000    0.000    0.000 {method 'format' of 'str' objects}\n",
      "     1421    0.000    0.000    0.000    0.000 {method 'get' of 'dict' objects}\n",
      "        4    0.000    0.000    0.000    0.000 {method 'get' of 'mappingproxy' objects}\n",
      "     1600    0.002    0.000    0.002    0.000 {method 'insert' of 'list' objects}\n",
      "        1    0.000    0.000    0.000    0.000 {method 'isidentifier' of 'str' objects}\n",
      "  1325127    0.210    0.000    0.210    0.000 {method 'items' of 'dict' objects}\n",
      "        2    0.000    0.000    0.000    0.000 {method 'join' of 'str' objects}\n",
      "   408392    0.448    0.000    0.448    0.000 {method 'match' of '_sre.SRE_Pattern' objects}\n",
      "   210633    0.238    0.000    0.238    0.000 {method 'mro' of 'type' objects}\n",
      "     1600    0.000    0.000    0.000    0.000 {method 'pop' of 'set' objects}\n",
      "        1    0.000    0.000    0.000    0.000 {method 'readline' of '_io.BytesIO' objects}\n",
      "     5600    0.081    0.000    0.081    0.000 {method 'reduce' of 'numpy.ufunc' objects}\n",
      "       95    0.000    0.000    0.000    0.000 {method 'remove' of 'set' objects}\n",
      "       15    0.000    0.000    0.000    0.000 {method 'replace' of 'str' objects}\n",
      "        2    0.000    0.000    0.000    0.000 {method 'search' of '_sre.SRE_Pattern' objects}\n",
      "        1    0.000    0.000    0.000    0.000 {method 'span' of '_sre.SRE_Match' objects}\n",
      "        1    0.000    0.000    0.000    0.000 {method 'startswith' of 'bytes' objects}\n",
      "     4418    0.003    0.000    0.003    0.000 {method 'startswith' of 'str' objects}\n",
      "        3    0.000    0.000    0.000    0.000 {method 'strip' of 'str' objects}\n",
      "        9    0.000    0.000    0.000    0.000 {method 'sub' of '_sre.SRE_Pattern' objects}\n",
      "     3200    0.005    0.000    0.047    0.000 {method 'sum' of 'numpy.ndarray' objects}\n",
      "        1    0.000    0.000    0.000    0.000 {method 'translate' of 'bytearray' objects}\n",
      "        1    0.000    0.000    0.000    0.000 {method 'translate' of 'str' objects}\n",
      "     1600    0.006    0.000    0.006    0.000 {method 'transpose' of 'numpy.ndarray' objects}\n",
      "       36    0.000    0.000    0.000    0.000 {method 'update' of 'dict' objects}\n",
      "\n",
      "\n"
     ]
    },
    {
     "data": {
      "text/plain": [
       "<pstats.Stats at 0x7f77a008a978>"
      ]
     },
     "execution_count": 13,
     "metadata": {},
     "output_type": "execute_result"
    }
   ],
   "source": [
    "p.strip_dirs().sort_stats(-1).print_stats()"
   ]
  },
  {
   "cell_type": "code",
   "execution_count": 14,
   "metadata": {},
   "outputs": [
    {
     "name": "stdout",
     "output_type": "stream",
     "text": [
      "Wed Aug 30 17:32:15 2017    restats\n",
      "\n",
      "         35434656 function calls (35174707 primitive calls) in 36.031 seconds\n",
      "\n",
      "   Ordered by: cumulative time\n",
      "   List reduced from 352 to 10 due to restriction <10>\n",
      "\n",
      "   ncalls  tottime  percall  cumtime  percall filename:lineno(function)\n",
      "        1    0.000    0.000   36.031   36.031 {built-in method builtins.exec}\n",
      "        1    0.001    0.001   36.031   36.031 <string>:1(<module>)\n",
      "        1    0.000    0.000   36.030   36.030 system.pyx:776(solve)\n",
      "        1    0.058    0.058   36.030   36.030 solver.pyx:58(solve)\n",
      "      400    0.092    0.000   34.332    0.086 solver.pyx:186(_calculate_changes_of_all_variables)\n",
      "     1600    0.142    0.000   19.997    0.012 solver.pyx:301(_get_sink_source_reaction)\n",
      "     1600    0.107    0.000   18.794    0.012 system.pyx:721(get_reaction_rate_3Darray)\n",
      "     3200    0.342    0.000   18.351    0.006 system.pyx:707(get_reaction_rate_2Darray)\n",
      "    25600    0.282    0.000   15.338    0.001 process.py:146(__call__)\n",
      "   211604    0.387    0.000   11.355    0.000 quantity.py:49(wrapped)\n",
      "\n",
      "\n"
     ]
    },
    {
     "data": {
      "text/plain": [
       "<pstats.Stats at 0x7f77a008a978>"
      ]
     },
     "execution_count": 14,
     "metadata": {},
     "output_type": "execute_result"
    }
   ],
   "source": [
    "p.sort_stats('cumulative').print_stats(10)"
   ]
  },
  {
   "cell_type": "code",
   "execution_count": 15,
   "metadata": {},
   "outputs": [
    {
     "name": "stdout",
     "output_type": "stream",
     "text": [
      "Wed Aug 30 17:32:15 2017    restats\n",
      "\n",
      "         35434656 function calls (35174707 primitive calls) in 36.031 seconds\n",
      "\n",
      "   Ordered by: internal time\n",
      "   List reduced from 352 to 10 due to restriction <10>\n",
      "\n",
      "   ncalls  tottime  percall  cumtime  percall filename:lineno(function)\n",
      "7568433/7568171    2.326    0.000    5.033    0.000 {built-in method builtins.isinstance}\n",
      "   483726    1.754    0.000    3.266    0.000 util.py:251(__init__)\n",
      "  1357867    1.580    0.000    2.707    0.000 abc.py:178(__instancecheck__)\n",
      "   211604    1.512    0.000   10.967    0.000 quantity.py:746(_mul_div)\n",
      "  2156336    1.126    0.000    1.126    0.000 _weakrefset.py:70(__contains__)\n",
      "   156310    1.116    0.000    3.290    0.000 util.py:363(__truediv__)\n",
      "  1081846    1.026    0.000    1.188    0.000 util.py:313(__eq__)\n",
      "   300992    0.933    0.000    3.561    0.000 {built-in method _operator.mul}\n",
      "   460430    0.917    0.000    1.963    0.000 quantity.py:85(__new__)\n",
      "   150499    0.799    0.000    2.628    0.000 util.py:339(__mul__)\n",
      "\n",
      "\n"
     ]
    },
    {
     "data": {
      "text/plain": [
       "<pstats.Stats at 0x7f77a008a978>"
      ]
     },
     "execution_count": 15,
     "metadata": {},
     "output_type": "execute_result"
    }
   ],
   "source": [
    "p.sort_stats('time').print_stats(10)"
   ]
  },
  {
   "cell_type": "code",
   "execution_count": 17,
   "metadata": {},
   "outputs": [
    {
     "name": "stdout",
     "output_type": "stream",
     "text": [
      "CPU times: user 6 µs, sys: 0 ns, total: 6 µs\n",
      "Wall time: 9.3 µs\n",
      "Start solving the box model...\n",
      "- total integration time: 200 month\n",
      "- dt (time step): 1 month\n",
      "0\n",
      "1\n",
      "2\n",
      "3\n",
      "4\n",
      "5\n",
      "6\n",
      "7\n",
      "8\n",
      "9\n",
      "10\n",
      "11\n",
      "12\n",
      "13\n",
      "14\n",
      "15\n",
      "16\n",
      "17\n",
      "18\n",
      "19\n",
      "10.0%\n",
      "20\n",
      "21\n",
      "22\n",
      "23\n",
      "24\n",
      "25\n",
      "26\n",
      "27\n",
      "28\n",
      "29\n",
      "30\n",
      "31\n",
      "32\n",
      "33\n",
      "34\n",
      "35\n",
      "36\n",
      "37\n",
      "38\n",
      "39\n",
      "20.0%\n",
      "40\n",
      "41\n",
      "42\n",
      "43\n",
      "44\n",
      "45\n",
      "46\n",
      "47\n",
      "48\n",
      "49\n",
      "50\n",
      "51\n",
      "52\n",
      "53\n",
      "54\n",
      "55\n",
      "56\n",
      "57\n",
      "58\n",
      "59\n",
      "30.0%\n",
      "60\n",
      "61\n",
      "62\n",
      "63\n",
      "64\n",
      "65\n",
      "66\n",
      "67\n",
      "68\n",
      "69\n",
      "70\n",
      "71\n",
      "72\n",
      "73\n",
      "74\n",
      "75\n",
      "76\n",
      "77\n",
      "78\n",
      "79\n",
      "40.0%\n",
      "80\n",
      "81\n",
      "82\n",
      "83\n",
      "84\n",
      "85\n",
      "86\n",
      "87\n",
      "88\n",
      "89\n",
      "90\n",
      "91\n",
      "92\n",
      "93\n",
      "94\n",
      "95\n",
      "96\n",
      "97\n",
      "98\n",
      "99\n",
      "50.0%\n",
      "100\n",
      "101\n",
      "102\n",
      "103\n",
      "104\n",
      "105\n",
      "106\n",
      "107\n",
      "108\n",
      "109\n",
      "110\n",
      "111\n",
      "112\n",
      "113\n",
      "114\n",
      "115\n",
      "116\n",
      "117\n",
      "118\n",
      "119\n",
      "60.0%\n",
      "120\n",
      "121\n",
      "122\n",
      "123\n",
      "124\n",
      "125\n",
      "126\n",
      "127\n",
      "128\n",
      "129\n",
      "130\n",
      "131\n",
      "132\n",
      "133\n",
      "134\n",
      "135\n",
      "136\n",
      "137\n",
      "138\n",
      "139\n",
      "70.0%\n",
      "140\n",
      "141\n",
      "142\n",
      "143\n",
      "144\n",
      "145\n",
      "146\n",
      "147\n",
      "148\n",
      "149\n",
      "150\n",
      "151\n",
      "152\n",
      "153\n",
      "154\n",
      "155\n",
      "156\n",
      "157\n",
      "158\n",
      "159\n",
      "80.0%\n",
      "160\n",
      "161\n",
      "162\n",
      "163\n",
      "164\n",
      "165\n",
      "166\n",
      "167\n",
      "168\n",
      "169\n",
      "170\n",
      "171\n",
      "172\n",
      "173\n",
      "174\n",
      "175\n",
      "176\n",
      "177\n",
      "178\n",
      "179\n",
      "90.0%\n",
      "180\n",
      "181\n",
      "182\n",
      "183\n",
      "184\n",
      "185\n",
      "186\n",
      "187\n",
      "188\n",
      "189\n",
      "190\n",
      "191\n",
      "192\n",
      "193\n",
      "194\n",
      "195\n",
      "196\n",
      "197\n",
      "198\n",
      "199\n",
      "Function \"solve(...)\" used 10.267s\n"
     ]
    }
   ],
   "source": [
    "%time\n",
    "sol = system.solve(200*ur.month, 1*ur.month)"
   ]
  },
  {
   "cell_type": "code",
   "execution_count": 18,
   "metadata": {},
   "outputs": [
    {
     "data": {
      "text/plain": [
       "(<matplotlib.figure.Figure at 0x7f776d8d3780>,\n",
       " <matplotlib.axes._subplots.AxesSubplot at 0x7f776da23208>)"
      ]
     },
     "execution_count": 18,
     "metadata": {},
     "output_type": "execute_result"
    },
    {
     "data": {
      "image/png": "[encoded data removed]",
      "text/plain": [
       "<matplotlib.figure.Figure at 0x7f776d8d3780>"
      ]
     },
     "metadata": {},
     "output_type": "display_data"
    }
   ],
   "source": [
    "sol.plot_variable_mass_of_all_boxes(system.variables.A, yaxis_log=False)"
   ]
  },
  {
   "cell_type": "code",
   "execution_count": 19,
   "metadata": {},
   "outputs": [
    {
     "data": {
      "text/plain": [
       "(<matplotlib.figure.Figure at 0x7f776d8b0f60>,\n",
       " <matplotlib.axes._subplots.AxesSubplot at 0x7f776d6d7ef0>)"
      ]
     },
     "execution_count": 19,
     "metadata": {},
     "output_type": "execute_result"
    },
    {
     "data": {
      "image/png": "[encoded data removed]",
      "text/plain": [
       "<matplotlib.figure.Figure at 0x7f776d8b0f60>"
      ]
     },
     "metadata": {},
     "output_type": "display_data"
    }
   ],
   "source": [
    "sol.plot_variable_mass_of_all_boxes(system.variables.B, yaxis_log=False)"
   ]
  },
  {
   "cell_type": "code",
   "execution_count": 20,
   "metadata": {},
   "outputs": [
    {
     "data": {
      "text/plain": [
       "(<matplotlib.figure.Figure at 0x7f776d79b320>,\n",
       " <matplotlib.axes._subplots.AxesSubplot at 0x7f776d7ee860>)"
      ]
     },
     "execution_count": 20,
     "metadata": {},
     "output_type": "execute_result"
    },
    {
     "data": {
      "image/png": "[encoded data removed]",
      "text/plain": [
       "<matplotlib.figure.Figure at 0x7f776d79b320>"
      ]
     },
     "metadata": {},
     "output_type": "display_data"
    }
   ],
   "source": [
    "sol.plot_variable_mass_of_all_boxes(system.variables.C, yaxis_log=False)"
   ]
  },
  {
   "cell_type": "code",
   "execution_count": 21,
   "metadata": {},
   "outputs": [
    {
     "data": {
      "text/plain": [
       "(<matplotlib.figure.Figure at 0x7f776d727b00>,\n",
       " <matplotlib.axes._subplots.AxesSubplot at 0x7f776d7b45c0>)"
      ]
     },
     "execution_count": 21,
     "metadata": {},
     "output_type": "execute_result"
    },
    {
     "data": {
      "image/png": "[encoded data removed]",
      "text/plain": [
       "<matplotlib.figure.Figure at 0x7f776d727b00>"
      ]
     },
     "metadata": {},
     "output_type": "display_data"
    }
   ],
   "source": [
    "sol.plot_variable_mass_of_all_boxes(system.variables.D, yaxis_log=False)"
   ]
  },
  {
   "cell_type": "code",
   "execution_count": 22,
   "metadata": {},
   "outputs": [
    {
     "data": {
      "text/plain": [
       "(<matplotlib.figure.Figure at 0x7f776d8da940>,\n",
       " <matplotlib.axes._subplots.AxesSubplot at 0x7f776d7fa2b0>)"
      ]
     },
     "execution_count": 22,
     "metadata": {},
     "output_type": "execute_result"
    },
    {
     "data": {
      "image/png": "[encoded data removed]",
      "text/plain": [
       "<matplotlib.figure.Figure at 0x7f776d8da940>"
      ]
     },
     "metadata": {},
     "output_type": "display_data"
    }
   ],
   "source": [
    "sol.plot_total_variable_masses()"
   ]
  },
  {
   "cell_type": "code",
   "execution_count": 62,
   "metadata": {},
   "outputs": [
    {
     "name": "stdout",
     "output_type": "stream",
     "text": [
      "corners [(330.0, 0.0), (630.0, 0.0), (630.0, 300.0), (330.0, 300.0)]\n",
      "corners [(330.0, 0.0), (630.0, 0.0), (630.0, 300.0), (330.0, 300.0)]\n",
      "corners [(-330.0, 4.0413344371862656e-14), (-30.0, 4.0413344371862656e-14), (-30.0, 300.00000000000006), (-330.0, 300.00000000000006)]\n",
      "corners [(-330.0, 4.0413344371862656e-14), (-30.0, 4.0413344371862656e-14), (-30.0, 300.00000000000006), (-330.0, 300.00000000000006)]\n"
     ]
    }
   ],
   "source": [
    "system.save_as_svg('system3.svg')"
   ]
  },
  {
   "cell_type": "code",
   "execution_count": 63,
   "metadata": {},
   "outputs": [
    {
     "data": {
      "image/svg+xml": [
       "<svg baseProfile=\"full\" height=\"10cm\" version=\"1.1\" viewBox=\"-100,0,600,400\" width=\"32cm\" xmlns=\"http://www.w3.org/2000/svg\" xmlns:ev=\"http://www.w3.org/2001/xml-events\" xmlns:xlink=\"http://www.w3.org/1999/xlink\"><defs><marker id=\"id46\" markerHeight=\"4\" markerWidth=\"4\" refX=\"-3.0\" refY=\"0.0\"><polygon fill=\"darkblue\" points=\"-4.0,0.0 -1.22464679915e-16,2.0 1.22464679915e-16,-2.0\"/></marker><marker id=\"id47\" markerHeight=\"4\" markerWidth=\"4\" refX=\"-3.0\" refY=\"4.73695157173e-16\"><polygon fill=\"darkblue\" points=\"-4.0,6.31593542898e-16 1.93332091534e-16,2.0 -1.93332091534e-16,-2.0\"/></marker><marker id=\"id48\" markerHeight=\"4\" markerWidth=\"4\" refX=\"-3.0\" refY=\"0.0\"><polygon fill=\"darkblue\" points=\"-4.0,0.0 -1.22464679915e-16,2.0 1.22464679915e-16,-2.0\"/></marker></defs><g id=\"Test_System\"><g id=\"box1_box\"><rect fill=\"lightgrey\" height=\"264.0\" id=\"box1_box_rect\" opacity=\"0.7\" stroke=\"black\" stroke-opacity=\"1\" stroke-width=\"5\" width=\"300\" x=\"330.0\" y=\"36.0\"/><text fill=\"black\" font-size=\"24\" id=\"box1_box_title\" style=\"text-anchor:middle; dominant-baseline:mathematical\" x=\"480.0\" y=\"18.0\">Box 1</text><g id=\"box1_box_text\"><text fill=\"black\" font-size=\"12\" style=\"text-anchor:left; dominant-baseline:mathematical\" x=\"340.0\" y=\"50.0\">Fluid: water</text><text fill=\"black\" font-size=\"12\" style=\"text-anchor:left; dominant-baseline:mathematical\" x=\"340.0\" y=\"64.0\">Mass: 1.000e+05 kilogram</text></g><g id=\"box1_box_children\"><g id=\"box1_processes\"><rect fill=\"darkgrey\" height=\"60.0\" id=\"box1_processes_rect\" opacity=\"0.5\" stroke=\"white\" stroke-opacity=\"1\" stroke-width=\"3\" width=\"280\" x=\"340.0\" y=\"100.5\"/><text fill=\"black\" font-size=\"15\" id=\"box1_processes_title\" style=\"text-anchor:left; dominant-baseline:mathematical\" x=\"340.0\" y=\"89.25\">Processes</text><g id=\"box1_processes_text\"><text fill=\"black\" font-size=\"12\" style=\"text-anchor:left; dominant-baseline:mathematical\" x=\"350.0\" y=\"115.5\"/><text fill=\"black\" font-size=\"12\" style=\"text-anchor:left; dominant-baseline:mathematical\" x=\"350.0\" y=\"130.5\"/><text fill=\"black\" font-size=\"12\" style=\"text-anchor:left; dominant-baseline:mathematical\" x=\"350.0\" y=\"145.5\"/></g><g id=\"box1_processes_children\"/></g><g id=\"box1_reactions\"><rect fill=\"darkgrey\" height=\"60.0\" id=\"box1_reactions_rect\" opacity=\"0.5\" stroke=\"white\" stroke-opacity=\"1\" stroke-width=\"3\" width=\"280\" x=\"340.0\" y=\"195.0\"/><text fill=\"black\" font-size=\"15\" id=\"box1_reactions_title\" style=\"text-anchor:left; dominant-baseline:mathematical\" x=\"340.0\" y=\"183.75\">Reactions</text><g id=\"box1_reactions_text\"><text fill=\"black\" font-size=\"12\" style=\"text-anchor:left; dominant-baseline:mathematical\" x=\"350.0\" y=\"210.0\">Reaction1</text><text fill=\"black\" font-size=\"12\" style=\"text-anchor:left; dominant-baseline:mathematical\" x=\"350.0\" y=\"225.0\">Reaction2</text><text fill=\"black\" font-size=\"12\" style=\"text-anchor:left; dominant-baseline:mathematical\" x=\"350.0\" y=\"240.0\"/></g><g id=\"box1_reactions_children\"/></g></g></g><g id=\"box2_box\"><rect fill=\"lightgrey\" height=\"264.0\" id=\"box2_box_rect\" opacity=\"0.7\" stroke=\"black\" stroke-opacity=\"1\" stroke-width=\"5\" width=\"300\" x=\"-330.0\" y=\"36.0\"/><text fill=\"black\" font-size=\"24\" id=\"box2_box_title\" style=\"text-anchor:middle; dominant-baseline:mathematical\" x=\"-180.0\" y=\"18.0\">Box 2</text><g id=\"box2_box_text\"><text fill=\"black\" font-size=\"12\" style=\"text-anchor:left; dominant-baseline:mathematical\" x=\"-320.0\" y=\"50.0\">Fluid: water</text><text fill=\"black\" font-size=\"12\" style=\"text-anchor:left; dominant-baseline:mathematical\" x=\"-320.0\" y=\"64.0\">Mass: 1.000e+05 kilogram</text></g><g id=\"box2_box_children\"><g id=\"box2_processes\"><rect fill=\"darkgrey\" height=\"60.0\" id=\"box2_processes_rect\" opacity=\"0.5\" stroke=\"white\" stroke-opacity=\"1\" stroke-width=\"3\" width=\"280\" x=\"-320.0\" y=\"100.5\"/><text fill=\"black\" font-size=\"15\" id=\"box2_processes_title\" style=\"text-anchor:left; dominant-baseline:mathematical\" x=\"-320.0\" y=\"89.25\">Processes</text><g id=\"box2_processes_text\"><text fill=\"black\" font-size=\"12\" style=\"text-anchor:left; dominant-baseline:mathematical\" x=\"-310.0\" y=\"115.5\"/><text fill=\"black\" font-size=\"12\" style=\"text-anchor:left; dominant-baseline:mathematical\" x=\"-310.0\" y=\"130.5\"/><text fill=\"black\" font-size=\"12\" style=\"text-anchor:left; dominant-baseline:mathematical\" x=\"-310.0\" y=\"145.5\"/></g><g id=\"box2_processes_children\"/></g><g id=\"box2_reactions\"><rect fill=\"darkgrey\" height=\"60.0\" id=\"box2_reactions_rect\" opacity=\"0.5\" stroke=\"white\" stroke-opacity=\"1\" stroke-width=\"3\" width=\"280\" x=\"-320.0\" y=\"195.0\"/><text fill=\"black\" font-size=\"15\" id=\"box2_reactions_title\" style=\"text-anchor:left; dominant-baseline:mathematical\" x=\"-320.0\" y=\"183.75\">Reactions</text><g id=\"box2_reactions_text\"><text fill=\"black\" font-size=\"12\" style=\"text-anchor:left; dominant-baseline:mathematical\" x=\"-310.0\" y=\"210.0\">Reaction1</text><text fill=\"black\" font-size=\"12\" style=\"text-anchor:left; dominant-baseline:mathematical\" x=\"-310.0\" y=\"225.0\">Reaction2</text><text fill=\"black\" font-size=\"12\" style=\"text-anchor:left; dominant-baseline:mathematical\" x=\"-310.0\" y=\"240.0\"/></g><g id=\"box2_reactions_children\"/></g></g></g><line marker-end=\"url(#id46)\" stroke=\"darkblue\" stroke-width=\"4\" x1=\"705.0\" x2=\"634.0\" y1=\"150.0\" y2=\"150.0\"/><line marker-end=\"url(#id47)\" stroke=\"darkblue\" stroke-width=\"4\" x1=\"330.0\" x2=\"-26.0\" y1=\"150.0\" y2=\"150.0\"/><line marker-end=\"url(#id48)\" stroke=\"darkblue\" stroke-width=\"4\" x1=\"-330.0\" x2=\"-401.0\" y1=\"150.0\" y2=\"150.0\"/></g></svg>"
      ],
      "text/plain": [
       "<IPython.core.display.SVG object>"
      ]
     },
     "execution_count": 63,
     "metadata": {},
     "output_type": "execute_result"
    }
   ],
   "source": [
    "SVG('system3.svg')"
   ]
  },
  {
   "cell_type": "code",
   "execution_count": null,
   "metadata": {
    "collapsed": true
   },
   "outputs": [],
   "source": []
  },
  {
   "cell_type": "code",
   "execution_count": null,
   "metadata": {
    "collapsed": true
   },
   "outputs": [],
   "source": []
  },
  {
   "cell_type": "code",
   "execution_count": null,
   "metadata": {
    "collapsed": true
   },
   "outputs": [],
   "source": []
  },
  {
   "cell_type": "code",
   "execution_count": null,
   "metadata": {
    "collapsed": true
   },
   "outputs": [],
   "source": []
  },
  {
   "cell_type": "code",
   "execution_count": 32,
   "metadata": {},
   "outputs": [],
   "source": [
    "f1 = boxsimu.entities.Fluid('fluid1', rho=1000*ur.kg/ur.meter**3)\n",
    "f2 = boxsimu.entities.Fluid('fluid2', rho=100*ur.kg/ur.meter**3)"
   ]
  },
  {
   "cell_type": "code",
   "execution_count": 33,
   "metadata": {},
   "outputs": [],
   "source": [
    "qf1 = f1.q(1000*ur.kg)"
   ]
  },
  {
   "cell_type": "code",
   "execution_count": 38,
   "metadata": {},
   "outputs": [],
   "source": [
    "qf2 = f2.q(1*ur.gram)"
   ]
  },
  {
   "cell_type": "code",
   "execution_count": 39,
   "metadata": {},
   "outputs": [
    {
     "data": {
      "text/html": [
       "0.001 kilogram"
      ],
      "text/latex": [
       "$0.001\\ \\mathrm{kilogram}$"
      ],
      "text/plain": [
       "<Quantity(0.001, 'kilogram')>"
      ]
     },
     "execution_count": 39,
     "metadata": {},
     "output_type": "execute_result"
    }
   ],
   "source": [
    "qf2.mass"
   ]
  },
  {
   "cell_type": "code",
   "execution_count": null,
   "metadata": {
    "collapsed": true
   },
   "outputs": [],
   "source": []
  }
 ],
 "metadata": {
  "kernelspec": {
   "display_name": "Python 3",
   "language": "python",
   "name": "python3"
  },
  "language_info": {
   "codemirror_mode": {
    "name": "ipython",
    "version": 3
   },
   "file_extension": ".py",
   "mimetype": "text/x-python",
   "name": "python",
   "nbconvert_exporter": "python",
   "pygments_lexer": "ipython3",
   "version": "3.6.1"
  }
 },
 "nbformat": 4,
 "nbformat_minor": 2
}
