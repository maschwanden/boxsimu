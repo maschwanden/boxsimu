{
 "cells": [
  {
   "cell_type": "code",
   "execution_count": 2,
   "metadata": {},
   "outputs": [
    {
     "name": "stdout",
     "output_type": "stream",
     "text": [
      "The autoreload extension is already loaded. To reload it, use:\n",
      "  %reload_ext autoreload\n"
     ]
    }
   ],
   "source": [
    "%load_ext autoreload\n",
    "%autoreload 2\n",
    "%matplotlib inline"
   ]
  },
  {
   "cell_type": "code",
   "execution_count": 3,
   "metadata": {
    "collapsed": true
   },
   "outputs": [],
   "source": [
    "# -*- coding: utf-8 -*-\n",
    "\n",
    "import sys\n",
    "import copy\n",
    "import pandas as pd\n",
    "import numpy as np\n",
    "import datetime\n",
    "\n",
    "from matplotlib import pyplot as plt\n",
    "\n",
    "from pint import UnitRegistry\n",
    "ur = UnitRegistry(autoconvert_offset_to_baseunit = True)\n",
    "\n",
    "\n",
    "BOXSIMU_PATH = '/home/aschi/Documents/MyPrivateRepo/notebooks/'\n",
    "if not BOXSIMU_PATH in sys.path:\n",
    "    sys.path.append(BOXSIMU_PATH)\n",
    "\n",
    "from boxsimu import (Fluid, Variable, Box, Flow, Condition, \n",
    "                     BoxModelSystem, Process, Reaction, Flux)\n",
    "from boxsimu import utils\n",
    "\n",
    "\n",
    "#############################\n",
    "# FLUIDS\n",
    "#############################\n",
    "# water density parameters\n",
    "def init_simu1():\n",
    "    A = 0.14395\n",
    "    B = 0.0112\n",
    "    C = 649.727*ur.kelvin\n",
    "    D = 0.05107\n",
    "    rho_expr_water = lambda time, c: A / (B**(1+(1-(c.T/C))**D))*ur.kg/ur.meter**3\n",
    "    \n",
    "    water = Fluid('water', rho_expr=rho_expr_water, mass=8e5*ur.kg)\n",
    "    lakewater = copy.deepcopy(water)\n",
    "    lakewater.mass = 8e4*ur.kg\n",
    "    \n",
    "    #############################\n",
    "    # CONDITIONS\n",
    "    #############################\n",
    "    condition_lake = Condition(T=290*ur.kelvin, pH=5)\n",
    "    condition_upper_ocean = Condition(T=280*ur.kelvin)\n",
    "    condition_deep_ocean = Condition(T=275*ur.kelvin)\n",
    "    \n",
    "    #############################\n",
    "    # VARIABLES\n",
    "    #############################\n",
    "    phosphate = Variable('PO4')\n",
    "    nitrate = Variable('NO3')\n",
    "    organic_compound1 = Variable('OC1')\n",
    "    phyto = Variable('phyto')\n",
    "    \n",
    "    #############################\n",
    "    # PROCESSES\n",
    "    #############################\n",
    "    process_photolytic_deg_rate = lambda t, c: -max(0,((- 10*ur.kelvin*np.cos(2*np.pi*t / (24*ur.hour))) / (10*ur.kelvin))) * 10*ur.gram/ur.hour\n",
    "    process_photolytic_deg = Process(\n",
    "            'Photolytic Degradation',\n",
    "            organic_compound1, \n",
    "            process_photolytic_deg_rate\n",
    "    ) \n",
    "    \n",
    "    #############################\n",
    "    # REACTIONS\n",
    "    #############################\n",
    "    reaction_photosynthesis = Reaction(\n",
    "        name = 'Photosynthesis',\n",
    "        variables = [nitrate, phosphate, phyto],\n",
    "        variable_coeffs=[-7.225, -1, + 114.5],  # Redfield ratio in weight instead of mol\n",
    "        rate=lambda t, c: (max(0,((- 10*ur.kelvin*np.cos(2*np.pi*t / (24*ur.hour))) / (10*ur.kelvin))) * 10)**1.4 *ur.gram/ur.hour\n",
    "    )\n",
    "    \n",
    "    #############################\n",
    "    # BOXES\n",
    "    #############################\n",
    "    lake = Box(\n",
    "        name='lake',\n",
    "        name_long='Medium Size Lake',\n",
    "        fluid=lakewater,\n",
    "        #processes=[process_photolytic_deg,],\n",
    "        #reactions=[reaction_photosynthesis, ],\n",
    "        variables=[phosphate.q(1*ur.kg),], # organic_compound1],\n",
    "        condition=condition_lake,\n",
    "    )\n",
    "    upper_ocean = Box(\n",
    "        name='upper_ocean',\n",
    "        name_long='Upper Ocean Box',\n",
    "        fluid=water, \n",
    "        #processes=[process_photolytic_deg,],\n",
    "        reactions=[],\n",
    "        variables=[phosphate.q(1*ur.kg), ],\n",
    "        condition=condition_upper_ocean,\n",
    "    )\n",
    "    deep_ocean = Box(\n",
    "        name='deep_ocean',\n",
    "        name_long='Deep Ocean Box', \n",
    "        fluid=water, \n",
    "        processes=[],\n",
    "        variables=[nitrate.q(2*ur.kg), ],\n",
    "        condition=condition_deep_ocean,\n",
    "    )\n",
    "    \n",
    "    \n",
    "    #############################\n",
    "    # FLOWS\n",
    "    #############################\n",
    "    f1 = Flow(\n",
    "        name='River flow from Lake to Ocean', \n",
    "        source_box=lake, \n",
    "        target_box=upper_ocean,\n",
    "        rate=0.2e5*ur.kg/ur.hour,\n",
    "    )\n",
    "    f2 = Flow(\n",
    "        name='Downwelling', \n",
    "        source_box=upper_ocean, \n",
    "        target_box=deep_ocean,\n",
    "        rate=lambda t, c: 2.6e5*ur.kg/ur.hour, \n",
    "    )\n",
    "    f3 = Flow(\n",
    "        name='Upwelling',\n",
    "        source_box=deep_ocean, \n",
    "        target_box=upper_ocean,\n",
    "        rate=lambda t, c: 2.5e5*ur.kg/ur.hour, \n",
    "    )\n",
    "    f4 = Flow(\n",
    "        name='Deep Sea Percolation into Earth-Interior',\n",
    "        source_box=deep_ocean, \n",
    "        target_box=None,\n",
    "        rate=lambda t, c: 0.09e5*ur.kg/ur.hour, \n",
    "    )\n",
    "    f5 = Flow(\n",
    "        name='Rain',\n",
    "        source_box=None, \n",
    "        target_box=lake,\n",
    "        rate=lambda t, c: min(min(np.exp(t/(8000*ur.hour)),5)*0.1e5*ur.kg/ur.hour, 0.25e5*ur.kg/ur.hour), \n",
    "    )\n",
    "    \n",
    "    #############################\n",
    "    # FLUXES\n",
    "    #############################\n",
    "    \n",
    "    flux1 = Flux('Biological pump', upper_ocean, deep_ocean, phyto, lambda t, c: c.box1.variables.phyto.mass * 0.1 / ur.day)\n",
    "    \n",
    "    \n",
    "    \n",
    "    #############################\n",
    "    # SYSTEM\n",
    "    #############################\n",
    "    sys = BoxModelSystem('Test System', \n",
    "                          [lake, upper_ocean, deep_ocean], \n",
    "                          Condition(T=301.11, pH=8.3),\n",
    "                          flows=[f1,f2,f3,f4,f5],\n",
    "                          #fluxes=[flux1, ],\n",
    "    )\n",
    "    return sys"
   ]
  },
  {
   "cell_type": "code",
   "execution_count": 4,
   "metadata": {
    "collapsed": true
   },
   "outputs": [],
   "source": [
    "sys = init_simu1()"
   ]
  },
  {
   "cell_type": "code",
   "execution_count": 7,
   "metadata": {},
   "outputs": [
    {
     "name": "stdout",
     "output_type": "stream",
     "text": [
      "> /home/aschi/Documents/MyPrivateRepo/notebooks/boxsimu/system.py(476)solve_flows()\n",
      "-> print('Start solving the flows of the box model...')\n",
      "(Pdb) n\n",
      "Start solving the flows of the box model...\n",
      "> /home/aschi/Documents/MyPrivateRepo/notebooks/boxsimu/system.py(477)solve_flows()\n",
      "-> print('- integration time: {}'.format(total_integration_time))\n",
      "(Pdb) \n",
      "- integration time: 15000 hour\n",
      "> /home/aschi/Documents/MyPrivateRepo/notebooks/boxsimu/system.py(478)solve_flows()\n",
      "-> print('- time step: {}'.format(dt))\n",
      "(Pdb) \n",
      "- time step: 75.0 hour\n",
      "> /home/aschi/Documents/MyPrivateRepo/notebooks/boxsimu/system.py(481)solve_flows()\n",
      "-> N_time_steps = int(total_integration_time/dt)\n",
      "(Pdb) \n",
      "> /home/aschi/Documents/MyPrivateRepo/notebooks/boxsimu/system.py(482)solve_flows()\n",
      "-> time = total_integration_time * 0\n",
      "(Pdb) \n",
      "> /home/aschi/Documents/MyPrivateRepo/notebooks/boxsimu/system.py(485)solve_flows()\n",
      "-> start_time = time_module.time()\n",
      "(Pdb) \n",
      "> /home/aschi/Documents/MyPrivateRepo/notebooks/boxsimu/system.py(487)solve_flows()\n",
      "-> sol = Solution(total_integration_time, dt, self.box_list)\n",
      "(Pdb) \n",
      "> /home/aschi/Documents/MyPrivateRepo/notebooks/boxsimu/system.py(489)solve_flows()\n",
      "-> progress = 0\n",
      "(Pdb) \n",
      "> /home/aschi/Documents/MyPrivateRepo/notebooks/boxsimu/system.py(490)solve_flows()\n",
      "-> for i in range(N_time_steps):\n",
      "(Pdb) \n",
      "> /home/aschi/Documents/MyPrivateRepo/notebooks/boxsimu/system.py(491)solve_flows()\n",
      "-> progress_old = progress\n",
      "(Pdb) \n",
      "> /home/aschi/Documents/MyPrivateRepo/notebooks/boxsimu/system.py(492)solve_flows()\n",
      "-> progress = round(float(i)/float(N_time_steps), 1) * 100.0\n",
      "(Pdb) \n",
      "> /home/aschi/Documents/MyPrivateRepo/notebooks/boxsimu/system.py(493)solve_flows()\n",
      "-> if progress != progress_old:\n",
      "(Pdb) \n",
      "> /home/aschi/Documents/MyPrivateRepo/notebooks/boxsimu/system.py(496)solve_flows()\n",
      "-> sol.time.append(time)\n",
      "(Pdb) \n",
      "> /home/aschi/Documents/MyPrivateRepo/notebooks/boxsimu/system.py(498)solve_flows()\n",
      "-> m_changes, m_units, A = self.calculate_mass_flows(time, dt)\n",
      "(Pdb) \n",
      "> /home/aschi/Documents/MyPrivateRepo/notebooks/boxsimu/system.py(500)solve_flows()\n",
      "-> for box_name, box in self.boxes.items():\n",
      "(Pdb) A\n",
      "array([[  0.        ,   5.55555556,   0.        ],\n",
      "       [  0.        ,   0.        ,  72.22222222],\n",
      "       [  0.        ,  69.44444444,   0.        ]])\n",
      "(Pdb) c\n",
      "Function \"solve_flows(...)\" used 96.541s\n"
     ]
    },
    {
     "data": {
      "image/png": "[encoded data removed]",
      "text/plain": [
       "<matplotlib.figure.Figure at 0x7fd50e4013c8>"
      ]
     },
     "metadata": {},
     "output_type": "display_data"
    }
   ],
   "source": [
    "sys = init_simu1()\n",
    "sol = sys.solve_flows(15000*ur.hour, 15000.0/200*ur.hour, debug=False)\n",
    "sol.plot_box_masses()"
   ]
  },
  {
   "cell_type": "code",
   "execution_count": 9,
   "metadata": {},
   "outputs": [
    {
     "name": "stdout",
     "output_type": "stream",
     "text": [
      "Start solving the box model...\n",
      "- integration time: 15000 hour\n",
      "- time step: 15 minute\n",
      "10.0%\n",
      "20.0%\n",
      "30.0%\n",
      "40.0%\n",
      "50.0%\n",
      "60.0%\n",
      "70.0%\n",
      "80.0%\n",
      "90.0%\n",
      "100.0%\n",
      "Function \"solve(...)\" used 892.370s\n",
      "2 2\n",
      "[[<matplotlib.axes._subplots.AxesSubplot object at 0x7fd50e3084e0>\n",
      "  <matplotlib.axes._subplots.AxesSubplot object at 0x7fd50e3baba8>]\n",
      " [<matplotlib.axes._subplots.AxesSubplot object at 0x7fd5006ecdd8>\n",
      "  <matplotlib.axes._subplots.AxesSubplot object at 0x7fd50064ce10>]]\n",
      "i: 0\n",
      "x=0  y=0\n",
      "i: 1\n",
      "x=1  y=0\n",
      "i: 2\n",
      "x=0  y=1\n",
      "2017-06-20 12:34:28.587647\n"
     ]
    },
    {
     "data": {
      "image/png": "[encoded data removed]",
      "text/plain": [
       "<matplotlib.figure.Figure at 0x7fd50e3087b8>"
      ]
     },
     "metadata": {},
     "output_type": "display_data"
    },
    {
     "data": {
      "image/png": "[encoded data removed]",
      "text/plain": [
       "<matplotlib.figure.Figure at 0x7fd50e472cf8>"
      ]
     },
     "metadata": {},
     "output_type": "display_data"
    }
   ],
   "source": [
    "sys = init_simu1()\n",
    "total_integration_time = 15000*ur.hour\n",
    "dt = 15*ur.minute\n",
    "sol = sys.solve(total_integration_time, dt, debug=False)\n",
    "sol.plot_variables_masses(['NO3', 'PO4'])\n",
    "sol.plot_box_masses()\n",
    "\n",
    "print(datetime.datetime.now())"
   ]
  },
  {
   "cell_type": "code",
   "execution_count": null,
   "metadata": {},
   "outputs": [],
   "source": [
    "dimless"
   ]
  },
  {
   "cell_type": "code",
   "execution_count": 19,
   "metadata": {
    "collapsed": true
   },
   "outputs": [],
   "source": [
    "sys.boxes.upper_ocean.variables.NO3.test123_upper_ocean = 1\n",
    "sys.boxes.deep_ocean.variables.NO3.test123_deep_ocean = 2\n",
    "sys.boxes.lake.variables.NO3.test123_lake = 3"
   ]
  },
  {
   "cell_type": "code",
   "execution_count": 21,
   "metadata": {},
   "outputs": [
    {
     "data": {
      "text/plain": [
       "2"
      ]
     },
     "execution_count": 21,
     "metadata": {},
     "output_type": "execute_result"
    }
   ],
   "source": [
    "sys.boxes.deep_ocean.variables.NO3.test123_deep_ocean"
   ]
  },
  {
   "cell_type": "code",
   "execution_count": 10,
   "metadata": {},
   "outputs": [
    {
     "data": {
      "text/plain": [
       "66.66666666666667"
      ]
     },
     "execution_count": 10,
     "metadata": {},
     "output_type": "execute_result"
    }
   ],
   "source": [
    "6e4/9e2"
   ]
  },
  {
   "cell_type": "code",
   "execution_count": null,
   "metadata": {
    "collapsed": true
   },
   "outputs": [],
   "source": []
  }
 ],
 "metadata": {
  "kernelspec": {
   "display_name": "Python 3",
   "language": "python",
   "name": "python3"
  },
  "language_info": {
   "codemirror_mode": {
    "name": "ipython",
    "version": 3
   },
   "file_extension": ".py",
   "mimetype": "text/x-python",
   "name": "python",
   "nbconvert_exporter": "python",
   "pygments_lexer": "ipython3",
   "version": "3.6.1"
  }
 },
 "nbformat": 4,
 "nbformat_minor": 2
}
