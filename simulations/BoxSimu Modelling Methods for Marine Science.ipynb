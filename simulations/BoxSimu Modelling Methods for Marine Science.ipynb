{
 "cells": [
  {
   "cell_type": "markdown",
   "metadata": {},
   "source": [
    "# Models from the Book \"Modelling Methods for Marine Science\""
   ]
  },
  {
   "cell_type": "markdown",
   "metadata": {},
   "source": [
    "## Chapter 8.5: two-box model global ocean phosphate model"
   ]
  },
  {
   "cell_type": "code",
   "execution_count": 1,
   "metadata": {},
   "outputs": [
    {
     "name": "stdout",
     "output_type": "stream",
     "text": [
      "3.06e+19 1.03e+21 3.06e+16 6.12e+17\n"
     ]
    }
   ],
   "source": [
    "V1 = 3e16\n",
    "V2 = 1e18\n",
    "FR = 3e13\n",
    "FO = 6e14\n",
    "\n",
    "M1 = V1*1020\n",
    "M2 = V2*1030\n",
    "FRM = 3e13*1020\n",
    "FOM = FO* 1020 \n",
    "print(M1, M2, FRM, FOM)"
   ]
  },
  {
   "cell_type": "code",
   "execution_count": 2,
   "metadata": {},
   "outputs": [
    {
     "ename": "SyntaxError",
     "evalue": "invalid syntax (system.py, line 271)",
     "output_type": "error",
     "traceback": [
      "Traceback \u001b[0;36m(most recent call last)\u001b[0m:\n",
      "  File \u001b[1;32m\"/home/aschi/Envs/science3/lib/python3.6/site-packages/IPython/core/interactiveshell.py\"\u001b[0m, line \u001b[1;32m2862\u001b[0m, in \u001b[1;35mrun_code\u001b[0m\n    exec(code_obj, self.user_global_ns, self.user_ns)\n",
      "  File \u001b[1;32m\"<ipython-input-2-c564f3ba959a>\"\u001b[0m, line \u001b[1;32m19\u001b[0m, in \u001b[1;35m<module>\u001b[0m\n    from boxsimu import (Fluid, Variable, Box, Flow, Condition,\n",
      "\u001b[0;36m  File \u001b[0;32m\"/home/aschi/Documents/MyPrivateRepo/notebooks/boxsimu/__init__.py\"\u001b[0;36m, line \u001b[0;32m28\u001b[0;36m, in \u001b[0;35m<module>\u001b[0;36m\u001b[0m\n\u001b[0;31m    from system import BoxModelSystem\u001b[0m\n",
      "\u001b[0;36m  File \u001b[0;32m\"/home/aschi/Documents/MyPrivateRepo/notebooks/boxsimu/system.py\"\u001b[0;36m, line \u001b[0;32m271\u001b[0m\n\u001b[0;31m    tt_source_flows if flow.target_box==box])\u001b[0m\n\u001b[0m                                            ^\u001b[0m\n\u001b[0;31mSyntaxError\u001b[0m\u001b[0;31m:\u001b[0m invalid syntax\n"
     ]
    }
   ],
   "source": [
    "# -*- coding: utf-8 -*-\n",
    "\n",
    "import sys\n",
    "import copy\n",
    "import pandas as pd\n",
    "import numpy as np\n",
    "import datetime\n",
    "\n",
    "from matplotlib import pyplot as plt\n",
    "\n",
    "from pint import UnitRegistry\n",
    "ur = UnitRegistry(autoconvert_offset_to_baseunit = True)\n",
    "\n",
    "\n",
    "BOXSIMU_PATH = '/home/aschi/Documents/MyPrivateRepo/notebooks/'\n",
    "if not BOXSIMU_PATH in sys.path:\n",
    "    sys.path.append(BOXSIMU_PATH)\n",
    "\n",
    "from boxsimu import (Fluid, Variable, Box, Flow, Condition, \n",
    "                     BoxModelSystem, Process, Reaction, Flux)\n",
    "from boxsimu import utils"
   ]
  },
  {
   "cell_type": "code",
   "execution_count": 3,
   "metadata": {
    "collapsed": true
   },
   "outputs": [],
   "source": [
    "# water density parameters\n",
    "def init_sys(): \n",
    "    #############################\n",
    "    # FLUIDS\n",
    "    #############################\n",
    "    seawater = Fluid('sea water', rho_expr=1000*ur.kg/ur.meter**3)\n",
    "    \n",
    "    #############################\n",
    "    # CONDITIONS\n",
    "    #############################\n",
    "    \n",
    "    #############################\n",
    "    # VARIABLES\n",
    "    #############################\n",
    "    phosphate = Variable('PO4')\n",
    "    \n",
    "    #############################\n",
    "    # PROCESSES\n",
    "    #############################\n",
    "    \n",
    "    #############################\n",
    "    # REACTIONS\n",
    "    #############################\n",
    "    \n",
    "    #############################\n",
    "    # BOXES\n",
    "    #############################\n",
    "    upper_ocean = Box(\n",
    "        name='upper_ocean',\n",
    "        name_long='Upper Ocean Box',\n",
    "        fluid=seawater.q(M1*ur.kg), \n",
    "    )\n",
    "    deep_ocean = Box(\n",
    "        name='deep_ocean',\n",
    "        name_long='Deep Ocean Box', \n",
    "        fluid=seawater.q(M2*ur.kg),\n",
    "    )\n",
    "    \n",
    "    \n",
    "    #############################\n",
    "    # FLOWS\n",
    "    #############################\n",
    "    flow_downwelling = Flow(\n",
    "        name='Downwelling', \n",
    "        source_box=upper_ocean, \n",
    "        target_box=deep_ocean,\n",
    "        rate=lambda t, c: 6e17*ur.kg/ur.year, \n",
    "    )\n",
    "    \n",
    "    flow_upwelling = Flow(\n",
    "        name='Upwelling',\n",
    "        source_box=deep_ocean, \n",
    "        target_box=upper_ocean,\n",
    "        rate=lambda t, c: 6e17*ur.kg/ur.year, \n",
    "    )\n",
    "    \n",
    "    flow_river_water = Flow(\n",
    "        name='River Inflow into Upper Ocean',\n",
    "        source_box=None, \n",
    "        target_box=upper_ocean,\n",
    "        rate=lambda t, c: 3e16*ur.kg/ur.year, \n",
    "    )\n",
    "    flow_river_water.add_transported_variable(variable=phosphate, concentration=4.6455e-8)\n",
    "    \n",
    "    flow_upper_ocean_evaporation = Flow(\n",
    "        name='Upper Ocean Evaporation',\n",
    "        source_box=upper_ocean,\n",
    "        target_box=None,\n",
    "        rate=lambda t, c: 3e16*ur.kg/ur.year,\n",
    "    )\n",
    "    flow_upper_ocean_evaporation.transports_tracers = False\n",
    "    \n",
    "    #############################\n",
    "    # FLUXES\n",
    "    #############################\n",
    "    \n",
    "    flux1 = Flux('Biological pump', upper_ocean, deep_ocean, phyto, lambda t, c: c.box1.variables.phyto.mass * 0.1 / ur.day)\n",
    "    \n",
    "    \n",
    "    #############################\n",
    "    # SYSTEM\n",
    "    #############################\n",
    "    sys = BoxModelSystem('Test System', \n",
    "                          [upper_ocean, deep_ocean], \n",
    "                          flows=[flow_downwelling, flow_upwelling, \n",
    "                                 flow_river_water, flow_upper_ocean_evaporation],\n",
    "                          #fluxes=[flux1, ],\n",
    "    )\n",
    "    return sys"
   ]
  },
  {
   "cell_type": "code",
   "execution_count": 4,
   "metadata": {},
   "outputs": [
    {
     "data": {
      "text/html": [
       "4.6455e-08 dimensionless"
      ],
      "text/latex": [
       "$4.6455e-08\\ dimensionless$"
      ],
      "text/plain": [
       "<Quantity(4.6455e-08, 'dimensionless')>"
      ]
     },
     "execution_count": 4,
     "metadata": {},
     "output_type": "execute_result"
    }
   ],
   "source": [
    "((30.97*ur.gram/ur.mol)).to_base_units() * 1.5e-3*ur.mol / (1000*ur.kg)"
   ]
  },
  {
   "cell_type": "code",
   "execution_count": 5,
   "metadata": {
    "collapsed": true
   },
   "outputs": [],
   "source": [
    "class A:\n",
    "    def func1(self, ):\n",
    "        print('hello World')\n",
    "        return 3\n",
    "    \n",
    "    @property\n",
    "    def func2(self, ):\n",
    "        print('2222hello World')\n",
    "        return 8\n",
    "    \n",
    "a = A()"
   ]
  },
  {
   "cell_type": "code",
   "execution_count": 6,
   "metadata": {},
   "outputs": [
    {
     "name": "stdout",
     "output_type": "stream",
     "text": [
      "hello World\n"
     ]
    }
   ],
   "source": [
    "b = a.func1()"
   ]
  },
  {
   "cell_type": "code",
   "execution_count": 17,
   "metadata": {},
   "outputs": [
    {
     "data": {
      "text/plain": [
       "3"
      ]
     },
     "execution_count": 17,
     "metadata": {},
     "output_type": "execute_result"
    }
   ],
   "source": [
    "b"
   ]
  },
  {
   "cell_type": "code",
   "execution_count": 18,
   "metadata": {},
   "outputs": [
    {
     "name": "stdout",
     "output_type": "stream",
     "text": [
      "2222hello World\n"
     ]
    }
   ],
   "source": [
    "c = a.func2"
   ]
  },
  {
   "cell_type": "code",
   "execution_count": 19,
   "metadata": {},
   "outputs": [
    {
     "data": {
      "text/plain": [
       "8"
      ]
     },
     "execution_count": 19,
     "metadata": {},
     "output_type": "execute_result"
    }
   ],
   "source": [
    "c"
   ]
  },
  {
   "cell_type": "code",
   "execution_count": 20,
   "metadata": {},
   "outputs": [
    {
     "ename": "SyntaxError",
     "evalue": "invalid syntax (<ipython-input-20-45a8ba864f58>, line 1)",
     "output_type": "error",
     "traceback": [
      "\u001b[0;36m  File \u001b[0;32m\"<ipython-input-20-45a8ba864f58>\"\u001b[0;36m, line \u001b[0;32m1\u001b[0m\n\u001b[0;31m    process1 = Process(....)\u001b[0m\n\u001b[0m                           ^\u001b[0m\n\u001b[0;31mSyntaxError\u001b[0m\u001b[0;31m:\u001b[0m invalid syntax\n"
     ]
    }
   ],
   "source": [
    "process1 = Process(....)\n",
    "process1.get_process_rate(t,c)\n",
    "process1(t,c)"
   ]
  },
  {
   "cell_type": "code",
   "execution_count": 21,
   "metadata": {},
   "outputs": [
    {
     "ename": "NameError",
     "evalue": "name 'Process' is not defined",
     "output_type": "error",
     "traceback": [
      "\u001b[0;31m---------------------------------------------------------------------------\u001b[0m",
      "\u001b[0;31mNameError\u001b[0m                                 Traceback (most recent call last)",
      "\u001b[0;32m<ipython-input-21-b08c0e2b2d77>\u001b[0m in \u001b[0;36m<module>\u001b[0;34m()\u001b[0m\n\u001b[0;32m----> 1\u001b[0;31m \u001b[0mProcess\u001b[0m\u001b[0;34m.\u001b[0m\u001b[0mget_all_from\u001b[0m\u001b[0;34m(\u001b[0m\u001b[0mupper_ocean\u001b[0m\u001b[0;34m)\u001b[0m\u001b[0;34m\u001b[0m\u001b[0m\n\u001b[0m",
      "\u001b[0;31mNameError\u001b[0m: name 'Process' is not defined"
     ]
    }
   ],
   "source": [
    "Process.get_all_from(upper_ocean)"
   ]
  },
  {
   "cell_type": "code",
   "execution_count": 23,
   "metadata": {
    "collapsed": true
   },
   "outputs": [],
   "source": [
    "from attrdict import AttrDict"
   ]
  },
  {
   "cell_type": "code",
   "execution_count": 27,
   "metadata": {
    "collapsed": true
   },
   "outputs": [],
   "source": [
    "d1 = AttrDict({'aaaaa': 1, 'baaaaa':2, 'caaaaaa':3})"
   ]
  },
  {
   "cell_type": "code",
   "execution_count": 25,
   "metadata": {},
   "outputs": [
    {
     "data": {
      "text/plain": [
       "1"
      ]
     },
     "execution_count": 25,
     "metadata": {},
     "output_type": "execute_result"
    }
   ],
   "source": [
    "d1['a']"
   ]
  },
  {
   "cell_type": "code",
   "execution_count": 26,
   "metadata": {},
   "outputs": [
    {
     "data": {
      "text/plain": [
       "1"
      ]
     },
     "execution_count": 26,
     "metadata": {},
     "output_type": "execute_result"
    }
   ],
   "source": [
    "d1.a"
   ]
  },
  {
   "cell_type": "code",
   "execution_count": null,
   "metadata": {
    "collapsed": true
   },
   "outputs": [],
   "source": [
    "sys.boxes.upper_ocean.context"
   ]
  },
  {
   "cell_type": "code",
   "execution_count": null,
   "metadata": {
    "collapsed": true
   },
   "outputs": [],
   "source": [
    "sys.boxes['upper_ocean'].context"
   ]
  },
  {
   "cell_type": "code",
   "execution_count": 28,
   "metadata": {},
   "outputs": [
    {
     "data": {
      "text/plain": [
       "AttrDict({'aaaaa': 1, 'baaaaa': 2, 'caaaaaa': 3})"
      ]
     },
     "execution_count": 28,
     "metadata": {},
     "output_type": "execute_result"
    }
   ],
   "source": [
    "d1"
   ]
  },
  {
   "cell_type": "code",
   "execution_count": 30,
   "metadata": {},
   "outputs": [
    {
     "data": {
      "text/plain": [
       "1"
      ]
     },
     "execution_count": 30,
     "metadata": {},
     "output_type": "execute_result"
    }
   ],
   "source": [
    "d1.aaaaa"
   ]
  },
  {
   "cell_type": "code",
   "execution_count": 2,
   "metadata": {
    "collapsed": true
   },
   "outputs": [],
   "source": [
    "import sys\n",
    "BOXSIMU_PATH = '/home/aschi/Documents/MyPrivateRepo/notebooks/'\n",
    "if not BOXSIMU_PATH in sys.path:\n",
    "    sys.path.append(BOXSIMU_PATH)"
   ]
  },
  {
   "cell_type": "code",
   "execution_count": 3,
   "metadata": {},
   "outputs": [
    {
     "ename": "SyntaxError",
     "evalue": "invalid syntax (system.py, line 257)",
     "output_type": "error",
     "traceback": [
      "Traceback \u001b[0;36m(most recent call last)\u001b[0m:\n",
      "  File \u001b[1;32m\"/home/aschi/Envs/science3/lib/python3.6/site-packages/IPython/core/interactiveshell.py\"\u001b[0m, line \u001b[1;32m2862\u001b[0m, in \u001b[1;35mrun_code\u001b[0m\n    exec(code_obj, self.user_global_ns, self.user_ns)\n",
      "  File \u001b[1;32m\"<ipython-input-3-05a8fd773573>\"\u001b[0m, line \u001b[1;32m1\u001b[0m, in \u001b[1;35m<module>\u001b[0m\n    from boxsimu import Variable\n",
      "\u001b[0;36m  File \u001b[0;32m\"/home/aschi/Documents/MyPrivateRepo/notebooks/boxsimu/__init__.py\"\u001b[0;36m, line \u001b[0;32m28\u001b[0;36m, in \u001b[0;35m<module>\u001b[0;36m\u001b[0m\n\u001b[0;31m    from system import BoxModelSystem\u001b[0m\n",
      "\u001b[0;36m  File \u001b[0;32m\"/home/aschi/Documents/MyPrivateRepo/notebooks/boxsimu/system.py\"\u001b[0;36m, line \u001b[0;32m257\u001b[0m\n\u001b[0;31m    for box_name, box in self.boxes.items():\u001b[0m\n\u001b[0m      ^\u001b[0m\n\u001b[0;31mSyntaxError\u001b[0m\u001b[0;31m:\u001b[0m invalid syntax\n"
     ]
    }
   ],
   "source": [
    "from boxsimu import Variable"
   ]
  },
  {
   "cell_type": "code",
   "execution_count": 9,
   "metadata": {},
   "outputs": [
    {
     "data": {
      "text/plain": [
       "True"
      ]
     },
     "execution_count": 9,
     "metadata": {},
     "output_type": "execute_result"
    }
   ],
   "source": [
    "'hflkhfsd'.isidentifier()"
   ]
  },
  {
   "cell_type": "code",
   "execution_count": 11,
   "metadata": {
    "collapsed": true
   },
   "outputs": [],
   "source": [
    "from attrdict import AttrDict\n",
    "\n",
    "a = AttrDict(a=3, b=5)"
   ]
  },
  {
   "cell_type": "code",
   "execution_count": 13,
   "metadata": {},
   "outputs": [
    {
     "data": {
      "text/plain": [
       "dict_items([('a', 3), ('b', 5)])"
      ]
     },
     "execution_count": 13,
     "metadata": {},
     "output_type": "execute_result"
    }
   ],
   "source": [
    "a.items()"
   ]
  },
  {
   "cell_type": "code",
   "execution_count": 17,
   "metadata": {},
   "outputs": [
    {
     "name": "stdout",
     "output_type": "stream",
     "text": [
      "a\n",
      "b\n"
     ]
    }
   ],
   "source": [
    "for dd in a.keys():\n",
    "    print(dd)"
   ]
  },
  {
   "cell_type": "code",
   "execution_count": 19,
   "metadata": {},
   "outputs": [
    {
     "data": {
      "text/html": [
       "<div>\n",
       "<style>\n",
       "    .dataframe thead tr:only-child th {\n",
       "        text-align: right;\n",
       "    }\n",
       "\n",
       "    .dataframe thead th {\n",
       "        text-align: left;\n",
       "    }\n",
       "\n",
       "    .dataframe tbody tr th {\n",
       "        vertical-align: top;\n",
       "    }\n",
       "</style>\n",
       "<table border=\"1\" class=\"dataframe\">\n",
       "  <thead>\n",
       "    <tr style=\"text-align: right;\">\n",
       "      <th></th>\n",
       "      <th>a</th>\n",
       "      <th>b</th>\n",
       "    </tr>\n",
       "  </thead>\n",
       "  <tbody>\n",
       "  </tbody>\n",
       "</table>\n",
       "</div>"
      ],
      "text/plain": [
       "Empty DataFrame\n",
       "Columns: [a, b]\n",
       "Index: []"
      ]
     },
     "execution_count": 19,
     "metadata": {},
     "output_type": "execute_result"
    }
   ],
   "source": [
    "pd.DataFrame(columns=a.keys())"
   ]
  },
  {
   "cell_type": "code",
   "execution_count": 10,
   "metadata": {},
   "outputs": [
    {
     "name": "stdout",
     "output_type": "stream",
     "text": [
      "6\n",
      "6\n"
     ]
    }
   ],
   "source": [
    "import copy\n",
    "class A:\n",
    "    xx = 3\n",
    "\n",
    "a1 = A()\n",
    "def f1(a):\n",
    "    #a = copy.deepcopy(a)\n",
    "    a = a\n",
    "    a.xx *= 2\n",
    "    return a\n",
    "\n",
    "print(f1(a1).xx)\n",
    "print(a1.xx)"
   ]
  },
  {
   "cell_type": "code",
   "execution_count": null,
   "metadata": {
    "collapsed": true
   },
   "outputs": [],
   "source": []
  }
 ],
 "metadata": {
  "kernelspec": {
   "display_name": "Python 3",
   "language": "python",
   "name": "python3"
  },
  "language_info": {
   "codemirror_mode": {
    "name": "ipython",
    "version": 3
   },
   "file_extension": ".py",
   "mimetype": "text/x-python",
   "name": "python",
   "nbconvert_exporter": "python",
   "pygments_lexer": "ipython3",
   "version": "3.6.1"
  }
 },
 "nbformat": 4,
 "nbformat_minor": 2
}
