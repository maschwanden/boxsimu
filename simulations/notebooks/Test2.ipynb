{
 "cells": [
  {
   "cell_type": "code",
   "execution_count": 6,
   "metadata": {},
   "outputs": [],
   "source": [
    "# -*- coding: utf-8 -*-\n",
    "\n",
    "import sys\n",
    "import copy\n",
    "import pandas as pd\n",
    "import numpy as np\n",
    "import datetime\n",
    "\n",
    "from matplotlib import pyplot as plt\n",
    "\n",
    "from pint import UnitRegistry\n",
    "ur = UnitRegistry(autoconvert_offset_to_baseunit = True)\n",
    "\n",
    "\n",
    "BOXSIMU_PATH = '/home/aschi/Documents/MyPrivateRepo/boxsimu_project'\n",
    "if not BOXSIMU_PATH in sys.path:\n",
    "    sys.path.append(BOXSIMU_PATH)\n",
    "\n",
    "import boxsimu\n",
    "from boxsimu import Box, Condition, Fluid, Variable, Process, Reaction, Flow, Flux, BoxModelSystem"
   ]
  },
  {
   "cell_type": "code",
   "execution_count": 2,
   "metadata": {
    "collapsed": true
   },
   "outputs": [],
   "source": [
    "V1 = 3e16\n",
    "V2 = 1e18\n",
    "FR = 3e13\n",
    "FO = 6e14\n",
    "\n",
    "M1 = V1*1020\n",
    "M2 = V2*1030\n",
    "FRM = 3e13*1020\n",
    "FOM = FO* 1020 \n",
    "\n",
    "#############################\n",
    "# FLUIDS\n",
    "#############################\n",
    "seawater = Fluid('sea water', rho_expr=1000*ur.kg/ur.meter**3)\n",
    "\n",
    "#############################\n",
    "# CONDITIONS\n",
    "#############################\n",
    "\n",
    "#############################\n",
    "# VARIABLES\n",
    "#############################\n",
    "phosphate = Variable('PO4')\n",
    "\n",
    "#############################\n",
    "# PROCESSES\n",
    "#############################\n",
    "\n",
    "#############################\n",
    "# REACTIONS\n",
    "#############################\n",
    "\n",
    "#############################\n",
    "# BOXES\n",
    "#############################\n",
    "upper_ocean = Box(\n",
    "    name='upper_ocean',\n",
    "    name_long='Upper Ocean Box',\n",
    "    fluid=seawater.q(M1*ur.kg), \n",
    ")\n",
    "deep_ocean = Box(\n",
    "    name='deep_ocean',\n",
    "    name_long='Deep Ocean Box', \n",
    "    fluid=seawater.q(M2*ur.kg),\n",
    ")\n",
    "\n",
    "\n",
    "#############################\n",
    "# FLOWS\n",
    "#############################\n",
    "flow_downwelling = Flow(\n",
    "    name='Downwelling', \n",
    "    source_box=upper_ocean, \n",
    "    target_box=deep_ocean,\n",
    "    rate=lambda t, c: 6e17*ur.kg/ur.year, \n",
    ")\n",
    "\n",
    "flow_upwelling = Flow(\n",
    "    name='Upwelling',\n",
    "    source_box=deep_ocean, \n",
    "    target_box=upper_ocean,\n",
    "    rate=lambda t, c: 6e17*ur.kg/ur.year, \n",
    ")\n",
    "\n",
    "flow_river_water = Flow(\n",
    "    name='River Inflow into Upper Ocean',\n",
    "    source_box=None, \n",
    "    target_box=upper_ocean,\n",
    "    rate=lambda t, c: 3e16*ur.kg/ur.year, \n",
    ")\n",
    "flow_river_water.add_transported_variable(variable=phosphate, concentration=4.6455e-8)\n",
    "\n",
    "flow_upper_ocean_evaporation = Flow(\n",
    "    name='Upper Ocean Evaporation',\n",
    "    source_box=upper_ocean,\n",
    "    target_box=None,\n",
    "    rate=lambda t, c: 3e16*ur.kg/ur.year,\n",
    ")\n",
    "flow_upper_ocean_evaporation.transports_tracers = False\n",
    "\n",
    "#############################\n",
    "# FLUXES\n",
    "#############################\n",
    "\n",
    "\n",
    "#############################\n",
    "# SYSTEM\n",
    "#############################\n",
    "sys = BoxModelSystem('Test System', \n",
    "                      [upper_ocean, deep_ocean], \n",
    "                      flows=[flow_downwelling, flow_upwelling, \n",
    "                             flow_river_water, flow_upper_ocean_evaporation],\n",
    "                      #fluxes=[flux1, ],\n",
    ")"
   ]
  },
  {
   "cell_type": "code",
   "execution_count": 8,
   "metadata": {},
   "outputs": [
    {
     "data": {
      "text/html": [
       "\\[\\begin{pmatrix}1.03e+21 & 3.06e+19\\end{pmatrix} kilogram\\]"
      ],
      "text/latex": [
       "$\\begin{pmatrix}1.03e+21 & 3.06e+19\\end{pmatrix}\\ \\mathrm{kilogram}$"
      ],
      "text/plain": [
       "<Quantity([  1.03000000e+21   3.06000000e+19], 'kilogram')>"
      ]
     },
     "execution_count": 8,
     "metadata": {},
     "output_type": "execute_result"
    }
   ],
   "source": [
    "a = sys.get_fluid_mass_1Darray()\n",
    "a"
   ]
  },
  {
   "cell_type": "code",
   "execution_count": 19,
   "metadata": {},
   "outputs": [
    {
     "data": {
      "text/html": [
       "\\[\\begin{pmatrix}1 & 2\\\\ \n",
       "3 & 4\\end{pmatrix} 1/hour\\]"
      ],
      "text/latex": [
       "$\\begin{pmatrix}1 & 2\\\\ \n",
       "3 & 4\\end{pmatrix}\\ \\frac{1}{\\mathrm{hour}}$"
      ],
      "text/plain": [
       "<Quantity([[1 2]\n",
       " [3 4]], '1 / hour')>"
      ]
     },
     "execution_count": 19,
     "metadata": {},
     "output_type": "execute_result"
    }
   ],
   "source": [
    "b = np.array([[1, 2], [3, 4]]) / ur.hour\n",
    "b"
   ]
  },
  {
   "cell_type": "code",
   "execution_count": 22,
   "metadata": {},
   "outputs": [
    {
     "data": {
      "text/html": [
       "\\[\\begin{pmatrix}1.0912e+21 & 3.2124e+21\\end{pmatrix} kilogram/hour\\]"
      ],
      "text/latex": [
       "$\\begin{pmatrix}1.0912e+21 & 3.2124e+21\\end{pmatrix}\\ \\frac{\\mathrm{kilogram}}{\\mathrm{hour}}$"
      ],
      "text/plain": [
       "<Quantity([  1.09120000e+21   3.21240000e+21], 'kilogram / hour')>"
      ]
     },
     "execution_count": 22,
     "metadata": {},
     "output_type": "execute_result"
    }
   ],
   "source": [
    "boxsimu.utils.np_pint_dot(b, a)"
   ]
  },
  {
   "cell_type": "code",
   "execution_count": 26,
   "metadata": {
    "collapsed": true
   },
   "outputs": [],
   "source": [
    "a = set([1,2])"
   ]
  },
  {
   "cell_type": "code",
   "execution_count": 10,
   "metadata": {},
   "outputs": [
    {
     "data": {
      "text/html": [
       "\\[\\begin{pmatrix}1.03e+21 & 1.53e+19\\end{pmatrix} kilogram\\]"
      ],
      "text/latex": [
       "$\\begin{pmatrix}1.03e+21 & 1.53e+19\\end{pmatrix}\\ \\mathrm{kilogram}$"
      ],
      "text/plain": [
       "<Quantity([  1.03000000e+21   1.53000000e+19], 'kilogram')>"
      ]
     },
     "execution_count": 10,
     "metadata": {},
     "output_type": "execute_result"
    }
   ],
   "source": [
    "a * [1, 0.5]"
   ]
  },
  {
   "cell_type": "code",
   "execution_count": 9,
   "metadata": {},
   "outputs": [
    {
     "data": {
      "text/html": [
       "\\[\\begin{pmatrix}1.03e+21 & 1.53e+19\\end{pmatrix} kilogram\\]"
      ],
      "text/latex": [
       "$\\begin{pmatrix}1.03e+21 & 1.53e+19\\end{pmatrix}\\ \\mathrm{kilogram}$"
      ],
      "text/plain": [
       "<Quantity([  1.03000000e+21   1.53000000e+19], 'kilogram')>"
      ]
     },
     "execution_count": 9,
     "metadata": {},
     "output_type": "execute_result"
    }
   ],
   "source": [
    "a * np.array([1, 0.5])"
   ]
  },
  {
   "cell_type": "code",
   "execution_count": 26,
   "metadata": {},
   "outputs": [
    {
     "name": "stdout",
     "output_type": "stream",
     "text": [
      "[[1 2 3] [4 5 6] [7 8 9]] kilogram [1 2 3] / hour\n"
     ]
    }
   ],
   "source": [
    "a = np.arange(1,10)\n",
    "a.resize([3,3])\n",
    "a = a * ur.kg\n",
    "b = np.array([1, 2, 3])/ur.hour\n",
    "print(a, b)"
   ]
  },
  {
   "cell_type": "code",
   "execution_count": 37,
   "metadata": {},
   "outputs": [
    {
     "data": {
      "text/html": [
       "\\[\\begin{pmatrix}14.0 & 32.0 & 50.0\\end{pmatrix} kilogram/hour\\]"
      ],
      "text/latex": [
       "$\\begin{pmatrix}14.0 & 32.0 & 50.0\\end{pmatrix}\\ \\frac{\\mathrm{kilogram}}{\\mathrm{hour}}$"
      ],
      "text/plain": [
       "<Quantity([ 14.  32.  50.], 'kilogram / hour')>"
      ]
     },
     "execution_count": 37,
     "metadata": {},
     "output_type": "execute_result"
    }
   ],
   "source": [
    "np.matmul(a, b) * a.units * b.units"
   ]
  },
  {
   "cell_type": "code",
   "execution_count": 41,
   "metadata": {},
   "outputs": [
    {
     "data": {
      "text/plain": [
       "{<Unit('gram')>, <Unit('kilogram')>}"
      ]
     },
     "execution_count": 41,
     "metadata": {},
     "output_type": "execute_result"
    }
   ],
   "source": [
    "quantities = [1*ur.kg, 2*ur.kg, 5*ur.gram] # , 8*ur.pint, 10*ur.meter, 9*ur.second, 1.5*ur.kg/ur.kg]\n",
    "units = []\n",
    "for q in quantities:\n",
    "   units.append(q.units)\n",
    "\n",
    "set(units)"
   ]
  },
  {
   "cell_type": "code",
   "execution_count": 27,
   "metadata": {},
   "outputs": [
    {
     "data": {
      "text/html": [
       "dimensionless"
      ],
      "text/latex": [
       "$dimensionless$"
      ],
      "text/plain": [
       "<Unit('dimensionless')>"
      ]
     },
     "execution_count": 27,
     "metadata": {},
     "output_type": "execute_result"
    }
   ],
   "source": [
    "ur.dimensionless"
   ]
  },
  {
   "cell_type": "code",
   "execution_count": null,
   "metadata": {
    "collapsed": true
   },
   "outputs": [],
   "source": []
  },
  {
   "cell_type": "code",
   "execution_count": null,
   "metadata": {
    "collapsed": true
   },
   "outputs": [],
   "source": []
  },
  {
   "cell_type": "code",
   "execution_count": 7,
   "metadata": {
    "collapsed": true
   },
   "outputs": [],
   "source": [
    "a = np.asarray([1, 2]) *ur.meter"
   ]
  },
  {
   "cell_type": "code",
   "execution_count": 8,
   "metadata": {},
   "outputs": [
    {
     "data": {
      "text/html": [
       "\\[\\begin{pmatrix}3 & 6\\end{pmatrix} meter\\]"
      ],
      "text/latex": [
       "$\\begin{pmatrix}3 & 6\\end{pmatrix}\\ \\mathrm{meter}$"
      ],
      "text/plain": [
       "<Quantity([3 6], 'meter')>"
      ]
     },
     "execution_count": 8,
     "metadata": {},
     "output_type": "execute_result"
    }
   ],
   "source": [
    "a * 3"
   ]
  },
  {
   "cell_type": "code",
   "execution_count": 9,
   "metadata": {
    "collapsed": true
   },
   "outputs": [],
   "source": [
    "import pint"
   ]
  },
  {
   "cell_type": "code",
   "execution_count": 14,
   "metadata": {},
   "outputs": [
    {
     "ename": "DimensionalityError",
     "evalue": "Cannot convert from 'ABC' to 'bc' hahaa ABC",
     "output_type": "error",
     "traceback": [
      "\u001b[0;31m---------------------------------------------------------------------------\u001b[0m",
      "\u001b[0;31mDimensionalityError\u001b[0m                       Traceback (most recent call last)",
      "\u001b[0;32m<ipython-input-14-d2a989127559>\u001b[0m in \u001b[0;36m<module>\u001b[0;34m()\u001b[0m\n\u001b[0;32m----> 1\u001b[0;31m \u001b[0;32mraise\u001b[0m \u001b[0mpint\u001b[0m\u001b[0;34m.\u001b[0m\u001b[0merrors\u001b[0m\u001b[0;34m.\u001b[0m\u001b[0mDimensionalityError\u001b[0m\u001b[0;34m(\u001b[0m\u001b[0;34m'ABC'\u001b[0m\u001b[0;34m,\u001b[0m \u001b[0;34m'bc'\u001b[0m\u001b[0;34m,\u001b[0m \u001b[0mextra_msg\u001b[0m\u001b[0;34m=\u001b[0m\u001b[0;34m' hahaa ABC'\u001b[0m\u001b[0;34m)\u001b[0m\u001b[0;34m\u001b[0m\u001b[0m\n\u001b[0m",
      "\u001b[0;31mDimensionalityError\u001b[0m: Cannot convert from 'ABC' to 'bc' hahaa ABC"
     ]
    }
   ],
   "source": [
    "raise pint.errors.DimensionalityError('ABC', 'bc', extra_msg=' hahaa ABC')"
   ]
  },
  {
   "cell_type": "code",
   "execution_count": 17,
   "metadata": {
    "collapsed": true
   },
   "outputs": [],
   "source": [
    "a = set([1,2])"
   ]
  },
  {
   "cell_type": "code",
   "execution_count": 18,
   "metadata": {},
   "outputs": [
    {
     "data": {
      "text/plain": [
       "1"
      ]
     },
     "execution_count": 18,
     "metadata": {},
     "output_type": "execute_result"
    }
   ],
   "source": [
    "a.pop()"
   ]
  },
  {
   "cell_type": "code",
   "execution_count": 19,
   "metadata": {},
   "outputs": [
    {
     "data": {
      "text/plain": [
       "2"
      ]
     },
     "execution_count": 19,
     "metadata": {},
     "output_type": "execute_result"
    }
   ],
   "source": [
    "a.pop()"
   ]
  },
  {
   "cell_type": "code",
   "execution_count": 3,
   "metadata": {},
   "outputs": [
    {
     "data": {
      "text/html": [
       "2.941176470588235e+16 meter<sup>3</sup>"
      ],
      "text/latex": [
       "$2.941176470588235e+16\\ \\mathrm{meter}^{3}$"
      ],
      "text/plain": [
       "<Quantity(2.941176470588235e+16, 'meter ** 3')>"
      ]
     },
     "execution_count": 3,
     "metadata": {},
     "output_type": "execute_result"
    }
   ],
   "source": [
    "2.941176470588235e+16 * ur.meter**3"
   ]
  },
  {
   "cell_type": "code",
   "execution_count": 8,
   "metadata": {},
   "outputs": [
    {
     "data": {
      "text/html": [
       "0.003912168127496888 kilogram/second"
      ],
      "text/latex": [
       "$0.003912168127496888\\ \\frac{\\mathrm{kilogram}}{\\mathrm{second}}$"
      ],
      "text/plain": [
       "<Quantity(0.003912168127496888, 'kilogram / second')>"
      ]
     },
     "execution_count": 8,
     "metadata": {},
     "output_type": "execute_result"
    }
   ],
   "source": [
    "r1 = 0.003912168127496888 * ur.kg / ur.second\n",
    "r1"
   ]
  },
  {
   "cell_type": "code",
   "execution_count": 12,
   "metadata": {},
   "outputs": [
    {
     "data": {
      "text/html": [
       "0.0003911977994909043 kilogram/second"
      ],
      "text/latex": [
       "$0.0003911977994909043\\ \\frac{\\mathrm{kilogram}}{\\mathrm{second}}$"
      ],
      "text/plain": [
       "<Quantity(0.0003911977994909043, 'kilogram / second')>"
      ]
     },
     "execution_count": 12,
     "metadata": {},
     "output_type": "execute_result"
    }
   ],
   "source": [
    "r2 = 12345 * ur.kg / ur.year\n",
    "r2.to_base_units()"
   ]
  },
  {
   "cell_type": "code",
   "execution_count": 13,
   "metadata": {},
   "outputs": [
    {
     "data": {
      "text/plain": [
       "4.2922"
      ]
     },
     "execution_count": 13,
     "metadata": {},
     "output_type": "execute_result"
    }
   ],
   "source": [
    "3.3123 + 0.237 + 0.7429"
   ]
  },
  {
   "cell_type": "code",
   "execution_count": 15,
   "metadata": {},
   "outputs": [
    {
     "data": {
      "text/plain": [
       "7.44037"
      ]
     },
     "execution_count": 15,
     "metadata": {},
     "output_type": "execute_result"
    }
   ],
   "source": [
    "3.492 + 1.12437 + 2.824"
   ]
  },
  {
   "cell_type": "code",
   "execution_count": 17,
   "metadata": {},
   "outputs": [
    {
     "data": {
      "text/plain": [
       "14.4024"
      ]
     },
     "execution_count": 17,
     "metadata": {},
     "output_type": "execute_result"
    }
   ],
   "source": [
    "2.3484 + 9.23 + 2.824"
   ]
  },
  {
   "cell_type": "code",
   "execution_count": 28,
   "metadata": {
    "collapsed": true
   },
   "outputs": [],
   "source": [
    "a = 2.3541583251664065e-10 / ur.second"
   ]
  },
  {
   "cell_type": "code",
   "execution_count": 29,
   "metadata": {
    "collapsed": true
   },
   "outputs": [],
   "source": [
    "b = (0.007429 / ur.year)\n",
    "c = b.to_base_units()"
   ]
  },
  {
   "cell_type": "code",
   "execution_count": 30,
   "metadata": {},
   "outputs": [
    {
     "data": {
      "text/plain": [
       "False"
      ]
     },
     "execution_count": 30,
     "metadata": {},
     "output_type": "execute_result"
    }
   ],
   "source": [
    "a == b"
   ]
  },
  {
   "cell_type": "code",
   "execution_count": 31,
   "metadata": {},
   "outputs": [
    {
     "data": {
      "text/plain": [
       "False"
      ]
     },
     "execution_count": 31,
     "metadata": {},
     "output_type": "execute_result"
    }
   ],
   "source": [
    "a == c"
   ]
  },
  {
   "cell_type": "code",
   "execution_count": 32,
   "metadata": {},
   "outputs": [
    {
     "data": {
      "text/plain": [
       "True"
      ]
     },
     "execution_count": 32,
     "metadata": {},
     "output_type": "execute_result"
    }
   ],
   "source": [
    "b == c"
   ]
  },
  {
   "cell_type": "code",
   "execution_count": 33,
   "metadata": {},
   "outputs": [
    {
     "data": {
      "text/plain": [
       "3000.0"
      ]
     },
     "execution_count": 33,
     "metadata": {},
     "output_type": "execute_result"
    }
   ],
   "source": [
    "2.941176470588235e+16/ 9803921568627.451"
   ]
  },
  {
   "cell_type": "code",
   "execution_count": 36,
   "metadata": {},
   "outputs": [
    {
     "data": {
      "text/html": [
       "7.243146203615656e-09 1/second"
      ],
      "text/latex": [
       "$7.243146203615656e-09\\ \\frac{1}{\\mathrm{second}}$"
      ],
      "text/plain": [
       "<Quantity(7.243146203615656e-09, '1 / second')>"
      ]
     },
     "execution_count": 36,
     "metadata": {},
     "output_type": "execute_result"
    }
   ],
   "source": [
    "(0.8*2/7.0 /ur.year).to_base_units()"
   ]
  },
  {
   "cell_type": "code",
   "execution_count": 1,
   "metadata": {
    "collapsed": true
   },
   "outputs": [],
   "source": [
    "import svgwrite"
   ]
  },
  {
   "cell_type": "code",
   "execution_count": 3,
   "metadata": {
    "collapsed": true
   },
   "outputs": [],
   "source": [
    "dwg = svgwrite.Drawing()\n",
    "# create a new marker object\n",
    "marker = dwg.marker(insert=(5,5), size=(10,10))\n",
    "\n",
    "# red point as marker\n",
    "marker.add(dwg.circle((5, 5), r=5, fill='red'))\n",
    "\n",
    "# add marker to defs section of the drawing\n",
    "dwg.defs.add(marker)\n",
    "\n",
    "# create a new line object\n",
    "line = dwg.add(dwg.polyline(\n",
    "    [(10, 10), (50, 20), (70, 50), (100, 30)],\n",
    "    stroke='black', fill='none'))\n",
    "\n",
    "# set marker (start, mid and end markers are the same)\n",
    "line.set_markers(marker)\n",
    "\n",
    "# or set markers direct as SVG Attributes 'marker-start', 'marker-mid',\n",
    "# 'marker-end' or 'marker' if all markers are the same.\n",
    "line['marker'] = marker.get_funciri()\n",
    "\n",
    "dwg.save()"
   ]
  },
  {
   "cell_type": "code",
   "execution_count": 9,
   "metadata": {},
   "outputs": [
    {
     "data": {
      "text/html": [
       "8.257186672121847e-07 1/second"
      ],
      "text/latex": [
       "$8.257186672121847e-07\\ \\frac{1}{\\mathrm{second}}$"
      ],
      "text/plain": [
       "<Quantity(8.257186672121847e-07, '1 / second')>"
      ]
     },
     "execution_count": 9,
     "metadata": {},
     "output_type": "execute_result"
    }
   ],
   "source": [
    "a = 8.257186672121847e-07 / ur.second\n",
    "a"
   ]
  },
  {
   "cell_type": "code",
   "execution_count": 11,
   "metadata": {},
   "outputs": [
    {
     "data": {
      "text/html": [
       "8.257186672121849e-07 1/second"
      ],
      "text/latex": [
       "$8.257186672121849e-07\\ \\frac{1}{\\mathrm{second}}$"
      ],
      "text/plain": [
       "<Quantity(8.257186672121849e-07, '1 / second')>"
      ]
     },
     "execution_count": 11,
     "metadata": {},
     "output_type": "execute_result"
    }
   ],
   "source": [
    "b = 26.05714285714286 / ur.year\n",
    "b.to_base_units()"
   ]
  },
  {
   "cell_type": "code",
   "execution_count": 3,
   "metadata": {},
   "outputs": [
    {
     "data": {
      "text/plain": [
       "False"
      ]
     },
     "execution_count": 3,
     "metadata": {},
     "output_type": "execute_result"
    }
   ],
   "source": [
    "import math\n",
    "math.isclose(0.000123, 0.000122, rel_tol=0.0001)"
   ]
  },
  {
   "cell_type": "code",
   "execution_count": 43,
   "metadata": {
    "collapsed": true
   },
   "outputs": [],
   "source": [
    "from boxsimu.simulations import boxmodelsystem2\n",
    "system = boxmodelsystem2.get_system(ur)\n",
    "\n",
    "la = system.boxes.lake\n",
    "uo = system.boxes.upper_ocean\n",
    "do = system.boxes.deep_ocean\n",
    "se = system.boxes.sediment\n",
    "\n",
    "no3 = system.variables.no3\n",
    "po4 = system.variables.po4\n",
    "phyto = system.variables.phyto"
   ]
  },
  {
   "cell_type": "code",
   "execution_count": 44,
   "metadata": {
    "collapsed": true
   },
   "outputs": [],
   "source": [
    "C = system.get_reaction_rate_3Darray(0*ur.second)\n",
    "m_no3 = system.get_variable_mass_1Darray(no3)\n",
    "m_phyto = system.get_variable_mass_1Darray(phyto)\n",
    "\n",
    "rr_photosynthesis_la = 0.8 * m_no3[la.id] / (7.0 * ur.year)\n",
    "rr_photosynthesis_uo = 0.8 * m_no3[uo.id] / (7.0 * ur.year)\n",
    "rr_remineralization_la = 0.4 * m_phyto[la.id] / (114 * ur.year)\n",
    "rr_remineralization_uo = 0.4 * m_phyto[uo.id] / (114 * ur.year)\n",
    "rr_remineralization_do = 0.4 * m_phyto[do.id] / (114 * ur.year)"
   ]
  },
  {
   "cell_type": "code",
   "execution_count": 39,
   "metadata": {},
   "outputs": [
    {
     "data": {
      "text/html": [
       "\\[arr[,0,:,:] = \\begin{pmatrix}7.0048848153388255e-09 & 0.0\\\\ \n",
       "-1.1407955270694658e-07 & 0.0\\\\ \n",
       "1.0006978307626892e-09 & 0.0\\end{pmatrix} kilogram/second\\]\n",
       "\\[arr[,1,:,:] = \\begin{pmatrix}-5.0702023425309586e-08 & 2.334961605112941e-09\\\\ \n",
       "8.257186672121847e-07 & -3.802651756898219e-08\\\\ \n",
       "-7.2431462036156555e-09 & 3.3356594358756304e-10\\end{pmatrix} kilogram/second\\]\n",
       "\\[arr[,2,:,:] = \\begin{pmatrix}0.0 & 0.0\\\\ \n",
       "0.0 & 0.0\\\\ \n",
       "0.0 & 0.0\\end{pmatrix} kilogram/second\\]\n",
       "\\[arr[,3,:,:] = \\begin{pmatrix}-1.26755058563274e-07 & 4.669923210225882e-09\\\\ \n",
       "2.064296668030462e-06 & -7.605303513796438e-08\\\\ \n",
       "-1.810786550903914e-08 & 6.671318871751261e-10\\end{pmatrix} kilogram/second\\]"
      ],
      "text/latex": [
       "$arr[,0,:,:] = \\begin{pmatrix}7.0048848153388255e-09 & 0.0\\\\ \n",
       "-1.1407955270694658e-07 & 0.0\\\\ \n",
       "1.0006978307626892e-09 & 0.0\\end{pmatrix}\n",
       "arr[,1,:,:] = \\begin{pmatrix}-5.0702023425309586e-08 & 2.334961605112941e-09\\\\ \n",
       "8.257186672121847e-07 & -3.802651756898219e-08\\\\ \n",
       "-7.2431462036156555e-09 & 3.3356594358756304e-10\\end{pmatrix}\n",
       "arr[,2,:,:] = \\begin{pmatrix}0.0 & 0.0\\\\ \n",
       "0.0 & 0.0\\\\ \n",
       "0.0 & 0.0\\end{pmatrix}\n",
       "arr[,3,:,:] = \\begin{pmatrix}-1.26755058563274e-07 & 4.669923210225882e-09\\\\ \n",
       "2.064296668030462e-06 & -7.605303513796438e-08\\\\ \n",
       "-1.810786550903914e-08 & 6.671318871751261e-10\\end{pmatrix}\\ \\frac{\\mathrm{kilogram}}{\\mathrm{second}}$"
      ],
      "text/plain": [
       "<Quantity([[[  7.00488482e-09   0.00000000e+00]\n",
       "  [ -1.14079553e-07   0.00000000e+00]\n",
       "  [  1.00069783e-09   0.00000000e+00]]\n",
       "\n",
       " [[ -5.07020234e-08   2.33496161e-09]\n",
       "  [  8.25718667e-07  -3.80265176e-08]\n",
       "  [ -7.24314620e-09   3.33565944e-10]]\n",
       "\n",
       " [[  0.00000000e+00   0.00000000e+00]\n",
       "  [  0.00000000e+00   0.00000000e+00]\n",
       "  [  0.00000000e+00   0.00000000e+00]]\n",
       "\n",
       " [[ -1.26755059e-07   4.66992321e-09]\n",
       "  [  2.06429667e-06  -7.60530351e-08]\n",
       "  [ -1.81078655e-08   6.67131887e-10]]], 'kilogram / second')>"
      ]
     },
     "execution_count": 39,
     "metadata": {},
     "output_type": "execute_result"
    }
   ],
   "source": [
    "C_old"
   ]
  },
  {
   "cell_type": "code",
   "execution_count": 45,
   "metadata": {},
   "outputs": [
    {
     "data": {
      "text/html": [
       "\\[arr[,0,:,:] = \\begin{pmatrix}0.0 & 7.0048848153388255e-09\\\\ \n",
       "0.0 & -1.1407955270694658e-07\\\\ \n",
       "0.0 & 1.0006978307626892e-09\\end{pmatrix} kilogram/second\\]\n",
       "\\[arr[,1,:,:] = \\begin{pmatrix}-5.0702023425309586e-08 & 2.334961605112941e-09\\\\ \n",
       "8.257186672121847e-07 & -3.802651756898219e-08\\\\ \n",
       "-7.2431462036156555e-09 & 3.3356594358756304e-10\\end{pmatrix} kilogram/second\\]\n",
       "\\[arr[,2,:,:] = \\begin{pmatrix}0.0 & 0.0\\\\ \n",
       "0.0 & 0.0\\\\ \n",
       "0.0 & 0.0\\end{pmatrix} kilogram/second\\]\n",
       "\\[arr[,3,:,:] = \\begin{pmatrix}-1.26755058563274e-07 & 4.669923210225882e-09\\\\ \n",
       "2.064296668030462e-06 & -7.605303513796438e-08\\\\ \n",
       "-1.810786550903914e-08 & 6.671318871751261e-10\\end{pmatrix} kilogram/second\\]"
      ],
      "text/latex": [
       "$arr[,0,:,:] = \\begin{pmatrix}0.0 & 7.0048848153388255e-09\\\\ \n",
       "0.0 & -1.1407955270694658e-07\\\\ \n",
       "0.0 & 1.0006978307626892e-09\\end{pmatrix}\n",
       "arr[,1,:,:] = \\begin{pmatrix}-5.0702023425309586e-08 & 2.334961605112941e-09\\\\ \n",
       "8.257186672121847e-07 & -3.802651756898219e-08\\\\ \n",
       "-7.2431462036156555e-09 & 3.3356594358756304e-10\\end{pmatrix}\n",
       "arr[,2,:,:] = \\begin{pmatrix}0.0 & 0.0\\\\ \n",
       "0.0 & 0.0\\\\ \n",
       "0.0 & 0.0\\end{pmatrix}\n",
       "arr[,3,:,:] = \\begin{pmatrix}-1.26755058563274e-07 & 4.669923210225882e-09\\\\ \n",
       "2.064296668030462e-06 & -7.605303513796438e-08\\\\ \n",
       "-1.810786550903914e-08 & 6.671318871751261e-10\\end{pmatrix}\\ \\frac{\\mathrm{kilogram}}{\\mathrm{second}}$"
      ],
      "text/plain": [
       "<Quantity([[[  0.00000000e+00   7.00488482e-09]\n",
       "  [  0.00000000e+00  -1.14079553e-07]\n",
       "  [  0.00000000e+00   1.00069783e-09]]\n",
       "\n",
       " [[ -5.07020234e-08   2.33496161e-09]\n",
       "  [  8.25718667e-07  -3.80265176e-08]\n",
       "  [ -7.24314620e-09   3.33565944e-10]]\n",
       "\n",
       " [[  0.00000000e+00   0.00000000e+00]\n",
       "  [  0.00000000e+00   0.00000000e+00]\n",
       "  [  0.00000000e+00   0.00000000e+00]]\n",
       "\n",
       " [[ -1.26755059e-07   4.66992321e-09]\n",
       "  [  2.06429667e-06  -7.60530351e-08]\n",
       "  [ -1.81078655e-08   6.67131887e-10]]], 'kilogram / second')>"
      ]
     },
     "execution_count": 45,
     "metadata": {},
     "output_type": "execute_result"
    }
   ],
   "source": [
    "C"
   ]
  },
  {
   "cell_type": "code",
   "execution_count": 10,
   "metadata": {},
   "outputs": [
    {
     "data": {
      "text/plain": [
       "{<boxsimu.process.Reaction at 0x7f0ded0bf358>,\n",
       " <boxsimu.process.Reaction at 0x7f0ded0bf2b0>}"
      ]
     },
     "execution_count": 10,
     "metadata": {},
     "output_type": "execute_result"
    }
   ],
   "source": [
    "set(system.reactions)"
   ]
  },
  {
   "cell_type": "code",
   "execution_count": 47,
   "metadata": {},
   "outputs": [
    {
     "data": {
      "text/html": [
       "1.0006978307626892e-09 kilogram/second"
      ],
      "text/latex": [
       "$1.0006978307626892e-09\\ \\frac{\\mathrm{kilogram}}{\\mathrm{second}}$"
      ],
      "text/plain": [
       "<Quantity(1.0006978307626892e-09, 'kilogram / second')>"
      ]
     },
     "execution_count": 47,
     "metadata": {},
     "output_type": "execute_result"
    }
   ],
   "source": [
    "C[do.id, po4.id, 0]"
   ]
  },
  {
   "cell_type": "code",
   "execution_count": 46,
   "metadata": {},
   "outputs": [
    {
     "data": {
      "text/plain": [
       "1"
      ]
     },
     "execution_count": 46,
     "metadata": {},
     "output_type": "execute_result"
    }
   ],
   "source": [
    "phyto.id"
   ]
  },
  {
   "cell_type": "code",
   "execution_count": 63,
   "metadata": {},
   "outputs": [
    {
     "data": {
      "image/svg+xml": [
       "<svg baseProfile=\"full\" height=\"100%\" version=\"1.1\" width=\"100%\" xmlns=\"http://www.w3.org/2000/svg\" xmlns:ev=\"http://www.w3.org/2001/xml-events\" xmlns:xlink=\"http://www.w3.org/1999/xlink\"><defs/><line stroke=\"rgb(10%,10%,16%)\" x1=\"0\" x2=\"10\" y1=\"0\" y2=\"0\"/><text x=\"0\" y=\"0.2\">Test</text></svg>"
      ],
      "text/plain": [
       "<IPython.core.display.SVG object>"
      ]
     },
     "metadata": {},
     "output_type": "display_data"
    }
   ],
   "source": [
    "import svgwrite\n",
    "dwg = svgwrite.Drawing('comed.svg')\n",
    "dwg.add(dwg.line((0, 0), (10, 0), stroke=svgwrite.rgb(10, 10, 16, '%')))\n",
    "dwg.add(dwg.text('Test', insert=(0, 0.2)))\n",
    "dwg.save()\n",
    "show_svg('comed.svg')"
   ]
  },
  {
   "cell_type": "markdown",
   "metadata": {},
   "source": [
    "<img src='comed.svg'>"
   ]
  },
  {
   "cell_type": "code",
   "execution_count": 62,
   "metadata": {},
   "outputs": [
    {
     "ename": "TypeError",
     "evalue": "show_svg() missing 1 required positional argument: 'file_name'",
     "output_type": "error",
     "traceback": [
      "\u001b[0;31m---------------------------------------------------------------------------\u001b[0m",
      "\u001b[0;31mTypeError\u001b[0m                                 Traceback (most recent call last)",
      "\u001b[0;32m<ipython-input-62-112913107eab>\u001b[0m in \u001b[0;36m<module>\u001b[0;34m()\u001b[0m\n\u001b[1;32m      2\u001b[0m \u001b[0;32mdef\u001b[0m \u001b[0mshow_svg\u001b[0m\u001b[0;34m(\u001b[0m\u001b[0mfile_name\u001b[0m\u001b[0;34m)\u001b[0m\u001b[0;34m:\u001b[0m\u001b[0;34m\u001b[0m\u001b[0m\n\u001b[1;32m      3\u001b[0m     \u001b[0mdisplay\u001b[0m\u001b[0;34m(\u001b[0m\u001b[0mSVG\u001b[0m\u001b[0;34m(\u001b[0m\u001b[0mfilename\u001b[0m\u001b[0;34m=\u001b[0m\u001b[0mfile_name\u001b[0m\u001b[0;34m)\u001b[0m\u001b[0;34m)\u001b[0m\u001b[0;34m\u001b[0m\u001b[0m\n\u001b[0;32m----> 4\u001b[0;31m \u001b[0mshow_svg\u001b[0m\u001b[0;34m(\u001b[0m\u001b[0;34m)\u001b[0m\u001b[0;34m\u001b[0m\u001b[0m\n\u001b[0m",
      "\u001b[0;31mTypeError\u001b[0m: show_svg() missing 1 required positional argument: 'file_name'"
     ]
    }
   ],
   "source": [
    "from IPython.display import SVG, display\n",
    "def show_svg(file_name):\n",
    "    display(SVG(filename=file_name))"
   ]
  },
  {
   "cell_type": "code",
   "execution_count": 59,
   "metadata": {
    "collapsed": true
   },
   "outputs": [],
   "source": []
  },
  {
   "cell_type": "code",
   "execution_count": 70,
   "metadata": {
    "collapsed": true
   },
   "outputs": [],
   "source": [
    "from boxsimu.simulations import boxmodelsystem3"
   ]
  },
  {
   "cell_type": "code",
   "execution_count": 75,
   "metadata": {},
   "outputs": [
    {
     "data": {
      "text/html": [
       "\\[arr[,0,:,:] = \\begin{pmatrix}-1.1407955270694656e-08 & 0.0\\\\ \n",
       "-1.9013258784491094e-08 & 0.0\\\\ \n",
       "7.605303513796438e-09 & -0.0\\\\ \n",
       "0.0 & 0.0\\end{pmatrix} kilogram/second\\]"
      ],
      "text/latex": [
       "$arr[,0,:,:] = \\begin{pmatrix}-1.1407955270694656e-08 & 0.0\\\\ \n",
       "-1.9013258784491094e-08 & 0.0\\\\ \n",
       "7.605303513796438e-09 & -0.0\\\\ \n",
       "0.0 & 0.0\\end{pmatrix}\\ \\frac{\\mathrm{kilogram}}{\\mathrm{second}}$"
      ],
      "text/plain": [
       "<Quantity([[[ -1.14079553e-08   0.00000000e+00]\n",
       "  [ -1.90132588e-08   0.00000000e+00]\n",
       "  [  7.60530351e-09  -0.00000000e+00]\n",
       "  [  0.00000000e+00   0.00000000e+00]]], 'kilogram / second')>"
      ]
     },
     "execution_count": 75,
     "metadata": {},
     "output_type": "execute_result"
    }
   ],
   "source": [
    "system = boxmodelsystem3.get_system(ur)\n",
    "system.get_reaction_rate_3Darray(1*ur.second)"
   ]
  },
  {
   "cell_type": "code",
   "execution_count": 12,
   "metadata": {
    "collapsed": true
   },
   "outputs": [],
   "source": [
    "a = np.zeros([3,3,3])"
   ]
  },
  {
   "cell_type": "code",
   "execution_count": 15,
   "metadata": {
    "collapsed": true
   },
   "outputs": [],
   "source": [
    "a[:,:,:] = [1,2,3]"
   ]
  },
  {
   "cell_type": "code",
   "execution_count": 16,
   "metadata": {},
   "outputs": [
    {
     "data": {
      "text/plain": [
       "array([[[ 1.,  2.,  3.],\n",
       "        [ 1.,  2.,  3.],\n",
       "        [ 1.,  2.,  3.]],\n",
       "\n",
       "       [[ 1.,  2.,  3.],\n",
       "        [ 1.,  2.,  3.],\n",
       "        [ 1.,  2.,  3.]],\n",
       "\n",
       "       [[ 1.,  2.,  3.],\n",
       "        [ 1.,  2.,  3.],\n",
       "        [ 1.,  2.,  3.]]])"
      ]
     },
     "execution_count": 16,
     "metadata": {},
     "output_type": "execute_result"
    }
   ],
   "source": [
    "a"
   ]
  },
  {
   "cell_type": "code",
   "execution_count": 28,
   "metadata": {
    "collapsed": true
   },
   "outputs": [],
   "source": [
    "a1 = np.ones([3,3]) * 2\n",
    "a2 = np.ones([3,3]) * 3\n",
    "a3 = np.ones([3,3]) * 4"
   ]
  },
  {
   "cell_type": "code",
   "execution_count": 29,
   "metadata": {
    "collapsed": true
   },
   "outputs": [],
   "source": [
    "b = np.zeros([3,3,3])"
   ]
  },
  {
   "cell_type": "code",
   "execution_count": 30,
   "metadata": {},
   "outputs": [
    {
     "data": {
      "text/plain": [
       "array([[[ 0.,  0.,  0.],\n",
       "        [ 0.,  0.,  0.],\n",
       "        [ 0.,  0.,  0.]],\n",
       "\n",
       "       [[ 0.,  0.,  0.],\n",
       "        [ 0.,  0.,  0.],\n",
       "        [ 0.,  0.,  0.]],\n",
       "\n",
       "       [[ 0.,  0.,  0.],\n",
       "        [ 0.,  0.,  0.],\n",
       "        [ 0.,  0.,  0.]]])"
      ]
     },
     "execution_count": 30,
     "metadata": {},
     "output_type": "execute_result"
    }
   ],
   "source": [
    "b"
   ]
  },
  {
   "cell_type": "code",
   "execution_count": 33,
   "metadata": {
    "collapsed": true
   },
   "outputs": [],
   "source": [
    "b[1,:,:] = a1"
   ]
  },
  {
   "cell_type": "code",
   "execution_count": 32,
   "metadata": {},
   "outputs": [
    {
     "data": {
      "text/plain": [
       "array([[[ 2.,  2.,  2.],\n",
       "        [ 2.,  2.,  2.],\n",
       "        [ 2.,  2.,  2.]],\n",
       "\n",
       "       [[ 0.,  0.,  0.],\n",
       "        [ 0.,  0.,  0.],\n",
       "        [ 0.,  0.,  0.]],\n",
       "\n",
       "       [[ 0.,  0.,  0.],\n",
       "        [ 0.,  0.,  0.],\n",
       "        [ 0.,  0.,  0.]]])"
      ]
     },
     "execution_count": 32,
     "metadata": {},
     "output_type": "execute_result"
    }
   ],
   "source": [
    "b"
   ]
  },
  {
   "cell_type": "code",
   "execution_count": 22,
   "metadata": {},
   "outputs": [
    {
     "data": {
      "text/html": [
       "\\[arr[,0,:,:] = \\begin{pmatrix}7.0048848153388255e-09 & 0.0\\\\ \n",
       "-1.1407955270694658e-07 & 0.0\\\\ \n",
       "1.0006978307626892e-09 & 0.0\\end{pmatrix} kilogram/second\\]\n",
       "\\[arr[,1,:,:] = \\begin{pmatrix}-5.0702023425309586e-08 & 2.334961605112941e-09\\\\ \n",
       "8.257186672121847e-07 & -3.802651756898219e-08\\\\ \n",
       "-7.2431462036156555e-09 & 3.3356594358756304e-10\\end{pmatrix} kilogram/second\\]\n",
       "\\[arr[,2,:,:] = \\begin{pmatrix}0.0 & 0.0\\\\ \n",
       "0.0 & 0.0\\\\ \n",
       "0.0 & 0.0\\end{pmatrix} kilogram/second\\]\n",
       "\\[arr[,3,:,:] = \\begin{pmatrix}-1.26755058563274e-07 & 4.669923210225882e-09\\\\ \n",
       "2.064296668030462e-06 & -7.605303513796438e-08\\\\ \n",
       "-1.810786550903914e-08 & 6.671318871751261e-10\\end{pmatrix} kilogram/second\\]"
      ],
      "text/latex": [
       "$arr[,0,:,:] = \\begin{pmatrix}7.0048848153388255e-09 & 0.0\\\\ \n",
       "-1.1407955270694658e-07 & 0.0\\\\ \n",
       "1.0006978307626892e-09 & 0.0\\end{pmatrix}\n",
       "arr[,1,:,:] = \\begin{pmatrix}-5.0702023425309586e-08 & 2.334961605112941e-09\\\\ \n",
       "8.257186672121847e-07 & -3.802651756898219e-08\\\\ \n",
       "-7.2431462036156555e-09 & 3.3356594358756304e-10\\end{pmatrix}\n",
       "arr[,2,:,:] = \\begin{pmatrix}0.0 & 0.0\\\\ \n",
       "0.0 & 0.0\\\\ \n",
       "0.0 & 0.0\\end{pmatrix}\n",
       "arr[,3,:,:] = \\begin{pmatrix}-1.26755058563274e-07 & 4.669923210225882e-09\\\\ \n",
       "2.064296668030462e-06 & -7.605303513796438e-08\\\\ \n",
       "-1.810786550903914e-08 & 6.671318871751261e-10\\end{pmatrix}\\ \\frac{\\mathrm{kilogram}}{\\mathrm{second}}$"
      ],
      "text/plain": [
       "<Quantity([[[  7.00488482e-09   0.00000000e+00]\n",
       "  [ -1.14079553e-07   0.00000000e+00]\n",
       "  [  1.00069783e-09   0.00000000e+00]]\n",
       "\n",
       " [[ -5.07020234e-08   2.33496161e-09]\n",
       "  [  8.25718667e-07  -3.80265176e-08]\n",
       "  [ -7.24314620e-09   3.33565944e-10]]\n",
       "\n",
       " [[  0.00000000e+00   0.00000000e+00]\n",
       "  [  0.00000000e+00   0.00000000e+00]\n",
       "  [  0.00000000e+00   0.00000000e+00]]\n",
       "\n",
       " [[ -1.26755059e-07   4.66992321e-09]\n",
       "  [  2.06429667e-06  -7.60530351e-08]\n",
       "  [ -1.81078655e-08   6.67131887e-10]]], 'kilogram / second')>"
      ]
     },
     "execution_count": 22,
     "metadata": {},
     "output_type": "execute_result"
    }
   ],
   "source": [
    "C."
   ]
  },
  {
   "cell_type": "code",
   "execution_count": 48,
   "metadata": {},
   "outputs": [
    {
     "data": {
      "text/html": [
       "1.1407955270694656e-08 1/second"
      ],
      "text/latex": [
       "$1.1407955270694656e-08\\ \\frac{1}{\\mathrm{second}}$"
      ],
      "text/plain": [
       "<Quantity(1.1407955270694656e-08, '1 / second')>"
      ]
     },
     "execution_count": 48,
     "metadata": {},
     "output_type": "execute_result"
    }
   ],
   "source": [
    "a = 1.1407955270694656e-08 / ur.second\n",
    "a"
   ]
  },
  {
   "cell_type": "code",
   "execution_count": 49,
   "metadata": {},
   "outputs": [
    {
     "data": {
      "text/html": [
       "1.1407955270694661e-08 1/second"
      ],
      "text/latex": [
       "$1.1407955270694661e-08\\ \\frac{1}{\\mathrm{second}}$"
      ],
      "text/plain": [
       "<Quantity(1.1407955270694661e-08, '1 / second')>"
      ]
     },
     "execution_count": 49,
     "metadata": {},
     "output_type": "execute_result"
    }
   ],
   "source": [
    "b = 0.3600000000000001 / ur.year\n",
    "b.to_base_units()"
   ]
  },
  {
   "cell_type": "code",
   "execution_count": 7,
   "metadata": {},
   "outputs": [
    {
     "ename": "AttributeError",
     "evalue": "'Box' object has no attribute 'as_svg'",
     "output_type": "error",
     "traceback": [
      "\u001b[0;31m---------------------------------------------------------------------------\u001b[0m",
      "\u001b[0;31mAttributeError\u001b[0m                            Traceback (most recent call last)",
      "\u001b[0;32m<ipython-input-7-44c069b2f94a>\u001b[0m in \u001b[0;36m<module>\u001b[0;34m()\u001b[0m\n\u001b[1;32m      4\u001b[0m \u001b[0msystem\u001b[0m\u001b[0;34m.\u001b[0m\u001b[0mget_reaction_rate_3Darray\u001b[0m\u001b[0;34m(\u001b[0m\u001b[0mur\u001b[0m\u001b[0;34m.\u001b[0m\u001b[0msecond\u001b[0m\u001b[0;34m*\u001b[0m\u001b[0;36m1\u001b[0m\u001b[0;34m)\u001b[0m\u001b[0;34m\u001b[0m\u001b[0m\n\u001b[1;32m      5\u001b[0m \u001b[0;34m\u001b[0m\u001b[0m\n\u001b[0;32m----> 6\u001b[0;31m \u001b[0msystem\u001b[0m\u001b[0;34m.\u001b[0m\u001b[0mboxes\u001b[0m\u001b[0;34m.\u001b[0m\u001b[0mupper_ocean\u001b[0m\u001b[0;34m.\u001b[0m\u001b[0mas_svg\u001b[0m\u001b[0;34m(\u001b[0m\u001b[0;34m'ABC.svg'\u001b[0m\u001b[0;34m)\u001b[0m\u001b[0;34m\u001b[0m\u001b[0m\n\u001b[0m\u001b[1;32m      7\u001b[0m \u001b[0;34m\u001b[0m\u001b[0m\n",
      "\u001b[0;31mAttributeError\u001b[0m: 'Box' object has no attribute 'as_svg'"
     ]
    }
   ],
   "source": [
    "from boxsimu.simulations import boxmodelsystem1\n",
    "system = boxmodelsystem1.get_system(ur)\n",
    "\n",
    "system.get_reaction_rate_3Darray(ur.second*1)\n",
    "\n",
    "system.boxes.upper_ocean.as_svg('ABC.svg')\n",
    "\n"
   ]
  },
  {
   "cell_type": "code",
   "execution_count": 11,
   "metadata": {
    "collapsed": true
   },
   "outputs": [],
   "source": [
    "import svgwrite\n",
    "from svgwrite import cm, mm\n",
    "\n",
    "def basic_shapes(name):\n",
    "    dwg = svgwrite.Drawing()\n",
    "    hlines = dwg.add(dwg.g(id='hlines', stroke='green'))\n",
    "    for y in range(20):\n",
    "        hlines.add(dwg.line(start=(2*cm, (2+y)*cm), end=(18*cm, (2+y)*cm)))\n",
    "    vlines = dwg.add(dwg.g(id='vline', stroke='blue'))\n",
    "    for x in range(17):\n",
    "        vlines.add(dwg.line(start=((2+x)*cm, 2*cm), end=((2+x)*cm, 21*cm)))\n",
    "    shapes = dwg.add(dwg.g(id='shapes', fill='red'))\n",
    "\n",
    "    # set presentation attributes at object creation as SVG-Attributes\n",
    "    shapes.add(dwg.circle(center=(15*cm, 8*cm), r='2.5cm', stroke='blue',\n",
    "                          stroke_width=3))\n",
    "\n",
    "    # override the 'fill' attribute of the parent group 'shapes'\n",
    "    shapes.add(dwg.rect(insert=(5*cm, 5*cm), size=(45*mm, 45*mm),\n",
    "                        fill='blue', stroke='red', stroke_width=3))\n",
    "\n",
    "    # or set presentation attributes by helper functions of the Presentation-Mixin\n",
    "    ellipse = shapes.add(dwg.ellipse(center=(10*cm, 15*cm), r=('5cm', '10mm')))\n",
    "    ellipse.fill('green', opacity=0.5).stroke('black', width=5).dasharray([20, 20])\n",
    "    return shapes"
   ]
  },
  {
   "cell_type": "code",
   "execution_count": 114,
   "metadata": {
    "collapsed": true
   },
   "outputs": [],
   "source": [
    "shapes1 = basic_shapes('abc.svg')\n",
    "shapes2 = basic_shapes('abc2.svg')"
   ]
  },
  {
   "cell_type": "code",
   "execution_count": 115,
   "metadata": {
    "collapsed": true
   },
   "outputs": [],
   "source": [
    "dwg3 = svgwrite.Drawing(filename='abc_combined.svg', size=('60cm', '60cm'))"
   ]
  },
  {
   "cell_type": "code",
   "execution_count": 116,
   "metadata": {
    "collapsed": true
   },
   "outputs": [],
   "source": [
    "dwg3.add(shapes1)\n",
    "dwg3.add(shapes1)\n",
    "dwg3.save()"
   ]
  },
  {
   "cell_type": "code",
   "execution_count": 12,
   "metadata": {
    "collapsed": true
   },
   "outputs": [],
   "source": [
    "def marker(name):\n",
    "    # Shows how to use the <marker> element.\n",
    "    # W3C reference: http://www.w3.org/TR/SVG11/painting.html#MarkerElement\n",
    "    #\n",
    "    dwg = svgwrite.Drawing(name, size=('20cm', '15cm'), profile='full', debug=True)\n",
    "    # set user coordinate space\n",
    "    dwg.viewbox(width=200, height=150)\n",
    "\n",
    "    #--start-- A red point as marker-start element\n",
    "    # 'insert' represents the insertation point in user coordinate space\n",
    "    # in this example its the midpoint of the circle, see below\n",
    "    marker_start = dwg.marker(insert=(0, 0), size=(5, 5)) # target size of the marker\n",
    "\n",
    "    # setting a user coordinate space for the appanded graphic elements\n",
    "    # bounding coordinates for this example:\n",
    "    # minx = -5, maxx = +5, miny = -5, maxy = +5\n",
    "    marker_start.viewbox(minx=-5, miny=-5, width=10, height=10) # the marker user coordinate space\n",
    "    marker_start.add(dwg.circle((0, 0), r=5)).fill('red', opacity=0.5)\n",
    "\n",
    "\n",
    "    #--end-- A blue point as marker-end element\n",
    "    # a shorter form of the code above:\n",
    "    marker_end = dwg.marker(size=(5, 5)) # marker defaults: insert=(0,0)\n",
    "    # set viewbox to the bounding coordinates of the circle\n",
    "    marker_end.viewbox(-1, -1, 2, 2)\n",
    "    marker_end.add(dwg.circle(fill='blue', fill_opacity=0.5)) # circle defaults: insert=(0,0), r=1\n",
    "\n",
    "    #--mid-- A green point as marker-mid element\n",
    "    # if you don't setup a user coordinate space, the default ucs is\n",
    "    # minx = 0, miny = 0, maxx=size[0], maxy=size[1]\n",
    "    # default size = (3, 3) defined by the SVG standard\n",
    "    # bounding coordinates for this example:\n",
    "    # minx = 0, maxx = 6, miny = 0, maxy = 6\n",
    "    # => center of the viewbox = (3, 3)!\n",
    "    marker_mid = dwg.marker(insert=(3, 3), size=(6, 6))\n",
    "    marker_mid.add(dwg.circle((3, 3), r=3)).fill('green', opacity=0.7)\n",
    "\n",
    "    # The drawing size of the 'start-marker' is greater than the drawing size of\n",
    "    # the 'marker-mid' (r=5 > r=3), but the resulting size is defined by the\n",
    "    # 'size' parameter of the marker object (size=(6,6) > size=(5,5)), so the\n",
    "    # 'marker-start' is smaller than the 'marker-mid'.\n",
    "\n",
    "    # add marker to defs section of the drawing\n",
    "    dwg.defs.add(marker_start)\n",
    "    dwg.defs.add(marker_mid)\n",
    "    dwg.defs.add(marker_end)\n",
    "\n",
    "    # create a new line object, fill='none' is important, because by default\n",
    "    # the polyline and the polygon object is filled (tested with FF, Chrome).\n",
    "    # I am not sure, if this is concurring to the SVG Standard.\n",
    "\n",
    "    line = dwg.add(dwg.polyline(\n",
    "        [(10, 10), (50, 20), (70, 50), (100, 30), (120, 140), (170, 100)],\n",
    "        stroke='black', fill='none'))\n",
    "\n",
    "    # set markers 3-tuple = ('marker-start', 'marker-mid', 'marker-end')\n",
    "    line.set_markers( (marker_start, marker_mid, marker_end) )\n",
    "\n",
    "    # or set markers direct as SVG Attributes 'marker-start', 'marker-mid',\n",
    "    # 'marker-end' or 'marker' if all markers are the same.\n",
    "    # line['marker'] = marker.get_funciri() # but 'marker' works only with Firefox (26.10.2010)\n",
    "    dwg.save()"
   ]
  },
  {
   "cell_type": "code",
   "execution_count": 13,
   "metadata": {
    "collapsed": true
   },
   "outputs": [],
   "source": [
    "marker('bla.svg')"
   ]
  },
  {
   "cell_type": "code",
   "execution_count": 15,
   "metadata": {
    "collapsed": true
   },
   "outputs": [],
   "source": [
    "#!/usr/bin/env python\n",
    "#coding:utf-8\n",
    "# Author:  mozman\n",
    "# Purpose: svg example: inline stylesheets, css, viewbox, groups\n",
    "# Created: 09.06.2012\n",
    "# Copyright (C) 2012, Manfred Moitzi\n",
    "# License: MIT License\n",
    "\n",
    "import sys\n",
    "import os\n",
    "\n",
    "try:\n",
    "    import svgwrite\n",
    "except ImportError:\n",
    "    sys.path.insert(0, os.path.abspath(os.path.split(os.path.abspath(__file__))[0]+'/..'))\n",
    "\n",
    "import svgwrite\n",
    "if svgwrite.version < (1,0,1):\n",
    "    print(\"This script requires svgwrite 1.0.1 or newer for internal stylesheets.\")\n",
    "    sys.exit()\n",
    "\n",
    "BOARD_WIDTH = \"10cm\"\n",
    "BOARD_HEIGHT = \"10cm\"\n",
    "BOARD_SIZE = (BOARD_WIDTH, BOARD_HEIGHT)\n",
    "CSS_STYLES = \"\"\"\n",
    "    .background { fill: lavenderblush; }\n",
    "    .line { stroke: firebrick; stroke-width: .1mm; }\n",
    "    .blacksquare { fill: indigo; }\n",
    "    .whitesquare { fill: hotpink; }\n",
    "\"\"\"\n",
    "\n",
    "def draw_board(dwg):\n",
    "    def group(classname):\n",
    "        return dwg.add(dwg.g(class_=classname))\n",
    "    \n",
    "    # setup element groups\n",
    "    lines = group(\"line\")\n",
    "    white_squares = group(\"whitesquare\")\n",
    "    black_squares = group(\"blacksquare\")\n",
    "    \n",
    "    # draw lines\n",
    "    for i in range(9):\n",
    "        y = i * 10\n",
    "        lines.add(dwg.line(start=(0, y), end=(80, y)))\n",
    "        x = i * 10\n",
    "        lines.add(dwg.line(start=(x, 0), end=(x, 80)))\n",
    "        \n",
    "    # draw squares\n",
    "    for x in range(8):\n",
    "        for y in range(8):\n",
    "            xc = x * 10 + 1\n",
    "            yc = y * 10 + 1\n",
    "            square = dwg.rect(insert=(xc, yc), size=(8, 8))\n",
    "            (white_squares if (x+y) % 2 else black_squares).add(square)\n",
    "\n",
    "def main():\n",
    "    dwg = svgwrite.Drawing('checkerboard.svg', size=BOARD_SIZE)\n",
    "    dwg.viewbox(0, 0, 80, 80)\n",
    "    # checkerboard has a size of 10cm x 10cm;\n",
    "    # defining a viewbox with the size of 80x80 means, that a length of 1\n",
    "    # is 10cm/80 == 0.125cm (which is for now the famous USER UNIT)\n",
    "    # but I don't have to care about it, I just draw 8x8 squares, each 10x10 USER-UNITS\n",
    "\n",
    "    # always use css for styling\n",
    "    dwg.defs.add(dwg.style(CSS_STYLES))\n",
    "    \n",
    "    # set background\n",
    "    dwg.add(dwg.rect(size=('100%','100%'), class_='background'))\n",
    "    draw_board(dwg)\n",
    "    dwg.save()\n",
    "\n",
    "main()"
   ]
  },
  {
   "cell_type": "code",
   "execution_count": 32,
   "metadata": {
    "collapsed": true
   },
   "outputs": [],
   "source": [
    "#!/usr/bin/env python\n",
    "#coding:utf-8\n",
    "# Author:  mozman\n",
    "# Purpose: svg examples\n",
    "# Created: 08.09.2010\n",
    "# Copyright (C) 2010, Manfred Moitzi\n",
    "# License: MIT License\n",
    "\n",
    "try:\n",
    "    import svgwrite\n",
    "except ImportError:\n",
    "    # if svgwrite is not 'installed' append parent dir of __file__ to sys.path\n",
    "    import sys, os\n",
    "    sys.path.insert(0, os.path.abspath(os.path.split(os.path.abspath(__file__))[0]+'/..'))\n",
    "\n",
    "import math\n",
    "import svgwrite\n",
    "\n",
    "def koch_snowflake(name):\n",
    "    # Koch Snowflake and Sierpinski Triangle combination fractal using recursion\n",
    "    # ActiveState Recipe 577156\n",
    "    # Created by FB36 on Sat, 27 Mar 2010 (MIT)\n",
    "    # http://code.activestate.com/recipes/577156-koch-snowflake-and-sierpinski-triangle-combination/\n",
    "\n",
    "    def tf (x0, y0, x1, y1, x2, y2):\n",
    "        a = math.sqrt((x1 - x0) ** 2 + (y1 - y0) ** 2)\n",
    "        b = math.sqrt((x2 - x1) ** 2 + (y2 - y1) ** 2)\n",
    "        c = math.sqrt((x0 - x2) ** 2 + (y0 - y2) ** 2)\n",
    "\n",
    "        if (a < stop_val) or (b < stop_val) or (c < stop_val):\n",
    "            return\n",
    "\n",
    "        x3 = (x0 + x1) / 2\n",
    "        y3 = (y0 + y1) / 2\n",
    "        x4 = (x1 + x2) / 2\n",
    "        y4 = (y1 + y2) / 2\n",
    "        x5 = (x2 + x0) / 2\n",
    "        y5 = (y2 + y0) / 2\n",
    "        points = [(x3, y3), (x4, y4), (x5, y5)]\n",
    "\n",
    "        # append new polygon to snowflake element\n",
    "        snowflake.add(dwg.polygon(points))\n",
    "        tf(x0, y0, x3, y3, x5, y5)\n",
    "        tf(x3, y3, x1, y1, x4, y4)\n",
    "        tf(x5, y5, x4, y4, x2, y2)\n",
    "\n",
    "    def sf (ax, ay, bx, by):\n",
    "        f = math.sqrt((bx - ax) ** 2 + (by - ay) ** 2)\n",
    "\n",
    "        if f < 1.:\n",
    "            return\n",
    "\n",
    "        f3 = f / 3\n",
    "        cs = (bx - ax) / f\n",
    "        sn = (by - ay) / f\n",
    "        cx = ax + cs * f3\n",
    "        cy = ay + sn * f3\n",
    "        h = f3 * math.sqrt(3) / 2\n",
    "        dx = (ax + bx) / 2 + sn * h\n",
    "        dy = (ay + by) / 2 - cs * h\n",
    "        ex = bx - cs * f3\n",
    "        ey = by - sn * f3\n",
    "        tf(cx, cy, dx, dy, ex, ey)\n",
    "        sf(ax, ay, cx, cy)\n",
    "        sf(cx, cy, dx, dy)\n",
    "        sf(dx, dy, ex, ey)\n",
    "        sf(ex, ey, bx, by)\n",
    "\n",
    "    # const values\n",
    "    stop_val = 8.\n",
    "    imgx = 512\n",
    "    imgy = 512\n",
    "\n",
    "    # create a new drawing\n",
    "    dwg = svgwrite.Drawing(name, (imgx, imgy), profile='tiny', debug=True)\n",
    "\n",
    "    # create a new <g /> element, we will insert the snowflake by the <use /> element\n",
    "    # here we set stroke, fill and stroke-width for all subelements\n",
    "    # attention: 'stroke-width' is not a valid Python identifier, so use 'stroke_witdth'\n",
    "    #   underlines '_' will be converted to dashes '-', this is true for all svg-keyword-attributs\n",
    "    # if no 'id' is given ( like dwg.g(id=\"sflake\") ), an automatic generated 'id' will be generated\n",
    "    snowflake = dwg.g(stroke=\"blue\", fill=\"rgb(90%,90%,100%)\", stroke_width=0.25)\n",
    "\n",
    "    # add the <g /> element to the <defs /> element of the drawing\n",
    "    dwg.defs.add(snowflake)\n",
    "\n",
    "    mx2 = imgx / 2\n",
    "    my2 = imgy / 2\n",
    "    r = my2\n",
    "    a = 2 * math.pi / 3\n",
    "    for k in range(3):\n",
    "        x0 = mx2 + r * math.cos(a * k)\n",
    "        y0 = my2 + r * math.sin(a * k)\n",
    "        x1 = mx2 + r * math.cos(a * (k + 1))\n",
    "        y1 = my2 + r * math.sin(a * (k + 1))\n",
    "        sf(x0, y0, x1, y1)\n",
    "\n",
    "    x2 = mx2 + r * math.cos(a)\n",
    "    y2 = my2 + r * math.sin(a)\n",
    "    tf(x0, y0, x1, y1, x2, y2)\n",
    "\n",
    "    # create an <use /> element\n",
    "    use_snowflake = dwg.use(snowflake)\n",
    "\n",
    "    # you can transform each <use /> element\n",
    "    # use_snowflake.rotate(15, center=(imgx/2, imgy/2))\n",
    "\n",
    "    # insert snowflake by the <use /> element\n",
    "    dwg.add(use_snowflake)\n",
    "\n",
    "    # and save the drawing\n",
    "    dwg.save()\n",
    "\n",
    "koch_snowflake(\"koch_snowflake.svg\")"
   ]
  },
  {
   "cell_type": "code",
   "execution_count": 38,
   "metadata": {
    "collapsed": true
   },
   "outputs": [],
   "source": [
    "#!/usr/bin/env python\n",
    "#coding:utf-8\n",
    "# Author:  mozman\n",
    "# Purpose: svg examples\n",
    "# Created: 08.09.2010\n",
    "# Copyright (C) 2010, Manfred Moitzi\n",
    "# License: MIT License\n",
    "\n",
    "try:\n",
    "    import svgwrite\n",
    "except ImportError:\n",
    "    # if svgwrite is not 'installed' append parent dir of __file__ to sys.path\n",
    "    import sys, os\n",
    "    sys.path.insert(0, os.path.abspath(os.path.split(os.path.abspath(__file__))[0]+'/..'))\n",
    "\n",
    "import svgwrite\n",
    "\n",
    "def marker(name):\n",
    "    # Shows how to use the <marker> element.\n",
    "    # W3C reference: http://www.w3.org/TR/SVG11/painting.html#MarkerElement\n",
    "    #\n",
    "    dwg = svgwrite.Drawing(name, size=('20cm', '15cm'), profile='full', debug=True)\n",
    "    # set user coordinate space\n",
    "    dwg.viewbox(width=200, height=150)\n",
    "\n",
    "    #--start-- A red point as marker-start element\n",
    "    # 'insert' represents the insertation point in user coordinate space\n",
    "    # in this example its the midpoint of the circle, see below\n",
    "    marker_start = dwg.marker(insert=(0, 0), size=(5, 5)) # target size of the marker\n",
    "\n",
    "    # setting a user coordinate space for the appanded graphic elements\n",
    "    # bounding coordinates for this example:\n",
    "    # minx = -5, maxx = +5, miny = -5, maxy = +5\n",
    "    marker_start.viewbox(minx=-5, miny=-5, width=10, height=10) # the marker user coordinate space\n",
    "    marker_start.add(dwg.circle((0, 0), r=5)).fill('red', opacity=0.5)\n",
    "\n",
    "\n",
    "    #--end-- A blue point as marker-end element\n",
    "    # a shorter form of the code above:\n",
    "    marker_end = dwg.marker(size=(5, 5)) # marker defaults: insert=(0,0)\n",
    "    # set viewbox to the bounding coordinates of the circle\n",
    "    marker_end.viewbox(-1, -1, 2, 2)\n",
    "    marker_end.add(dwg.circle(fill='blue', fill_opacity=0.5)) # circle defaults: insert=(0,0), r=1\n",
    "\n",
    "    #--mid-- A green point as marker-mid element\n",
    "    # if you don't setup a user coordinate space, the default ucs is\n",
    "    # minx = 0, miny = 0, maxx=size[0], maxy=size[1]\n",
    "    # default size = (3, 3) defined by the SVG standard\n",
    "    # bounding coordinates for this example:\n",
    "    # minx = 0, maxx = 6, miny = 0, maxy = 6\n",
    "    # => center of the viewbox = (3, 3)!\n",
    "    marker_mid = dwg.marker(insert=(3, 3), size=(6, 6))\n",
    "    marker_mid.add(dwg.circle((3, 3), r=3)).fill('green', opacity=0.7)\n",
    "\n",
    "    # The drawing size of the 'start-marker' is greater than the drawing size of\n",
    "    # the 'marker-mid' (r=5 > r=3), but the resulting size is defined by the\n",
    "    # 'size' parameter of the marker object (size=(6,6) > size=(5,5)), so the\n",
    "    # 'marker-start' is smaller than the 'marker-mid'.\n",
    "\n",
    "    # add marker to defs section of the drawing\n",
    "    dwg.defs.add(marker_start)\n",
    "    dwg.defs.add(marker_mid)\n",
    "    dwg.defs.add(marker_end)\n",
    "\n",
    "    # create a new line object, fill='none' is important, because by default\n",
    "    # the polyline and the polygon object is filled (tested with FF, Chrome).\n",
    "    # I am not sure, if this is concurring to the SVG Standard.\n",
    "\n",
    "    line = dwg.add(dwg.polyline(\n",
    "        [(10, 10), (50, 20), (70, 50), (100, 30), (120, 140), (170, 100)],\n",
    "        stroke='black', fill='none'))\n",
    "\n",
    "    # set markers 3-tuple = ('marker-start', 'marker-mid', 'marker-end')\n",
    "    line.set_markers( (marker_start, marker_mid, marker_end) )\n",
    "\n",
    "    # or set markers direct as SVG Attributes 'marker-start', 'marker-mid',\n",
    "    # 'marker-end' or 'marker' if all markers are the same.\n",
    "    # line['marker'] = marker.get_funciri() # but 'marker' works only with Firefox (26.10.2010)\n",
    "    dwg.save()\n",
    "\n",
    "marker(\"marker.svg\")"
   ]
  },
  {
   "cell_type": "code",
   "execution_count": 40,
   "metadata": {
    "collapsed": true
   },
   "outputs": [],
   "source": [
    "#!/usr/bin/env python\n",
    "#coding:utf-8\n",
    "# Author:  mozman\n",
    "# Purpose: svg examples\n",
    "# Created: 08.09.2010\n",
    "# Copyright (C) 2010, Manfred Moitzi\n",
    "# License: MIT License\n",
    "from __future__ import unicode_literals\n",
    "\n",
    "try:\n",
    "    import svgwrite\n",
    "except ImportError:\n",
    "    # if svgwrite is not 'installed' append parent dir of __file__ to sys.path\n",
    "    import sys, os\n",
    "    sys.path.insert(0, os.path.abspath(os.path.split(os.path.abspath(__file__))[0]+'/..'))\n",
    "\n",
    "import svgwrite\n",
    "\n",
    "\n",
    "def simple_text(name):\n",
    "    dwg = svgwrite.Drawing(name, (200, 200), debug=True)\n",
    "    paragraph = dwg.add(dwg.g(font_size=14))\n",
    "    paragraph.add(dwg.text(\"This is a Test!\", (10, 20)))\n",
    "    # 'x', 'y', 'dx', 'dy' and 'rotate' has to be a <list> or a <tuple>!!!\n",
    "    # 'param'[0] .. first letter, 'param'[1] .. second letter, and so on\n",
    "    # if there are more letters than values, the last list-value is used\n",
    "    #\n",
    "    # different 'y' coordinates does not work with Firefox 3.6\n",
    "    paragraph.add(dwg.text(\"This is a Test\", x=[10], y=[40, 45, 50, 55, 60]))\n",
    "\n",
    "    # different formats can be used by the TSpan element\n",
    "    # The atext.tspan(...) method is a shortcut for: atext.add(dwg.tspan(...))\n",
    "    atext = dwg.text(\"A\", insert=(10, 80), style=\"text-shadow: 2px 2px;\")\n",
    "\n",
    "    # text color is set by the 'fill' property and 'stroke sets the outline color.\n",
    "    atext.add(dwg.tspan(' Word', font_size='1.5em', fill='red'))\n",
    "    atext.add(dwg.tspan(' is a Word!', dy=['1em'], font_size='0.7em', fill='green'))\n",
    "    paragraph.add(dwg.text(\"Das ist ein Test mit ÖÄÜäüö!\", (10, 120)))\n",
    "    paragraph.add(atext)\n",
    "    dwg.save()\n",
    "\n",
    "simple_text(\"simple_text.svg\")"
   ]
  },
  {
   "cell_type": "code",
   "execution_count": null,
   "metadata": {
    "collapsed": true
   },
   "outputs": [],
   "source": []
  }
 ],
 "metadata": {
  "kernelspec": {
   "display_name": "Python 3",
   "language": "python",
   "name": "python3"
  },
  "language_info": {
   "codemirror_mode": {
    "name": "ipython",
    "version": 3
   },
   "file_extension": ".py",
   "mimetype": "text/x-python",
   "name": "python",
   "nbconvert_exporter": "python",
   "pygments_lexer": "ipython3",
   "version": "3.6.1"
  }
 },
 "nbformat": 4,
 "nbformat_minor": 2
}
