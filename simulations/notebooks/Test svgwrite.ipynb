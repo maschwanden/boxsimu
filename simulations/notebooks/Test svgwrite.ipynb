{
 "cells": [
  {
   "cell_type": "code",
   "execution_count": 1,
   "metadata": {
    "collapsed": true
   },
   "outputs": [],
   "source": [
    "import svgwrite\n",
    "\n",
    "dwg = svgwrite.Drawing(filename='ABC123.svg')"
   ]
  },
  {
   "cell_type": "code",
   "execution_count": 2,
   "metadata": {
    "collapsed": true
   },
   "outputs": [],
   "source": [
    "rect1 = dwg.add(dwg.rect(insert=(10, 10), size=(30,30)))\n",
    "group = dwg.add(dwg.g())\n",
    "text1 = group.add(dwg.text('dsf'))\n",
    "tspan1 = text1.add(dwg.tspan('abcDEEE'))"
   ]
  },
  {
   "cell_type": "code",
   "execution_count": 3,
   "metadata": {},
   "outputs": [
    {
     "ename": "ValueError",
     "evalue": "Invalid children 'text' for svg-element <rect>.",
     "output_type": "error",
     "traceback": [
      "\u001b[0;31m---------------------------------------------------------------------------\u001b[0m",
      "\u001b[0;31mValueError\u001b[0m                                Traceback (most recent call last)",
      "\u001b[0;32m<ipython-input-3-7fec6c82add5>\u001b[0m in \u001b[0;36m<module>\u001b[0;34m()\u001b[0m\n\u001b[0;32m----> 1\u001b[0;31m \u001b[0mrect1\u001b[0m\u001b[0;34m.\u001b[0m\u001b[0madd\u001b[0m\u001b[0;34m(\u001b[0m\u001b[0mtext1\u001b[0m\u001b[0;34m)\u001b[0m\u001b[0;34m\u001b[0m\u001b[0m\n\u001b[0m",
      "\u001b[0;32m~/Envs/science3/lib/python3.6/site-packages/svgwrite/base.py\u001b[0m in \u001b[0;36madd\u001b[0;34m(self, element)\u001b[0m\n\u001b[1;32m    171\u001b[0m         \"\"\"\n\u001b[1;32m    172\u001b[0m         \u001b[0;32mif\u001b[0m \u001b[0mself\u001b[0m\u001b[0;34m.\u001b[0m\u001b[0mdebug\u001b[0m\u001b[0;34m:\u001b[0m\u001b[0;34m\u001b[0m\u001b[0m\n\u001b[0;32m--> 173\u001b[0;31m             \u001b[0mself\u001b[0m\u001b[0;34m.\u001b[0m\u001b[0mvalidator\u001b[0m\u001b[0;34m.\u001b[0m\u001b[0mcheck_valid_children\u001b[0m\u001b[0;34m(\u001b[0m\u001b[0mself\u001b[0m\u001b[0;34m.\u001b[0m\u001b[0melementname\u001b[0m\u001b[0;34m,\u001b[0m \u001b[0melement\u001b[0m\u001b[0;34m.\u001b[0m\u001b[0melementname\u001b[0m\u001b[0;34m)\u001b[0m\u001b[0;34m\u001b[0m\u001b[0m\n\u001b[0m\u001b[1;32m    174\u001b[0m         \u001b[0mself\u001b[0m\u001b[0;34m.\u001b[0m\u001b[0melements\u001b[0m\u001b[0;34m.\u001b[0m\u001b[0mappend\u001b[0m\u001b[0;34m(\u001b[0m\u001b[0melement\u001b[0m\u001b[0;34m)\u001b[0m\u001b[0;34m\u001b[0m\u001b[0m\n\u001b[1;32m    175\u001b[0m         \u001b[0;32mreturn\u001b[0m \u001b[0melement\u001b[0m\u001b[0;34m\u001b[0m\u001b[0m\n",
      "\u001b[0;32m~/Envs/science3/lib/python3.6/site-packages/svgwrite/validator2.py\u001b[0m in \u001b[0;36mcheck_valid_children\u001b[0;34m(self, elementname, childrenname)\u001b[0m\n\u001b[1;32m    130\u001b[0m         \"\"\"\n\u001b[1;32m    131\u001b[0m         \u001b[0;32mif\u001b[0m \u001b[0;32mnot\u001b[0m \u001b[0mself\u001b[0m\u001b[0;34m.\u001b[0m\u001b[0mis_valid_children\u001b[0m\u001b[0;34m(\u001b[0m\u001b[0melementname\u001b[0m\u001b[0;34m,\u001b[0m \u001b[0mchildrenname\u001b[0m\u001b[0;34m)\u001b[0m\u001b[0;34m:\u001b[0m\u001b[0;34m\u001b[0m\u001b[0m\n\u001b[0;32m--> 132\u001b[0;31m             \u001b[0;32mraise\u001b[0m \u001b[0mValueError\u001b[0m\u001b[0;34m(\u001b[0m\u001b[0;34m\"Invalid children '%s' for svg-element <%s>.\"\u001b[0m \u001b[0;34m%\u001b[0m \u001b[0;34m(\u001b[0m\u001b[0mchildrenname\u001b[0m\u001b[0;34m,\u001b[0m \u001b[0melementname\u001b[0m\u001b[0;34m)\u001b[0m\u001b[0;34m)\u001b[0m\u001b[0;34m\u001b[0m\u001b[0m\n\u001b[0m\u001b[1;32m    133\u001b[0m \u001b[0;34m\u001b[0m\u001b[0m\n\u001b[1;32m    134\u001b[0m     \u001b[0;32mdef\u001b[0m \u001b[0mget_coordinate\u001b[0m\u001b[0;34m(\u001b[0m\u001b[0mself\u001b[0m\u001b[0;34m,\u001b[0m \u001b[0mvalue\u001b[0m\u001b[0;34m)\u001b[0m\u001b[0;34m:\u001b[0m\u001b[0;34m\u001b[0m\u001b[0m\n",
      "\u001b[0;31mValueError\u001b[0m: Invalid children 'text' for svg-element <rect>."
     ]
    }
   ],
   "source": [
    "rect1.add(text1)"
   ]
  },
  {
   "cell_type": "code",
   "execution_count": 9,
   "metadata": {},
   "outputs": [
    {
     "data": {
      "text/plain": [
       "<svgwrite.text.Text at 0x7f6abc1ff898>"
      ]
     },
     "execution_count": 9,
     "metadata": {},
     "output_type": "execute_result"
    }
   ],
   "source": [
    "text1"
   ]
  },
  {
   "cell_type": "code",
   "execution_count": 9,
   "metadata": {},
   "outputs": [
    {
     "name": "stdout",
     "output_type": "stream",
     "text": [
      "creating: lsys_hilbertspacefillingcurve.svg\n",
      "\n",
      "L-System with 1023 segements.\n",
      "\n",
      "creating: lsys_levydragon.svg\n",
      "\n",
      "L-System with 65536 segements.\n",
      "\n",
      "creating: lsys_levycurve.svg\n",
      "\n",
      "L-System with 131072 segements.\n",
      "\n",
      "creating: lsys_kochsnowflake.svg\n",
      "\n",
      "L-System with 12288 segements.\n",
      "\n"
     ]
    }
   ],
   "source": [
    "#!/usr/bin/env python\n",
    "#coding:utf-8\n",
    "# Author:  mozman\n",
    "# Purpose: svg examples\n",
    "# Created: 08.09.2010\n",
    "# Copyright (C) 2010, Manfred Moitzi\n",
    "# License: MIT License\n",
    "\n",
    "try:\n",
    "    import svgwrite\n",
    "except ImportError:\n",
    "    # if svgwrite is not 'installed' append parent dir of __file__ to sys.path\n",
    "    import sys, os\n",
    "    sys.path.insert(0, os.path.abspath(os.path.split(os.path.abspath(__file__))[0]+'/..'))\n",
    "\n",
    "import math\n",
    "import svgwrite\n",
    "\n",
    "LevyDragon = {'length':1, 'numAngle':4, 'level':16, 'init': 'FX',\n",
    "              'target': 'X', 'replacement': 'X+YF+', 'target2': 'Y',\n",
    "              'replacement2': '-FX-Y'}\n",
    "\n",
    "KochSnowflake = {'length':1, 'numAngle':6, 'level':6, 'init': 'F++F++F',\n",
    "                 'target': 'F', 'replacement': 'F-F++F-F', 'target2': '',\n",
    "                 'replacement2': ''}\n",
    "\n",
    "LevyCurve = {'length':1, 'numAngle':8, 'level':17, 'init': 'F',\n",
    "             'target': 'F', 'replacement': '+F--F+', 'target2': '',\n",
    "             'replacement2': ''}\n",
    "\n",
    "HilbertSpaceFillingCurve = {'length':1, 'numAngle':4, 'level':5, 'init': 'L',\n",
    "             'target': 'L', 'replacement': '+RF-LFL-FR+', 'target2': 'R',\n",
    "             'replacement2': '-LF+RFR+FL-'}\n",
    "\n",
    "def LSystem(name, formula=LevyCurve):\n",
    "    ## {{{ http://code.activestate.com/recipes/577159/ (r1)\n",
    "    # L-System Fractals\n",
    "    # FB - 201003276\n",
    "    # image size\n",
    "\n",
    "    # generate the fractal drawing string\n",
    "    def _LSystem(formula):\n",
    "        state = formula['init']\n",
    "        target = formula['target']\n",
    "        replacement = formula['replacement']\n",
    "        target2 = formula['target2']\n",
    "        replacement2 = formula['replacement2']\n",
    "        level = formula['level']\n",
    "\n",
    "        for counter in range(level):\n",
    "            state2 = ''\n",
    "            for character in state:\n",
    "                if character == target:\n",
    "                    state2 += replacement\n",
    "                elif character == target2:\n",
    "                    state2 += replacement2\n",
    "                else:\n",
    "                    state2 += character\n",
    "            state = state2\n",
    "        return state\n",
    "    print(\"creating: %s\\n\" % name)\n",
    "    xmin, ymin = (100000, 100000)\n",
    "    xmax, ymax = (-100000, -100000)\n",
    "\n",
    "    numAngle = formula['numAngle']\n",
    "    length = formula['length']\n",
    "    fractal = _LSystem(formula)\n",
    "    na = 2.0 * math.pi / numAngle\n",
    "    sn = []\n",
    "    cs = []\n",
    "    for i in range(numAngle):\n",
    "        sn.append(math.sin(na * i))\n",
    "        cs.append(math.cos(na * i))\n",
    "\n",
    "    x = 0.0\n",
    "    y = 0.0\n",
    "\n",
    "    # jx = int((x - xa) / (xb - xa) * (imgx - 1))\n",
    "    # jy = int((y - ya) / (yb - ya) * (imgy - 1))\n",
    "    k = 0\n",
    "    dwg = svgwrite.Drawing(name, debug=True)\n",
    "    curve = dwg.polyline(points=[(x, y)], stroke='green', fill='none', stroke_width=0.1)\n",
    "    for ch in fractal:\n",
    "        if ch == 'F':\n",
    "            # turtle forward(length)\n",
    "            x +=  length * cs[k]\n",
    "            y += length * sn[k]\n",
    "\n",
    "            curve.points.append( (x, y) )\n",
    "\n",
    "            # find maxima\n",
    "            xmin = min(xmin, x)\n",
    "            xmax = max(xmax, x)\n",
    "            ymin = min(ymin, y)\n",
    "            ymax = max(ymax, y)\n",
    "        elif ch == '+':\n",
    "            # turtle right(angle)\n",
    "            k = (k + 1) % numAngle\n",
    "        elif ch == '-':\n",
    "            # turtle left(angle)\n",
    "            k = ((k - 1) + numAngle) % numAngle\n",
    "    print(\"L-System with %d segements.\\n\" % (len(curve.points)-1))\n",
    "    dwg.viewbox(xmin, ymin, xmax-xmin, ymax-ymin)\n",
    "    dwg.add(curve)\n",
    "    dwg.save()\n",
    "## end of http://code.activestate.com/recipes/577159/ }}}\n",
    "\n",
    "LSystem('lsys_hilbertspacefillingcurve.svg', formula=HilbertSpaceFillingCurve)\n",
    "LSystem('lsys_levydragon.svg', formula=LevyDragon)\n",
    "LSystem('lsys_levycurve.svg', formula=LevyCurve)\n",
    "LSystem('lsys_kochsnowflake.svg', formula=KochSnowflake)"
   ]
  },
  {
   "cell_type": "code",
   "execution_count": null,
   "metadata": {
    "collapsed": true
   },
   "outputs": [],
   "source": []
  }
 ],
 "metadata": {
  "kernelspec": {
   "display_name": "Python 3",
   "language": "python",
   "name": "python3"
  },
  "language_info": {
   "codemirror_mode": {
    "name": "ipython",
    "version": 3
   },
   "file_extension": ".py",
   "mimetype": "text/x-python",
   "name": "python",
   "nbconvert_exporter": "python",
   "pygments_lexer": "ipython3",
   "version": "3.6.1"
  }
 },
 "nbformat": 4,
 "nbformat_minor": 2
}
