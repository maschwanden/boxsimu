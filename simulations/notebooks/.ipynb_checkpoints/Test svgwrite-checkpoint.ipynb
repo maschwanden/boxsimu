{
 "cells": [
  {
   "cell_type": "code",
   "execution_count": 1,
   "metadata": {
    "collapsed": true
   },
   "outputs": [],
   "source": [
    "import svgwrite\n",
    "\n",
    "dwg = svgwrite.Drawing(filename='ABC123.svg')"
   ]
  },
  {
   "cell_type": "code",
   "execution_count": 2,
   "metadata": {
    "collapsed": true
   },
   "outputs": [],
   "source": [
    "rect1 = dwg.add(dwg.rect(insert=(10, 10), size=(30,30)))\n",
    "group = dwg.add(dwg.g())\n",
    "text1 = group.add(dwg.text('dsf'))\n",
    "tspan1 = text1.add(dwg.tspan('abcDEEE'))"
   ]
  },
  {
   "cell_type": "code",
   "execution_count": 3,
   "metadata": {},
   "outputs": [
    {
     "ename": "ValueError",
     "evalue": "Invalid children 'text' for svg-element <rect>.",
     "output_type": "error",
     "traceback": [
      "\u001b[0;31m---------------------------------------------------------------------------\u001b[0m",
      "\u001b[0;31mValueError\u001b[0m                                Traceback (most recent call last)",
      "\u001b[0;32m<ipython-input-3-7fec6c82add5>\u001b[0m in \u001b[0;36m<module>\u001b[0;34m()\u001b[0m\n\u001b[0;32m----> 1\u001b[0;31m \u001b[0mrect1\u001b[0m\u001b[0;34m.\u001b[0m\u001b[0madd\u001b[0m\u001b[0;34m(\u001b[0m\u001b[0mtext1\u001b[0m\u001b[0;34m)\u001b[0m\u001b[0;34m\u001b[0m\u001b[0m\n\u001b[0m",
      "\u001b[0;32m~/Envs/science3/lib/python3.6/site-packages/svgwrite/base.py\u001b[0m in \u001b[0;36madd\u001b[0;34m(self, element)\u001b[0m\n\u001b[1;32m    171\u001b[0m         \"\"\"\n\u001b[1;32m    172\u001b[0m         \u001b[0;32mif\u001b[0m \u001b[0mself\u001b[0m\u001b[0;34m.\u001b[0m\u001b[0mdebug\u001b[0m\u001b[0;34m:\u001b[0m\u001b[0;34m\u001b[0m\u001b[0m\n\u001b[0;32m--> 173\u001b[0;31m             \u001b[0mself\u001b[0m\u001b[0;34m.\u001b[0m\u001b[0mvalidator\u001b[0m\u001b[0;34m.\u001b[0m\u001b[0mcheck_valid_children\u001b[0m\u001b[0;34m(\u001b[0m\u001b[0mself\u001b[0m\u001b[0;34m.\u001b[0m\u001b[0melementname\u001b[0m\u001b[0;34m,\u001b[0m \u001b[0melement\u001b[0m\u001b[0;34m.\u001b[0m\u001b[0melementname\u001b[0m\u001b[0;34m)\u001b[0m\u001b[0;34m\u001b[0m\u001b[0m\n\u001b[0m\u001b[1;32m    174\u001b[0m         \u001b[0mself\u001b[0m\u001b[0;34m.\u001b[0m\u001b[0melements\u001b[0m\u001b[0;34m.\u001b[0m\u001b[0mappend\u001b[0m\u001b[0;34m(\u001b[0m\u001b[0melement\u001b[0m\u001b[0;34m)\u001b[0m\u001b[0;34m\u001b[0m\u001b[0m\n\u001b[1;32m    175\u001b[0m         \u001b[0;32mreturn\u001b[0m \u001b[0melement\u001b[0m\u001b[0;34m\u001b[0m\u001b[0m\n",
      "\u001b[0;32m~/Envs/science3/lib/python3.6/site-packages/svgwrite/validator2.py\u001b[0m in \u001b[0;36mcheck_valid_children\u001b[0;34m(self, elementname, childrenname)\u001b[0m\n\u001b[1;32m    130\u001b[0m         \"\"\"\n\u001b[1;32m    131\u001b[0m         \u001b[0;32mif\u001b[0m \u001b[0;32mnot\u001b[0m \u001b[0mself\u001b[0m\u001b[0;34m.\u001b[0m\u001b[0mis_valid_children\u001b[0m\u001b[0;34m(\u001b[0m\u001b[0melementname\u001b[0m\u001b[0;34m,\u001b[0m \u001b[0mchildrenname\u001b[0m\u001b[0;34m)\u001b[0m\u001b[0;34m:\u001b[0m\u001b[0;34m\u001b[0m\u001b[0m\n\u001b[0;32m--> 132\u001b[0;31m             \u001b[0;32mraise\u001b[0m \u001b[0mValueError\u001b[0m\u001b[0;34m(\u001b[0m\u001b[0;34m\"Invalid children '%s' for svg-element <%s>.\"\u001b[0m \u001b[0;34m%\u001b[0m \u001b[0;34m(\u001b[0m\u001b[0mchildrenname\u001b[0m\u001b[0;34m,\u001b[0m \u001b[0melementname\u001b[0m\u001b[0;34m)\u001b[0m\u001b[0;34m)\u001b[0m\u001b[0;34m\u001b[0m\u001b[0m\n\u001b[0m\u001b[1;32m    133\u001b[0m \u001b[0;34m\u001b[0m\u001b[0m\n\u001b[1;32m    134\u001b[0m     \u001b[0;32mdef\u001b[0m \u001b[0mget_coordinate\u001b[0m\u001b[0;34m(\u001b[0m\u001b[0mself\u001b[0m\u001b[0;34m,\u001b[0m \u001b[0mvalue\u001b[0m\u001b[0;34m)\u001b[0m\u001b[0;34m:\u001b[0m\u001b[0;34m\u001b[0m\u001b[0m\n",
      "\u001b[0;31mValueError\u001b[0m: Invalid children 'text' for svg-element <rect>."
     ]
    }
   ],
   "source": [
    "rect1.add(text1)"
   ]
  },
  {
   "cell_type": "code",
   "execution_count": 9,
   "metadata": {},
   "outputs": [
    {
     "data": {
      "text/plain": [
       "<svgwrite.text.Text at 0x7f6abc1ff898>"
      ]
     },
     "execution_count": 9,
     "metadata": {},
     "output_type": "execute_result"
    }
   ],
   "source": [
    "text1"
   ]
  },
  {
   "cell_type": "code",
   "execution_count": 5,
   "metadata": {},
   "outputs": [],
   "source": [
    "\n",
    "# Shows how to use the <marker> element.\n",
    "# W3C reference: http://www.w3.org/TR/SVG11/painting.html#MarkerElement\n",
    "#\n",
    "dwg = svgwrite.Drawing('marker.svg', size=('20cm', '15cm'), profile='full', debug=True)\n",
    "# set user coordinate space\n",
    "dwg.viewbox(width=200, height=150)\n",
    "\n",
    "#--start-- A red point as marker-start element\n",
    "# 'insert' represents the insertation point in user coordinate space\n",
    "# in this example its the midpoint of the circle, see below\n",
    "marker_start = dwg.marker(insert=(0, 0), size=(5, 5)) # target size of the marker\n",
    "\n",
    "# setting a user coordinate space for the appanded graphic elements\n",
    "# bounding coordinates for this example:\n",
    "# minx = -5, maxx = +5, miny = -5, maxy = +5\n",
    "marker_start.viewbox(minx=-5, miny=-5, width=10, height=10) # the marker user coordinate space\n",
    "marker_start.add(dwg.circle((0, 0), r=5)).fill('red', opacity=0.5)\n",
    "\n",
    "\n",
    "#--end-- A blue point as marker-end element\n",
    "# a shorter form of the code above:\n",
    "marker_end = dwg.marker(size=(5, 5)) # marker defaults: insert=(0,0)\n",
    "# set viewbox to the bounding coordinates of the circle\n",
    "marker_end.viewbox(-1, -1, 2, 2)\n",
    "marker_end.add(dwg.circle(fill='blue', fill_opacity=0.5)) # circle defaults: insert=(0,0), r=1\n",
    "\n",
    "#--mid-- A green point as marker-mid element\n",
    "# if you don't setup a user coordinate space, the default ucs is\n",
    "# minx = 0, miny = 0, maxx=size[0], maxy=size[1]\n",
    "# default size = (3, 3) defined by the SVG standard\n",
    "# bounding coordinates for this example:\n",
    "# minx = 0, maxx = 6, miny = 0, maxy = 6\n",
    "# => center of the viewbox = (3, 3)!\n",
    "marker_mid = dwg.marker(insert=(3, 3), size=(6, 6))\n",
    "marker_mid.add(dwg.circle((3, 3), r=3)).fill('green', opacity=0.7)\n",
    "\n",
    "# The drawing size of the 'start-marker' is greater than the drawing size of\n",
    "# the 'marker-mid' (r=5 > r=3), but the resulting size is defined by the\n",
    "# 'size' parameter of the marker object (size=(6,6) > size=(5,5)), so the\n",
    "# 'marker-start' is smaller than the 'marker-mid'.\n",
    "\n",
    "# add marker to defs section of the drawing\n",
    "dwg.defs.add(marker_start)\n",
    "dwg.defs.add(marker_mid)\n",
    "#dwg.defs.add(marker_end)\n",
    "\n",
    "# create a new line object, fill='none' is important, because by default\n",
    "# the polyline and the polygon object is filled (tested with FF, Chrome).\n",
    "# I am not sure, if this is concurring to the SVG Standard.\n",
    "\n",
    "line = dwg.add(dwg.polyline(\n",
    "    [(10, 10), (50, 20), (70, 50), (100, 30), (120, 140), (170, 100)],\n",
    "    stroke='black', fill='none'))\n",
    "\n",
    "# set markers 3-tuple = ('marker-start', 'marker-mid', 'marker-end')\n",
    "line.set_markers( (marker_start, marker_mid, marker_end) )\n",
    "\n",
    "# or set markers direct as SVG Attributes 'marker-start', 'marker-mid',\n",
    "# 'marker-end' or 'marker' if all markers are the same.\n",
    "# line['marker'] = marker.get_funciri() # but 'marker' works only with Firefox (26.10.2010)\n",
    "dwg.save()\n",
    "\n",
    "\n"
   ]
  },
  {
   "cell_type": "code",
   "execution_count": null,
   "metadata": {
    "collapsed": true
   },
   "outputs": [],
   "source": []
  }
 ],
 "metadata": {
  "kernelspec": {
   "display_name": "Python 3",
   "language": "python",
   "name": "python3"
  },
  "language_info": {
   "codemirror_mode": {
    "name": "ipython",
    "version": 3
   },
   "file_extension": ".py",
   "mimetype": "text/x-python",
   "name": "python",
   "nbconvert_exporter": "python",
   "pygments_lexer": "ipython3",
   "version": "3.6.1"
  }
 },
 "nbformat": 4,
 "nbformat_minor": 2
}
