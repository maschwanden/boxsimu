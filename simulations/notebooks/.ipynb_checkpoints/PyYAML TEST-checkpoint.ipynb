{
 "cells": [
  {
   "cell_type": "code",
   "execution_count": 1,
   "metadata": {
    "collapsed": true
   },
   "outputs": [],
   "source": [
    "import yaml"
   ]
  },
  {
   "cell_type": "code",
   "execution_count": 2,
   "metadata": {
    "collapsed": true
   },
   "outputs": [],
   "source": [
    "example_yaml = \"\"\"\n",
    "--- \n",
    "invoice: 34843\n",
    "size:\n",
    "    - 10\n",
    "    - 20\n",
    "abc : \n",
    "de : 3.1415 / 3\n",
    "\n",
    "\"\"\""
   ]
  },
  {
   "cell_type": "code",
   "execution_count": 5,
   "metadata": {},
   "outputs": [
    {
     "data": {
      "text/plain": [
       "{'abc': None, 'de': '3.1415 / 3', 'invoice': 34843, 'size': [10, 20]}"
      ]
     },
     "execution_count": 5,
     "metadata": {},
     "output_type": "execute_result"
    }
   ],
   "source": [
    "yaml.safe_load(example_yaml)"
   ]
  },
  {
   "cell_type": "code",
   "execution_count": 6,
   "metadata": {
    "collapsed": true
   },
   "outputs": [],
   "source": [
    "example_yaml = \"\"\"\n",
    "--- \n",
    "invoice: 34843\n",
    "date   : 2001-01-23\n",
    "bill-to: &id001\n",
    "    given  : Chris\n",
    "    family : Dumars\n",
    "    address:\n",
    "        lines: |\n",
    "            458 Walkman Dr.\n",
    "            Suite #292\n",
    "        city    : Royal Oak\n",
    "        state   : MI\n",
    "        postal  : 48046\n",
    "ship-to: *id001\n",
    "comes-from: *id001\n",
    "product:\n",
    "    - sku         : BL394D\n",
    "      quantity    : 4\n",
    "      description : Basketball\n",
    "      price       : 450.00\n",
    "    - sku         : BL4438H\n",
    "      quantity    : 1\n",
    "      description : Super Hoop\n",
    "      price       : 2392.00\n",
    "tax  : 251.42\n",
    "total: 4443.52\n",
    "comments: >\n",
    "    Late afternoon is best.\n",
    "    Backup contact is Nancy\n",
    "    Billsmer @ 338-4338.\n",
    "\"\"\""
   ]
  },
  {
   "cell_type": "code",
   "execution_count": 7,
   "metadata": {
    "collapsed": true
   },
   "outputs": [],
   "source": [
    "f = open(\"/home/aschi/Documents/MyPrivateRepo/boxsimu_project/boxsimu/config/svg_visualization.yml\", 'r')\n",
    "d = yaml.safe_load(f)"
   ]
  },
  {
   "cell_type": "code",
   "execution_count": 8,
   "metadata": {},
   "outputs": [
    {
     "ename": "KeyError",
     "evalue": "'ship-to'",
     "output_type": "error",
     "traceback": [
      "\u001b[0;31m---------------------------------------------------------------------------\u001b[0m",
      "\u001b[0;31mKeyError\u001b[0m                                  Traceback (most recent call last)",
      "\u001b[0;32m<ipython-input-8-da8486745104>\u001b[0m in \u001b[0;36m<module>\u001b[0;34m()\u001b[0m\n\u001b[0;32m----> 1\u001b[0;31m \u001b[0md\u001b[0m\u001b[0;34m[\u001b[0m\u001b[0;34m'ship-to'\u001b[0m\u001b[0;34m]\u001b[0m\u001b[0;34m[\u001b[0m\u001b[0;34m'address'\u001b[0m\u001b[0;34m]\u001b[0m\u001b[0;34m\u001b[0m\u001b[0m\n\u001b[0m",
      "\u001b[0;31mKeyError\u001b[0m: 'ship-to'"
     ]
    }
   ],
   "source": [
    "d['ship-to']['address']"
   ]
  },
  {
   "cell_type": "code",
   "execution_count": 9,
   "metadata": {},
   "outputs": [
    {
     "ename": "KeyError",
     "evalue": "'comes-from'",
     "output_type": "error",
     "traceback": [
      "\u001b[0;31m---------------------------------------------------------------------------\u001b[0m",
      "\u001b[0;31mKeyError\u001b[0m                                  Traceback (most recent call last)",
      "\u001b[0;32m<ipython-input-9-e3b8f69e27b1>\u001b[0m in \u001b[0;36m<module>\u001b[0;34m()\u001b[0m\n\u001b[0;32m----> 1\u001b[0;31m \u001b[0md\u001b[0m\u001b[0;34m[\u001b[0m\u001b[0;34m'comes-from'\u001b[0m\u001b[0;34m]\u001b[0m\u001b[0;34m\u001b[0m\u001b[0m\n\u001b[0m",
      "\u001b[0;31mKeyError\u001b[0m: 'comes-from'"
     ]
    }
   ],
   "source": [
    "d['comes-from']"
   ]
  },
  {
   "cell_type": "code",
   "execution_count": 3,
   "metadata": {
    "collapsed": true
   },
   "outputs": [],
   "source": [
    "# -*- coding: utf-8 -*-\n",
    "\n",
    "import sys\n",
    "import copy\n",
    "import pandas as pd\n",
    "import numpy as np\n",
    "import datetime\n",
    "\n",
    "from matplotlib import pyplot as plt\n",
    "\n",
    "from pint import UnitRegistry\n",
    "ur = UnitRegistry(autoconvert_offset_to_baseunit = True)\n",
    "\n",
    "\n",
    "BOXSIMU_PATH = '/home/aschi/Documents/MyPrivateRepo/boxsimu_project'\n",
    "if not BOXSIMU_PATH in sys.path:\n",
    "    sys.path.append(BOXSIMU_PATH)\n",
    "\n",
    "import boxsimu\n",
    "from boxsimu import Box, Condition, Fluid, Variable, Process, Reaction, Flow, Flux, BoxModelSystem"
   ]
  },
  {
   "cell_type": "code",
   "execution_count": 21,
   "metadata": {
    "scrolled": true
   },
   "outputs": [],
   "source": [
    "from boxsimu.simulations import boxmodelsystem2\n",
    "\n",
    "bms1 = boxmodelsystem2.get_system(ur)"
   ]
  },
  {
   "cell_type": "code",
   "execution_count": 22,
   "metadata": {
    "scrolled": false
   },
   "outputs": [],
   "source": [
    "svg_vis = boxsimu.visualize.SvgVisualization()\n",
    "\n",
    "svg_vis.system_as_svg(bms1, filename='xXXXXblabla.svg')\n"
   ]
  },
  {
   "cell_type": "code",
   "execution_count": 9,
   "metadata": {},
   "outputs": [
    {
     "data": {
      "text/plain": [
       "[(360.0, 0.0),\n",
       " (291.24611797498108, 211.60269082529032),\n",
       " (111.24611797498108, 342.38034586625525),\n",
       " (-111.24611797498105, 342.38034586625531),\n",
       " (-291.24611797498102, 211.60269082529038),\n",
       " (-360.0, 4.4087284769304716e-14),\n",
       " (-291.24611797498113, -211.6026908252903),\n",
       " (-111.24611797498112, -342.38034586625525),\n",
       " (111.246117974981, -342.38034586625531),\n",
       " (291.24611797498102, -211.60269082529041)]"
      ]
     },
     "execution_count": 9,
     "metadata": {},
     "output_type": "execute_result"
    }
   ],
   "source": [
    "svg_vis._get_box_positions(10)"
   ]
  },
  {
   "cell_type": "code",
   "execution_count": 182,
   "metadata": {},
   "outputs": [
    {
     "ename": "SyntaxError",
     "evalue": "invalid syntax (<ipython-input-182-8afc0388cc65>, line 1)",
     "output_type": "error",
     "traceback": [
      "\u001b[0;36m  File \u001b[0;32m\"<ipython-input-182-8afc0388cc65>\"\u001b[0;36m, line \u001b[0;32m1\u001b[0m\n\u001b[0;31m    from matplotlib import\u001b[0m\n\u001b[0m                          ^\u001b[0m\n\u001b[0;31mSyntaxError\u001b[0m\u001b[0;31m:\u001b[0m invalid syntax\n"
     ]
    }
   ],
   "source": [
    "from matplotlib import"
   ]
  },
  {
   "cell_type": "code",
   "execution_count": 25,
   "metadata": {},
   "outputs": [],
   "source": [
    "import svgwrite\n",
    "dwg = svgwrite.Drawing(filename='TEST123.svg'"
   ]
  },
  {
   "cell_type": "code",
   "execution_count": null,
   "metadata": {
    "collapsed": true
   },
   "outputs": [],
   "source": []
  }
 ],
 "metadata": {
  "kernelspec": {
   "display_name": "Python 3",
   "language": "python",
   "name": "python3"
  },
  "language_info": {
   "codemirror_mode": {
    "name": "ipython",
    "version": 3
   },
   "file_extension": ".py",
   "mimetype": "text/x-python",
   "name": "python",
   "nbconvert_exporter": "python",
   "pygments_lexer": "ipython3",
   "version": "3.6.1"
  }
 },
 "nbformat": 4,
 "nbformat_minor": 2
}
