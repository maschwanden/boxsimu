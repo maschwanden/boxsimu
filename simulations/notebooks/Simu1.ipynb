{
 "cells": [
  {
   "cell_type": "code",
   "execution_count": 1,
   "metadata": {},
   "outputs": [
    {
     "name": "stdout",
     "output_type": "stream",
     "text": [
      "The autoreload extension is already loaded. To reload it, use:\n",
      "  %reload_ext autoreload\n"
     ]
    }
   ],
   "source": [
    "%load_ext autoreload\n",
    "%autoreload 2\n",
    "%matplotlib inline"
   ]
  },
  {
   "cell_type": "code",
   "execution_count": 2,
   "metadata": {},
   "outputs": [],
   "source": [
    "# -*- coding: utf-8 -*-\n",
    "\n",
    "import sys\n",
    "import copy\n",
    "import numpy as np\n",
    "import datetime\n",
    "\n",
    "from matplotlib import pyplot as plt\n",
    "\n",
    "BOXSIMU_PATH = '/home/aschi/Documents/MyPrivateRepo/boxsimu_project/'\n",
    "if not BOXSIMU_PATH in sys.path:\n",
    "    sys.path.append(BOXSIMU_PATH)\n",
    "\n",
    "from boxsimu import (Fluid, Variable, Box, Flow, Condition, \n",
    "                     BoxModelSystem, Process, Reaction, Flux, Solver)\n",
    "from boxsimu import utils\n",
    "from boxsimu import ur\n",
    "import boxsimu\n",
    "\n",
    "\n",
    "#############################\n",
    "# FLUIDS\n",
    "#############################\n",
    "# water density parameters\n",
    "def get_system():\n",
    "    A = 0.14395\n",
    "    B = 0.0112\n",
    "    C = 649.727*ur.kelvin\n",
    "    D = 0.05107\n",
    "    rho_expr_water = lambda time, c: A / (B**(1+(1-(c.T/C))**D))*ur.kg/ur.meter**3\n",
    "    \n",
    "    water = Fluid('water', rho=rho_expr_water)\n",
    "    \n",
    "    #############################\n",
    "    # CONDITIONS\n",
    "    #############################\n",
    "    condition_lake = Condition(T=290*ur.kelvin, pH=5)\n",
    "    condition_upper_ocean = Condition(T=280*ur.kelvin)\n",
    "    condition_deep_ocean = Condition(T=275*ur.kelvin)\n",
    "    \n",
    "    #############################\n",
    "    # VARIABLES\n",
    "    #############################\n",
    "    po4 = Variable('po4')\n",
    "    no3 = Variable('no3')\n",
    "    organic_compound1 = Variable('OC1')\n",
    "    phyto = Variable('phyto')\n",
    "    \n",
    "    #############################\n",
    "    # PROCESSES\n",
    "    #############################\n",
    "    process_photolytic_deg_rate = lambda t, c: -max(0,((- 10*ur.kelvin*np.cos(2*np.pi*t / (24*ur.hour))) / (10*ur.kelvin))) * 10*ur.gram/ur.hour\n",
    "    process_photolytic_deg = Process(\n",
    "            'Photolytic Degradation',\n",
    "            organic_compound1, \n",
    "            process_photolytic_deg_rate\n",
    "    ) \n",
    "    \n",
    "    #############################\n",
    "    # REACTIONS\n",
    "    #############################\n",
    "    reaction_photosynthesis = Reaction(\n",
    "        name = 'Photosynthesis',\n",
    "        variable_reaction_coefficients={po4: -1, no3: -7, phyto: 114},\n",
    "        rate=lambda t, c: 1000 * ur.kg / ur.year\n",
    "    )\n",
    "    \n",
    "    #############################\n",
    "    # BOXES\n",
    "    #############################\n",
    "    lake = Box(\n",
    "        name='lake',\n",
    "        name_long='Medium Size Lake',\n",
    "        fluid=water.q(8e4*ur.kg),\n",
    "        #processes=[process_photolytic_deg,],\n",
    "        reactions=[reaction_photosynthesis, ],\n",
    "        variables=[po4.q(20*ur.kg),no3.q(30*ur.kg),phyto.q(30*ur.kg),], # organic_compound1],\n",
    "        condition=condition_lake,\n",
    "    )\n",
    "    upper_ocean = Box(\n",
    "        name='upper_ocean',\n",
    "        name_long='Upper Ocean Box',\n",
    "        fluid=water.q(3e5*ur.kg), \n",
    "        #processes=[process_photolytic_deg,],\n",
    "        reactions=[reaction_photosynthesis, ],\n",
    "        variables=[po4.q(30*ur.kg),no3.q(30*ur.kg),phyto.q(30*ur.kg),], # organic_compound1],\n",
    "        condition=condition_upper_ocean,\n",
    "    )\n",
    "    deep_ocean = Box(\n",
    "        name='deep_ocean',\n",
    "        name_long='Deep Ocean Box', \n",
    "        fluid=water.q(20e5*ur.kg), \n",
    "        processes=[],\n",
    "        reactions=[reaction_photosynthesis, ],\n",
    "        variables=[po4.q(30*ur.kg),no3.q(30*ur.kg),phyto.q(30*ur.kg),], # organic_compound1],\n",
    "        condition=condition_deep_ocean,\n",
    "    )\n",
    "    \n",
    "    \n",
    "    #############################\n",
    "    # FLOWS\n",
    "    #############################\n",
    "    f1 = Flow(\n",
    "        name='River flow from Lake to Ocean', \n",
    "        source_box=lake, \n",
    "        target_box=upper_ocean,\n",
    "        rate=0.2e5*ur.kg/ur.hour,\n",
    "    )\n",
    "    f2 = Flow(\n",
    "        name='Downwelling', \n",
    "        source_box=upper_ocean, \n",
    "        target_box=deep_ocean,\n",
    "        rate=lambda t, c: 2.6e5*ur.kg/ur.hour, \n",
    "    )\n",
    "    f3 = Flow(\n",
    "        name='Upwelling',\n",
    "        source_box=deep_ocean, \n",
    "        target_box=upper_ocean,\n",
    "        rate=lambda t, c: 2.5e5*ur.kg/ur.hour, \n",
    "    )\n",
    "    f4 = Flow(\n",
    "        name='Deep Sea Percolation into Earth-Interior',\n",
    "        source_box=deep_ocean, \n",
    "        target_box=None,\n",
    "        rate=lambda t, c: 0.09e5*ur.kg/ur.hour, \n",
    "    )\n",
    "    f5 = Flow(\n",
    "        name='River inflow into lake',\n",
    "        source_box=None, \n",
    "        target_box=lake,\n",
    "        rate=lambda t, c: min(min(np.exp(t/(8000*ur.hour)),5)*0.1e5*ur.kg/ur.hour, 0.25e5*ur.kg/ur.hour), \n",
    "        concentrations={po4: 1e-4, no3: 2e-4, phyto: 1e-3}\n",
    "    )\n",
    "    \n",
    "    #############################\n",
    "    # FLUXES\n",
    "    #############################\n",
    "    \n",
    "    flux1 = Flux('Biological pump', upper_ocean, deep_ocean, phyto, lambda t, c: c.box1.variables.phyto.mass * 0.1 / ur.day)\n",
    "    \n",
    "    \n",
    "    \n",
    "    #############################\n",
    "    # SYSTEM\n",
    "    #############################\n",
    "    sys = BoxModelSystem('Test System', \n",
    "                          [lake, upper_ocean, deep_ocean], \n",
    "                          Condition(T=301.11*ur.kelvin, pH=8.3),\n",
    "                          flows=[f1,f2,f3,f4,f5],\n",
    "                          #fluxes=[flux1, ],\n",
    "    )\n",
    "    return sys\n",
    "\n",
    "\n",
    "system = get_system()\n",
    "solver = Solver(system) "
   ]
  },
  {
   "cell_type": "code",
   "execution_count": 3,
   "metadata": {},
   "outputs": [
    {
     "name": "stdout",
     "output_type": "stream",
     "text": [
      "Start solving the flows of the box model...\n",
      "- total integration time: 15000 hour\n",
      "- dt (time step): 75.0 hour\n",
      "10.0%\n",
      "20.0%\n",
      "30.0%\n",
      "40.0%\n",
      "50.0%\n",
      "60.0%\n",
      "70.0%\n",
      "80.0%\n",
      "90.0%\n",
      "100.0%\n",
      "Function \"solve_flows(...)\" used 2.499s\n"
     ]
    },
    {
     "data": {
      "text/plain": [
       "(<matplotlib.figure.Figure at 0x7fb097113940>,\n",
       " <matplotlib.axes._subplots.AxesSubplot at 0x7fb095c52080>)"
      ]
     },
     "execution_count": 3,
     "metadata": {},
     "output_type": "execute_result"
    },
    {
     "data": {
      "image/png": "[encoded data removed]",
      "text/plain": [
       "<matplotlib.figure.Figure at 0x7fb097113940>"
      ]
     },
     "metadata": {},
     "output_type": "display_data"
    }
   ],
   "source": [
    "sol = solver.solve_flows(15000*ur.hour, 15000.0/200*ur.hour)\n",
    "sol.plot_fluid_masses()"
   ]
  },
  {
   "cell_type": "code",
   "execution_count": 16,
   "metadata": {},
   "outputs": [
    {
     "name": "stdout",
     "output_type": "stream",
     "text": [
      "Start solving the box model...\n",
      "- total integration time: 150 minute\n",
      "- dt (time step): 75.0 minute\n",
      "0\n",
      "50.0%\n",
      "1\n",
      "Function \"solve(...)\" used 0.562s\n"
     ]
    }
   ],
   "source": [
    "import sys\n",
    "\n",
    "sol = solver.solve(150*ur.minute, 150.0/2*ur.minute)\n",
    "sol_ini = sol"
   ]
  },
  {
   "cell_type": "code",
   "execution_count": 17,
   "metadata": {},
   "outputs": [],
   "source": [
    "sol = boxsimu.Solution(sol_ini.total_integration_time, sol_ini.dt, sol_ini.system)\n",
    "sol.ts = sol_ini.ts\n",
    "sol.time_units = sol_ini.time_units\n",
    "sol.time_magnitude = sol_ini.time_magnitude\n",
    "sol.time = sol_ini.time"
   ]
  },
  {
   "cell_type": "code",
   "execution_count": 18,
   "metadata": {},
   "outputs": [
    {
     "data": {
      "text/plain": [
       "(<matplotlib.figure.Figure at 0x7fb095c3cef0>,\n",
       " <matplotlib.axes._subplots.AxesSubplot at 0x7fb0956324e0>)"
      ]
     },
     "execution_count": 18,
     "metadata": {},
     "output_type": "execute_result"
    },
    {
     "data": {
      "image/png": "[encoded data removed]",
      "text/plain": [
       "<matplotlib.figure.Figure at 0x7fb095c3cef0>"
      ]
     },
     "metadata": {},
     "output_type": "display_data"
    }
   ],
   "source": [
    "sol.plot_variable_mass_of_all_boxes(system.variables.phyto)"
   ]
  },
  {
   "cell_type": "code",
   "execution_count": null,
   "metadata": {
    "collapsed": true
   },
   "outputs": [],
   "source": []
  }
 ],
 "metadata": {
  "kernelspec": {
   "display_name": "Python 3",
   "language": "python",
   "name": "python3"
  },
  "language_info": {
   "codemirror_mode": {
    "name": "ipython",
    "version": 3
   },
   "file_extension": ".py",
   "mimetype": "text/x-python",
   "name": "python",
   "nbconvert_exporter": "python",
   "pygments_lexer": "ipython3",
   "version": "3.6.1"
  }
 },
 "nbformat": 4,
 "nbformat_minor": 2
}
