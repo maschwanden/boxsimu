{
 "cells": [
  {
   "cell_type": "markdown",
   "metadata": {},
   "source": [
    "# Models from the Book \"Modelling Methods for Marine Science\""
   ]
  },
  {
   "cell_type": "markdown",
   "metadata": {},
   "source": [
    "## Chapter 8.5: two-box model global ocean phosphate model"
   ]
  },
  {
   "cell_type": "code",
   "execution_count": 16,
   "metadata": {},
   "outputs": [
    {
     "name": "stdout",
     "output_type": "stream",
     "text": [
      "3.06e+19 1.03e+21 3.06e+16 6.12e+17\n"
     ]
    }
   ],
   "source": [
    "V1 = 3e16\n",
    "V2 = 1e18\n",
    "FR = 3e13\n",
    "FO = 6e14\n",
    "\n",
    "M1 = V1*1020\n",
    "M2 = V2*1030\n",
    "FRM = 3e13*1020\n",
    "FOM = FO* 1020 \n",
    "print(M1, M2, FRM, FOM)"
   ]
  },
  {
   "cell_type": "code",
   "execution_count": 1,
   "metadata": {
    "collapsed": true
   },
   "outputs": [],
   "source": [
    "# -*- coding: utf-8 -*-\n",
    "\n",
    "import sys\n",
    "import copy\n",
    "import pandas as pd\n",
    "import numpy as np\n",
    "import datetime\n",
    "\n",
    "from matplotlib import pyplot as plt\n",
    "\n",
    "from pint import UnitRegistry\n",
    "ur = UnitRegistry(autoconvert_offset_to_baseunit = True)\n",
    "\n",
    "\n",
    "BOXSIMU_PATH = '/home/aschi/Documents/MyPrivateRepo/notebooks/'\n",
    "if not BOXSIMU_PATH in sys.path:\n",
    "    sys.path.append(BOXSIMU_PATH)\n",
    "\n",
    "from boxsimu import (Fluid, Variable, Box, Flow, Condition, \n",
    "                     BoxModelSystem, Process, Reaction, Flux)\n",
    "from boxsimu import utils\n",
    "\n",
    "\n",
    "#############################\n",
    "# FLUIDS\n",
    "#############################\n",
    "# water density parameters\n",
    "def init_sys():\n",
    "    \n",
    "    seawater = Fluid('sea water', rho_expr=1000*ur.kg/ur.meter**3)\n",
    "    \n",
    "    #############################\n",
    "    # CONDITIONS\n",
    "    #############################\n",
    "    \n",
    "    #############################\n",
    "    # VARIABLES\n",
    "    #############################\n",
    "    phosphate = Variable('PO4')\n",
    "    \n",
    "    #############################\n",
    "    # PROCESSES\n",
    "    #############################\n",
    "    \n",
    "    #############################\n",
    "    # REACTIONS\n",
    "    #############################\n",
    "    \n",
    "    #############################\n",
    "    # BOXES\n",
    "    #############################\n",
    "    upper_ocean = Box(\n",
    "        name='upper_ocean',\n",
    "        name_long='Upper Ocean Box',\n",
    "        fluid=seawater.q(M1*ur.kg), \n",
    "    )\n",
    "    deep_ocean = Box(\n",
    "        name='deep_ocean',\n",
    "        name_long='Deep Ocean Box', \n",
    "        fluid=seawater.q(M2*ur.kg),\n",
    "    )\n",
    "    \n",
    "    \n",
    "    #############################\n",
    "    # FLOWS\n",
    "    #############################\n",
    "    flow_downwelling = Flow(\n",
    "        name='Downwelling', \n",
    "        source_box=upper_ocean, \n",
    "        target_box=deep_ocean,\n",
    "        rate=lambda t, c: 6e17*ur.kg/ur.year, \n",
    "    )\n",
    "    \n",
    "    flow_upwelling = Flow(\n",
    "        name='Upwelling',\n",
    "        source_box=deep_ocean, \n",
    "        target_box=upper_ocean,\n",
    "        rate=lambda t, c: 6e17*ur.kg/ur.year, \n",
    "    )\n",
    "    \n",
    "    flow_river_water = Flow(\n",
    "        name='River Inflow into Upper Ocean',\n",
    "        source_box=None, \n",
    "        target_box=upper_ocean,\n",
    "        rate=lambda t, c: 3e16*ur.kg/ur.year, \n",
    "    )\n",
    "    flow_river_water.add_transported_variable(variable=phosphate, concentration=4.6455e-8)\n",
    "    \n",
    "    flow_upper_ocean_evaporation = Flow(\n",
    "        name='Upper Ocean Evaporation',\n",
    "        source_box=upper_ocean,\n",
    "        target_box=None,\n",
    "        rate=lambda t, c: 3e16*ur.kg/ur.year,\n",
    "    )\n",
    "    flow_upper_ocean_evaporation.transports_tracers = False\n",
    "    \n",
    "    #############################\n",
    "    # FLUXES\n",
    "    #############################\n",
    "    \n",
    "    flux1 = Flux('Biological pump', upper_ocean, deep_ocean, phyto, lambda t, c: c.box1.variables.phyto.mass * 0.1 / ur.day)\n",
    "    \n",
    "    \n",
    "    \n",
    "    #############################\n",
    "    # SYSTEM\n",
    "    #############################\n",
    "    sys = BoxModelSystem('Test System', \n",
    "                          [upper_ocean, deep_ocean], \n",
    "                          flows=[flow_downwelling, flow_upwelling, \n",
    "                                 flow_river_water, flow_upper_ocean_evaporation],\n",
    "                          #fluxes=[flux1, ],\n",
    "    )\n",
    "    return sys"
   ]
  },
  {
   "cell_type": "code",
   "execution_count": 2,
   "metadata": {},
   "outputs": [
    {
     "data": {
      "text/html": [
       "4.6455e-08 dimensionless"
      ],
      "text/latex": [
       "$4.6455e-08\\ dimensionless$"
      ],
      "text/plain": [
       "<Quantity(4.6455e-08, 'dimensionless')>"
      ]
     },
     "execution_count": 2,
     "metadata": {},
     "output_type": "execute_result"
    }
   ],
   "source": [
    "((30.97*ur.gram/ur.mol)).to_base_units() * 1.5e-3*ur.mol / (1000*ur.kg)"
   ]
  },
  {
   "cell_type": "code",
   "execution_count": null,
   "metadata": {
    "collapsed": true
   },
   "outputs": [],
   "source": []
  }
 ],
 "metadata": {
  "kernelspec": {
   "display_name": "Python 3",
   "language": "python",
   "name": "python3"
  },
  "language_info": {
   "codemirror_mode": {
    "name": "ipython",
    "version": 3
   },
   "file_extension": ".py",
   "mimetype": "text/x-python",
   "name": "python",
   "nbconvert_exporter": "python",
   "pygments_lexer": "ipython3",
   "version": "3.6.1"
  }
 },
 "nbformat": 4,
 "nbformat_minor": 2
}
