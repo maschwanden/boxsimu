{
 "cells": [
  {
   "cell_type": "code",
   "execution_count": 3,
   "metadata": {},
   "outputs": [
    {
     "name": "stdout",
     "output_type": "stream",
     "text": [
      "--Return--\n",
      "> <ipython-input-3-e979a4112504>(3)<module>()->None\n",
      "-> pdb.set_trace()\n",
      "(Pdb) \n",
      "(Pdb) \n",
      "(Pdb) \n",
      "(Pdb) \n",
      "(Pdb) \n",
      "(Pdb) n\n",
      "> /usr/lib/python2.7/site-packages/IPython/core/interactiveshell.py(2884)run_code()\n",
      "-> sys.excepthook = old_excepthook\n",
      "(Pdb) n\n",
      "> /usr/lib/python2.7/site-packages/IPython/core/interactiveshell.py(2900)run_code()\n",
      "-> outflag = 0\n",
      "(Pdb) c\n",
      "aaabbbccc\n"
     ]
    }
   ],
   "source": [
    "import pdb\n",
    "\n",
    "pdb.set_trace()\n",
    "\n",
    "# epdb1.py -- experiment with the Python debugger, pdb\n",
    "a = \"aaa\"\n",
    "b = \"bbb\"\n",
    "c = \"ccc\"\n",
    "final = a + b + c\n",
    "print final"
   ]
  },
  {
   "cell_type": "code",
   "execution_count": null,
   "metadata": {
    "collapsed": true
   },
   "outputs": [],
   "source": []
  }
 ],
 "metadata": {
  "kernelspec": {
   "display_name": "Python 2",
   "language": "python2",
   "name": "python2"
  },
  "language_info": {
   "codemirror_mode": {
    "name": "ipython",
    "version": 2
   },
   "file_extension": ".py",
   "mimetype": "text/x-python",
   "name": "python",
   "nbconvert_exporter": "python",
   "pygments_lexer": "ipython2",
   "version": "2.7.13"
  }
 },
 "nbformat": 4,
 "nbformat_minor": 2
}
