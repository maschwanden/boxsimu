{
 "cells": [
  {
   "cell_type": "markdown",
   "metadata": {},
   "source": [
    "# boxsimu Tutorial"
   ]
  },
  {
   "cell_type": "markdown",
   "metadata": {},
   "source": [
    "## Installation"
   ]
  },
  {
   "cell_type": "markdown",
   "metadata": {},
   "source": [
    "boxsimu can easily be installed using pip. Only type in \n",
    "> &gt; pip install boxsimu\n",
    "\n",
    "and boxsimu should be installed into your python environment. If the installation should fail check if all dependencies are installed. The dependencies for boxsimu are:\n",
    "- Python 3.4 or newer\n",
    "- numpy\n",
    "- matplotlib\n",
    "- pint\n",
    "- attrdict\n",
    "- svgwrite\n",
    "- jupyter\n",
    "- pandas\n",
    "\n",
    "\n",
    "Now you can use boxsimu by importing it"
   ]
  },
  {
   "cell_type": "code",
   "execution_count": 34,
   "metadata": {
    "collapsed": true
   },
   "outputs": [],
   "source": [
    "import boxsimu"
   ]
  },
  {
   "cell_type": "markdown",
   "metadata": {},
   "source": [
    "A note about the notation in the tutorial: Class names are always written with a leading upper case letter even if the word is used in plural."
   ]
  },
  {
   "cell_type": "markdown",
   "metadata": {},
   "source": [
    "## Overview"
   ]
  },
  {
   "cell_type": "markdown",
   "metadata": {},
   "source": [
    "boxsimu is a simple modelling framework based on the principle of a system of discrete 0D-boxes interacting with each other. boxsimu offers a sipmple interface to define a system, its content and properties. Models defined in this way can than be simply solved and their evolution in time can be visualized."
   ]
  },
  {
   "cell_type": "markdown",
   "metadata": {},
   "source": [
    "A system is basically defined by instantiating the class BoxModelSystem and pass instances of the classes Box, Flow, and Flux.\n",
    "The instance of the class BoxModelSystem then contains all information on the whole system while its components (Boxes, Flows, and Fluxes) store information on the distribution of Fluids and Variables in the system and how the different compartements exchange these quantities. The basic structure of a BoxModelSystem instance is shown below:"
   ]
  },
  {
   "cell_type": "markdown",
   "metadata": {},
   "source": [
    "<img src='img/BoxModelSystemVisualization.png' width=\"60%\">"
   ]
  },
  {
   "cell_type": "markdown",
   "metadata": {},
   "source": [
    "A BoxModelSystem can contain an arbitrary number of Boxes, however, the more boxes there are the slower the system's simulation will be. Similarly the number of Fluxes, Flows, and Variables, Processes, Reactions within Boxes is only limited in regard of computational power. In contrast, every Box has only one Fluid."
   ]
  },
  {
   "cell_type": "markdown",
   "metadata": {},
   "source": [
    "Model definitions are contained within an instance of BoxModelSystem. This instance containes boxes filled with a well-mixed solution of a fluid and an arbitrary number of variables (tracers whose time evolution is analysed).\n",
    "Boxes are connected with each other by flows of solution and fluxes of variables. The basic structure of a boxbimu \n",
    "model is visualized in the figure below:"
   ]
  },
  {
   "cell_type": "markdown",
   "metadata": {},
   "source": [
    "The most important class that a user of BoxSimu is interacting with are:\n",
    "- **BoxModelSystem**: Contains the whole system that a user wants to simulate and investigate.\n",
    "- **Box**: Represents a compartement of the system.\n",
    "- **Flow**: Represent a flow of Fluid between two boxes. This flow can passively transport Variables (e.g. a river that passively transport a lot of different chemical substances) but doesn't have to (e.g. evaporation from a lake into the atmosphere where almost pure water is transported).\n",
    "- **Flux**: Represents a transport of a Variable that is not associated with the flow of a fluid (e.g. sedimentation of particles in a sea/ocean/atmosphere).\n",
    "- **Variable**: Represents a tracer which time evolution is of interest to the user.\n",
    "- **Process**: Represents sink or source mechanisms of a certain Variable.\n",
    "- **Reaction**: Represents transformations between different Variables. Important is here that there is no mass conservation constraint. Thus a ''transformation'' of approximately 1kg of phosphate into 114kg of phytoplankton is a valid Reaction."
   ]
  },
  {
   "cell_type": "markdown",
   "metadata": {},
   "source": [
    "We will jump now right into a first simple example."
   ]
  },
  {
   "cell_type": "markdown",
   "metadata": {},
   "source": [
    "## Lake: A first simple 1-Box Model"
   ]
  },
  {
   "cell_type": "markdown",
   "metadata": {},
   "source": [
    "#### Model description"
   ]
  },
  {
   "cell_type": "markdown",
   "metadata": {},
   "source": [
    "Our first example consists of a box representing a freshwater lake that only has one inflow and one outflow. We want to try to simulate how the concentration of phosphate in this lake evolves over time. The inflow has a constant concentration of phosphate while the outflow has the same concentration as the lake itself. In order to make the volume (mass of water) of the lake constant over time the rate of inflow equals the rate of outflow. In the following we have a simple depicting of the lake system:"
   ]
  },
  {
   "cell_type": "markdown",
   "metadata": {},
   "source": [
    "<img src='img/1D-lake-model2.png' width=\"50%\">"
   ]
  },
  {
   "cell_type": "markdown",
   "metadata": {},
   "source": [
    "#### Analytical solution "
   ]
  },
  {
   "cell_type": "markdown",
   "metadata": {},
   "source": [
    "This simple system can also be solved analytically. And we will do so in order to validate the output of boxsimu. So lets start with the defintion of all needed variables:\n",
    "\n",
    "Variables:\n",
    "- $V$ = Volume of the lake [m^3] (const. due to the fact that the water inflow equals the outflow)\n",
    "- $m$ = Mass of phosphate in the lake [kg]\n",
    "- $C$ = Concentration of phosphate in the lake [kg/m^3]\n",
    "- $C_0$ = Concentration of phosphate in the lake at the begining of the simulation (t=0) [s]\n",
    "- $C_{in}$ = Concentration of phosphate in the inflow [kg/m^3]\n",
    "- $Q$ = Volumetric water flow rate of the Inflow and Outflow [m^3/s] \n",
    "- $t$ = Time [d]\n",
    "\n",
    "- $k_w$ = $\\frac{Q}{V}$ = Specific flow-rate [1/d]\n",
    "\n",
    "Assumptions:\n",
    "- $C_{in}$ = const. \n",
    "\n",
    "Based on the definition of our system given above we can set up the following differential equation:\n",
    "\n",
    "$\\frac{dm}{dt} = Q \\cdot C_{in} - Q \\cdot C$\n",
    "\n",
    "Where $Q \\cdot C_{in}$ and $Q \\cdot C$ represents the gain and loss of phosphate per time, respectively.\n",
    "\n",
    "Next, we devide both sides by the volume of the lake ($V$) and use the specific flow rate $k_w$ on the right hand side (r.h.s.):\n",
    "\n",
    "$\\frac{1}{V}\\frac{dm}{dt} = k_w \\cdot C_{in} - k_w \\cdot C = k_w (C_{in} - C)$\n",
    "\n",
    "Now, since the volume of the box is constant, we can incorporate the volume into the time-derivative \n",
    "and end up with:\n",
    "\n",
    "$\\frac{1}{V}\\frac{dm}{dt} = \\frac{d(m/V)}{dt} = \\frac{dC}{dt} = k_w (C_{in} - C)$\n",
    "\n",
    "The solution of this linear, inhomogene, ordinary differential equation is:\n",
    "\n",
    "$C(t) = (C_0 - C_{in}) e^{-k_wt} + C_{in}$\n",
    "\n",
    "The solution is plotted below for the following system:\n",
    "- $V = 10^7m^3$\n",
    "- $Q = 10^5\\frac{m^3}{d}$\n",
    "- $C_0 = 10^{-2}\\frac{kg}{m^3}$\n",
    "- $C_{in} = 3 \\cdot 10^{-1}\\frac{kg}{m^3}$"
   ]
  },
  {
   "cell_type": "markdown",
   "metadata": {},
   "source": [
    "We define a function that calculates and returns the concentration of phosphate at a time $t$. We also vectorize this function using numpy in order to be able to apply it on arrays. The resulting array is then plotted as a function of time:"
   ]
  },
  {
   "cell_type": "code",
   "execution_count": 35,
   "metadata": {},
   "outputs": [
    {
     "data": {
      "text/plain": [
       "<matplotlib.text.Text at 0x7fd684cb6048>"
      ]
     },
     "execution_count": 35,
     "metadata": {},
     "output_type": "execute_result"
    },
    {
     "data": {
      "image/png": "[encoded data removed]",
      "text/plain": [
       "<matplotlib.figure.Figure at 0x7fd684cbc748>"
      ]
     },
     "metadata": {},
     "output_type": "display_data"
    }
   ],
   "source": [
    "import matplotlib.pyplot as plt\n",
    "import numpy as np\n",
    "\n",
    "@np.vectorize\n",
    "def C(t):\n",
    "    V = 1e7\n",
    "    Q = 1e5\n",
    "    C0 = 1e-2\n",
    "    Cin = 3e-1\n",
    "    kw = Q/V\n",
    "    return (C0-Cin)*np.exp(-kw*t) + Cin\n",
    "\n",
    "t = np.linspace(0, 8e2, 1000)\n",
    "c_phosphate = C(t)\n",
    "plt.plot(t, c_phosphate)\n",
    "plt.xlabel('Time [days]')\n",
    "plt.ylabel('PO4 concentration [kg/m^3]')"
   ]
  },
  {
   "cell_type": "markdown",
   "metadata": {},
   "source": [
    "We can see that the system reaches a steady-state after about $400$ days.\n",
    "\n",
    "Now we want to use boxsimu to simulate this system..."
   ]
  },
  {
   "cell_type": "markdown",
   "metadata": {},
   "source": [
    "#### boxsimu "
   ]
  },
  {
   "cell_type": "markdown",
   "metadata": {},
   "source": [
    "Since boxsimu accepts some quantities only in certain units (dimensionalities) we first have to calculate the system parameters in the right format:\n",
    "- The amount of fluid inside a box has to be given in mass units: $m_{water} = V \\cdot \\rho = 10^7\\,m^3 \\cdot 10^3\\,\\frac{kg}{m^3} = 10^{10}kg$\n",
    "- The inital amount of phosphate also has to be given in mass units: $m(t=0) = V \\cdot C_0 = 10^7\\,m^3 \\cdot 10^{-2}\\,\\frac{kg}{m^3} = 10^5\\,kg$\n",
    "- The flow rate has to be given in units of mass per time: $J = Q \\cdot \\rho = 10^5\\,\\frac{m^3}{d} \\cdot 10^3\\,\\frac{kg}{m^3} = 10^8\\,\\frac{kg}{d}$"
   ]
  },
  {
   "cell_type": "markdown",
   "metadata": {},
   "source": [
    "Now we define these parameters as python variables. But before we can do that we have to import boxsimu (if not already happened) and the unit registry that is used by boxsimu. \n",
    "> **Comment**: If you use boxsimu you have to use the UnitRegistry from boxsimu itself. If you import pint (this is the unit-library) directly and instantiate UnitRegistry this will result in an error due to the incompatibility of different UnitRegistries! Thus use: <br>&gt; &gt; &gt; from boxsimu import ur"
   ]
  },
  {
   "cell_type": "code",
   "execution_count": 37,
   "metadata": {
    "collapsed": true
   },
   "outputs": [],
   "source": [
    "import boxsimu\n",
    "from boxsimu import ur"
   ]
  },
  {
   "cell_type": "code",
   "execution_count": 38,
   "metadata": {
    "collapsed": true
   },
   "outputs": [],
   "source": [
    "m_water = 1e10 * ur.kg\n",
    "m_0 = 1e5 * ur.kg\n",
    "flow_rate = 1e8 * ur.kg / ur.day"
   ]
  },
  {
   "cell_type": "markdown",
   "metadata": {},
   "source": [
    "Now we define our model. \n",
    "In the following you see the complete model defintion in boxsimu.\n",
    "We will go through this code line by line. \n",
    "But before we dive into the details of the code, have a quick look at the sequence of definitions of boxsimu classes:\n",
    "\n",
    "In a first step instances of the classes **Fluid** and **Variable** are instantiated. Independet of the type of system you want to simulate you always will have to define at least one Fluid and one Variable. In our simple system these are:\n",
    "- Fluid: The freshwater that is present in the lake (see line 17 in the following code).\n",
    "- Variable: Phosphate whose concentration we want to analyse as a function of time (see line 22 in the following code). \n",
    "\n",
    "Next, if needed, the classes **Process** and **Reaction** are instantiated. However, in this very simple system there are no processes and no reactions.\n",
    "\n",
    "The created instances of Fluid, Variable, Process, and Reaction are then assigned to instances of the class **Box** that represent a compartement in the system (see lines 37-42 in the following code).\n",
    "\n",
    "In a next step we have to define how the boxes in our system interact with each other and with the environement (outside the system). That means how are they exchaning fluids and variables. Therefore we instantiate the classes **Flow** and **Flux** (see lines 47-61 in the following code).\n",
    "The difference between these two classes is that Flow represents a transport of Fluid that again can (but doesn't have to) passively transport dissolved variables, whereas Flux represents a transport of variables that is not associated with any Fluid flow.\n",
    "\n",
    "Finally we "
   ]
  },
  {
   "cell_type": "code",
   "execution_count": 40,
   "metadata": {},
   "outputs": [],
   "source": [
    "import sys\n",
    "import os\n",
    "import numpy as np\n",
    "\n",
    "# import boxsimu\n",
    "\n",
    "BOXSIMU_PATH = '/home/aschi/Documents/MyPrivateRepo/boxsimu_project/'\n",
    "if not BOXSIMU_PATH in sys.path:\n",
    "    sys.path.append(BOXSIMU_PATH)\n",
    "\n",
    "import boxsimu\n",
    "from boxsimu import ur\n",
    "\n",
    "#############################\n",
    "# FLUIDS\n",
    "#############################\n",
    "freshwater = boxsimu.Fluid('freshwater', rho=1000*ur.kg/ur.meter**3)\n",
    "\n",
    "#############################\n",
    "# VARIABLES\n",
    "#############################\n",
    "po4 = boxsimu.Variable('po4')\n",
    "\n",
    "#############################\n",
    "# PROCESSES\n",
    "#############################\n",
    "# No processes in this system\n",
    "\n",
    "#############################\n",
    "# REACTIONS\n",
    "#############################\n",
    "# No reactions in this system\n",
    "\n",
    "#############################\n",
    "# BOXES\n",
    "#############################\n",
    "lake = boxsimu.Box(\n",
    "    name='lake',\n",
    "    name_long='Little Lake',\n",
    "    fluid=freshwater.q(m_water),\n",
    "    variables=[po4.q(m_0)],\n",
    ")\n",
    "\n",
    "#############################\n",
    "# FLOWS\n",
    "#############################\n",
    "inflow = boxsimu.Flow(\n",
    "    name='Inflow', \n",
    "    source_box=None,\n",
    "    target_box=lake,\n",
    "    rate=flow_rate,\n",
    "    tracer_transport=True,\n",
    "    concentrations={po4: 3e-4}, \n",
    ")\n",
    "outflow = boxsimu.Flow(\n",
    "    name='Outflow',\n",
    "    source_box=lake,\n",
    "    target_box=None,\n",
    "    rate=flow_rate,\n",
    "    tracer_transport=True,\n",
    ")\n",
    "\n",
    "#############################\n",
    "# FLUXES\n",
    "#############################\n",
    "# No fluxes in this system\n",
    "\n",
    "#############################\n",
    "# BoxModelSystem\n",
    "#############################\n",
    "system = boxsimu.BoxModelSystem('Simple Lake Box Model',\n",
    "    boxes=[lake,], \n",
    "    flows=[inflow, outflow,],\n",
    ")"
   ]
  },
  {
   "cell_type": "markdown",
   "metadata": {},
   "source": [
    "Lets go through this code line by line:\n",
    "1) "
   ]
  },
  {
   "cell_type": "code",
   "execution_count": 41,
   "metadata": {},
   "outputs": [
    {
     "name": "stdout",
     "output_type": "stream",
     "text": [
      "Start solving the box model...\n",
      "- total integration time: 800 day\n",
      "- dt (time step): 5 day\n",
      "10.0%\n",
      "20.0%\n",
      "30.0%\n",
      "40.0%\n",
      "50.0%\n",
      "60.0%\n",
      "70.0%\n",
      "80.0%\n",
      "90.0%\n",
      "Function \"solve(...)\" used 1.051s\n"
     ]
    }
   ],
   "source": [
    "sol = system.solve(800*ur.day, 5*ur.day)"
   ]
  },
  {
   "cell_type": "code",
   "execution_count": 30,
   "metadata": {},
   "outputs": [
    {
     "data": {
      "text/plain": [
       "(<matplotlib.figure.Figure at 0x7fd68526a4a8>,\n",
       " <matplotlib.axes._subplots.AxesSubplot at 0x7fd684d6c208>)"
      ]
     },
     "execution_count": 30,
     "metadata": {},
     "output_type": "execute_result"
    },
    {
     "data": {
      "image/png": "[encoded data removed]",
      "text/plain": [
       "<matplotlib.figure.Figure at 0x7fd68526a4a8>"
      ]
     },
     "metadata": {},
     "output_type": "display_data"
    }
   ],
   "source": [
    "sol.plot_variable_concentration_in_boxes(po4, boxes=[lake], figsize=(6,4), units=ur.kg/ur.meter**3)"
   ]
  },
  {
   "cell_type": "code",
   "execution_count": 18,
   "metadata": {},
   "outputs": [
    {
     "data": {
      "text/plain": [
       "'gram'"
      ]
     },
     "execution_count": 18,
     "metadata": {},
     "output_type": "execute_result"
    }
   ],
   "source": [
    "ur.gram.format_babel()"
   ]
  },
  {
   "cell_type": "code",
   "execution_count": 10,
   "metadata": {},
   "outputs": [
    {
     "name": "stderr",
     "output_type": "stream",
     "text": [
      "[autoreload of boxsimu.solution failed: Traceback (most recent call last):\n",
      "  File \"/home/aschi/Envs/boxsimu/lib/python3.6/site-packages/IPython/extensions/autoreload.py\", line 246, in check\n",
      "    superreload(m, reload, self.old_objects)\n",
      "  File \"/home/aschi/Envs/boxsimu/lib/python3.6/site-packages/IPython/extensions/autoreload.py\", line 369, in superreload\n",
      "    module = reload(module)\n",
      "  File \"/home/aschi/Envs/boxsimu/lib/python3.6/imp.py\", line 314, in reload\n",
      "    return importlib.reload(module)\n",
      "  File \"/home/aschi/Envs/boxsimu/lib/python3.6/importlib/__init__.py\", line 166, in reload\n",
      "    _bootstrap._exec(spec, module)\n",
      "  File \"<frozen importlib._bootstrap>\", line 608, in _exec\n",
      "  File \"<frozen importlib._bootstrap_external>\", line 674, in exec_module\n",
      "  File \"<frozen importlib._bootstrap_external>\", line 781, in get_code\n",
      "  File \"<frozen importlib._bootstrap_external>\", line 741, in source_to_code\n",
      "  File \"<frozen importlib._bootstrap>\", line 205, in _call_with_frames_removed\n",
      "  File \"/home/aschi/Documents/MyPrivateRepo/boxsimu_project/boxsimu/solution.py\", line 183\n",
      "    else:\n",
      "       ^\n",
      "IndentationError: expected an indented block\n",
      "]\n"
     ]
    },
    {
     "ename": "ModuleNotFoundError",
     "evalue": "No module named 'pandas'",
     "output_type": "error",
     "traceback": [
      "\u001b[0;31m---------------------------------------------------------------------------\u001b[0m",
      "\u001b[0;31mModuleNotFoundError\u001b[0m                       Traceback (most recent call last)",
      "\u001b[0;32m<ipython-input-10-af55e7023913>\u001b[0m in \u001b[0;36m<module>\u001b[0;34m()\u001b[0m\n\u001b[0;32m----> 1\u001b[0;31m \u001b[0;32mimport\u001b[0m \u001b[0mpandas\u001b[0m \u001b[0;32mas\u001b[0m \u001b[0mpd\u001b[0m\u001b[0;34m\u001b[0m\u001b[0m\n\u001b[0m",
      "\u001b[0;31mModuleNotFoundError\u001b[0m: No module named 'pandas'"
     ]
    }
   ],
   "source": [
    "import pandas as pd"
   ]
  },
  {
   "cell_type": "code",
   "execution_count": null,
   "metadata": {
    "collapsed": true
   },
   "outputs": [],
   "source": []
  }
 ],
 "metadata": {
  "kernelspec": {
   "display_name": "Python 3",
   "language": "python",
   "name": "python3"
  },
  "language_info": {
   "codemirror_mode": {
    "name": "ipython",
    "version": 3
   },
   "file_extension": ".py",
   "mimetype": "text/x-python",
   "name": "python",
   "nbconvert_exporter": "python",
   "pygments_lexer": "ipython3",
   "version": "3.6.1"
  }
 },
 "nbformat": 4,
 "nbformat_minor": 2
}
