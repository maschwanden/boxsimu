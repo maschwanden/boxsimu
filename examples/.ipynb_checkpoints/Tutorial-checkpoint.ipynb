{
 "cells": [
  {
   "cell_type": "markdown",
   "metadata": {},
   "source": [
    "<div><img src='../img/logo.png' width=\"30%\">"
   ]
  },
  {
   "cell_type": "markdown",
   "metadata": {},
   "source": [
    "# Tutorial Part 1"
   ]
  },
  {
   "cell_type": "markdown",
   "metadata": {},
   "source": [
    "boxsimu is a simple modelling framework based on the principle of a system of discrete boxes interacting with each other. boxsimu offers a simple interface to define a system, its components and properties. The system definition is done by instantiating several classes of the boxsimu package like **Box**, **Fluid**, **Flow**, **Flux**, **Process**, **Reaction**, or **Box**. The temporal evolution of a system defined in boxsimu can then easily be simulated and the output of the simulation can be visualized or further investigated."
   ]
  },
  {
   "cell_type": "markdown",
   "metadata": {},
   "source": [
    "After a short primer on what mathematical modelling is and how boxsimu fits in there, this tutorial will lead you through the installation of boxsimu. After the installion, it will briefly explain the basic structure of a system-definition in boxsimu. After that, you should have a basic understanding of the most important classes of boxsimu and you're ready to dive into a first example! "
   ]
  },
  {
   "cell_type": "markdown",
   "metadata": {},
   "source": [
    "### Introduction"
   ]
  },
  {
   "cell_type": "markdown",
   "metadata": {},
   "source": [
    "#### Mathematical modelling"
   ]
  },
  {
   "cell_type": "markdown",
   "metadata": {},
   "source": [
    "In order to understand the internal dynamics of a system, it is often useful to create a (mathematical) model thereof. A system can be almost anything, e.g. a small mountain lake, the entire ocean, the atmosphere, a machine, a company, or even the entire Earth System. A (mathematical) model represents such a system while neglecting a big amount of complexity. Thus a (mathematical) model tries to explain the fundamental system behaviour as simply as possible."
   ]
  },
  {
   "cell_type": "markdown",
   "metadata": {},
   "source": [
    "Schwarzenbach et al. (2003) uses the following defintion of a system:\n",
    "> ''A model is an imitation of reality that stresses those aspects that are assumed to be important and omits all properties considered to be nonessential''."
   ]
  },
  {
   "cell_type": "markdown",
   "metadata": {},
   "source": [
    "Mathematical modelling of a system is a challenging and complex activity. Depending on the system an analytical solution can even be nonexistent. As a consequence one is forced to simulate/solve such systems numerically. This is where boxsimu comes into play:\n",
    "> boxsimu allows the user to define simple to intermediate complex system and to simulate their temporal evolution. All that can be done on a high level of abstraction, meaning the user doesn't have to bother about the representation of the system with computer code. "
   ]
  },
  {
   "cell_type": "markdown",
   "metadata": {},
   "source": [
    "#### Limitations of boxsimu"
   ]
  },
  {
   "cell_type": "markdown",
   "metadata": {},
   "source": [
    "At the current status of development of boxsimu, the numerical solver is not very efficient. As a consequence large and complexe systems with a lot of variables, boxes, and processes/reactions will be solved slowly."
   ]
  },
  {
   "cell_type": "markdown",
   "metadata": {},
   "source": [
    "### Installation"
   ]
  },
  {
   "cell_type": "markdown",
   "metadata": {},
   "source": [
    "#### Dependencies "
   ]
  },
  {
   "cell_type": "markdown",
   "metadata": {},
   "source": [
    "**Python**:\n",
    "boxsimu was only tested with Python 3.4 or newer. Therefore boxsimu may not work as expected with older versions of Python."
   ]
  },
  {
   "cell_type": "markdown",
   "metadata": {},
   "source": [
    "boxsimu is a numerical box-modelling framework that builds on diverse other python packages. \n",
    "The following python packages are required by boxsimu:\n",
    "\n",
    "**Scientifc packages:**<br>\n",
    "- **numpy** (1.10 or newer): Fundamental package for scientifc computing, offers powerful and very fast matrix operations.\n",
    "- **matplotlib** (1.5 or newer): Plotting library with publication quality figures.\n",
    "- **jupyter** (4.0 or newer): Dynamic programming environment for ther browser.\n",
    "- **pandas** (0.15 or newer): Allows spreadsheet-like calculation.\n",
    "- **pint** (0.8.1 or newer): Phsical units-framework for python.\n",
    "\n",
    "**Other packages:**<br>\n",
    "- **attrdict** (1.2 or newer): Extension of the python dict class which allows to access dict items also as instance attributes.\n",
    "- **svgwrite** (1.1 or newer): Generation of SVG graphics.\n",
    "- **dill** (2.7 or newer): Extended pickeling of python objects."
   ]
  },
  {
   "cell_type": "markdown",
   "metadata": {},
   "source": [
    "All of the above listed python package are available in the official python repository and thus can be installed using pip. Thus, if a package is missing on your system just use: \n",
    "> \\$ pip install &lt;package name&gt;"
   ]
  },
  {
   "cell_type": "markdown",
   "metadata": {},
   "source": [
    "Additionally an up-to-date C compiler like gcc is needed, since some computational critical parts of boxsimu are written in Cython, which has to be compiled into binary code on your computer."
   ]
  },
  {
   "cell_type": "markdown",
   "metadata": {},
   "source": [
    "#### Installation using pip"
   ]
  },
  {
   "cell_type": "markdown",
   "metadata": {},
   "source": [
    "boxsimu can easily be installed using pip. On your console type in \n",
    "> $ pip install boxsimu\n",
    "\n",
    "this should automatically compile all Cython files and copy all source files into the right directory. If the installation fails check if all of the above mentioned dependencies are met."
   ]
  },
  {
   "cell_type": "markdown",
   "metadata": {},
   "source": [
    "#### Installation from source "
   ]
  },
  {
   "cell_type": "markdown",
   "metadata": {},
   "source": [
    "Alternatively to the installation via pip, boxsimu can also be installed from source. For this, download the most recent source code from github {{URL}} or clone the repository. Afterwards open a system console and change into the directory where you downloaded boxsimu. Then execute the following commands:"
   ]
  },
  {
   "cell_type": "markdown",
   "metadata": {},
   "source": [
    "> \\$ cd boxsimu <br>\n",
    "\\$ python setup.py"
   ]
  },
  {
   "cell_type": "markdown",
   "metadata": {},
   "source": [
    "## boxsimu Overview"
   ]
  },
  {
   "cell_type": "markdown",
   "metadata": {},
   "source": [
    "A system is defined by instantiating the class BoxModelSystem and passing instances of the classes Box, Flow, and Flux to it.\n",
    "The instance of the class BoxModelSystem contains all information on the whole system while its components (Boxes, Flows, and Fluxes) store information on the distribution of Fluids and Variables in the system and how the different compartements (boxes) exchange these quantities. The basic structure of a BoxModelSystem instance is graphically shown below:"
   ]
  },
  {
   "cell_type": "markdown",
   "metadata": {},
   "source": [
    "<img src='../img/BoxModelSystemVisualization.png' width=\"60%\">"
   ]
  },
  {
   "cell_type": "markdown",
   "metadata": {},
   "source": [
    "In this diagram an instance of BoxModelSystem is shown that contains two boxes: 'Box 1' and 'Box 2'.  Both boxes contain the same fluid ('Fluid 1') and two instances of the class Variable ('A' and 'B'). Additionally both boxes can contain an arbitrary number of independet processes and reactions of these variables. Finally, the boxes exchange mass of the variables and the fluid via fluxes and flows (the difference between a flow and a flux will be explained further down)."
   ]
  },
  {
   "cell_type": "markdown",
   "metadata": {},
   "source": [
    "A BoxModelSystem can contain an arbitrary number of boxes, however, the more boxes there are the slower the system's simulation will progress. Similarly the number of fluxes, flows, and variables, processes, reactions within boxes is only limited in regard of computational power. In contrast, every box can only contain zero or one instance of the class Fluid."
   ]
  },
  {
   "cell_type": "markdown",
   "metadata": {},
   "source": [
    "The most important class that a user of BoxSimu is interacting with are:\n",
    "- **BoxModelSystem**: Contains the whole system that a user wants to simulate and investigate. Most often this is the last class that is instantiated since instance of the other classes are needed as arguments for the BoxModelSystem-constructor. Once an instance of BoxModelSystem is built, its temporal evolution can be simulated using the instance's 'solve' method.\n",
    "- **Box**: Represents a compartement of the system. Contains information about the mass of variables and fluid within the represented compartement and which processes and reaction take place. Additionally for every box an 'environmental condition' (instance of the class Condition) can be defined. These conditions (e.g. the pH or the temperature within the box) in turn can then be used by user-defined rate functions (dynamic rates of processes/reactions/flows/fluxes/fluid-densities that can be dependent on the condition of the box). \n",
    "- **Flow**: Represent a transport of a fluid between two boxes. This flow can passively transport variables (e.g. a river that passively transport a lot of different chemical substances) but doesn't have to (e.g. evaporation from a lake into the atmosphere where almost pure water is transported).\n",
    "- **Flux**: Represents a transport of a variable that is not associated with a flow of a fluid. Examples of fluxes are for example: sedimentation of particles in a sea/ocean/atmosphere.\n",
    "- **Variable**: Variables are tracer within the system which time evolution is simulated. Thus variables are quantites within the system that are of direct or indirect interst to the user.\n",
    "- **Process**: Represents sink or source mechanisms of a certain variable.\n",
    "- **Reaction**: Represents transformations between different variables. There is no mass conservation constraint. Thus a ''transformation'' of approximately 1kg of phosphate into 114kg of phytoplankton (approx. Redfield ratio) is a valid reaction."
   ]
  },
  {
   "cell_type": "markdown",
   "metadata": {},
   "source": [
    "A system is most easily defined following these steps:\n",
    "- Define all instances of the classes Variable and Fluid\n",
    "- Define all instances of the classes Reaction and Process\n",
    "- Define all instances of the class Box\n",
    "- Define all instances of the classes Flow and Flux\n",
    "- Define the instance of the class BoxModelSystem"
   ]
  },
  {
   "cell_type": "markdown",
   "metadata": {},
   "source": [
    "Given this first fundamental understanding of boxsimu classes and their sequence of appearence within a system-definition, we jump directly into a first example!"
   ]
  },
  {
   "cell_type": "markdown",
   "metadata": {},
   "source": [
    "## Part I: A simple Lake 1-Box Model"
   ]
  },
  {
   "cell_type": "markdown",
   "metadata": {},
   "source": [
    "### Model description"
   ]
  },
  {
   "cell_type": "markdown",
   "metadata": {},
   "source": [
    "Our first system consists of a freshwater lake that only has one inflow and one outflow. We want to simulate how the concentration of phosphate in this lake evolves over time. In order to do that we assume the inflow to have a constant concentration of phosphate (PO4) while the outflow has the same concentration of PO4 as the (well-mixed) lake itself. The volume/mass of lake-water is constant over time.\n",
    "\n",
    "In the following we have a simple depiction of the lake system and important parameters thereof:"
   ]
  },
  {
   "cell_type": "markdown",
   "metadata": {},
   "source": [
    "<img src='../img/1D-lake-model2.png' width=\"50%\">"
   ]
  },
  {
   "cell_type": "markdown",
   "metadata": {},
   "source": [
    "### Analytical solution "
   ]
  },
  {
   "cell_type": "markdown",
   "metadata": {},
   "source": [
    "Before we use boxsimu to simulate this system we can solve the govering equations of this system analytically in order to validate the output of boxsimu. "
   ]
  },
  {
   "cell_type": "markdown",
   "metadata": {},
   "source": [
    "So lets start with the defintion of all needed variables and their physical units:\n",
    "\n",
    "Variables (symbols are consistent with the figure above):\n",
    "- $V$ = Volume of the lake [m^3] ($V$ is constant)\n",
    "- $m$ = Mass of phosphate in the lake [kg]\n",
    "- $C$ = $\\frac{m}{V}$ = Concentration of phosphate in the lake [kg/m^3]\n",
    "- $C_0$ = Concentration of phosphate in the lake at the begining of the simulation (t=0) [s]\n",
    "- $C_{in}$ = Concentration of phosphate in the inflow [kg/m^3]\n",
    "- $Q$ = Volumetric water flow rate of the Inflow and Outflow [m^3/s] \n",
    "- $t$ = Time [d]\n",
    "\n",
    "- $k_w$ = $\\frac{Q}{V}$ = Specific flow rate [1/d]\n",
    "\n",
    "Assumptions:\n",
    "- $C_{in}$ = const. \n",
    "- $Q$ = const.\n",
    "- $V$ = const.\n",
    "\n",
    "\n",
    "Based on the definition of our system given above we can set up the following differential equation:\n",
    "\n",
    "$\\frac{dm}{dt} = \\sum sources - \\sum sinks = Q \\cdot C_{in} - Q \\cdot C$.\n",
    "\n",
    "The rate of change of the phosphate concentration in the lake is given by the sum of all source terms minus the sum of all sink terms. In this case the only source term is the inflow of phosphate from the river upstream, while the only sink term is the outflow of phosphate through the river downstream."
   ]
  },
  {
   "cell_type": "markdown",
   "metadata": {},
   "source": [
    "Where $Q \\cdot C_{in}$ and $Q \\cdot C$ represents the phosphate-gain and phosphate-loss of the lake per time, respectively.\n",
    "\n",
    "Next, we devide both sides by the volume of the lake ($V$) and use the specific flow rate $k_w$ on the right hand side (r.h.s.):\n",
    "\n",
    "$\\frac{1}{V}\\frac{dm}{dt} = k_w \\cdot C_{in} - k_w \\cdot C = k_w (C_{in} - C)$\n",
    "\n",
    "Now, since the volume of the box is constant, we can incorporate the volume into the time-derivative \n",
    "and end up with:\n",
    "\n",
    "$\\frac{1}{V}\\frac{dm}{dt} = \\frac{d(m/V)}{dt} = \\frac{dC}{dt} = k_w (C_{in} - C)$\n",
    "\n",
    "The solution of this linear, inhomogene, ordinary differential equation is:\n",
    "\n",
    "$C(t) = (C_0 - C_{in}) e^{-k_wt} + C_{in}$\n",
    "\n",
    "where we also used the initial condition $C(t=0) = C_0$.\n",
    "\n",
    "The solution is plotted below for a system with the following parameters:\n",
    "- $V = 10^7m^3$\n",
    "- $Q = 10^5\\frac{m^3}{d}$\n",
    "- $C_0 = 10^{-2}\\frac{kg}{m^3}$\n",
    "- $C_{in} = 3 \\cdot 10^{-1}\\frac{kg}{m^3}$"
   ]
  },
  {
   "cell_type": "markdown",
   "metadata": {},
   "source": [
    "We define a function that calculates and returns the concentration of phosphate at a time $t$. We also vectorize this function using numpy in order to be able to apply it on arrays. The resulting array is then plotted as a function of time:"
   ]
  },
  {
   "cell_type": "code",
   "execution_count": 1,
   "metadata": {},
   "outputs": [
    {
     "data": {
      "text/plain": [
       "<matplotlib.text.Text at 0x7f8a38927048>"
      ]
     },
     "execution_count": 1,
     "metadata": {},
     "output_type": "execute_result"
    },
    {
     "data": {
      "image/png": "[encoded data removed]",
      "text/plain": [
       "<matplotlib.figure.Figure at 0x7f8a39170ef0>"
      ]
     },
     "metadata": {},
     "output_type": "display_data"
    }
   ],
   "source": [
    "import matplotlib.pyplot as plt\n",
    "import numpy as np\n",
    "\n",
    "@np.vectorize\n",
    "def C(t):\n",
    "    V = 1e7\n",
    "    Q = 1e5\n",
    "    C0 = 1e-2\n",
    "    Cin = 3e-1\n",
    "    kw = Q/V\n",
    "    return (C0-Cin)*np.exp(-kw*t) + Cin\n",
    "\n",
    "t = np.linspace(0, 8e2, 1000)\n",
    "c_phosphate = C(t)\n",
    "plt.plot(t, c_phosphate)\n",
    "plt.xlabel('Time [days]')\n",
    "plt.ylabel('PO4 concentration [kg/m^3]')"
   ]
  },
  {
   "cell_type": "markdown",
   "metadata": {},
   "source": [
    "We can see that the system reaches a steady-state after about $400$ days.\n",
    "\n",
    "Now we want to use boxsimu to simulate this system..."
   ]
  },
  {
   "cell_type": "markdown",
   "metadata": {},
   "source": [
    "### boxsimu "
   ]
  },
  {
   "cell_type": "markdown",
   "metadata": {},
   "source": [
    "Since boxsimu accepts some quantities only in certain units (dimensionalities) we first have to calculate the system parameters in the right dimensionalities/units:\n",
    "- The amount of fluid inside a box has to be given in mass units: $m_{water} = V \\cdot \\rho = 10^7\\,m^3 \\cdot 10^3\\,\\frac{kg}{m^3} = 10^{10}kg$\n",
    "- The inital amount of phosphate also has to be given in mass units: $m(t=0) = V \\cdot C_0 = 10^7\\,m^3 \\cdot 10^{-2}\\,\\frac{kg}{m^3} = 10^5\\,kg$\n",
    "- The flow rate has to be given in units of mass per time: $J = Q \\cdot \\rho = 10^5\\,\\frac{m^3}{d} \\cdot 10^3\\,\\frac{kg}{m^3} = 10^8\\,\\frac{kg}{d}$"
   ]
  },
  {
   "cell_type": "markdown",
   "metadata": {},
   "source": [
    "Now we define these parameters as python variables. But before we can do that we have to import boxsimu (if not already happened) and the instance of pint.UnitRegistry that is used by boxsimu (boxsimu.ur)."
   ]
  },
  {
   "cell_type": "markdown",
   "metadata": {},
   "source": [
    "> If you use boxsimu you have to use the UnitRegistry from boxsimu, since different UnitRegistry instances are incompatible. Thus use <br> \n",
    "```python \n",
    "from boxsimu import ur\n",
    "```\n",
    "instead of importing the UnitRegistry directly from the pint libary."
   ]
  },
  {
   "cell_type": "code",
   "execution_count": 3,
   "metadata": {
    "collapsed": true
   },
   "outputs": [],
   "source": [
    "import boxsimu\n",
    "from boxsimu import ur"
   ]
  },
  {
   "cell_type": "markdown",
   "metadata": {},
   "source": [
    "Now you are able to specify the units of a python variable by simply multiplying by pint units:"
   ]
  },
  {
   "cell_type": "code",
   "execution_count": 4,
   "metadata": {},
   "outputs": [
    {
     "name": "stdout",
     "output_type": "stream",
     "text": [
      "3\n",
      "3 meter\n"
     ]
    }
   ],
   "source": [
    "length = 3  # Just a number\n",
    "print(length)\n",
    "# Now multiply length by the pint-unit meter:\n",
    "length = 3 * ur.meter\n",
    "print(length)"
   ]
  },
  {
   "cell_type": "markdown",
   "metadata": {},
   "source": [
    "Pint units can easily be transformed to other units of the same physical dimensionality:"
   ]
  },
  {
   "cell_type": "code",
   "execution_count": 5,
   "metadata": {},
   "outputs": [
    {
     "name": "stdout",
     "output_type": "stream",
     "text": [
      "0.003 kilometer\n",
      "3000.0 millimeter\n"
     ]
    }
   ],
   "source": [
    "print(length.to(ur.km)) # transforms length to kilometer\n",
    "print(length.to(ur.mm)) # transforms length to millimeter"
   ]
  },
  {
   "cell_type": "markdown",
   "metadata": {},
   "source": [
    "Now lets define the system parameters calculated above: "
   ]
  },
  {
   "cell_type": "code",
   "execution_count": 6,
   "metadata": {
    "collapsed": true
   },
   "outputs": [],
   "source": [
    "m_water = 1e10 * ur.kg\n",
    "m_0 = 1e5 * ur.kg\n",
    "flow_rate = 1e8 * ur.kg / ur.day"
   ]
  },
  {
   "cell_type": "markdown",
   "metadata": {},
   "source": [
    "Next we define the boxsimu system!\n",
    "In the following you see the complete model defintion in boxsimu:"
   ]
  },
  {
   "cell_type": "code",
   "execution_count": 7,
   "metadata": {
    "collapsed": true
   },
   "outputs": [],
   "source": [
    "# FLUIDS\n",
    "freshwater = boxsimu.Fluid('freshwater', rho=1000*ur.kg/ur.meter**3)\n",
    "\n",
    "# VARIABLES\n",
    "po4 = boxsimu.Variable('po4')\n",
    "\n",
    "# PROCESSES\n",
    "# No processes in this system\n",
    "\n",
    "# REACTIONS\n",
    "# No reactions in this system\n",
    "\n",
    "# BOXES\n",
    "lake = boxsimu.Box(\n",
    "    name='lake',\n",
    "    description='Little Lake',\n",
    "    fluid=freshwater.q(m_water),\n",
    "    variables=[po4.q(m_0)],\n",
    ")\n",
    "\n",
    "# FLOWS\n",
    "inflow = boxsimu.Flow(\n",
    "    name='Inflow', \n",
    "    source_box=None,\n",
    "    target_box=lake,\n",
    "    rate=flow_rate,\n",
    "    tracer_transport=True,\n",
    "    concentrations={po4: 3e-1 * ur.gram / ur.kg}, \n",
    ")\n",
    "\n",
    "outflow = boxsimu.Flow(\n",
    "    name='Outflow',\n",
    "    source_box=lake,\n",
    "    target_box=None,\n",
    "    rate=flow_rate,\n",
    "    tracer_transport=True,\n",
    ")\n",
    "\n",
    "# FLUXES\n",
    "# No fluxes in this system\n",
    "\n",
    "# BOXMODELSYSTEM\n",
    "system = boxsimu.BoxModelSystem(\n",
    "    name='lake_system', \n",
    "    description='Simple Lake Box Model',\n",
    "    boxes=[lake,], \n",
    "    flows=[inflow, outflow,],\n",
    ")"
   ]
  },
  {
   "cell_type": "markdown",
   "metadata": {},
   "source": [
    "#### Code overview"
   ]
  },
  {
   "cell_type": "markdown",
   "metadata": {},
   "source": [
    "We will go through this code line by line.\n",
    "But before we dive into the details of the code, have a quick look at the sequence of definitions of boxsimu classes:\n",
    "\n",
    "In a first step, instances of the classes **Fluid** and **Variable** are instantiated. \n",
    "A fluids represents the solvent of a box in which variables can be dissolved (e.g. for a lake the fluid is water, in which a myrade of chemicals can be dissolved).\n",
    "A box can, but doesn't have to be filled with a fluid. This allows to also simulate quantites that are not typically dissolved (e.g. to simulate a population of animals).\n",
    "Variables are quantities of the system that are of interest to the user and that are simulated. A variable defined for one box, flow, flux, process, or reaction will be present in all boxes.\n",
    "At the time of instantiation (creation of the instance) instances of the classes Fluid and Variable are not quantified, that means the instances contain no information on the mass of fluid or variable they represent. However, before they are passed to an instance of the class Box they need to be quantified. This is done by calling the method ''q(mass)'' for a fluid or variable.\n",
    "\n",
    "In our simple lake system the fluids and variables are:\n",
    "- Fluid: The freshwater that is present in the lake (see line 2 in the code).\n",
    "- Variable: Phosphate whose concentration we want to analyse as a function of time (see line 5 in the code). \n",
    "\n",
    "Next, if needed, the classes **Process** and **Reaction** are instantiated (created). However, in this simple lake system there are no processes and no reactions.\n",
    "\n",
    "The created instances of Fluid, Variable, Process, and Reaction are then assigned to instances of the class **Box** that represent a compartement in the system (see lines 14-19 in the code).\n",
    "\n",
    "In a next step we have to define how the boxes in our system interact with each other and with the environement (outside the system). That means how the boxes are exchaning mass of fluids and variables. Therefore we instantiate the classes **Flow** and **Flux** (see lines 22-40 in the code).\n",
    "The difference between a flow and a flux is that flows represent a transport of fluid that again can (but doesn't have to) passively transport dissolved variables, whereas fluxes represent a transport of variables that is not associated with any fluid transport.\n",
    "\n",
    "Finally we create an instance of the class **BoxModelSystem** that glues together all elements of the system (see lines 43-46 in the following code)."
   ]
  },
  {
   "cell_type": "markdown",
   "metadata": {},
   "source": [
    "#### Code Line by Line"
   ]
  },
  {
   "cell_type": "markdown",
   "metadata": {},
   "source": [
    "Lets go through this code line by line:"
   ]
  },
  {
   "cell_type": "markdown",
   "metadata": {},
   "source": [
    "**Line 2**:\n",
    "```python\n",
    "freshwater = boxsimu.Fluid('freshwater', rho=1000*ur.kg/ur.meter**3)\n",
    "```\n",
    "An instance of the class ```Fluid```, representing the freshwater of the lake, is created. \n",
    "The class ```Fluid``` has the following signature: \n",
    "```python\n",
    "Fluid(name, rho, description=None)\n",
    "```\n",
    "\n",
    "- **name**: String which also has to be a valid python variable name since it is internally used to identify specific fluid instances. Thus, 'fluid123' or 'fluid_123' would be valid, while 'fluid 123' or '123fluid' would not be valid name arguments.\n",
    "- **rho**: Pint quantity or a user-defined function that returns a pint quantity. You find more information about user-defined functions in the second part of the tutorial.\n",
    "- **description**: String which gives a short description of the fluid.\n",
    "\n",
    "For further information about the class ```Fluid``` confront the documentation: DOCUMENTATION_URL"
   ]
  },
  {
   "cell_type": "markdown",
   "metadata": {},
   "source": [
    "**Line 5**:\n",
    "```python\n",
    "po4 = boxsimu.Variable('po4')\n",
    "```\n",
    "\n",
    "An instance of the class ```Variable``` is instantiated (created). This variable represents the substance we are interested in: phosphate. Every system needs to define at least one variable since its the temporal evolution of these variables that is simulated with the boxsimu-solver.\n",
    "\n",
    "The class ```Variable``` has the following signature: \n",
    "```python\n",
    "Variable(name, molar_mass=None, mobility=True, description=None)\n",
    "```\n",
    "\n",
    "- **name**: String which also has to be a valid python variable name since it is internally used to identify specific fluid instances. Thus, 'variable123' or 'variable_123' would be valid, while 'variable 123' or '123variable' would not be valid name arguments.\n",
    "- **molar_mass**:\n",
    "- **mobility**:\n",
    "- **description**:"
   ]
  },
  {
   "cell_type": "code",
   "execution_count": null,
   "metadata": {
    "collapsed": true
   },
   "outputs": [],
   "source": []
  },
  {
   "cell_type": "markdown",
   "metadata": {},
   "source": [
    "**Line xx-xx**: \n",
    ">lake = boxsimu.Box(<br>\n",
    "    name='lake',<br>\n",
    "    name_long='Little Lake',<br>\n",
    "    fluid=freshwater.q(m_water),<br>\n",
    "    variables=[po4.q(m_0)],<br>\n",
    ")"
   ]
  },
  {
   "cell_type": "markdown",
   "metadata": {},
   "source": [
    "**Line xx-xx**:\n",
    ">inflow = boxsimu.Flow(<br>\n",
    "    name='Inflow', <br>\n",
    "    source_box=None,<br>\n",
    "    target_box=lake,<br>\n",
    "    rate=flow_rate,<br>\n",
    "    tracer_transport=True,<br>\n",
    "    concentrations={po4: 3e-4}, <br>\n",
    ")"
   ]
  },
  {
   "cell_type": "markdown",
   "metadata": {},
   "source": [
    "**Line xx-xx**:\n",
    ">outflow = boxsimu.Flow(<br>\n",
    "    name='Outflow',<br>\n",
    "    source_box=lake,<br>\n",
    "    target_box=None,<br>\n",
    "    rate=flow_rate,<br>\n",
    "    tracer_transport=True,<br>\n",
    ")"
   ]
  },
  {
   "cell_type": "markdown",
   "metadata": {},
   "source": [
    "#### Solving/Simulating the system"
   ]
  },
  {
   "cell_type": "markdown",
   "metadata": {},
   "source": [
    "The system defined in boxsimu can now easily be solved using the solve method on the BoxModelSystem instance:"
   ]
  },
  {
   "cell_type": "code",
   "execution_count": 14,
   "metadata": {},
   "outputs": [
    {
     "name": "stdout",
     "output_type": "stream",
     "text": [
      "Start solving the BoxModelSystem...\n",
      "- total integration time: 800 day\n",
      "- dt (time step): 5 day\n",
      "- number of time steps: 160\n",
      "10.0%\n",
      "20.0%\n",
      "30.0%\n",
      "40.0%\n",
      "50.0%\n",
      "60.0%\n",
      "70.0%\n",
      "80.0%\n",
      "90.0%\n",
      "Function \"solve(...)\" used 1.196s\n"
     ]
    }
   ],
   "source": [
    "sol = system.solve(800*ur.days, 5*ur.days)"
   ]
  },
  {
   "cell_type": "code",
   "execution_count": 10,
   "metadata": {},
   "outputs": [
    {
     "ename": "AttributeError",
     "evalue": "'Solution' object has no attribute 'time_magnitude'",
     "output_type": "error",
     "traceback": [
      "\u001b[0;31m---------------------------------------------------------------------------\u001b[0m",
      "\u001b[0;31mAttributeError\u001b[0m                            Traceback (most recent call last)",
      "\u001b[0;32m<ipython-input-10-2a90599efc9a>\u001b[0m in \u001b[0;36m<module>\u001b[0;34m()\u001b[0m\n\u001b[0;32m----> 1\u001b[0;31m \u001b[0msol\u001b[0m\u001b[0;34m.\u001b[0m\u001b[0mplot_variable_concentration_in_boxes\u001b[0m\u001b[0;34m(\u001b[0m\u001b[0mpo4\u001b[0m\u001b[0;34m,\u001b[0m \u001b[0mfigsize\u001b[0m\u001b[0;34m=\u001b[0m\u001b[0;34m(\u001b[0m\u001b[0;36m6\u001b[0m\u001b[0;34m,\u001b[0m\u001b[0;36m4\u001b[0m\u001b[0;34m)\u001b[0m\u001b[0;34m,\u001b[0m \u001b[0munits\u001b[0m\u001b[0;34m=\u001b[0m\u001b[0mur\u001b[0m\u001b[0;34m.\u001b[0m\u001b[0mkg\u001b[0m\u001b[0;34m/\u001b[0m\u001b[0mur\u001b[0m\u001b[0;34m.\u001b[0m\u001b[0mmeter\u001b[0m\u001b[0;34m**\u001b[0m\u001b[0;36m3\u001b[0m\u001b[0;34m)\u001b[0m\u001b[0;34m\u001b[0m\u001b[0m\n\u001b[0m",
      "\u001b[0;32m~/Documents/MyPrivateRepo/boxsimu/boxsimu/solution.py\u001b[0m in \u001b[0;36mplot_variable_concentration_in_boxes\u001b[0;34m(self, variable, boxes, figsize, yaxis_log, volumetric, units)\u001b[0m\n\u001b[1;32m    209\u001b[0m         \u001b[0;32mif\u001b[0m \u001b[0;32mnot\u001b[0m \u001b[0mself\u001b[0m\u001b[0;34m.\u001b[0m\u001b[0mtime_units\u001b[0m\u001b[0;34m:\u001b[0m\u001b[0;34m\u001b[0m\u001b[0m\n\u001b[1;32m    210\u001b[0m             \u001b[0mself\u001b[0m\u001b[0;34m.\u001b[0m\u001b[0mtime_units\u001b[0m \u001b[0;34m=\u001b[0m \u001b[0mself\u001b[0m\u001b[0;34m.\u001b[0m\u001b[0mtime\u001b[0m\u001b[0;34m[\u001b[0m\u001b[0;36m0\u001b[0m\u001b[0;34m]\u001b[0m\u001b[0;34m.\u001b[0m\u001b[0munits\u001b[0m\u001b[0;34m\u001b[0m\u001b[0m\n\u001b[0;32m--> 211\u001b[0;31m         \u001b[0;32mif\u001b[0m \u001b[0;32mnot\u001b[0m \u001b[0mself\u001b[0m\u001b[0;34m.\u001b[0m\u001b[0mtime_magnitude\u001b[0m\u001b[0;34m:\u001b[0m\u001b[0;34m\u001b[0m\u001b[0m\n\u001b[0m\u001b[1;32m    212\u001b[0m             \u001b[0mself\u001b[0m\u001b[0;34m.\u001b[0m\u001b[0mtime_magnitude\u001b[0m \u001b[0;34m=\u001b[0m \u001b[0;34m[\u001b[0m\u001b[0mt\u001b[0m\u001b[0;34m.\u001b[0m\u001b[0mmagnitude\u001b[0m \u001b[0;32mfor\u001b[0m \u001b[0mt\u001b[0m \u001b[0;32min\u001b[0m \u001b[0mself\u001b[0m\u001b[0;34m.\u001b[0m\u001b[0mtime\u001b[0m\u001b[0;34m]\u001b[0m\u001b[0;34m\u001b[0m\u001b[0m\n\u001b[1;32m    213\u001b[0m         \u001b[0;32mif\u001b[0m \u001b[0;32mnot\u001b[0m \u001b[0mfigsize\u001b[0m\u001b[0;34m:\u001b[0m\u001b[0;34m\u001b[0m\u001b[0m\n",
      "\u001b[0;31mAttributeError\u001b[0m: 'Solution' object has no attribute 'time_magnitude'"
     ]
    }
   ],
   "source": [
    "sol.plot_variable_concentration_in_boxes(po4, figsize=(6,4), units=ur.kg/ur.meter**3)"
   ]
  },
  {
   "cell_type": "code",
   "execution_count": null,
   "metadata": {
    "collapsed": true
   },
   "outputs": [],
   "source": []
  },
  {
   "cell_type": "code",
   "execution_count": null,
   "metadata": {
    "collapsed": true
   },
   "outputs": [],
   "source": []
  },
  {
   "cell_type": "markdown",
   "metadata": {
    "collapsed": true
   },
   "source": [
    "## References"
   ]
  },
  {
   "cell_type": "markdown",
   "metadata": {},
   "source": [
    "- Schwarzenbach, Rene P., Philip M. Gschwend, and Dieter M. Imboden. \"Environmental Organic Chemistry. 2003, Hoboken.\" 808-811."
   ]
  },
  {
   "cell_type": "markdown",
   "metadata": {},
   "source": [
    "## Add custom css"
   ]
  },
  {
   "cell_type": "code",
   "execution_count": 29,
   "metadata": {},
   "outputs": [
    {
     "data": {
      "text/html": [
       "<style>\n",
       "\n",
       "#ipython_notebook img{                                                                                        \n",
       "    display:block;\n",
       "    background: url(../img/logo.png) no-repeat;\n",
       "    background-size: contain;\n",
       "    width: 233px;\n",
       "    height: 33px;\n",
       "    padding-left: 233px;\n",
       "    -moz-box-sizing: border-box;\n",
       "    box-sizing: border-box;\n",
       "}\n",
       "\n",
       "</style> \n"
      ],
      "text/plain": [
       "<IPython.core.display.HTML object>"
      ]
     },
     "execution_count": 29,
     "metadata": {},
     "output_type": "execute_result"
    }
   ],
   "source": [
    "from IPython.core.display import HTML\n",
    "#import urllib2\n",
    "#HTML( urllib2.urlopen('http://bit.ly/1Bf5Hft').read() )\n",
    "HTML(open('costum_jupyter_look.css', 'r').read())"
   ]
  }
 ],
 "metadata": {
  "kernelspec": {
   "display_name": "Python 3",
   "language": "python",
   "name": "python3"
  },
  "language_info": {
   "codemirror_mode": {
    "name": "ipython",
    "version": 3
   },
   "file_extension": ".py",
   "mimetype": "text/x-python",
   "name": "python",
   "nbconvert_exporter": "python",
   "pygments_lexer": "ipython3",
   "version": "3.6.1"
  }
 },
 "nbformat": 4,
 "nbformat_minor": 2
}
