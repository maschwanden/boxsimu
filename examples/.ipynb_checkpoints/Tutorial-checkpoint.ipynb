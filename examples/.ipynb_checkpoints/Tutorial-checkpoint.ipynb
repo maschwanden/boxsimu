{
 "cells": [
  {
   "cell_type": "markdown",
   "metadata": {},
   "source": [
    "# boxsimu Tutorial"
   ]
  },
  {
   "cell_type": "markdown",
   "metadata": {},
   "source": [
    "This tutorial assumes that you already have installed the package successfully via pip. If you haven't yet have a look into install.txt."
   ]
  },
  {
   "cell_type": "markdown",
   "metadata": {},
   "source": [
    "### Overview"
   ]
  },
  {
   "cell_type": "markdown",
   "metadata": {},
   "source": [
    "boxsimu is a simple modelling framework based on the principle of a system of discrete 0D-boxes interacting with each other. boxsimu offers a sipmple interface to define a model, its content and properties. Models defined in this way can than be simply solved and their evolution in time can be visualized."
   ]
  },
  {
   "cell_type": "markdown",
   "metadata": {},
   "source": [
    "A model is defined by instantiating the class BoxModelSystem and ÜBERGEBEN instances of the classes Box, Flow, and Flux."
   ]
  },
  {
   "cell_type": "markdown",
   "metadata": {},
   "source": [
    "Model definitions are contained within an instance of BoxModelSystem. This instance containes boxes filled with a well-mixed solution of a fluid and an arbitrary number of variables (tracers whose time evolution is analysed).\n",
    "Boxes are connected with each other by flows of solution and fluxes of variables. The basic structure of a boxbimu \n",
    "model is visualized in the figure below:"
   ]
  },
  {
   "cell_type": "markdown",
   "metadata": {},
   "source": [
    "The most important class that a user of BoxSimu is interacting with are:\n",
    "- BoxModelSystem: \n",
    "- Box:\n",
    "- Variable:\n",
    "- Flow:\n",
    "- Flux:\n",
    "- Process:\n",
    "- Reaction:\n"
   ]
  },
  {
   "cell_type": "markdown",
   "metadata": {},
   "source": [
    "### Lake: A first simple 1-Box Model"
   ]
  },
  {
   "cell_type": "markdown",
   "metadata": {},
   "source": [
    "Imagine a lake with an inflow and outflow. In the inflow we have a certain concentration of phosphate. The outflow of the lake has a phosphate concentration equal to that of the whole lake (therefore we assume the lake to be perfectly-mixed). We assume in a first step that no other processes/reactions take place and therefore the only sink of phosphate is the outflow. Now we want to model the phosphate concentration in the lake as a function of time and the inflow phosphate concentration."
   ]
  },
  {
   "cell_type": "markdown",
   "metadata": {},
   "source": [
    "This simple system could also be solved analytically:\n",
    "\n",
    "Variables:\n",
    "- $V$ = Volume of the lake [m^3]\n",
    "- $m_{P}$ = Mass of phosphate in the lake [kg]\n",
    "- $C$ = Concentration of phosphate in the lake [kg/m^3]\n",
    "- $C_0$ = Concentration of phosphate in the lake at the begining of the simulation (t=0) [s]\n",
    "- $C_{in}$ = Concentration of phosphate in the inflow [kg/m^3]\n",
    "- $J_{in}$ = Inflow rate [m^3/s] \n",
    "- $J_{out}$ = Outflow rate [m^3/s]\n",
    "- $t$ = Time [s]\n",
    "\n",
    "- $k_w$ = $\\frac{J_{in}}{V}$ = Flow-rate coefficient [1/s]\n",
    "\n",
    "Assumptions:\n",
    "- $V$ = const. and therefore $J_{in}$ = $J_{out}$\n",
    "- $C_{in}$ = const. \n",
    "\n",
    "Based on the definition of our system given above we can set up the following differential equation:\n",
    "\n",
    "$\\frac{dm_{P}}{dt} = J_{in} \\cdot C_{in} - J_{out} \\cdot C$\n",
    "\n",
    "We devide both sides by the volume of the lake ($V$) and use the flow rate coefficient $k_w$ on the right hand side (r.h.s.):\n",
    "\n",
    "\n",
    "$\\frac{1}{V}\\frac{dm_{P}}{dt} = k_w \\cdot C_{in} - k_w \\cdot C = k_w (C_{in} - C)$\n",
    "\n",
    "Now, since we assume the volume of the box to be constant, we can incorporate the volume into the time-derivative \n",
    "and result in:\n",
    "\n",
    "\n",
    "$\\frac{dC}{dt} = k_w (C_{in} - C)$\n",
    "\n",
    "The solution of this linear, inhomogene, ordinary differential equation is:\n",
    "\n",
    "$C(t) = (C_0 - C_{in}) e^{-k_wt} + C_{in}$\n",
    "\n",
    "The solution is plotted below for the following system:\n",
    "- $V = 10^3m^3$\n",
    "- $J_{in} = J_{out} = 10\\frac{m^3}{s}$\n",
    "- $C_0 = 10^{-2}\\frac{kg}{m^3}$\n",
    "- $C_{in} = 3 \\cdot 10^{-1}\\frac{kg}{m^3}$"
   ]
  },
  {
   "cell_type": "code",
   "execution_count": 17,
   "metadata": {},
   "outputs": [
    {
     "data": {
      "text/plain": [
       "[<matplotlib.lines.Line2D at 0x7fc622771828>]"
      ]
     },
     "execution_count": 17,
     "metadata": {},
     "output_type": "execute_result"
    },
    {
     "data": {
      "image/png": "[encoded data removed]",
      "text/plain": [
       "<matplotlib.figure.Figure at 0x7fc62269a7b8>"
      ]
     },
     "metadata": {},
     "output_type": "display_data"
    }
   ],
   "source": [
    "import matplotlib.pyplot as plt\n",
    "import numpy as np\n",
    "\n",
    "@np.vectorize\n",
    "def C(t):\n",
    "    v = 1e3\n",
    "    jin = 10\n",
    "    c0 = 1e-2\n",
    "    cin = 3e-1\n",
    "    kw = jin/v\n",
    "    return (c0-cin)*np.exp(-kw*t) + cin\n",
    "\n",
    "t = np.linspace(0, 8e2, 1000)\n",
    "c_phosphate = C(t)\n",
    "plt.plot(t, c_phosphate)"
   ]
  },
  {
   "cell_type": "markdown",
   "metadata": {},
   "source": [
    "We can see that the system reaches a steady-state after about $400s$.\n",
    "\n",
    "Now we want to verify this result using boxsimu..."
   ]
  },
  {
   "cell_type": "code",
   "execution_count": 1,
   "metadata": {},
   "outputs": [
    {
     "ename": "FileNotFoundError",
     "evalue": "[Errno 2] No such file or directory: '/home/aschi/Envs/boxsimu/lib/python3.6/site-packages/boxsimu/config/.default/svg_visualization.yml'",
     "output_type": "error",
     "traceback": [
      "\u001b[0;31m--------------------------------------------------------------------------\u001b[0m",
      "\u001b[0;31mFileNotFoundError\u001b[0m                        Traceback (most recent call last)",
      "\u001b[0;32m<ipython-input-1-cff6921f4b86>\u001b[0m in \u001b[0;36m<module>\u001b[0;34m()\u001b[0m\n\u001b[0;32m----> 1\u001b[0;31m \u001b[0;32mimport\u001b[0m \u001b[0mboxsimu\u001b[0m\u001b[0;34m\u001b[0m\u001b[0m\n\u001b[0m",
      "\u001b[0;32m~/Envs/boxsimu/lib/python3.6/site-packages/boxsimu/__init__.py\u001b[0m in \u001b[0;36m<module>\u001b[0;34m()\u001b[0m\n\u001b[1;32m     51\u001b[0m \u001b[0;32mfrom\u001b[0m \u001b[0;34m.\u001b[0m \u001b[0;32mimport\u001b[0m \u001b[0mbox\u001b[0m\u001b[0;34m\u001b[0m\u001b[0m\n\u001b[1;32m     52\u001b[0m \u001b[0;32mfrom\u001b[0m \u001b[0;34m.\u001b[0m \u001b[0;32mimport\u001b[0m \u001b[0mcondition\u001b[0m\u001b[0;34m\u001b[0m\u001b[0m\n\u001b[0;32m---> 53\u001b[0;31m \u001b[0;32mfrom\u001b[0m \u001b[0;34m.\u001b[0m \u001b[0;32mimport\u001b[0m \u001b[0mconfig\u001b[0m\u001b[0;34m\u001b[0m\u001b[0m\n\u001b[0m\u001b[1;32m     54\u001b[0m \u001b[0;32mfrom\u001b[0m \u001b[0;34m.\u001b[0m \u001b[0;32mimport\u001b[0m \u001b[0mentities\u001b[0m\u001b[0;34m\u001b[0m\u001b[0m\n\u001b[1;32m     55\u001b[0m \u001b[0;32mfrom\u001b[0m \u001b[0;34m.\u001b[0m \u001b[0;32mimport\u001b[0m \u001b[0merrors\u001b[0m\u001b[0;34m\u001b[0m\u001b[0m\n",
      "\u001b[0;32m~/Envs/boxsimu/lib/python3.6/site-packages/boxsimu/config.py\u001b[0m in \u001b[0;36m<module>\u001b[0;34m()\u001b[0m\n\u001b[1;32m     33\u001b[0m \u001b[0;34m\u001b[0m\u001b[0m\n\u001b[1;32m     34\u001b[0m svg_visualization_config = yaml.safe_load(\n\u001b[0;32m---> 35\u001b[0;31m     open(svg_visualization_config_file, 'r'))\n\u001b[0m\u001b[1;32m     36\u001b[0m default_svg_visualization_config = yaml.safe_load(\n\u001b[1;32m     37\u001b[0m     open(DEFAULT_SVG_VISUALIZATION_CONFIG_FILE, 'r'))\n",
      "\u001b[0;31mFileNotFoundError\u001b[0m: [Errno 2] No such file or directory: '/home/aschi/Envs/boxsimu/lib/python3.6/site-packages/boxsimu/config/.default/svg_visualization.yml'"
     ]
    }
   ],
   "source": [
    "import boxsimu"
   ]
  },
  {
   "cell_type": "code",
   "execution_count": null,
   "metadata": {
    "collapsed": true
   },
   "outputs": [],
   "source": []
  },
  {
   "cell_type": "code",
   "execution_count": 2,
   "metadata": {
    "collapsed": true
   },
   "outputs": [],
   "source": [
    "import sys\n",
    "import os\n",
    "import copy\n",
    "import numpy as np\n",
    "import datetime\n",
    "\n",
    "from matplotlib import pyplot as plt\n",
    "\n",
    "BOXSIMU_PATH = '/home/aschi/Documents/MyPrivateRepo/boxsimu_project/'\n",
    "if not BOXSIMU_PATH in sys.path:\n",
    "    sys.path.append(BOXSIMU_PATH)\n",
    "\n",
    "from boxsimu.entities import Fluid, Variable\n",
    "from boxsimu.box import Box\n",
    "from boxsimu.transport import  Flow, Flux\n",
    "from boxsimu.condition import Condition\n",
    "from boxsimu.system import BoxModelSystem \n",
    "from boxsimu.process import Process, Reaction\n",
    "from boxsimu.solver import Solver\n",
    "from boxsimu import utils\n",
    "from boxsimu import ur\n",
    "\n",
    "\n",
    "def get_system(): \n",
    "    #############################\n",
    "    # FLUIDS\n",
    "    #############################\n",
    "    seawater = Fluid('sea water', rho=1020*ur.kg/ur.meter**3)\n",
    "    \n",
    "    #############################\n",
    "    # VARIABLES\n",
    "    #############################\n",
    "    po4 = Variable('po4')\n",
    "    \n",
    "    #############################\n",
    "    # PROCESSES\n",
    "    #############################\n",
    "\n",
    "    #############################\n",
    "    # REACTIONS\n",
    "    #############################\n",
    "    \n",
    "    \n",
    "    #############################\n",
    "    # BOXES\n",
    "    #############################\n",
    "    \n",
    "    inital_po4_masses = (6e-8*3e19*ur.kg + 6e-8*1e21*ur.kg)/2\n",
    "    upper_ocean = Box(\n",
    "        name='upper_ocean',\n",
    "        name_long='Upper Ocean Box',\n",
    "        fluid=seawater.q(3e19*ur.kg), \n",
    "        processes=[],\n",
    "        condition=Condition(),\n",
    "        variables=[po4.q(inital_po4_masses)],\n",
    "        reactions=[],\n",
    "    )\n",
    "    deep_ocean = Box(\n",
    "        name='deep_ocean',\n",
    "        name_long='Deep Ocean Box',\n",
    "        fluid=seawater.q(1e21*ur.kg),\n",
    "        condition=Condition(),\n",
    "        variables=[po4.q(inital_po4_masses)],\n",
    "        reactions=[],\n",
    "    )\n",
    "    \n",
    "    #############################\n",
    "    # FLOWS\n",
    "    #############################\n",
    "    flow_downwelling = Flow(\n",
    "        name='Downwelling', \n",
    "        source_box=upper_ocean, \n",
    "        target_box=deep_ocean,\n",
    "        rate=6e17*ur.kg/ur.year,\n",
    "        tracer_transport=True,\n",
    "    )\n",
    "\n",
    "    flow_upwelling = Flow(\n",
    "        name='Upwelling',\n",
    "        source_box=deep_ocean, \n",
    "        target_box=upper_ocean,\n",
    "        rate=6e17*ur.kg/ur.year, \n",
    "        tracer_transport=True,\n",
    "    )\n",
    "    \n",
    "    #############################\n",
    "    # FLUXES\n",
    "    #############################\n",
    "\n",
    "    biological_pump = Flux(\n",
    "        name='Biological Pump',\n",
    "        source_box=upper_ocean,\n",
    "        target_box=deep_ocean,\n",
    "        variable=po4,\n",
    "        rate=lambda t, c: 5.1e-8 * 6e17*ur.kg/ur.year\n",
    "    )\n",
    "\n",
    "    #############################\n",
    "    # SYSTEM\n",
    "    #############################\n",
    "\n",
    "    bmsystem = BoxModelSystem('Box Model from Sarmiento and Gruber \"Ocean Biogeochemical Dynamics\" page 11', \n",
    "        boxes=[upper_ocean, deep_ocean], \n",
    "        flows=[\n",
    "            flow_downwelling, \n",
    "            flow_upwelling, \n",
    "        ],\n",
    "        fluxes=[\n",
    "            biological_pump, \n",
    "        ], \n",
    "        global_condition=Condition(),\n",
    "    )\n",
    "    return bmsystem\n",
    "\n",
    "system = get_system()"
   ]
  },
  {
   "cell_type": "code",
   "execution_count": 3,
   "metadata": {},
   "outputs": [
    {
     "name": "stdout",
     "output_type": "stream",
     "text": [
      "Start solving the box model...\n",
      "- total integration time: 500 year\n",
      "- dt (time step): 25 year\n",
      "> /home/aschi/Documents/MyPrivateRepo/boxsimu_project/boxsimu/solver.py(111)solve()\n",
      "-> self.system = copy.deepcopy(self._system_initial)\n",
      "(Pdb) c\n",
      "0\n",
      "1\n",
      "10.0%\n",
      "2\n",
      "3\n",
      "20.0%\n",
      "4\n",
      "5\n",
      "30.0%\n",
      "6\n",
      "7\n",
      "40.0%\n",
      "8\n",
      "9\n",
      "50.0%\n",
      "10\n",
      "11\n",
      "60.0%\n",
      "12\n",
      "13\n",
      "70.0%\n",
      "14\n",
      "15\n",
      "80.0%\n",
      "16\n",
      "17\n",
      "90.0%\n",
      "18\n",
      "19\n",
      "Function \"solve(...)\" used 0.398s\n"
     ]
    }
   ],
   "source": [
    "sol = system.solve(500*ur.year, 25*ur.year)"
   ]
  },
  {
   "cell_type": "code",
   "execution_count": 4,
   "metadata": {},
   "outputs": [
    {
     "data": {
      "text/plain": [
       "(<matplotlib.figure.Figure at 0x7fabc76114e0>,\n",
       " <matplotlib.axes._subplots.AxesSubplot at 0x7fabc6831c88>)"
      ]
     },
     "execution_count": 4,
     "metadata": {},
     "output_type": "execute_result"
    },
    {
     "data": {
      "image/png": "[encoded data removed]",
      "text/plain": [
       "<matplotlib.figure.Figure at 0x7fabc76114e0>"
      ]
     },
     "metadata": {},
     "output_type": "display_data"
    }
   ],
   "source": [
    "sol.plot_variable_mass_of_all_boxes(system.variables.po4)"
   ]
  },
  {
   "cell_type": "code",
   "execution_count": 17,
   "metadata": {},
   "outputs": [
    {
     "data": {
      "text/plain": [
       "(<matplotlib.figure.Figure at 0x7f679480e128>,\n",
       " <matplotlib.axes._subplots.AxesSubplot at 0x7f67947e4400>)"
      ]
     },
     "execution_count": 17,
     "metadata": {},
     "output_type": "execute_result"
    },
    {
     "data": {
      "image/png": "[encoded data removed]",
      "text/plain": [
       "<matplotlib.figure.Figure at 0x7f679480e128>"
      ]
     },
     "metadata": {},
     "output_type": "display_data"
    }
   ],
   "source": [
    "sol.plot_total_variable_masses()"
   ]
  },
  {
   "cell_type": "code",
   "execution_count": 29,
   "metadata": {},
   "outputs": [
    {
     "name": "stdout",
     "output_type": "stream",
     "text": [
      "box_mass:  3.00000309e+19 kilogram\n",
      "1.04859548157e-08\n",
      "box_mass:  1.0000000309e+21 kilogram\n",
      "6.14854191316e-08\n"
     ]
    },
    {
     "data": {
      "text/plain": [
       "(<matplotlib.figure.Figure at 0x7f6793ddadd8>,\n",
       " <matplotlib.axes._subplots.AxesSubplot at 0x7f6794134c88>)"
      ]
     },
     "execution_count": 29,
     "metadata": {},
     "output_type": "execute_result"
    },
    {
     "data": {
      "image/png": "[encoded data removed]",
      "text/plain": [
       "<matplotlib.figure.Figure at 0x7f6793ddadd8>"
      ]
     },
     "metadata": {},
     "output_type": "display_data"
    }
   ],
   "source": [
    "sol.plot_variable_concentration_of_all_boxes(system.variables.po4)"
   ]
  }
 ],
 "metadata": {
  "kernelspec": {
   "display_name": "Python 3",
   "language": "python",
   "name": "python3"
  },
  "language_info": {
   "codemirror_mode": {
    "name": "ipython",
    "version": 3
   },
   "file_extension": ".py",
   "mimetype": "text/x-python",
   "name": "python",
   "nbconvert_exporter": "python",
   "pygments_lexer": "ipython3",
   "version": "3.6.1"
  }
 },
 "nbformat": 4,
 "nbformat_minor": 2
}
